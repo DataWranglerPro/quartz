{
 "cells": [
  {
   "cell_type": "markdown",
   "id": "d42c2e83-e12c-4a38-80c9-022de792ad80",
   "metadata": {},
   "source": [
    "# Challenge: Using Data to Optimize Logistics  \n",
    "\n",
    "# Description    \n",
    "Your friend owns a small logistics company that specializes in shipping goods across the country. They have been using a manual system to track their shipments, but with the growing number of shipments, they need a more efficient way to manage their data. They have asked for your help to analyze their shipment data and provide insights on how to improve their business.  \n",
    "\n",
    "### Tasks  \n",
    "- Task 1: **Shipment Time Analysis** - Your friend wants to know the average time it takes for shipments to arrive at their destination. Use the dataset to calculate the average shipment time and identify the top 5 routes with the longest shipment times.  \n",
    "- Task 2: **Package Weight Distribution** - Your friend wants to optimize their packaging process. Use the dataset to calculate the distribution of package weights and identify the most common weight range.  \n",
    "- Task 3: **Shipper Performance Analysis** - Your friend wants to evaluate the performance of their shippers. Use the dataset to calculate the on-time delivery rate for each shipper and identify the top 3 shippers with the highest on-time delivery rates."
   ]
  },
  {
   "cell_type": "code",
   "execution_count": 1,
   "id": "d8662839-e07b-4b86-9260-d93e224d0fa9",
   "metadata": {},
   "outputs": [
    {
     "name": "stdout",
     "output_type": "stream",
     "text": [
      "Python version 3.11.7 | packaged by Anaconda, Inc. | (main, Dec 15 2023, 18:05:47) [MSC v.1916 64 bit (AMD64)]\n",
      "Pandas version 2.2.1\n",
      "Numpy version 1.26.4\n"
     ]
    }
   ],
   "source": [
    "# import libraries\n",
    "import pandas as pd\n",
    "import numpy as np\n",
    "import sys\n",
    "\n",
    "print('Python version ' + sys.version)\n",
    "print('Pandas version ' + pd.__version__)\n",
    "print('Numpy version ' + np.__version__)"
   ]
  },
  {
   "cell_type": "markdown",
   "id": "a13d2c2c-94e3-4c0e-9804-da76c6a26d85",
   "metadata": {},
   "source": [
    "# The Data  \n",
    "\n",
    "The code below generates data that represents a bunch of shipments, with details about who's shipping them, where they're going, how heavy they are, and when they were sent and delivered.  \n",
    "\n",
    "### Columns:  \n",
    "- **shipment_id:** This is a unique identifier for each shipment  \n",
    "- **shipper:** This is the company that's handling the shipment  \n",
    "- **origin:** This is the city where the shipment starts its journey  \n",
    "- **destination:** This is the city where the shipment is headed  \n",
    "- **package_weight (kg):** This is how heavy the package is, in kilograms  \n",
    "- **shipment_date:** This is the date when the shipment was sent out  \n",
    "- **delivery_date:** This is the date when the shipment was delivered\n",
    "\n",
    "I'll be honest, I had to do a bit of massaging the data here. I had issues generating dates that looked realistic, with some being too far in the future, but I eventually got something that looks realistic enough for this tutorial."
   ]
  },
  {
   "cell_type": "code",
   "execution_count": 2,
   "id": "25738de6-144b-42cf-8a4f-0259794d462e",
   "metadata": {},
   "outputs": [
    {
     "data": {
      "text/html": [
       "<div>\n",
       "<style scoped>\n",
       "    .dataframe tbody tr th:only-of-type {\n",
       "        vertical-align: middle;\n",
       "    }\n",
       "\n",
       "    .dataframe tbody tr th {\n",
       "        vertical-align: top;\n",
       "    }\n",
       "\n",
       "    .dataframe thead th {\n",
       "        text-align: right;\n",
       "    }\n",
       "</style>\n",
       "<table border=\"1\" class=\"dataframe\">\n",
       "  <thead>\n",
       "    <tr style=\"text-align: right;\">\n",
       "      <th></th>\n",
       "      <th>shipment_id</th>\n",
       "      <th>shipper</th>\n",
       "      <th>origin</th>\n",
       "      <th>destination</th>\n",
       "      <th>package_weight</th>\n",
       "      <th>shipment_date</th>\n",
       "      <th>delivery_date</th>\n",
       "    </tr>\n",
       "  </thead>\n",
       "  <tbody>\n",
       "    <tr>\n",
       "      <th>0</th>\n",
       "      <td>1</td>\n",
       "      <td>Shipper A</td>\n",
       "      <td>City C</td>\n",
       "      <td>City F</td>\n",
       "      <td>73.070940</td>\n",
       "      <td>2020-01-01</td>\n",
       "      <td>2020-01-25</td>\n",
       "    </tr>\n",
       "    <tr>\n",
       "      <th>1</th>\n",
       "      <td>2</td>\n",
       "      <td>Shipper B</td>\n",
       "      <td>City A</td>\n",
       "      <td>City E</td>\n",
       "      <td>30.918563</td>\n",
       "      <td>2020-01-01</td>\n",
       "      <td>2020-01-27</td>\n",
       "    </tr>\n",
       "    <tr>\n",
       "      <th>2</th>\n",
       "      <td>3</td>\n",
       "      <td>Shipper A</td>\n",
       "      <td>City C</td>\n",
       "      <td>City E</td>\n",
       "      <td>84.603849</td>\n",
       "      <td>2020-01-01</td>\n",
       "      <td>2020-01-08</td>\n",
       "    </tr>\n",
       "    <tr>\n",
       "      <th>3</th>\n",
       "      <td>4</td>\n",
       "      <td>Shipper B</td>\n",
       "      <td>City C</td>\n",
       "      <td>City E</td>\n",
       "      <td>16.533795</td>\n",
       "      <td>2020-01-01</td>\n",
       "      <td>2020-01-05</td>\n",
       "    </tr>\n",
       "    <tr>\n",
       "      <th>4</th>\n",
       "      <td>5</td>\n",
       "      <td>Shipper B</td>\n",
       "      <td>City B</td>\n",
       "      <td>City D</td>\n",
       "      <td>16.895606</td>\n",
       "      <td>2020-01-01</td>\n",
       "      <td>2020-01-08</td>\n",
       "    </tr>\n",
       "    <tr>\n",
       "      <th>...</th>\n",
       "      <td>...</td>\n",
       "      <td>...</td>\n",
       "      <td>...</td>\n",
       "      <td>...</td>\n",
       "      <td>...</td>\n",
       "      <td>...</td>\n",
       "      <td>...</td>\n",
       "    </tr>\n",
       "    <tr>\n",
       "      <th>9995</th>\n",
       "      <td>9996</td>\n",
       "      <td>Shipper A</td>\n",
       "      <td>City C</td>\n",
       "      <td>City D</td>\n",
       "      <td>71.514309</td>\n",
       "      <td>2023-12-31</td>\n",
       "      <td>2024-01-12</td>\n",
       "    </tr>\n",
       "    <tr>\n",
       "      <th>9996</th>\n",
       "      <td>9997</td>\n",
       "      <td>Shipper B</td>\n",
       "      <td>City B</td>\n",
       "      <td>City F</td>\n",
       "      <td>9.918157</td>\n",
       "      <td>2023-12-31</td>\n",
       "      <td>2024-01-11</td>\n",
       "    </tr>\n",
       "    <tr>\n",
       "      <th>9997</th>\n",
       "      <td>9998</td>\n",
       "      <td>Shipper B</td>\n",
       "      <td>City B</td>\n",
       "      <td>City E</td>\n",
       "      <td>26.531780</td>\n",
       "      <td>2023-12-31</td>\n",
       "      <td>2024-01-11</td>\n",
       "    </tr>\n",
       "    <tr>\n",
       "      <th>9998</th>\n",
       "      <td>9999</td>\n",
       "      <td>Shipper A</td>\n",
       "      <td>City A</td>\n",
       "      <td>City E</td>\n",
       "      <td>53.675512</td>\n",
       "      <td>2023-12-31</td>\n",
       "      <td>2024-01-05</td>\n",
       "    </tr>\n",
       "    <tr>\n",
       "      <th>9999</th>\n",
       "      <td>10000</td>\n",
       "      <td>Shipper A</td>\n",
       "      <td>City A</td>\n",
       "      <td>City E</td>\n",
       "      <td>11.189293</td>\n",
       "      <td>2024-01-01</td>\n",
       "      <td>2024-01-30</td>\n",
       "    </tr>\n",
       "  </tbody>\n",
       "</table>\n",
       "<p>10000 rows × 7 columns</p>\n",
       "</div>"
      ],
      "text/plain": [
       "      shipment_id    shipper  origin destination  package_weight  \\\n",
       "0               1  Shipper A  City C      City F       73.070940   \n",
       "1               2  Shipper B  City A      City E       30.918563   \n",
       "2               3  Shipper A  City C      City E       84.603849   \n",
       "3               4  Shipper B  City C      City E       16.533795   \n",
       "4               5  Shipper B  City B      City D       16.895606   \n",
       "...           ...        ...     ...         ...             ...   \n",
       "9995         9996  Shipper A  City C      City D       71.514309   \n",
       "9996         9997  Shipper B  City B      City F        9.918157   \n",
       "9997         9998  Shipper B  City B      City E       26.531780   \n",
       "9998         9999  Shipper A  City A      City E       53.675512   \n",
       "9999        10000  Shipper A  City A      City E       11.189293   \n",
       "\n",
       "     shipment_date delivery_date  \n",
       "0       2020-01-01    2020-01-25  \n",
       "1       2020-01-01    2020-01-27  \n",
       "2       2020-01-01    2020-01-08  \n",
       "3       2020-01-01    2020-01-05  \n",
       "4       2020-01-01    2020-01-08  \n",
       "...            ...           ...  \n",
       "9995    2023-12-31    2024-01-12  \n",
       "9996    2023-12-31    2024-01-11  \n",
       "9997    2023-12-31    2024-01-11  \n",
       "9998    2023-12-31    2024-01-05  \n",
       "9999    2024-01-01    2024-01-30  \n",
       "\n",
       "[10000 rows x 7 columns]"
      ]
     },
     "execution_count": 2,
     "metadata": {},
     "output_type": "execute_result"
    }
   ],
   "source": [
    "# set the seed\n",
    "np.random.seed(0)\n",
    "\n",
    "# number of data points to generate\n",
    "shipments = 10000\n",
    "\n",
    "data = {\n",
    "    'shipment_id': range(1, shipments+1),\n",
    "    'shipper': np.random.choice(['Shipper A', 'Shipper B', 'Shipper C'], shipments),\n",
    "    'origin': np.random.choice(['City A', 'City B', 'City C'], shipments),\n",
    "    'destination': np.random.choice(['City D', 'City E', 'City F'], shipments),\n",
    "    'package_weight': np.random.uniform(1, 100, shipments),\n",
    "    'shipment_date': pd.date_range('2020-01-01', '2024-01-01', periods=shipments)\n",
    "}\n",
    "\n",
    "# create dataframe\n",
    "df = pd.DataFrame(data)\n",
    "\n",
    "# generate the delivery_date column\n",
    "df['delivery_date'] = df['shipment_date'] + pd.to_timedelta(np.random.randint(1, 30, shipments), unit='days')\n",
    "\n",
    "# remove timestamps\n",
    "df['delivery_date'] = pd.to_datetime(df['delivery_date'].dt.date)\n",
    "df['shipment_date'] = pd.to_datetime(df['shipment_date'].dt.date)\n",
    "\n",
    "df"
   ]
  },
  {
   "cell_type": "markdown",
   "id": "5e64616a-62bf-4d45-8c33-5ddc19eeb148",
   "metadata": {},
   "source": [
    "Let's take a look at the datatypes and make sure they look "
   ]
  },
  {
   "cell_type": "code",
   "execution_count": 3,
   "id": "a456974b-096f-4a86-8056-a5c14d6d2d37",
   "metadata": {},
   "outputs": [
    {
     "name": "stdout",
     "output_type": "stream",
     "text": [
      "<class 'pandas.core.frame.DataFrame'>\n",
      "RangeIndex: 10000 entries, 0 to 9999\n",
      "Data columns (total 7 columns):\n",
      " #   Column          Non-Null Count  Dtype         \n",
      "---  ------          --------------  -----         \n",
      " 0   shipment_id     10000 non-null  int64         \n",
      " 1   shipper         10000 non-null  object        \n",
      " 2   origin          10000 non-null  object        \n",
      " 3   destination     10000 non-null  object        \n",
      " 4   package_weight  10000 non-null  float64       \n",
      " 5   shipment_date   10000 non-null  datetime64[ns]\n",
      " 6   delivery_date   10000 non-null  datetime64[ns]\n",
      "dtypes: datetime64[ns](2), float64(1), int64(1), object(3)\n",
      "memory usage: 547.0+ KB\n"
     ]
    }
   ],
   "source": [
    "df.info()"
   ]
  },
  {
   "cell_type": "markdown",
   "id": "dde4d391-b07d-4854-b2dc-e1a482685b45",
   "metadata": {},
   "source": [
    "# Shipment Time Analysis  \n",
    "\n",
    "Your friend wants to know the average time it takes for shipments to arrive at their destinations. Use the dataset to calculate the average shipment time and identify the top 5 routes with the longest shipment times."
   ]
  },
  {
   "cell_type": "code",
   "execution_count": 4,
   "id": "e73caa60-c1d2-4355-8c6f-fb0904bbb25c",
   "metadata": {},
   "outputs": [
    {
     "data": {
      "text/html": [
       "<div>\n",
       "<style scoped>\n",
       "    .dataframe tbody tr th:only-of-type {\n",
       "        vertical-align: middle;\n",
       "    }\n",
       "\n",
       "    .dataframe tbody tr th {\n",
       "        vertical-align: top;\n",
       "    }\n",
       "\n",
       "    .dataframe thead th {\n",
       "        text-align: right;\n",
       "    }\n",
       "</style>\n",
       "<table border=\"1\" class=\"dataframe\">\n",
       "  <thead>\n",
       "    <tr style=\"text-align: right;\">\n",
       "      <th></th>\n",
       "      <th>shipment_id</th>\n",
       "      <th>shipper</th>\n",
       "      <th>origin</th>\n",
       "      <th>destination</th>\n",
       "      <th>package_weight</th>\n",
       "      <th>shipment_date</th>\n",
       "      <th>delivery_date</th>\n",
       "      <th>total_shipment_time</th>\n",
       "    </tr>\n",
       "  </thead>\n",
       "  <tbody>\n",
       "    <tr>\n",
       "      <th>0</th>\n",
       "      <td>1</td>\n",
       "      <td>Shipper A</td>\n",
       "      <td>City C</td>\n",
       "      <td>City F</td>\n",
       "      <td>73.070940</td>\n",
       "      <td>2020-01-01</td>\n",
       "      <td>2020-01-25</td>\n",
       "      <td>24 days</td>\n",
       "    </tr>\n",
       "    <tr>\n",
       "      <th>1</th>\n",
       "      <td>2</td>\n",
       "      <td>Shipper B</td>\n",
       "      <td>City A</td>\n",
       "      <td>City E</td>\n",
       "      <td>30.918563</td>\n",
       "      <td>2020-01-01</td>\n",
       "      <td>2020-01-27</td>\n",
       "      <td>26 days</td>\n",
       "    </tr>\n",
       "    <tr>\n",
       "      <th>2</th>\n",
       "      <td>3</td>\n",
       "      <td>Shipper A</td>\n",
       "      <td>City C</td>\n",
       "      <td>City E</td>\n",
       "      <td>84.603849</td>\n",
       "      <td>2020-01-01</td>\n",
       "      <td>2020-01-08</td>\n",
       "      <td>7 days</td>\n",
       "    </tr>\n",
       "    <tr>\n",
       "      <th>3</th>\n",
       "      <td>4</td>\n",
       "      <td>Shipper B</td>\n",
       "      <td>City C</td>\n",
       "      <td>City E</td>\n",
       "      <td>16.533795</td>\n",
       "      <td>2020-01-01</td>\n",
       "      <td>2020-01-05</td>\n",
       "      <td>4 days</td>\n",
       "    </tr>\n",
       "    <tr>\n",
       "      <th>4</th>\n",
       "      <td>5</td>\n",
       "      <td>Shipper B</td>\n",
       "      <td>City B</td>\n",
       "      <td>City D</td>\n",
       "      <td>16.895606</td>\n",
       "      <td>2020-01-01</td>\n",
       "      <td>2020-01-08</td>\n",
       "      <td>7 days</td>\n",
       "    </tr>\n",
       "  </tbody>\n",
       "</table>\n",
       "</div>"
      ],
      "text/plain": [
       "   shipment_id    shipper  origin destination  package_weight shipment_date  \\\n",
       "0            1  Shipper A  City C      City F       73.070940    2020-01-01   \n",
       "1            2  Shipper B  City A      City E       30.918563    2020-01-01   \n",
       "2            3  Shipper A  City C      City E       84.603849    2020-01-01   \n",
       "3            4  Shipper B  City C      City E       16.533795    2020-01-01   \n",
       "4            5  Shipper B  City B      City D       16.895606    2020-01-01   \n",
       "\n",
       "  delivery_date total_shipment_time  \n",
       "0    2020-01-25             24 days  \n",
       "1    2020-01-27             26 days  \n",
       "2    2020-01-08              7 days  \n",
       "3    2020-01-05              4 days  \n",
       "4    2020-01-08              7 days  "
      ]
     },
     "execution_count": 4,
     "metadata": {},
     "output_type": "execute_result"
    }
   ],
   "source": [
    "# calculate the total shipment time\n",
    "df['total_shipment_time'] = df['delivery_date'] - df['shipment_date']\n",
    "df.head()"
   ]
  },
  {
   "cell_type": "markdown",
   "id": "4e0a3bf1-6cfe-4fd0-8074-fad5b6fe2b33",
   "metadata": {},
   "source": [
    "Let's take a closer look at the **total_shipment_time** column using the `describe()` method.  \n",
    "\n",
    "I also pulled the days out of the timedelta column named total_shipment_time. This allows me to get descriptive statistics on a number versus a date object.  \n",
    "\n",
    "To answer the first part of the question, **the average shipment time is 15 days**."
   ]
  },
  {
   "cell_type": "code",
   "execution_count": 5,
   "id": "81618dd2-beff-41c8-b468-1524aa8e3f13",
   "metadata": {},
   "outputs": [
    {
     "data": {
      "text/plain": [
       "count    10000.000000\n",
       "mean        15.009000\n",
       "std          8.385508\n",
       "min          1.000000\n",
       "25%          8.000000\n",
       "50%         15.000000\n",
       "75%         22.000000\n",
       "max         29.000000\n",
       "Name: total_shipment_time, dtype: float64"
      ]
     },
     "execution_count": 5,
     "metadata": {},
     "output_type": "execute_result"
    }
   ],
   "source": [
    "df['total_shipment_time'].dt.days.describe()"
   ]
  },
  {
   "cell_type": "markdown",
   "id": "121fef96-633d-4137-842a-19dd774351fc",
   "metadata": {},
   "source": [
    "For the second part of the question, I thought all we had to do was order the dataframe and pull out the top 5 rows.  \n",
    "\n",
    "The issue is that we need to find the unique routes and the top 5 rows had duplicates. So I cheated a bit and just pulled more rows and removed the dupes.  \n",
    "\n",
    "What should I have done here?"
   ]
  },
  {
   "cell_type": "code",
   "execution_count": 6,
   "id": "8cc6bae9-0c39-4d42-ac63-a992ccef40fb",
   "metadata": {},
   "outputs": [
    {
     "data": {
      "text/html": [
       "<div>\n",
       "<style scoped>\n",
       "    .dataframe tbody tr th:only-of-type {\n",
       "        vertical-align: middle;\n",
       "    }\n",
       "\n",
       "    .dataframe tbody tr th {\n",
       "        vertical-align: top;\n",
       "    }\n",
       "\n",
       "    .dataframe thead th {\n",
       "        text-align: right;\n",
       "    }\n",
       "</style>\n",
       "<table border=\"1\" class=\"dataframe\">\n",
       "  <thead>\n",
       "    <tr style=\"text-align: right;\">\n",
       "      <th></th>\n",
       "      <th>origin</th>\n",
       "      <th>destination</th>\n",
       "    </tr>\n",
       "  </thead>\n",
       "  <tbody>\n",
       "    <tr>\n",
       "      <th>9999</th>\n",
       "      <td>City A</td>\n",
       "      <td>City E</td>\n",
       "    </tr>\n",
       "    <tr>\n",
       "      <th>5156</th>\n",
       "      <td>City C</td>\n",
       "      <td>City D</td>\n",
       "    </tr>\n",
       "    <tr>\n",
       "      <th>6480</th>\n",
       "      <td>City B</td>\n",
       "      <td>City D</td>\n",
       "    </tr>\n",
       "    <tr>\n",
       "      <th>6418</th>\n",
       "      <td>City B</td>\n",
       "      <td>City F</td>\n",
       "    </tr>\n",
       "    <tr>\n",
       "      <th>889</th>\n",
       "      <td>City B</td>\n",
       "      <td>City E</td>\n",
       "    </tr>\n",
       "  </tbody>\n",
       "</table>\n",
       "</div>"
      ],
      "text/plain": [
       "      origin destination\n",
       "9999  City A      City E\n",
       "5156  City C      City D\n",
       "6480  City B      City D\n",
       "6418  City B      City F\n",
       "889   City B      City E"
      ]
     },
     "execution_count": 6,
     "metadata": {},
     "output_type": "execute_result"
    }
   ],
   "source": [
    "df.sort_values(by='total_shipment_time', ascending=False).head(8)[['origin','destination']].drop_duplicates()"
   ]
  },
  {
   "cell_type": "markdown",
   "id": "b0ec11c0-7078-4889-8187-f537e909ee19",
   "metadata": {},
   "source": [
    "# Package Weight Distribution  \n",
    "\n",
    "Your friend wants to optimize their packaging process. Use the dataset to calculate the distribution of package weights and identify the most common weight range.  \n",
    "\n",
    "From the statistics below, most of the packages weigh between 25KG and 75KG. "
   ]
  },
  {
   "cell_type": "code",
   "execution_count": 7,
   "id": "d3217877-1791-4232-be9e-93c44cc08f8c",
   "metadata": {},
   "outputs": [
    {
     "data": {
      "text/plain": [
       "count    10000.000000\n",
       "mean        50.532313\n",
       "std         28.634233\n",
       "min          1.034149\n",
       "25%         25.625208\n",
       "50%         51.006958\n",
       "75%         75.310373\n",
       "max         99.985707\n",
       "Name: package_weight, dtype: float64"
      ]
     },
     "execution_count": 7,
     "metadata": {},
     "output_type": "execute_result"
    }
   ],
   "source": [
    "df['package_weight'].describe()"
   ]
  },
  {
   "cell_type": "markdown",
   "id": "75952381-1993-407b-b848-36ca1cb1e9b9",
   "metadata": {},
   "source": [
    "Let's plot the data to confirm. This would also be a good chart to show my friend and explain where most of the weights fall under."
   ]
  },
  {
   "cell_type": "code",
   "execution_count": 8,
   "id": "ee8951f6-0304-471a-9502-7185f35ec02e",
   "metadata": {},
   "outputs": [
    {
     "data": {
      "image/png": "[encoded data removed]",
      "text/plain": [
       "<Figure size 640x480 with 1 Axes>"
      ]
     },
     "metadata": {},
     "output_type": "display_data"
    }
   ],
   "source": [
    "df['package_weight'].plot.box();"
   ]
  },
  {
   "cell_type": "markdown",
   "id": "6e3f0de7-f364-4459-bf0b-3bb2d17dfa9c",
   "metadata": {},
   "source": [
    "# Shipper Performance Analysis  \n",
    "\n",
    "Your friend wants to evaluate the performance of their shippers. Use the dataset to calculate the on-time delivery rate for each shipper and identify the top 3 shippers with the highest on-time delivery rates."
   ]
  },
  {
   "cell_type": "code",
   "execution_count": 9,
   "id": "bb5499e9-c877-4bb6-bff7-6d8039c2697d",
   "metadata": {},
   "outputs": [
    {
     "data": {
      "text/plain": [
       "shipper\n",
       "Shipper A    15.0\n",
       "Shipper B    15.0\n",
       "Shipper C    15.0\n",
       "Name: total_days, dtype: float64"
      ]
     },
     "execution_count": 9,
     "metadata": {},
     "output_type": "execute_result"
    }
   ],
   "source": [
    "# clean up data for analysis\n",
    "# using .copy() to avoid issues creating a new column and setting it to a copy of the dataframe\n",
    "shipper = df[['shipper', 'total_shipment_time']].copy()\n",
    "shipper['total_days'] = shipper['total_shipment_time'].dt.days\n",
    "\n",
    "# drop total_shipment_time\n",
    "del shipper['total_shipment_time']\n",
    "\n",
    "# create grouping object\n",
    "group = shipper.groupby('shipper')\n",
    "\n",
    "# calculate the median against group\n",
    "group.median()['total_days']"
   ]
  },
  {
   "cell_type": "markdown",
   "id": "94982ff3-97c0-4d53-ae38-ac5719e03fef",
   "metadata": {},
   "source": [
    "Unfortunately, synthetic data is not always the greatest. It seems that my friend can use any shipper, as they all perform basically the same."
   ]
  },
  {
   "cell_type": "code",
   "execution_count": 10,
   "id": "f2a7cee0-fafe-4357-a661-d62c83ed1b1a",
   "metadata": {},
   "outputs": [
    {
     "data": {
      "text/html": [
       "<div>\n",
       "<style scoped>\n",
       "    .dataframe tbody tr th:only-of-type {\n",
       "        vertical-align: middle;\n",
       "    }\n",
       "\n",
       "    .dataframe tbody tr th {\n",
       "        vertical-align: top;\n",
       "    }\n",
       "\n",
       "    .dataframe thead tr th {\n",
       "        text-align: left;\n",
       "    }\n",
       "\n",
       "    .dataframe thead tr:last-of-type th {\n",
       "        text-align: right;\n",
       "    }\n",
       "</style>\n",
       "<table border=\"1\" class=\"dataframe\">\n",
       "  <thead>\n",
       "    <tr>\n",
       "      <th></th>\n",
       "      <th colspan=\"8\" halign=\"left\">total_days</th>\n",
       "    </tr>\n",
       "    <tr>\n",
       "      <th></th>\n",
       "      <th>count</th>\n",
       "      <th>mean</th>\n",
       "      <th>std</th>\n",
       "      <th>min</th>\n",
       "      <th>25%</th>\n",
       "      <th>50%</th>\n",
       "      <th>75%</th>\n",
       "      <th>max</th>\n",
       "    </tr>\n",
       "    <tr>\n",
       "      <th>shipper</th>\n",
       "      <th></th>\n",
       "      <th></th>\n",
       "      <th></th>\n",
       "      <th></th>\n",
       "      <th></th>\n",
       "      <th></th>\n",
       "      <th></th>\n",
       "      <th></th>\n",
       "    </tr>\n",
       "  </thead>\n",
       "  <tbody>\n",
       "    <tr>\n",
       "      <th>Shipper A</th>\n",
       "      <td>3347.0</td>\n",
       "      <td>14.873319</td>\n",
       "      <td>8.485110</td>\n",
       "      <td>1.0</td>\n",
       "      <td>7.0</td>\n",
       "      <td>15.0</td>\n",
       "      <td>22.0</td>\n",
       "      <td>29.0</td>\n",
       "    </tr>\n",
       "    <tr>\n",
       "      <th>Shipper B</th>\n",
       "      <td>3413.0</td>\n",
       "      <td>15.060357</td>\n",
       "      <td>8.331348</td>\n",
       "      <td>1.0</td>\n",
       "      <td>8.0</td>\n",
       "      <td>15.0</td>\n",
       "      <td>22.0</td>\n",
       "      <td>29.0</td>\n",
       "    </tr>\n",
       "    <tr>\n",
       "      <th>Shipper C</th>\n",
       "      <td>3240.0</td>\n",
       "      <td>15.095062</td>\n",
       "      <td>8.339595</td>\n",
       "      <td>1.0</td>\n",
       "      <td>8.0</td>\n",
       "      <td>15.0</td>\n",
       "      <td>22.0</td>\n",
       "      <td>29.0</td>\n",
       "    </tr>\n",
       "  </tbody>\n",
       "</table>\n",
       "</div>"
      ],
      "text/plain": [
       "          total_days                                                 \n",
       "               count       mean       std  min  25%   50%   75%   max\n",
       "shipper                                                              \n",
       "Shipper A     3347.0  14.873319  8.485110  1.0  7.0  15.0  22.0  29.0\n",
       "Shipper B     3413.0  15.060357  8.331348  1.0  8.0  15.0  22.0  29.0\n",
       "Shipper C     3240.0  15.095062  8.339595  1.0  8.0  15.0  22.0  29.0"
      ]
     },
     "execution_count": 10,
     "metadata": {},
     "output_type": "execute_result"
    }
   ],
   "source": [
    "group.describe()"
   ]
  },
  {
   "cell_type": "markdown",
   "id": "8c18426a-268e-45e0-83a4-dcd03169c4f5",
   "metadata": {},
   "source": [
    "<p class=\"text-muted\">This tutorial was created by <a href=\"https://www.hedaro.com\" target=\"_blank\"><strong>HEDARO</strong></a></p>"
   ]
  }
 ],
 "metadata": {
  "kernelspec": {
   "display_name": "Python 3 (ipykernel)",
   "language": "python",
   "name": "python3"
  },
  "language_info": {
   "codemirror_mode": {
    "name": "ipython",
    "version": 3
   },
   "file_extension": ".py",
   "mimetype": "text/x-python",
   "name": "python",
   "nbconvert_exporter": "python",
   "pygments_lexer": "ipython3",
   "version": "3.11.7"
  }
 },
 "nbformat": 4,
 "nbformat_minor": 5
}
