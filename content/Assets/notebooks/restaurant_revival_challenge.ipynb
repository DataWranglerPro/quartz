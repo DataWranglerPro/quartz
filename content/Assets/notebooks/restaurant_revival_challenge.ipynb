{
 "cells": [
  {
   "cell_type": "markdown",
   "id": "e51929be-99a4-472e-a9ee-9905e98d1e9a",
   "metadata": {},
   "source": [
    "# Restaurant Revival Challenge  \n",
    "\n",
    "### Description:   \n",
    "You're the Data Scientist hired by a popular restaurant chain to analyze their sales data and help them optimize their menu and marketing strategies. The chain has 500 locations across the US, each offering a unique blend of local and national menu items. Your task is to clean, preprocess, and analyze the sales data to identify trends, patterns, and insights that can drive business growth.\n",
    "\n",
    "### Tasks:  \n",
    "- **Menu Engineering:** Create a new feature that calculates the average sales per menu item across all locations. Use this feature to identify the top 10 best-selling menu items and the bottom 10 worst-selling menu items.\n",
    "- **Location Analysis:** Merge the sales data with a separate location data frame to create a single data frame with location-specific sales data. Then, use pivoting to calculate the total sales for each location and the top 3 best-selling menu items at each location.\n",
    "- **Seasonal Trends:** Use data transformation to convert the sales data into a weekly format (i.e., sales per week of the year). Then, use reshaping to calculate the average sales per week for each menu item and identify the peak sales periods for each item."
   ]
  },
  {
   "cell_type": "code",
   "execution_count": 1,
   "id": "57ffa6b0-b4c8-447e-9668-50be04d3d539",
   "metadata": {},
   "outputs": [
    {
     "name": "stdout",
     "output_type": "stream",
     "text": [
      "Python version 3.11.7 | packaged by Anaconda, Inc. | (main, Dec 15 2023, 18:05:47) [MSC v.1916 64 bit (AMD64)]\n",
      "Pandas version 2.2.1\n",
      "Numpy version 1.26.4\n"
     ]
    }
   ],
   "source": [
    "# import libraries\n",
    "import pandas as pd\n",
    "import numpy as np\n",
    "import sys\n",
    "\n",
    "print('Python version ' + sys.version)\n",
    "print('Pandas version ' + pd.__version__)\n",
    "print('Numpy version ' + np.__version__)"
   ]
  },
  {
   "cell_type": "markdown",
   "id": "3f7ee4b1-98bf-4620-82d2-326c7a60a655",
   "metadata": {},
   "source": [
    "# The Data  \n",
    "\n",
    "The dataset consists of 100,000 sales records from a restaurant chain with 500 locations across the US, detailing sales amounts, dates, menu items, and location information. It provides a comprehensive snapshot of sales activity across various menu items, locations, and time periods.  \n",
    "\n",
    "### Columns:\n",
    "- **sale_id:** Unique sale identifier\n",
    "- **menu_item_id:** Unique menu item identifier\n",
    "- **location_id:** Unique location identifier\n",
    "- **sale_date:** Date of sale\n",
    "- **sales_amount:** Total sales amount\n",
    "- **item_name:** Menu item name\n",
    "- **category:** Menu item category (Appetizer, Entree, Dessert)\n",
    "- **city:** Location city\n",
    "- **state:** Location state"
   ]
  },
  {
   "cell_type": "code",
   "execution_count": 2,
   "id": "b134d181-7ed6-4c38-b7c0-d58ceaee1b18",
   "metadata": {},
   "outputs": [],
   "source": [
    "# set the seed\n",
    "np.random.seed(0)\n",
    "\n",
    "# generate menu item data\n",
    "menu_items = pd.DataFrame({\n",
    "    'menu_item_id': range(1, 101),\n",
    "    'item_name': [f'Menu Item {i}' for i in range(1, 101)],\n",
    "    'category': np.random.choice(['Appetizer', 'Entree', 'Dessert'], 100)\n",
    "})\n",
    "\n",
    "# generate location data\n",
    "locations = pd.DataFrame({\n",
    "    'location_id': range(1, 501),\n",
    "    'city': [f'City {i}' for i in range(1, 501)],\n",
    "    'state': np.random.choice(['CA', 'NY', 'TX', 'FL'], 500)\n",
    "})\n",
    "\n",
    "# generate sales data\n",
    "sales = pd.DataFrame({\n",
    "    'sale_id': range(1, 100001),\n",
    "    'menu_item_id': np.random.randint(1, 101, 100000),\n",
    "    'location_id': np.random.randint(1, 501, 100000),\n",
    "    'sale_date': pd.date_range('2022-01-01', '2022-12-31', periods=100000),\n",
    "    'sales_amount': np.random.uniform(10, 100, 100000)\n",
    "})"
   ]
  },
  {
   "cell_type": "markdown",
   "id": "3fc487d1-7f07-4d31-b313-9821eee6a1eb",
   "metadata": {},
   "source": [
    "# Menu Engineering: \n",
    "\n",
    "Create a new feature that calculates the average sales per menu item across all locations. Use this feature to identify the top 10 best-selling menu items and the bottom 10 worst-selling menu items."
   ]
  },
  {
   "cell_type": "markdown",
   "id": "29125b5c-b3f0-45a3-947c-1a52f09a5e20",
   "metadata": {},
   "source": [
    "We need the `sales` and `menu_items` dataframes for this task. Let us look at the data types for each dataframe."
   ]
  },
  {
   "cell_type": "code",
   "execution_count": 3,
   "id": "a18ded44-0b38-4381-9b27-c5768d76bc16",
   "metadata": {},
   "outputs": [
    {
     "name": "stdout",
     "output_type": "stream",
     "text": [
      "<class 'pandas.core.frame.DataFrame'>\n",
      "RangeIndex: 100 entries, 0 to 99\n",
      "Data columns (total 3 columns):\n",
      " #   Column        Non-Null Count  Dtype \n",
      "---  ------        --------------  ----- \n",
      " 0   menu_item_id  100 non-null    int64 \n",
      " 1   item_name     100 non-null    object\n",
      " 2   category      100 non-null    object\n",
      "dtypes: int64(1), object(2)\n",
      "memory usage: 2.5+ KB\n"
     ]
    }
   ],
   "source": [
    "menu_items.info()"
   ]
  },
  {
   "cell_type": "code",
   "execution_count": 4,
   "id": "e5a2ea86-b725-412c-b8d5-7e12a1b55f25",
   "metadata": {},
   "outputs": [
    {
     "name": "stdout",
     "output_type": "stream",
     "text": [
      "<class 'pandas.core.frame.DataFrame'>\n",
      "RangeIndex: 100000 entries, 0 to 99999\n",
      "Data columns (total 5 columns):\n",
      " #   Column        Non-Null Count   Dtype         \n",
      "---  ------        --------------   -----         \n",
      " 0   sale_id       100000 non-null  int64         \n",
      " 1   menu_item_id  100000 non-null  int32         \n",
      " 2   location_id   100000 non-null  int32         \n",
      " 3   sale_date     100000 non-null  datetime64[ns]\n",
      " 4   sales_amount  100000 non-null  float64       \n",
      "dtypes: datetime64[ns](1), float64(1), int32(2), int64(1)\n",
      "memory usage: 3.1 MB\n"
     ]
    }
   ],
   "source": [
    "sales.info()"
   ]
  },
  {
   "cell_type": "markdown",
   "id": "9a7dcae2-f0f5-4a6b-94f6-08025a30dca7",
   "metadata": {},
   "source": [
    "Here is my strategy to complete the task:  \n",
    "- Merge the `sales` and the `menu_items` dataframes\n",
    "- Create a group object and determine the average sales per menu\n",
    "- Order the data to select the top/bottom 10 "
   ]
  },
  {
   "cell_type": "code",
   "execution_count": 5,
   "id": "23ea4d1d-eefb-42bb-82a7-d9eb002f8029",
   "metadata": {},
   "outputs": [
    {
     "data": {
      "text/html": [
       "<div>\n",
       "<style scoped>\n",
       "    .dataframe tbody tr th:only-of-type {\n",
       "        vertical-align: middle;\n",
       "    }\n",
       "\n",
       "    .dataframe tbody tr th {\n",
       "        vertical-align: top;\n",
       "    }\n",
       "\n",
       "    .dataframe thead th {\n",
       "        text-align: right;\n",
       "    }\n",
       "</style>\n",
       "<table border=\"1\" class=\"dataframe\">\n",
       "  <thead>\n",
       "    <tr style=\"text-align: right;\">\n",
       "      <th></th>\n",
       "      <th>sale_id</th>\n",
       "      <th>menu_item_id</th>\n",
       "      <th>location_id</th>\n",
       "      <th>sale_date</th>\n",
       "      <th>sales_amount</th>\n",
       "      <th>item_name</th>\n",
       "      <th>category</th>\n",
       "    </tr>\n",
       "  </thead>\n",
       "  <tbody>\n",
       "    <tr>\n",
       "      <th>0</th>\n",
       "      <td>1</td>\n",
       "      <td>27</td>\n",
       "      <td>17</td>\n",
       "      <td>2022-01-01 00:00:00.000000000</td>\n",
       "      <td>65.635255</td>\n",
       "      <td>Menu Item 27</td>\n",
       "      <td>Appetizer</td>\n",
       "    </tr>\n",
       "    <tr>\n",
       "      <th>1</th>\n",
       "      <td>2</td>\n",
       "      <td>97</td>\n",
       "      <td>496</td>\n",
       "      <td>2022-01-01 00:05:14.499144991</td>\n",
       "      <td>50.715654</td>\n",
       "      <td>Menu Item 97</td>\n",
       "      <td>Dessert</td>\n",
       "    </tr>\n",
       "    <tr>\n",
       "      <th>2</th>\n",
       "      <td>3</td>\n",
       "      <td>52</td>\n",
       "      <td>133</td>\n",
       "      <td>2022-01-01 00:10:28.998289982</td>\n",
       "      <td>39.340689</td>\n",
       "      <td>Menu Item 52</td>\n",
       "      <td>Entree</td>\n",
       "    </tr>\n",
       "    <tr>\n",
       "      <th>3</th>\n",
       "      <td>4</td>\n",
       "      <td>74</td>\n",
       "      <td>130</td>\n",
       "      <td>2022-01-01 00:15:43.497434974</td>\n",
       "      <td>22.613624</td>\n",
       "      <td>Menu Item 74</td>\n",
       "      <td>Appetizer</td>\n",
       "    </tr>\n",
       "    <tr>\n",
       "      <th>4</th>\n",
       "      <td>5</td>\n",
       "      <td>54</td>\n",
       "      <td>500</td>\n",
       "      <td>2022-01-01 00:20:57.996579965</td>\n",
       "      <td>28.305376</td>\n",
       "      <td>Menu Item 54</td>\n",
       "      <td>Entree</td>\n",
       "    </tr>\n",
       "  </tbody>\n",
       "</table>\n",
       "</div>"
      ],
      "text/plain": [
       "   sale_id  menu_item_id  location_id                     sale_date  \\\n",
       "0        1            27           17 2022-01-01 00:00:00.000000000   \n",
       "1        2            97          496 2022-01-01 00:05:14.499144991   \n",
       "2        3            52          133 2022-01-01 00:10:28.998289982   \n",
       "3        4            74          130 2022-01-01 00:15:43.497434974   \n",
       "4        5            54          500 2022-01-01 00:20:57.996579965   \n",
       "\n",
       "   sales_amount     item_name   category  \n",
       "0     65.635255  Menu Item 27  Appetizer  \n",
       "1     50.715654  Menu Item 97    Dessert  \n",
       "2     39.340689  Menu Item 52     Entree  \n",
       "3     22.613624  Menu Item 74  Appetizer  \n",
       "4     28.305376  Menu Item 54     Entree  "
      ]
     },
     "execution_count": 5,
     "metadata": {},
     "output_type": "execute_result"
    }
   ],
   "source": [
    "# we are doing an inner merge where both dataframes must have matching menu_item_ids\n",
    "df = sales.merge(menu_items, on='menu_item_id')\n",
    "df.head()"
   ]
  },
  {
   "cell_type": "markdown",
   "id": "e95e9d43-47a1-4ec5-820a-b3d1aeca922b",
   "metadata": {},
   "source": [
    "Notice the two columns in the results above (`item_name` and `category`); these came from the `menu_items` dataframe. \n",
    "\n",
    "Now that the merge is complete, the code below will get us the average sales amount per menu item."
   ]
  },
  {
   "cell_type": "code",
   "execution_count": 6,
   "id": "fe7879a3-da36-40ca-9d82-590588a8914a",
   "metadata": {},
   "outputs": [
    {
     "data": {
      "text/plain": [
       "item_name\n",
       "Menu Item 1      56.313134\n",
       "Menu Item 10     55.226327\n",
       "Menu Item 100    54.597751\n",
       "Menu Item 11     53.615531\n",
       "Menu Item 12     55.214489\n",
       "Name: sales_amount, dtype: float64"
      ]
     },
     "execution_count": 6,
     "metadata": {},
     "output_type": "execute_result"
    }
   ],
   "source": [
    "# create group object\n",
    "group = df.groupby('item_name')\n",
    "\n",
    "# get the average sales_amount\n",
    "avg_sales = group['sales_amount'].mean()\n",
    "avg_sales.head()"
   ]
  },
  {
   "cell_type": "markdown",
   "id": "671e0833-3178-40e6-8dad-ed082c9ad690",
   "metadata": {},
   "source": [
    "Order the data to get the top/bottom 10 rows."
   ]
  },
  {
   "cell_type": "code",
   "execution_count": 7,
   "id": "a510d8b3-09d3-4a98-88db-699913b52255",
   "metadata": {},
   "outputs": [
    {
     "data": {
      "text/plain": [
       "item_name\n",
       "Menu Item 99    57.838223\n",
       "Menu Item 57    57.167071\n",
       "Menu Item 8     56.666762\n",
       "Menu Item 75    56.603161\n",
       "Menu Item 24    56.436106\n",
       "Menu Item 61    56.349409\n",
       "Menu Item 1     56.313134\n",
       "Menu Item 86    56.188104\n",
       "Menu Item 84    56.018658\n",
       "Menu Item 74    56.018637\n",
       "Name: sales_amount, dtype: float64"
      ]
     },
     "execution_count": 7,
     "metadata": {},
     "output_type": "execute_result"
    }
   ],
   "source": [
    "# top 10\n",
    "avg_sales.sort_values(ascending=False).head(10)"
   ]
  },
  {
   "cell_type": "code",
   "execution_count": 8,
   "id": "bc80b96c-864b-4908-b395-a3187a734ef7",
   "metadata": {},
   "outputs": [
    {
     "data": {
      "text/plain": [
       "item_name\n",
       "Menu Item 32    53.261398\n",
       "Menu Item 88    53.599913\n",
       "Menu Item 23    53.607014\n",
       "Menu Item 62    53.612730\n",
       "Menu Item 11    53.615531\n",
       "Menu Item 33    53.620281\n",
       "Menu Item 4     53.830895\n",
       "Menu Item 81    53.931528\n",
       "Menu Item 66    53.957063\n",
       "Menu Item 15    54.032607\n",
       "Name: sales_amount, dtype: float64"
      ]
     },
     "execution_count": 8,
     "metadata": {},
     "output_type": "execute_result"
    }
   ],
   "source": [
    "# bottom 10\n",
    "avg_sales.sort_values().head(10)"
   ]
  },
  {
   "cell_type": "markdown",
   "id": "c073dd90-92df-41cd-8517-746f848a2d5d",
   "metadata": {},
   "source": [
    "# Location Analysis: \n",
    "\n",
    "Merge the sales data with a separate location data frame to create a single data frame with location-specific sales data. Then, use pivoting to calculate the total sales for each location and the top 3 best-selling menu items at each location."
   ]
  },
  {
   "cell_type": "markdown",
   "id": "0338b79d-819b-4472-9262-35efce227005",
   "metadata": {},
   "source": [
    "Our last task merged sales data with menu items data and placed it in `df`. We can reuse the dataframe for this task."
   ]
  },
  {
   "cell_type": "code",
   "execution_count": 9,
   "id": "c572bb8d-34b6-4e11-a8b7-11d832bc9e86",
   "metadata": {},
   "outputs": [
    {
     "data": {
      "text/html": [
       "<div>\n",
       "<style scoped>\n",
       "    .dataframe tbody tr th:only-of-type {\n",
       "        vertical-align: middle;\n",
       "    }\n",
       "\n",
       "    .dataframe tbody tr th {\n",
       "        vertical-align: top;\n",
       "    }\n",
       "\n",
       "    .dataframe thead th {\n",
       "        text-align: right;\n",
       "    }\n",
       "</style>\n",
       "<table border=\"1\" class=\"dataframe\">\n",
       "  <thead>\n",
       "    <tr style=\"text-align: right;\">\n",
       "      <th></th>\n",
       "      <th>sale_id</th>\n",
       "      <th>menu_item_id</th>\n",
       "      <th>location_id</th>\n",
       "      <th>sale_date</th>\n",
       "      <th>sales_amount</th>\n",
       "      <th>item_name</th>\n",
       "      <th>category</th>\n",
       "      <th>city</th>\n",
       "      <th>state</th>\n",
       "    </tr>\n",
       "  </thead>\n",
       "  <tbody>\n",
       "    <tr>\n",
       "      <th>0</th>\n",
       "      <td>1</td>\n",
       "      <td>27</td>\n",
       "      <td>17</td>\n",
       "      <td>2022-01-01 00:00:00.000000000</td>\n",
       "      <td>65.635255</td>\n",
       "      <td>Menu Item 27</td>\n",
       "      <td>Appetizer</td>\n",
       "      <td>City 17</td>\n",
       "      <td>NY</td>\n",
       "    </tr>\n",
       "    <tr>\n",
       "      <th>1</th>\n",
       "      <td>2</td>\n",
       "      <td>97</td>\n",
       "      <td>496</td>\n",
       "      <td>2022-01-01 00:05:14.499144991</td>\n",
       "      <td>50.715654</td>\n",
       "      <td>Menu Item 97</td>\n",
       "      <td>Dessert</td>\n",
       "      <td>City 496</td>\n",
       "      <td>CA</td>\n",
       "    </tr>\n",
       "    <tr>\n",
       "      <th>2</th>\n",
       "      <td>3</td>\n",
       "      <td>52</td>\n",
       "      <td>133</td>\n",
       "      <td>2022-01-01 00:10:28.998289982</td>\n",
       "      <td>39.340689</td>\n",
       "      <td>Menu Item 52</td>\n",
       "      <td>Entree</td>\n",
       "      <td>City 133</td>\n",
       "      <td>CA</td>\n",
       "    </tr>\n",
       "    <tr>\n",
       "      <th>3</th>\n",
       "      <td>4</td>\n",
       "      <td>74</td>\n",
       "      <td>130</td>\n",
       "      <td>2022-01-01 00:15:43.497434974</td>\n",
       "      <td>22.613624</td>\n",
       "      <td>Menu Item 74</td>\n",
       "      <td>Appetizer</td>\n",
       "      <td>City 130</td>\n",
       "      <td>FL</td>\n",
       "    </tr>\n",
       "    <tr>\n",
       "      <th>4</th>\n",
       "      <td>5</td>\n",
       "      <td>54</td>\n",
       "      <td>500</td>\n",
       "      <td>2022-01-01 00:20:57.996579965</td>\n",
       "      <td>28.305376</td>\n",
       "      <td>Menu Item 54</td>\n",
       "      <td>Entree</td>\n",
       "      <td>City 500</td>\n",
       "      <td>CA</td>\n",
       "    </tr>\n",
       "  </tbody>\n",
       "</table>\n",
       "</div>"
      ],
      "text/plain": [
       "   sale_id  menu_item_id  location_id                     sale_date  \\\n",
       "0        1            27           17 2022-01-01 00:00:00.000000000   \n",
       "1        2            97          496 2022-01-01 00:05:14.499144991   \n",
       "2        3            52          133 2022-01-01 00:10:28.998289982   \n",
       "3        4            74          130 2022-01-01 00:15:43.497434974   \n",
       "4        5            54          500 2022-01-01 00:20:57.996579965   \n",
       "\n",
       "   sales_amount     item_name   category      city state  \n",
       "0     65.635255  Menu Item 27  Appetizer   City 17    NY  \n",
       "1     50.715654  Menu Item 97    Dessert  City 496    CA  \n",
       "2     39.340689  Menu Item 52     Entree  City 133    CA  \n",
       "3     22.613624  Menu Item 74  Appetizer  City 130    FL  \n",
       "4     28.305376  Menu Item 54     Entree  City 500    CA  "
      ]
     },
     "execution_count": 9,
     "metadata": {},
     "output_type": "execute_result"
    }
   ],
   "source": [
    "# add in the location data\n",
    "location = df.merge(locations, on='location_id')\n",
    "location.head()"
   ]
  },
  {
   "cell_type": "code",
   "execution_count": 10,
   "id": "5842f06d-a4a6-42ec-b57a-bcfe94871d2b",
   "metadata": {},
   "outputs": [
    {
     "data": {
      "text/plain": [
       "city     state  item_name    \n",
       "City 1   TX     Menu Item 1      370.460969\n",
       "                Menu Item 10     271.469363\n",
       "                Menu Item 100    134.266236\n",
       "                Menu Item 11     243.996257\n",
       "                Menu Item 12     168.741860\n",
       "                                    ...    \n",
       "City 99  NY     Menu Item 94     100.391216\n",
       "                Menu Item 96     141.602043\n",
       "                Menu Item 97      59.668432\n",
       "                Menu Item 98     295.399819\n",
       "                Menu Item 99      68.530342\n",
       "Name: sales_amount, Length: 43135, dtype: float64"
      ]
     },
     "execution_count": 10,
     "metadata": {},
     "output_type": "execute_result"
    }
   ],
   "source": [
    "# create group object\n",
    "group = location.groupby(['city','state','item_name'])\n",
    "\n",
    "# calculate the total sales for each group\n",
    "total_sales = group['sales_amount'].sum()\n",
    "total_sales"
   ]
  },
  {
   "cell_type": "markdown",
   "id": "b6b87129-3440-4939-89be-151c2b1f483a",
   "metadata": {},
   "source": [
    "### Method 1:\n",
    "Here is how I was able to get the top 3 menu items per location using a custom function."
   ]
  },
  {
   "cell_type": "markdown",
   "id": "55d39b3f-3309-4870-b300-e24caed311d9",
   "metadata": {},
   "source": [
    "Notes:  \n",
    "- Performing an aggregate function on a group is pretty simple. Performing an additional calculation afterwards, this is a bit harder.\n",
    "- Since I reset the index, it kind of got in the way, so I added code specifically to remove this column (I used `droplevel()` to accomplish this)"
   ]
  },
  {
   "cell_type": "code",
   "execution_count": 11,
   "id": "67442490-3915-46e1-9507-561c9c023cbd",
   "metadata": {},
   "outputs": [
    {
     "data": {
      "text/html": [
       "<div>\n",
       "<style scoped>\n",
       "    .dataframe tbody tr th:only-of-type {\n",
       "        vertical-align: middle;\n",
       "    }\n",
       "\n",
       "    .dataframe tbody tr th {\n",
       "        vertical-align: top;\n",
       "    }\n",
       "\n",
       "    .dataframe thead th {\n",
       "        text-align: right;\n",
       "    }\n",
       "</style>\n",
       "<table border=\"1\" class=\"dataframe\">\n",
       "  <thead>\n",
       "    <tr style=\"text-align: right;\">\n",
       "      <th></th>\n",
       "      <th></th>\n",
       "      <th>item_name</th>\n",
       "      <th>sales_amount</th>\n",
       "    </tr>\n",
       "    <tr>\n",
       "      <th>city</th>\n",
       "      <th>state</th>\n",
       "      <th></th>\n",
       "      <th></th>\n",
       "    </tr>\n",
       "  </thead>\n",
       "  <tbody>\n",
       "    <tr>\n",
       "      <th rowspan=\"3\" valign=\"top\">City 1</th>\n",
       "      <th>TX</th>\n",
       "      <td>Menu Item 86</td>\n",
       "      <td>419.518108</td>\n",
       "    </tr>\n",
       "    <tr>\n",
       "      <th>TX</th>\n",
       "      <td>Menu Item 1</td>\n",
       "      <td>370.460969</td>\n",
       "    </tr>\n",
       "    <tr>\n",
       "      <th>TX</th>\n",
       "      <td>Menu Item 30</td>\n",
       "      <td>342.247197</td>\n",
       "    </tr>\n",
       "    <tr>\n",
       "      <th rowspan=\"2\" valign=\"top\">City 10</th>\n",
       "      <th>TX</th>\n",
       "      <td>Menu Item 63</td>\n",
       "      <td>300.661903</td>\n",
       "    </tr>\n",
       "    <tr>\n",
       "      <th>TX</th>\n",
       "      <td>Menu Item 40</td>\n",
       "      <td>298.190699</td>\n",
       "    </tr>\n",
       "  </tbody>\n",
       "</table>\n",
       "</div>"
      ],
      "text/plain": [
       "                  item_name  sales_amount\n",
       "city    state                            \n",
       "City 1  TX     Menu Item 86    419.518108\n",
       "        TX      Menu Item 1    370.460969\n",
       "        TX     Menu Item 30    342.247197\n",
       "City 10 TX     Menu Item 63    300.661903\n",
       "        TX     Menu Item 40    298.190699"
      ]
     },
     "execution_count": 11,
     "metadata": {},
     "output_type": "execute_result"
    }
   ],
   "source": [
    "def get_top_three(grp):\n",
    "    ''' sort grp descending and return the top 3 rows '''\n",
    "    sorted = grp.sort_values('sales_amount', ascending=False)\n",
    "    return sorted.head(3)\n",
    "\n",
    "# reset the index before performing another groupby operation\n",
    "# group by city and state\n",
    "# apply the get_top_three function on the group\n",
    "results = total_sales.reset_index().groupby(['city','state']).apply(get_top_three, include_groups=False)\n",
    "\n",
    "# get rid of number column in the index\n",
    "results.index = results.index.droplevel(2)\n",
    "results.head()"
   ]
  },
  {
   "cell_type": "markdown",
   "id": "8a87a518-65c4-4a69-b8b1-ff51c54b47fa",
   "metadata": {},
   "source": [
    "### Method 2:\n",
    "Here is how I was able to get the top 3 menu items per location using a lambda function.\n",
    "\n",
    "> See the number column in the index? It's the 3rd one after the state column.\n",
    "This column was created after the `reset_index()` operation. Method #1 shows you code on how to get rid of it.  \n",
    "\n",
    "I prefer Method #1 as that method uses cleaner code and it will be easier to maintain."
   ]
  },
  {
   "cell_type": "code",
   "execution_count": 12,
   "id": "e5cfc5f0-309b-4b13-b74e-d7014027e57f",
   "metadata": {},
   "outputs": [
    {
     "data": {
      "text/html": [
       "<div>\n",
       "<style scoped>\n",
       "    .dataframe tbody tr th:only-of-type {\n",
       "        vertical-align: middle;\n",
       "    }\n",
       "\n",
       "    .dataframe tbody tr th {\n",
       "        vertical-align: top;\n",
       "    }\n",
       "\n",
       "    .dataframe thead th {\n",
       "        text-align: right;\n",
       "    }\n",
       "</style>\n",
       "<table border=\"1\" class=\"dataframe\">\n",
       "  <thead>\n",
       "    <tr style=\"text-align: right;\">\n",
       "      <th></th>\n",
       "      <th></th>\n",
       "      <th></th>\n",
       "      <th>item_name</th>\n",
       "      <th>sales_amount</th>\n",
       "    </tr>\n",
       "    <tr>\n",
       "      <th>city</th>\n",
       "      <th>state</th>\n",
       "      <th></th>\n",
       "      <th></th>\n",
       "      <th></th>\n",
       "    </tr>\n",
       "  </thead>\n",
       "  <tbody>\n",
       "    <tr>\n",
       "      <th rowspan=\"3\" valign=\"top\">City 1</th>\n",
       "      <th rowspan=\"3\" valign=\"top\">TX</th>\n",
       "      <th>73</th>\n",
       "      <td>Menu Item 86</td>\n",
       "      <td>419.518108</td>\n",
       "    </tr>\n",
       "    <tr>\n",
       "      <th>0</th>\n",
       "      <td>Menu Item 1</td>\n",
       "      <td>370.460969</td>\n",
       "    </tr>\n",
       "    <tr>\n",
       "      <th>20</th>\n",
       "      <td>Menu Item 30</td>\n",
       "      <td>342.247197</td>\n",
       "    </tr>\n",
       "    <tr>\n",
       "      <th rowspan=\"2\" valign=\"top\">City 10</th>\n",
       "      <th rowspan=\"2\" valign=\"top\">TX</th>\n",
       "      <th>133</th>\n",
       "      <td>Menu Item 63</td>\n",
       "      <td>300.661903</td>\n",
       "    </tr>\n",
       "    <tr>\n",
       "      <th>113</th>\n",
       "      <td>Menu Item 40</td>\n",
       "      <td>298.190699</td>\n",
       "    </tr>\n",
       "  </tbody>\n",
       "</table>\n",
       "</div>"
      ],
      "text/plain": [
       "                      item_name  sales_amount\n",
       "city    state                                \n",
       "City 1  TX    73   Menu Item 86    419.518108\n",
       "              0     Menu Item 1    370.460969\n",
       "              20   Menu Item 30    342.247197\n",
       "City 10 TX    133  Menu Item 63    300.661903\n",
       "              113  Menu Item 40    298.190699"
      ]
     },
     "execution_count": 12,
     "metadata": {},
     "output_type": "execute_result"
    }
   ],
   "source": [
    "results = total_sales.reset_index().groupby(['city','state']).apply(lambda x: x.sort_values('sales_amount', ascending=False).head(3), include_groups=False)\n",
    "results.head()"
   ]
  },
  {
   "cell_type": "markdown",
   "id": "d1445b99-436f-4a5e-9488-d46320e85f0f",
   "metadata": {},
   "source": [
    "# Seasonal Trends: \n",
    "\n",
    "Use data transformation to convert the sales data into a weekly format (i.e., sales per week of the year). Then, use reshaping to calculate the average sales per week for each menu item and identify the peak sales periods for each item.\n",
    "\n",
    "I will be using the Pandas `resample` method to convert the data to weekly data. Note that this method expects out data to be a time series. \n",
    "\n",
    "Here is what I look for to determine if I am working with time series data:\n",
    "- No missing values\n",
    "- Dates are ordered sequentially\n",
    "- Dates occur at consistent intervals\n",
    "\n",
    "Note that our synthetic data does not meet the typical criteria for time series data, as it does not contain consistent intervals. Keep this in mind when working through this tutorial."
   ]
  },
  {
   "cell_type": "code",
   "execution_count": 13,
   "id": "725ee4ba-4573-4319-8ccb-29fbd316efbc",
   "metadata": {},
   "outputs": [
    {
     "data": {
      "text/plain": [
       "item_name    sale_date \n",
       "Menu Item 1  2022-01-02    58.064839\n",
       "             2022-01-09    52.142763\n",
       "             2022-01-16    49.412837\n",
       "             2022-01-23    58.902413\n",
       "             2022-01-30    59.432552\n",
       "Name: sales_amount, dtype: float64"
      ]
     },
     "execution_count": 13,
     "metadata": {},
     "output_type": "execute_result"
    }
   ],
   "source": [
    "# let us order the location data\n",
    "location = location.sort_values(by='sale_date')\n",
    "\n",
    "# Note: We don't have any missing values. Unfortunately our dates do not occur at consistent intervals\n",
    "\n",
    "# resample our data to weekly and calculate the average sales_amount\n",
    "trends = location.groupby('item_name').apply(lambda x: x.resample('W', on='sale_date')['sales_amount'].mean(), include_groups=False)\n",
    "trends.head()"
   ]
  },
  {
   "cell_type": "markdown",
   "id": "faaca3f0-4fe1-4091-91ac-c96d4b9287b1",
   "metadata": {},
   "source": [
    "Using the same strategy for the Location Analysis, we can get the peak sales date and sales amount per menu item. "
   ]
  },
  {
   "cell_type": "code",
   "execution_count": 14,
   "id": "895b4174-be5d-4145-8da8-4792cceb3afd",
   "metadata": {},
   "outputs": [
    {
     "data": {
      "text/html": [
       "<div>\n",
       "<style scoped>\n",
       "    .dataframe tbody tr th:only-of-type {\n",
       "        vertical-align: middle;\n",
       "    }\n",
       "\n",
       "    .dataframe tbody tr th {\n",
       "        vertical-align: top;\n",
       "    }\n",
       "\n",
       "    .dataframe thead th {\n",
       "        text-align: right;\n",
       "    }\n",
       "</style>\n",
       "<table border=\"1\" class=\"dataframe\">\n",
       "  <thead>\n",
       "    <tr style=\"text-align: right;\">\n",
       "      <th></th>\n",
       "      <th>sale_date</th>\n",
       "      <th>sales_amount</th>\n",
       "    </tr>\n",
       "    <tr>\n",
       "      <th>item_name</th>\n",
       "      <th></th>\n",
       "      <th></th>\n",
       "    </tr>\n",
       "  </thead>\n",
       "  <tbody>\n",
       "    <tr>\n",
       "      <th>Menu Item 1</th>\n",
       "      <td>2022-07-24</td>\n",
       "      <td>67.081441</td>\n",
       "    </tr>\n",
       "    <tr>\n",
       "      <th>Menu Item 10</th>\n",
       "      <td>2022-01-02</td>\n",
       "      <td>71.869690</td>\n",
       "    </tr>\n",
       "    <tr>\n",
       "      <th>Menu Item 100</th>\n",
       "      <td>2022-01-02</td>\n",
       "      <td>87.621319</td>\n",
       "    </tr>\n",
       "    <tr>\n",
       "      <th>Menu Item 11</th>\n",
       "      <td>2022-09-11</td>\n",
       "      <td>66.620358</td>\n",
       "    </tr>\n",
       "    <tr>\n",
       "      <th>Menu Item 12</th>\n",
       "      <td>2023-01-01</td>\n",
       "      <td>72.514490</td>\n",
       "    </tr>\n",
       "  </tbody>\n",
       "</table>\n",
       "</div>"
      ],
      "text/plain": [
       "               sale_date  sales_amount\n",
       "item_name                             \n",
       "Menu Item 1   2022-07-24     67.081441\n",
       "Menu Item 10  2022-01-02     71.869690\n",
       "Menu Item 100 2022-01-02     87.621319\n",
       "Menu Item 11  2022-09-11     66.620358\n",
       "Menu Item 12  2023-01-01     72.514490"
      ]
     },
     "execution_count": 14,
     "metadata": {},
     "output_type": "execute_result"
    }
   ],
   "source": [
    "def get_peak_sales(grp):\n",
    "    sorted = grp.sort_values('sales_amount', ascending=False)\n",
    "    return sorted.head(1)\n",
    "\n",
    "results = trends.reset_index().groupby('item_name').apply(get_peak_sales, include_groups=False)\n",
    "\n",
    "# get rid of number column in the index\n",
    "results.index = results.index.droplevel(1)\n",
    "results.head()"
   ]
  },
  {
   "cell_type": "markdown",
   "id": "d03d1f95-5cf8-48d3-a663-82b4339e1533",
   "metadata": {},
   "source": [
    "# Summary  \n",
    "\n",
    "You've completed a tutorial on sales data analysis for a 500-location US restaurant chain. You explored menu engineering, location analysis, and seasonal trends to optimize menu and marketing strategies, gaining practical insights into data-driven business decisions.\n",
    "\n",
    "### Key Takeaways:\n",
    "- Merging datasets using `pd.merge()`\n",
    "- Grouping and aggregating data using `df.groupby()`\n",
    "- Identifying top and bottom performers using `sort_values()` and `head()`\n",
    "- Using custom functions and lambda functions for complex aggregations\n",
    "- Resampling time series data using `pd.resample()` to convert to weekly format"
   ]
  },
  {
   "cell_type": "markdown",
   "id": "9f0092cc-f42d-49ee-b760-aab753ca8b11",
   "metadata": {},
   "source": [
    "<p class=\"text-muted\">This tutorial was created by <a href=\"https://www.hedaro.com\" target=\"_blank\"><strong>HEDARO</strong></a></p>"
   ]
  }
 ],
 "metadata": {
  "kernelspec": {
   "display_name": "Python 3 (ipykernel)",
   "language": "python",
   "name": "python3"
  },
  "language_info": {
   "codemirror_mode": {
    "name": "ipython",
    "version": 3
   },
   "file_extension": ".py",
   "mimetype": "text/x-python",
   "name": "python",
   "nbconvert_exporter": "python",
   "pygments_lexer": "ipython3",
   "version": "3.11.7"
  }
 },
 "nbformat": 4,
 "nbformat_minor": 5
}
