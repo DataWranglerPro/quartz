{
 "cells": [
  {
   "cell_type": "markdown",
   "id": "b42d3b7b-9bb7-4720-820b-7fcef39f94e0",
   "metadata": {},
   "source": [
    "# Telco Trouble: A Customer Service Conundrum  \n",
    "\n",
    "### Description:  \n",
    "\n",
    "Oh man, have you heard about the latest struggles at Telco Telecom Company? Their customer service team is overwhelmed with calls and emails from frustrated customers experiencing dropped calls, slow data speeds, and unexpected charges on their bills. The team needs help analyzing customer data to identify trends, resolve issues efficiently, and improve overall customer satisfaction.  \n",
    "\n",
    "### Tasks:  \n",
    "- **Trend Analysis:** Identify the top 5 reasons for customer complaints and create a bar chart to visualize the results.\n",
    "- **Issue Resolution:** Write a function to categorize customer complaints by severity (high, medium, low) based on keywords in the issue description.\n",
    "- **Phone Number Cleanup:** Clean up malformed phone numbers in the dataset by extracting the numeric portion and formatting it as XXX-XXX-XXXX."
   ]
  },
  {
   "cell_type": "code",
   "execution_count": 1,
   "id": "fabc8400-04cc-4bb2-84f2-1f0683c51eb7",
   "metadata": {},
   "outputs": [
    {
     "name": "stdout",
     "output_type": "stream",
     "text": [
      "Python version 3.11.7 | packaged by Anaconda, Inc. | (main, Dec 15 2023, 18:05:47) [MSC v.1916 64 bit (AMD64)]\n",
      "Pandas version 2.2.1\n",
      "Numpy version 1.26.4\n"
     ]
    }
   ],
   "source": [
    "# import libraries\n",
    "import pandas as pd\n",
    "import numpy as np\n",
    "import sys\n",
    "import re # for regex operations\n",
    "\n",
    "print('Python version ' + sys.version)\n",
    "print('Pandas version ' + pd.__version__)\n",
    "print('Numpy version ' + np.__version__)"
   ]
  },
  {
   "cell_type": "code",
   "execution_count": 2,
   "id": "25be2a97-9488-4609-a035-c833e9d11c13",
   "metadata": {},
   "outputs": [
    {
     "data": {
      "text/html": [
       "<div>\n",
       "<style scoped>\n",
       "    .dataframe tbody tr th:only-of-type {\n",
       "        vertical-align: middle;\n",
       "    }\n",
       "\n",
       "    .dataframe tbody tr th {\n",
       "        vertical-align: top;\n",
       "    }\n",
       "\n",
       "    .dataframe thead th {\n",
       "        text-align: right;\n",
       "    }\n",
       "</style>\n",
       "<table border=\"1\" class=\"dataframe\">\n",
       "  <thead>\n",
       "    <tr style=\"text-align: right;\">\n",
       "      <th></th>\n",
       "      <th>customer_id</th>\n",
       "      <th>name</th>\n",
       "      <th>phone_number</th>\n",
       "      <th>issue_description</th>\n",
       "      <th>calls</th>\n",
       "      <th>texts</th>\n",
       "      <th>data_usage</th>\n",
       "    </tr>\n",
       "  </thead>\n",
       "  <tbody>\n",
       "    <tr>\n",
       "      <th>0</th>\n",
       "      <td>0</td>\n",
       "      <td>Customer 0</td>\n",
       "      <td>555-795-4375</td>\n",
       "      <td>Poor reception</td>\n",
       "      <td>82</td>\n",
       "      <td>543</td>\n",
       "      <td>2696</td>\n",
       "    </tr>\n",
       "    <tr>\n",
       "      <th>1</th>\n",
       "      <td>1</td>\n",
       "      <td>Customer 1</td>\n",
       "      <td>555-946-5970</td>\n",
       "      <td>Poor reception</td>\n",
       "      <td>98</td>\n",
       "      <td>22</td>\n",
       "      <td>6368</td>\n",
       "    </tr>\n",
       "    <tr>\n",
       "      <th>2</th>\n",
       "      <td>2</td>\n",
       "      <td>Customer 2</td>\n",
       "      <td>555-818-9002</td>\n",
       "      <td>Slow data</td>\n",
       "      <td>1</td>\n",
       "      <td>973</td>\n",
       "      <td>2280</td>\n",
       "    </tr>\n",
       "    <tr>\n",
       "      <th>3</th>\n",
       "      <td>3</td>\n",
       "      <td>Customer 3</td>\n",
       "      <td>555-388-6985</td>\n",
       "      <td>Unexpected charge</td>\n",
       "      <td>88</td>\n",
       "      <td>196</td>\n",
       "      <td>2595</td>\n",
       "    </tr>\n",
       "    <tr>\n",
       "      <th>4</th>\n",
       "      <td>4</td>\n",
       "      <td>Customer 4</td>\n",
       "      <td>555-915-7855</td>\n",
       "      <td>Poor reception</td>\n",
       "      <td>40</td>\n",
       "      <td>583</td>\n",
       "      <td>8574</td>\n",
       "    </tr>\n",
       "  </tbody>\n",
       "</table>\n",
       "</div>"
      ],
      "text/plain": [
       "   customer_id        name  phone_number  issue_description  calls  texts  \\\n",
       "0            0  Customer 0  555-795-4375     Poor reception     82    543   \n",
       "1            1  Customer 1  555-946-5970     Poor reception     98     22   \n",
       "2            2  Customer 2  555-818-9002          Slow data      1    973   \n",
       "3            3  Customer 3  555-388-6985  Unexpected charge     88    196   \n",
       "4            4  Customer 4  555-915-7855     Poor reception     40    583   \n",
       "\n",
       "   data_usage  \n",
       "0        2696  \n",
       "1        6368  \n",
       "2        2280  \n",
       "3        2595  \n",
       "4        8574  "
      ]
     },
     "execution_count": 2,
     "metadata": {},
     "output_type": "execute_result"
    }
   ],
   "source": [
    "# set the seed\n",
    "np.random.seed(0)\n",
    "\n",
    "# generate customer data\n",
    "customers = pd.DataFrame({\n",
    "    'customer_id': np.arange(10000),\n",
    "    'name': ['Customer {}'.format(i) for i in range(10000)],\n",
    "    'phone_number': ['555-{}-{}'.format(np.random.randint(111, 999), np.random.randint(1111, 9999)) for _ in range(10000)],\n",
    "    'issue_description': np.random.choice(['Dropped call', 'Slow data', 'Unexpected charge', 'Poor reception', 'Other'], size=10000),\n",
    "    'calls': np.random.randint(0, 100, size=10000),\n",
    "    'texts': np.random.randint(0, 1000, size=10000),\n",
    "    'data_usage': np.random.randint(0, 10000, size=10000)\n",
    "})\n",
    "\n",
    "# add some malformed phone numbers\n",
    "customers.loc[np.random.choice(customers.index, size=500), 'phone_number'] = [\n",
    "    '555-123-4567 ext 101',\n",
    "    '123-456-7890 x123',\n",
    "    '(555) 123-4567',\n",
    "    '5551234567',\n",
    "    '555 123-4567'\n",
    "] * 100\n",
    "\n",
    "customers.head()"
   ]
  },
  {
   "cell_type": "markdown",
   "id": "682d8995-f29a-4c07-b80a-53f7d1cfb449",
   "metadata": {},
   "source": [
    "# The Data  \n",
    "\n",
    "The dataset contains 10,000 customer records with information about their phone usage, issues they've experienced (such as dropped calls or slow data), and severity of those issues. The data also includes malformed phone numbers that need to be cleaned and standardized.\n",
    "\n",
    "### Columns:  \n",
    "- **customer_id:** Unique customer identifier\n",
    "- **name:** Customer name\n",
    "- **phone_number:** Customer phone number (some malformed)\n",
    "- **issue_description:** Brief description of the customer's issue\n",
    "- **issue_severity:** Severity level of the issue (High, Medium, Low). **Note:** column created in Task #2\n",
    "- **calls:** Number of calls made by the customer\n",
    "- **texts:** Number of texts sent by the customer\n",
    "- **data_usage:** Amount of data used by the customer (in MB)"
   ]
  },
  {
   "cell_type": "markdown",
   "id": "212504bb-1fbd-4a45-871b-2958b9c479b9",
   "metadata": {},
   "source": [
    "Let us take a look at the data types."
   ]
  },
  {
   "cell_type": "code",
   "execution_count": 3,
   "id": "0cd48295-6e93-4088-af4b-10742cfa823e",
   "metadata": {},
   "outputs": [
    {
     "name": "stdout",
     "output_type": "stream",
     "text": [
      "<class 'pandas.core.frame.DataFrame'>\n",
      "RangeIndex: 10000 entries, 0 to 9999\n",
      "Data columns (total 7 columns):\n",
      " #   Column             Non-Null Count  Dtype \n",
      "---  ------             --------------  ----- \n",
      " 0   customer_id        10000 non-null  int32 \n",
      " 1   name               10000 non-null  object\n",
      " 2   phone_number       10000 non-null  object\n",
      " 3   issue_description  10000 non-null  object\n",
      " 4   calls              10000 non-null  int32 \n",
      " 5   texts              10000 non-null  int32 \n",
      " 6   data_usage         10000 non-null  int32 \n",
      "dtypes: int32(4), object(3)\n",
      "memory usage: 390.8+ KB\n"
     ]
    }
   ],
   "source": [
    "customers.info()"
   ]
  },
  {
   "cell_type": "markdown",
   "id": "05b9aa9e-b486-4713-87e9-66500a87ffb2",
   "metadata": {},
   "source": [
    "# Trend Analysis: \n",
    "\n",
    "Identify the top 5 reasons for customer complaints and create a bar chart to visualize the results."
   ]
  },
  {
   "cell_type": "markdown",
   "id": "f3800b37-9a2c-4e54-8a52-754771dc4348",
   "metadata": {},
   "source": [
    "From the results below, we end up with the \"Other\" category as the most frequent customer complaint. If you want to dig a little deeper, you will have to determine how this category is created.  \n",
    "\n",
    "Ask these questions:  \n",
    "- Am I able to see the details of the call that ended up in the \"Other\" category?\n",
    "- Is there a specific timeframe that these calls were placed in?\n",
    "- Is there a team member that may have some background on the \"Other\" calls?\n",
    "\n",
    "You may have some further clean up of the data, depending on what you are able to find."
   ]
  },
  {
   "cell_type": "code",
   "execution_count": 4,
   "id": "527fe436-f1df-4b87-a43a-ab07350efa24",
   "metadata": {},
   "outputs": [
    {
     "data": {
      "text/plain": [
       "issue_description\n",
       "Other                2020\n",
       "Unexpected charge    2015\n",
       "Poor reception       1996\n",
       "Slow data            1992\n",
       "Dropped call         1977\n",
       "Name: count, dtype: int64"
      ]
     },
     "execution_count": 4,
     "metadata": {},
     "output_type": "execute_result"
    }
   ],
   "source": [
    "# get a frequency count on the issue_description column\n",
    "freq = customers['issue_description'].value_counts()\n",
    "freq"
   ]
  },
  {
   "cell_type": "markdown",
   "id": "a2c48fb6-84f4-4caf-ba89-6f30139f166e",
   "metadata": {},
   "source": [
    "Now, let us create the bar chart. We will also sort the results so it makes it easier to see the most frequent customer complaints."
   ]
  },
  {
   "cell_type": "code",
   "execution_count": 5,
   "id": "86531c8f-5289-4036-8ff4-59f45f580423",
   "metadata": {},
   "outputs": [
    {
     "data": {
      "image/png": "[encoded data removed]",
      "text/plain": [
       "<Figure size 640x480 with 1 Axes>"
      ]
     },
     "metadata": {},
     "output_type": "display_data"
    }
   ],
   "source": [
    "freq.sort_values().plot.barh();"
   ]
  },
  {
   "cell_type": "markdown",
   "id": "5802aec4-0b47-464e-9a81-dcd2dadb4bf8",
   "metadata": {},
   "source": [
    "# Issue Resolution: \n",
    "\n",
    "Write a function to categorize customer complaints by severity (high, medium, low) based on keywords in the issue description.  \n",
    "\n",
    "**Notes on the function named `get_severity`:**  \n",
    "\n",
    "`**dict.fromkeys()` is a Python expression that creates a new dictionary from an iterable (like a list or tuple) and assigns a default value to each key.  \n",
    "\n",
    "Let us start by explaining how I created the dictionary:    \n",
    "\n",
    "- `dict.fromkeys()` is a method that creates a new dictionary from an iterable.\n",
    "- The ** operator is used to unpack the iterable and pass it as arguments to the `fromkeys()` method.\n",
    "\n",
    "Below is the created dictionary. \n",
    "```\n",
    "{'other': 'low',\n",
    " 'reception': 'medium',\n",
    " 'data': 'medium',\n",
    " 'unexpected': 'high',\n",
    " 'charge': 'high',\n",
    " 'dropped': 'high'}\n",
    "```"
   ]
  },
  {
   "cell_type": "markdown",
   "id": "cc35357a-81a1-4f06-a59c-a205978c8e68",
   "metadata": {},
   "source": [
    "Here is an example run of the function. Assume the string being sent to the function is \"slow data\".  \n",
    "- The mapping dict is created\n",
    "- We start to loop through the keys of the dict\n",
    "- The first key is \"other\", we make sure it is lower case and we ask, is \"other\" in the string \"slow data\"?\n",
    "- The answer is no, and we move on to the next key\n",
    "- The second key is \"reception\", we make sure it is lower case and we ask, is \"reception\" in the string \"slow data\"?\n",
    "- The answer is no, and we move on to the next key\n",
    "- The third key is \"data\", we make sure it is lower case and we ask, is \"data\" in the string \"slow data\"?\n",
    "- The answer is yes\n",
    "- We then return the dict value of \"data\", which in this case is \"medium\""
   ]
  },
  {
   "cell_type": "code",
   "execution_count": 6,
   "id": "e9cc1c49-32a2-45c2-b456-1991abe2ea67",
   "metadata": {},
   "outputs": [],
   "source": [
    "def get_severity(val):\n",
    "    ''' \n",
    "    Categorize customer complaints by keyword\n",
    "        low    = Other                         \n",
    "        medium = reception, data               \n",
    "        high   = unexpected, charge, dropped   \n",
    "    '''\n",
    "\n",
    "    # create category dict\n",
    "    mapping = {**dict.fromkeys(['other'], 'low'), \n",
    "               **dict.fromkeys(['reception', 'data'], 'medium'),\n",
    "               **dict.fromkeys(['unexpected', 'charge', 'dropped'], 'high')}\n",
    "\n",
    "    # loop through dict\n",
    "    for key in mapping:\n",
    "        # is the key in the issue description string\n",
    "        if key.lower() in val.lower():\n",
    "            return mapping[key]\n",
    "    return None    "
   ]
  },
  {
   "cell_type": "code",
   "execution_count": 7,
   "id": "ac16287f-1de6-4d6d-b4f6-c5aaa5ca0c79",
   "metadata": {},
   "outputs": [
    {
     "data": {
      "text/html": [
       "<div>\n",
       "<style scoped>\n",
       "    .dataframe tbody tr th:only-of-type {\n",
       "        vertical-align: middle;\n",
       "    }\n",
       "\n",
       "    .dataframe tbody tr th {\n",
       "        vertical-align: top;\n",
       "    }\n",
       "\n",
       "    .dataframe thead th {\n",
       "        text-align: right;\n",
       "    }\n",
       "</style>\n",
       "<table border=\"1\" class=\"dataframe\">\n",
       "  <thead>\n",
       "    <tr style=\"text-align: right;\">\n",
       "      <th></th>\n",
       "      <th>customer_id</th>\n",
       "      <th>name</th>\n",
       "      <th>phone_number</th>\n",
       "      <th>issue_description</th>\n",
       "      <th>calls</th>\n",
       "      <th>texts</th>\n",
       "      <th>data_usage</th>\n",
       "      <th>issue_severity</th>\n",
       "    </tr>\n",
       "  </thead>\n",
       "  <tbody>\n",
       "    <tr>\n",
       "      <th>0</th>\n",
       "      <td>0</td>\n",
       "      <td>Customer 0</td>\n",
       "      <td>555-795-4375</td>\n",
       "      <td>Poor reception</td>\n",
       "      <td>82</td>\n",
       "      <td>543</td>\n",
       "      <td>2696</td>\n",
       "      <td>medium</td>\n",
       "    </tr>\n",
       "    <tr>\n",
       "      <th>1</th>\n",
       "      <td>1</td>\n",
       "      <td>Customer 1</td>\n",
       "      <td>555-946-5970</td>\n",
       "      <td>Poor reception</td>\n",
       "      <td>98</td>\n",
       "      <td>22</td>\n",
       "      <td>6368</td>\n",
       "      <td>medium</td>\n",
       "    </tr>\n",
       "    <tr>\n",
       "      <th>2</th>\n",
       "      <td>2</td>\n",
       "      <td>Customer 2</td>\n",
       "      <td>555-818-9002</td>\n",
       "      <td>Slow data</td>\n",
       "      <td>1</td>\n",
       "      <td>973</td>\n",
       "      <td>2280</td>\n",
       "      <td>medium</td>\n",
       "    </tr>\n",
       "    <tr>\n",
       "      <th>3</th>\n",
       "      <td>3</td>\n",
       "      <td>Customer 3</td>\n",
       "      <td>555-388-6985</td>\n",
       "      <td>Unexpected charge</td>\n",
       "      <td>88</td>\n",
       "      <td>196</td>\n",
       "      <td>2595</td>\n",
       "      <td>high</td>\n",
       "    </tr>\n",
       "    <tr>\n",
       "      <th>4</th>\n",
       "      <td>4</td>\n",
       "      <td>Customer 4</td>\n",
       "      <td>555-915-7855</td>\n",
       "      <td>Poor reception</td>\n",
       "      <td>40</td>\n",
       "      <td>583</td>\n",
       "      <td>8574</td>\n",
       "      <td>medium</td>\n",
       "    </tr>\n",
       "  </tbody>\n",
       "</table>\n",
       "</div>"
      ],
      "text/plain": [
       "   customer_id        name  phone_number  issue_description  calls  texts  \\\n",
       "0            0  Customer 0  555-795-4375     Poor reception     82    543   \n",
       "1            1  Customer 1  555-946-5970     Poor reception     98     22   \n",
       "2            2  Customer 2  555-818-9002          Slow data      1    973   \n",
       "3            3  Customer 3  555-388-6985  Unexpected charge     88    196   \n",
       "4            4  Customer 4  555-915-7855     Poor reception     40    583   \n",
       "\n",
       "   data_usage issue_severity  \n",
       "0        2696         medium  \n",
       "1        6368         medium  \n",
       "2        2280         medium  \n",
       "3        2595           high  \n",
       "4        8574         medium  "
      ]
     },
     "execution_count": 7,
     "metadata": {},
     "output_type": "execute_result"
    }
   ],
   "source": [
    "customers['issue_severity'] = customers['issue_description'].apply(get_severity)\n",
    "customers.head()"
   ]
  },
  {
   "cell_type": "markdown",
   "id": "8a5a3f34-82f5-41f3-a46e-0baaa4ceb245",
   "metadata": {},
   "source": [
    "# Phone Number Cleanup: \n",
    "\n",
    "Clean up malformed phone numbers in the dataset by extracting the numeric portion and formatting it as XXX-XXX-XXXX.  \n",
    "\n",
    "For example: \"555-123-4567 ext 101\" should become \"555-123-4567\""
   ]
  },
  {
   "cell_type": "code",
   "execution_count": 8,
   "id": "e316a729-e935-4d5e-b5d7-b5ca28601e5b",
   "metadata": {},
   "outputs": [],
   "source": [
    "def clean_tnum(phone_number):\n",
    "    ''' Clean telephone numbers '''\n",
    "    patterns = [\n",
    "        ('ext \\d+', ''),                                       # Remove extensions\n",
    "        ('x\\d+', ''),                                          # Remove extensions (alternative format)\n",
    "        ('[()]', ''),                                          # Remove parentheses\n",
    "        ('\\d+\\s+\\d+', lambda x: x.group().replace(' ', '-')),  # Replace spaces with dashes if they are in between numebrs\n",
    "        ('^(\\d{3})(\\d{3})(\\d{4})$', r'\\1-\\2-\\3')               # Add dashes in the correct format (xxx-xxx-xxxx)\n",
    "    ]\n",
    "\n",
    "    for pattern, replacement in patterns:\n",
    "        phone_number = re.sub(pattern, replacement, phone_number)\n",
    "\n",
    "    # the last strip here is used to remove any trailing spaces\n",
    "    return phone_number.strip()"
   ]
  },
  {
   "cell_type": "markdown",
   "id": "02cba0f8-2ced-40bb-a70b-a54d16fe626f",
   "metadata": {},
   "source": [
    "I copied the \"phone_number\" column into Excel via `pd.to_clipboard()` to visaually verify that the phone numbers where in fact clean. I noticed some of my strings were of length 13 and that was due to an extra space at the end of the strings.  \n",
    "\n",
    "I noticed that some strings had extra spaces at the end, so I added `.strip()` to the return statement to handle this.\n",
    "\n",
    "How would you have solved the extra space at the end of the string?"
   ]
  },
  {
   "cell_type": "code",
   "execution_count": 9,
   "id": "65f38dbd-c8f9-4081-b1a7-2c522e30e453",
   "metadata": {},
   "outputs": [
    {
     "data": {
      "text/html": [
       "<div>\n",
       "<style scoped>\n",
       "    .dataframe tbody tr th:only-of-type {\n",
       "        vertical-align: middle;\n",
       "    }\n",
       "\n",
       "    .dataframe tbody tr th {\n",
       "        vertical-align: top;\n",
       "    }\n",
       "\n",
       "    .dataframe thead th {\n",
       "        text-align: right;\n",
       "    }\n",
       "</style>\n",
       "<table border=\"1\" class=\"dataframe\">\n",
       "  <thead>\n",
       "    <tr style=\"text-align: right;\">\n",
       "      <th></th>\n",
       "      <th>customer_id</th>\n",
       "      <th>name</th>\n",
       "      <th>phone_number</th>\n",
       "      <th>issue_description</th>\n",
       "      <th>calls</th>\n",
       "      <th>texts</th>\n",
       "      <th>data_usage</th>\n",
       "      <th>issue_severity</th>\n",
       "    </tr>\n",
       "  </thead>\n",
       "  <tbody>\n",
       "    <tr>\n",
       "      <th>0</th>\n",
       "      <td>0</td>\n",
       "      <td>Customer 0</td>\n",
       "      <td>555-795-4375</td>\n",
       "      <td>Poor reception</td>\n",
       "      <td>82</td>\n",
       "      <td>543</td>\n",
       "      <td>2696</td>\n",
       "      <td>medium</td>\n",
       "    </tr>\n",
       "    <tr>\n",
       "      <th>1</th>\n",
       "      <td>1</td>\n",
       "      <td>Customer 1</td>\n",
       "      <td>555-946-5970</td>\n",
       "      <td>Poor reception</td>\n",
       "      <td>98</td>\n",
       "      <td>22</td>\n",
       "      <td>6368</td>\n",
       "      <td>medium</td>\n",
       "    </tr>\n",
       "    <tr>\n",
       "      <th>2</th>\n",
       "      <td>2</td>\n",
       "      <td>Customer 2</td>\n",
       "      <td>555-818-9002</td>\n",
       "      <td>Slow data</td>\n",
       "      <td>1</td>\n",
       "      <td>973</td>\n",
       "      <td>2280</td>\n",
       "      <td>medium</td>\n",
       "    </tr>\n",
       "    <tr>\n",
       "      <th>3</th>\n",
       "      <td>3</td>\n",
       "      <td>Customer 3</td>\n",
       "      <td>555-388-6985</td>\n",
       "      <td>Unexpected charge</td>\n",
       "      <td>88</td>\n",
       "      <td>196</td>\n",
       "      <td>2595</td>\n",
       "      <td>high</td>\n",
       "    </tr>\n",
       "    <tr>\n",
       "      <th>4</th>\n",
       "      <td>4</td>\n",
       "      <td>Customer 4</td>\n",
       "      <td>555-915-7855</td>\n",
       "      <td>Poor reception</td>\n",
       "      <td>40</td>\n",
       "      <td>583</td>\n",
       "      <td>8574</td>\n",
       "      <td>medium</td>\n",
       "    </tr>\n",
       "  </tbody>\n",
       "</table>\n",
       "</div>"
      ],
      "text/plain": [
       "   customer_id        name  phone_number  issue_description  calls  texts  \\\n",
       "0            0  Customer 0  555-795-4375     Poor reception     82    543   \n",
       "1            1  Customer 1  555-946-5970     Poor reception     98     22   \n",
       "2            2  Customer 2  555-818-9002          Slow data      1    973   \n",
       "3            3  Customer 3  555-388-6985  Unexpected charge     88    196   \n",
       "4            4  Customer 4  555-915-7855     Poor reception     40    583   \n",
       "\n",
       "   data_usage issue_severity  \n",
       "0        2696         medium  \n",
       "1        6368         medium  \n",
       "2        2280         medium  \n",
       "3        2595           high  \n",
       "4        8574         medium  "
      ]
     },
     "execution_count": 9,
     "metadata": {},
     "output_type": "execute_result"
    }
   ],
   "source": [
    "customers['phone_number'] = customers['phone_number'].apply(clean_tnum)\n",
    "customers.head()"
   ]
  },
  {
   "cell_type": "markdown",
   "id": "c99f40d6-b55e-4193-ac30-4a6baa4c37d3",
   "metadata": {},
   "source": [
    "# Summary  \n",
    "\n",
    "The tasks in this tutorial covered data manipulation, data cleaning, and data visualization, which are essential skills for working with real-world datasets.  \n",
    "\n",
    "### What you learned:  \n",
    "- How to perform trend analysis by counting the frequency of issue descriptions and visualizing the results in a bar chart\n",
    "- How to write a function to categorize customer complaints by severity based on keywords in the issue description\n",
    "- How to clean up malformed phone numbers in the dataset using regular expressions\n",
    "- How to apply functions to Pandas DataFrames using the `apply()` method\n",
    "- How to create new columns in a DataFrame based on the values of another column\n",
    "- How to use the `value_counts()` method to get a frequency count of a column\n",
    "- How to use the `plot.barh()` method to create a horizontal bar chart\n",
    "- How to use the `re.sub()` method to replace patterns in strings using regular expressions"
   ]
  },
  {
   "cell_type": "markdown",
   "id": "882a3d6a-ed97-48a2-aa47-b6a7581a8656",
   "metadata": {},
   "source": [
    "<p class=\"text-muted\">This tutorial was created by <a href=\"https://www.hedaro.com\" target=\"_blank\"><strong>HEDARO</strong></a></p>"
   ]
  }
 ],
 "metadata": {
  "kernelspec": {
   "display_name": "Python 3 (ipykernel)",
   "language": "python",
   "name": "python3"
  },
  "language_info": {
   "codemirror_mode": {
    "name": "ipython",
    "version": 3
   },
   "file_extension": ".py",
   "mimetype": "text/x-python",
   "name": "python",
   "nbconvert_exporter": "python",
   "pygments_lexer": "ipython3",
   "version": "3.11.7"
  }
 },
 "nbformat": 4,
 "nbformat_minor": 5
}
