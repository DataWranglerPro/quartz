{
 "cells": [
  {
   "cell_type": "markdown",
   "id": "fb62b4b3-e359-4d35-a4c9-b170a809f9fd",
   "metadata": {},
   "source": [
    "# How to Export Excel Cells into Text Files  \n",
    "\n",
    "At work, I had am employee who was avoiding a data task. He needed to Export a couple of columns into an Excel file. This is notmally not that difficult, but he told me he needed help writing a script. He wanted every cell in the column to be exported into an individual text file. He started doing this manually (copy/paste) and realized this was going to take many hours. I think he had about 300+ files to create."
   ]
  },
  {
   "cell_type": "markdown",
   "id": "0c116d93-5b08-4c58-80e2-422ee3eccd82",
   "metadata": {},
   "source": [
    "### Sample Excel File  \n",
    "\n",
    "Here are the contents of the Excel file I will use to show you how to solve it using Pandas.\n",
    "\n",
    "**ID**  \n",
    "1  \n",
    "2  \n",
    "3  \n",
    "4  \n",
    "5  \n"
   ]
  },
  {
   "cell_type": "code",
   "execution_count": 1,
   "id": "f9ac0cee-effa-46a9-97fe-13e08b7e677a",
   "metadata": {},
   "outputs": [],
   "source": [
    "import pandas as pd"
   ]
  },
  {
   "cell_type": "code",
   "execution_count": 2,
   "id": "6605fbb6-5306-4d3e-8b2e-bde0d21cdfb9",
   "metadata": {},
   "outputs": [
    {
     "data": {
      "text/html": [
       "<div>\n",
       "<style scoped>\n",
       "    .dataframe tbody tr th:only-of-type {\n",
       "        vertical-align: middle;\n",
       "    }\n",
       "\n",
       "    .dataframe tbody tr th {\n",
       "        vertical-align: top;\n",
       "    }\n",
       "\n",
       "    .dataframe thead th {\n",
       "        text-align: right;\n",
       "    }\n",
       "</style>\n",
       "<table border=\"1\" class=\"dataframe\">\n",
       "  <thead>\n",
       "    <tr style=\"text-align: right;\">\n",
       "      <th></th>\n",
       "      <th>ID</th>\n",
       "    </tr>\n",
       "  </thead>\n",
       "  <tbody>\n",
       "    <tr>\n",
       "      <th>0</th>\n",
       "      <td>1</td>\n",
       "    </tr>\n",
       "    <tr>\n",
       "      <th>1</th>\n",
       "      <td>2</td>\n",
       "    </tr>\n",
       "    <tr>\n",
       "      <th>2</th>\n",
       "      <td>3</td>\n",
       "    </tr>\n",
       "    <tr>\n",
       "      <th>3</th>\n",
       "      <td>4</td>\n",
       "    </tr>\n",
       "    <tr>\n",
       "      <th>4</th>\n",
       "      <td>5</td>\n",
       "    </tr>\n",
       "  </tbody>\n",
       "</table>\n",
       "</div>"
      ],
      "text/plain": [
       "   ID\n",
       "0   1\n",
       "1   2\n",
       "2   3\n",
       "3   4\n",
       "4   5"
      ]
     },
     "execution_count": 2,
     "metadata": {},
     "output_type": "execute_result"
    }
   ],
   "source": [
    "# import sample excel file\n",
    "df = pd.read_excel('sample.xlsx')\n",
    "df"
   ]
  },
  {
   "cell_type": "markdown",
   "id": "847f8875-104e-4136-b965-66677ca99a1e",
   "metadata": {},
   "source": [
    "Let's verify the datatypes are correct by using **info()**  \n",
    "\n",
    "* As shown below we can see the column named ID is of integer type."
   ]
  },
  {
   "cell_type": "code",
   "execution_count": 3,
   "id": "e34feed2-e853-4786-a309-605d8ba4e043",
   "metadata": {},
   "outputs": [
    {
     "name": "stdout",
     "output_type": "stream",
     "text": [
      "<class 'pandas.core.frame.DataFrame'>\n",
      "RangeIndex: 5 entries, 0 to 4\n",
      "Data columns (total 1 columns):\n",
      " #   Column  Non-Null Count  Dtype\n",
      "---  ------  --------------  -----\n",
      " 0   ID      5 non-null      int64\n",
      "dtypes: int64(1)\n",
      "memory usage: 172.0 bytes\n"
     ]
    }
   ],
   "source": [
    "df.info()"
   ]
  },
  {
   "cell_type": "markdown",
   "id": "962248a8-9579-4886-951a-fc2688cc70f8",
   "metadata": {},
   "source": [
    "---\n",
    "The goal of the loop below is to export every row in the DataFrame into a individual text file.  \n",
    "\n",
    "I normally only try to use Pandas methods, but the index of the DataFrame kept ending up in the text file and I only wanted the value of the row in each of the text files. This is why I am using plain Python to handle the file writing piece. "
   ]
  },
  {
   "cell_type": "code",
   "execution_count": 4,
   "id": "f1f84a93-c983-44e7-a3dd-7691410f4f7d",
   "metadata": {},
   "outputs": [],
   "source": [
    "# loop through the df\n",
    "for index, row in df.iterrows():\n",
    "    # grab the value of the row\n",
    "    value = row.values.item()\n",
    "\n",
    "    # save the value into a text file\n",
    "    with open(f'row_{index}.txt', 'w') as f:\n",
    "        f.write(str(value))"
   ]
  },
  {
   "cell_type": "markdown",
   "id": "7ce9823b-71d6-4929-9999-7fd2e5b971b6",
   "metadata": {},
   "source": [
    "<p class=\"text-muted\">This tutorial was created by <a href=\"https://www.hedaro.com\" target=\"_blank\"><strong>HEDARO</strong></a></p>"
   ]
  }
 ],
 "metadata": {
  "kernelspec": {
   "display_name": "Python 3 (ipykernel)",
   "language": "python",
   "name": "python3"
  },
  "language_info": {
   "codemirror_mode": {
    "name": "ipython",
    "version": 3
   },
   "file_extension": ".py",
   "mimetype": "text/x-python",
   "name": "python",
   "nbconvert_exporter": "python",
   "pygments_lexer": "ipython3",
   "version": "3.11.7"
  }
 },
 "nbformat": 4,
 "nbformat_minor": 5
}
