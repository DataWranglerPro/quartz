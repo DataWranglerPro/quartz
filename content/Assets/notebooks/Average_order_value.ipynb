{
 "cells": [
  {
   "cell_type": "markdown",
   "id": "c9d15c19-ccf1-4dbb-ae72-7d15c776b66c",
   "metadata": {},
   "source": [
    "# Challenge: Average Order Value  \n",
    "\n",
    "### Description:\n",
    "You are a data scientist at an e-commerce company. You have two datasets: orders and products. Your task is to merge these datasets and calculate the average order value for each region.  \n",
    "\n",
    "### Task:  \n",
    "- Merge the orders and products datasets on the ProductID column.\n",
    "- Calculate the total order value for each order by summing the product prices.\n",
    "- Calculate the average order value for each region.\n",
    "\n",
    "### Bonus Question:  \n",
    "- What is the average order value only including products with a price greater than \\$8.00? **Answer:** $25.64"
   ]
  },
  {
   "cell_type": "code",
   "execution_count": 1,
   "id": "607a1aa6-2da4-446a-8427-874bb7307fd1",
   "metadata": {},
   "outputs": [],
   "source": [
    "# import libraries\n",
    "import pandas as pd\n",
    "import numpy as np\n",
    "import sys"
   ]
  },
  {
   "cell_type": "code",
   "execution_count": 2,
   "id": "c276c288-4fe7-4e0a-a00f-9bf8e775716f",
   "metadata": {},
   "outputs": [
    {
     "name": "stdout",
     "output_type": "stream",
     "text": [
      "Python version 3.11.7 | packaged by Anaconda, Inc. | (main, Dec 15 2023, 18:05:47) [MSC v.1916 64 bit (AMD64)]\n",
      "Pandas version 2.2.1\n",
      "Numpy version 1.26.4\n"
     ]
    }
   ],
   "source": [
    "print('Python version ' + sys.version)\n",
    "print('Pandas version ' + pd.__version__)\n",
    "print('Numpy version ' + np.__version__)"
   ]
  },
  {
   "cell_type": "markdown",
   "id": "8b11591b-c878-4005-933e-1ae4ea2bbc2e",
   "metadata": {},
   "source": [
    "# The Data  \n",
    "\n",
    "The **orders** table contains information about each order, such as the region it was made in and the customer who made it, while the **products** table contains information about each product, including its price and the order it was part of. The two tables are linked by the ProductID column, which allows you to match products to the orders they were part of.  \n",
    "\n",
    "### Orders:  \n",
    "- OrderID (int): Unique identifier for each order  \n",
    "- Region (str): Geographic region where the order was made (e.g. North, South, East, West)  \n",
    "- CustomerID (int): Unique identifier for each customer  \n",
    "- OrderDate (str): Date the order was made (in YYYY-MM-DD format)\n",
    "- ProductID (int): Foreign key referencing the ProductID in the Products table\n",
    "\n",
    "### Products:  \n",
    "- ProductID (int): Unique identifier for each product  \n",
    "- ProductPrice (float): Price of each product  \n"
   ]
  },
  {
   "cell_type": "code",
   "execution_count": 3,
   "id": "40f9af25-dfba-4e45-8413-942fecaf7670",
   "metadata": {},
   "outputs": [
    {
     "data": {
      "text/html": [
       "<div>\n",
       "<style scoped>\n",
       "    .dataframe tbody tr th:only-of-type {\n",
       "        vertical-align: middle;\n",
       "    }\n",
       "\n",
       "    .dataframe tbody tr th {\n",
       "        vertical-align: top;\n",
       "    }\n",
       "\n",
       "    .dataframe thead th {\n",
       "        text-align: right;\n",
       "    }\n",
       "</style>\n",
       "<table border=\"1\" class=\"dataframe\">\n",
       "  <thead>\n",
       "    <tr style=\"text-align: right;\">\n",
       "      <th></th>\n",
       "      <th>OrderID</th>\n",
       "      <th>Region</th>\n",
       "      <th>CustomerID</th>\n",
       "      <th>ProductID</th>\n",
       "      <th>OrderDate</th>\n",
       "    </tr>\n",
       "  </thead>\n",
       "  <tbody>\n",
       "    <tr>\n",
       "      <th>0</th>\n",
       "      <td>3</td>\n",
       "      <td>North</td>\n",
       "      <td>1</td>\n",
       "      <td>1</td>\n",
       "      <td>2022-01-01</td>\n",
       "    </tr>\n",
       "    <tr>\n",
       "      <th>1</th>\n",
       "      <td>3</td>\n",
       "      <td>South</td>\n",
       "      <td>2</td>\n",
       "      <td>1</td>\n",
       "      <td>2022-01-15</td>\n",
       "    </tr>\n",
       "    <tr>\n",
       "      <th>2</th>\n",
       "      <td>3</td>\n",
       "      <td>East</td>\n",
       "      <td>3</td>\n",
       "      <td>2</td>\n",
       "      <td>2022-02-01</td>\n",
       "    </tr>\n",
       "    <tr>\n",
       "      <th>3</th>\n",
       "      <td>5</td>\n",
       "      <td>West</td>\n",
       "      <td>4</td>\n",
       "      <td>3</td>\n",
       "      <td>2022-03-01</td>\n",
       "    </tr>\n",
       "    <tr>\n",
       "      <th>4</th>\n",
       "      <td>5</td>\n",
       "      <td>North</td>\n",
       "      <td>5</td>\n",
       "      <td>4</td>\n",
       "      <td>2022-04-01</td>\n",
       "    </tr>\n",
       "  </tbody>\n",
       "</table>\n",
       "</div>"
      ],
      "text/plain": [
       "   OrderID Region  CustomerID  ProductID   OrderDate\n",
       "0        3  North           1          1  2022-01-01\n",
       "1        3  South           2          1  2022-01-15\n",
       "2        3   East           3          2  2022-02-01\n",
       "3        5   West           4          3  2022-03-01\n",
       "4        5  North           5          4  2022-04-01"
      ]
     },
     "execution_count": 3,
     "metadata": {},
     "output_type": "execute_result"
    }
   ],
   "source": [
    "orders = pd.DataFrame({\n",
    "    'OrderID': [3, 3, 3, 5, 5],\n",
    "    'Region': ['North', 'South', 'East', 'West', 'North'],\n",
    "    'CustomerID': [1, 2, 3, 4, 5],\n",
    "    'ProductID': [1, 1, 2, 3, 4],\n",
    "    'OrderDate': ['2022-01-01', '2022-01-15', '2022-02-01', '2022-03-01', '2022-04-01']\n",
    "})\n",
    "\n",
    "orders.head()"
   ]
  },
  {
   "cell_type": "code",
   "execution_count": 4,
   "id": "a901dc01-7421-4396-b7c1-c0c77da4ab9e",
   "metadata": {},
   "outputs": [
    {
     "name": "stdout",
     "output_type": "stream",
     "text": [
      "<class 'pandas.core.frame.DataFrame'>\n",
      "RangeIndex: 5 entries, 0 to 4\n",
      "Data columns (total 5 columns):\n",
      " #   Column      Non-Null Count  Dtype \n",
      "---  ------      --------------  ----- \n",
      " 0   OrderID     5 non-null      int64 \n",
      " 1   Region      5 non-null      object\n",
      " 2   CustomerID  5 non-null      int64 \n",
      " 3   ProductID   5 non-null      int64 \n",
      " 4   OrderDate   5 non-null      object\n",
      "dtypes: int64(3), object(2)\n",
      "memory usage: 332.0+ bytes\n"
     ]
    }
   ],
   "source": [
    "# make sure the datatypes look good\n",
    "orders.info()"
   ]
  },
  {
   "cell_type": "markdown",
   "id": "88076020-6bd3-4494-a641-e6880c9c50dd",
   "metadata": {},
   "source": [
    "I want to convert the date column from string to datetime. We want our dates to be date objects and not treated as strings."
   ]
  },
  {
   "cell_type": "code",
   "execution_count": 5,
   "id": "3ed3bd50-32e4-4ef8-9283-acd4625f0105",
   "metadata": {},
   "outputs": [
    {
     "name": "stdout",
     "output_type": "stream",
     "text": [
      "<class 'pandas.core.frame.DataFrame'>\n",
      "RangeIndex: 5 entries, 0 to 4\n",
      "Data columns (total 5 columns):\n",
      " #   Column      Non-Null Count  Dtype         \n",
      "---  ------      --------------  -----         \n",
      " 0   OrderID     5 non-null      int64         \n",
      " 1   Region      5 non-null      object        \n",
      " 2   CustomerID  5 non-null      int64         \n",
      " 3   ProductID   5 non-null      int64         \n",
      " 4   OrderDate   5 non-null      datetime64[ns]\n",
      "dtypes: datetime64[ns](1), int64(3), object(1)\n",
      "memory usage: 332.0+ bytes\n"
     ]
    }
   ],
   "source": [
    "orders['OrderDate'] = pd.to_datetime(orders['OrderDate'] )\n",
    "\n",
    "orders.info()"
   ]
  },
  {
   "cell_type": "code",
   "execution_count": 6,
   "id": "bbbb24c1-5d7f-4d7e-bede-0c45b78adf6c",
   "metadata": {},
   "outputs": [
    {
     "data": {
      "text/html": [
       "<div>\n",
       "<style scoped>\n",
       "    .dataframe tbody tr th:only-of-type {\n",
       "        vertical-align: middle;\n",
       "    }\n",
       "\n",
       "    .dataframe tbody tr th {\n",
       "        vertical-align: top;\n",
       "    }\n",
       "\n",
       "    .dataframe thead th {\n",
       "        text-align: right;\n",
       "    }\n",
       "</style>\n",
       "<table border=\"1\" class=\"dataframe\">\n",
       "  <thead>\n",
       "    <tr style=\"text-align: right;\">\n",
       "      <th></th>\n",
       "      <th>ProductID</th>\n",
       "      <th>ProductPrice</th>\n",
       "    </tr>\n",
       "  </thead>\n",
       "  <tbody>\n",
       "    <tr>\n",
       "      <th>0</th>\n",
       "      <td>1</td>\n",
       "      <td>10.99</td>\n",
       "    </tr>\n",
       "    <tr>\n",
       "      <th>1</th>\n",
       "      <td>2</td>\n",
       "      <td>5.99</td>\n",
       "    </tr>\n",
       "    <tr>\n",
       "      <th>2</th>\n",
       "      <td>3</td>\n",
       "      <td>7.99</td>\n",
       "    </tr>\n",
       "    <tr>\n",
       "      <th>3</th>\n",
       "      <td>4</td>\n",
       "      <td>12.99</td>\n",
       "    </tr>\n",
       "    <tr>\n",
       "      <th>4</th>\n",
       "      <td>5</td>\n",
       "      <td>8.99</td>\n",
       "    </tr>\n",
       "  </tbody>\n",
       "</table>\n",
       "</div>"
      ],
      "text/plain": [
       "   ProductID  ProductPrice\n",
       "0          1         10.99\n",
       "1          2          5.99\n",
       "2          3          7.99\n",
       "3          4         12.99\n",
       "4          5          8.99"
      ]
     },
     "execution_count": 6,
     "metadata": {},
     "output_type": "execute_result"
    }
   ],
   "source": [
    "products = pd.DataFrame({\n",
    "    'ProductID': [1, 2, 3, 4, 5],\n",
    "    'ProductPrice': [10.99, 5.99, 7.99, 12.99, 8.99]\n",
    "})\n",
    "\n",
    "products.head()"
   ]
  },
  {
   "cell_type": "code",
   "execution_count": 7,
   "id": "ef6d38d3-2fe3-42b7-87f2-1a3023f99741",
   "metadata": {},
   "outputs": [
    {
     "name": "stdout",
     "output_type": "stream",
     "text": [
      "<class 'pandas.core.frame.DataFrame'>\n",
      "RangeIndex: 5 entries, 0 to 4\n",
      "Data columns (total 2 columns):\n",
      " #   Column        Non-Null Count  Dtype  \n",
      "---  ------        --------------  -----  \n",
      " 0   ProductID     5 non-null      int64  \n",
      " 1   ProductPrice  5 non-null      float64\n",
      "dtypes: float64(1), int64(1)\n",
      "memory usage: 212.0 bytes\n"
     ]
    }
   ],
   "source": [
    "# make sure datatypes look ok\n",
    "products.info()"
   ]
  },
  {
   "cell_type": "markdown",
   "id": "2edf9d30-c575-4289-90aa-e50fccede9e8",
   "metadata": {},
   "source": [
    "# Merge the two dataframes\n",
    "\n",
    "Thanks to the common column named ProductID, merging the dataframes is a simple task."
   ]
  },
  {
   "cell_type": "code",
   "execution_count": 8,
   "id": "2bf66711-dd89-4a02-b0a5-db1898fa7d1d",
   "metadata": {},
   "outputs": [
    {
     "data": {
      "text/html": [
       "<div>\n",
       "<style scoped>\n",
       "    .dataframe tbody tr th:only-of-type {\n",
       "        vertical-align: middle;\n",
       "    }\n",
       "\n",
       "    .dataframe tbody tr th {\n",
       "        vertical-align: top;\n",
       "    }\n",
       "\n",
       "    .dataframe thead th {\n",
       "        text-align: right;\n",
       "    }\n",
       "</style>\n",
       "<table border=\"1\" class=\"dataframe\">\n",
       "  <thead>\n",
       "    <tr style=\"text-align: right;\">\n",
       "      <th></th>\n",
       "      <th>OrderID</th>\n",
       "      <th>Region</th>\n",
       "      <th>CustomerID</th>\n",
       "      <th>ProductID</th>\n",
       "      <th>OrderDate</th>\n",
       "      <th>ProductPrice</th>\n",
       "    </tr>\n",
       "  </thead>\n",
       "  <tbody>\n",
       "    <tr>\n",
       "      <th>0</th>\n",
       "      <td>3</td>\n",
       "      <td>North</td>\n",
       "      <td>1</td>\n",
       "      <td>1</td>\n",
       "      <td>2022-01-01</td>\n",
       "      <td>10.99</td>\n",
       "    </tr>\n",
       "    <tr>\n",
       "      <th>1</th>\n",
       "      <td>3</td>\n",
       "      <td>South</td>\n",
       "      <td>2</td>\n",
       "      <td>1</td>\n",
       "      <td>2022-01-15</td>\n",
       "      <td>10.99</td>\n",
       "    </tr>\n",
       "    <tr>\n",
       "      <th>2</th>\n",
       "      <td>3</td>\n",
       "      <td>East</td>\n",
       "      <td>3</td>\n",
       "      <td>2</td>\n",
       "      <td>2022-02-01</td>\n",
       "      <td>5.99</td>\n",
       "    </tr>\n",
       "    <tr>\n",
       "      <th>3</th>\n",
       "      <td>5</td>\n",
       "      <td>West</td>\n",
       "      <td>4</td>\n",
       "      <td>3</td>\n",
       "      <td>2022-03-01</td>\n",
       "      <td>7.99</td>\n",
       "    </tr>\n",
       "    <tr>\n",
       "      <th>4</th>\n",
       "      <td>5</td>\n",
       "      <td>North</td>\n",
       "      <td>5</td>\n",
       "      <td>4</td>\n",
       "      <td>2022-04-01</td>\n",
       "      <td>12.99</td>\n",
       "    </tr>\n",
       "  </tbody>\n",
       "</table>\n",
       "</div>"
      ],
      "text/plain": [
       "   OrderID Region  CustomerID  ProductID  OrderDate  ProductPrice\n",
       "0        3  North           1          1 2022-01-01         10.99\n",
       "1        3  South           2          1 2022-01-15         10.99\n",
       "2        3   East           3          2 2022-02-01          5.99\n",
       "3        5   West           4          3 2022-03-01          7.99\n",
       "4        5  North           5          4 2022-04-01         12.99"
      ]
     },
     "execution_count": 8,
     "metadata": {},
     "output_type": "execute_result"
    }
   ],
   "source": [
    "# Merge the orders and products datasets on the ProductID column.\n",
    "df = orders.merge(products, on='ProductID')\n",
    "df"
   ]
  },
  {
   "cell_type": "markdown",
   "id": "95399866-cc7c-4d2f-8c36-6bc5ca00864f",
   "metadata": {},
   "source": [
    "**Calculate the total order value for each order by summing the product prices.**  \n",
    "\n",
    "I started by creating a basic group object and then getting the sum of the **ProductPrice** column. I then realized I needed to get these two numbers back into the original dataframe.\n",
    "\n",
    "I immediately thought about using transform, but to be honest, my mind is drawing a blank this morning..."
   ]
  },
  {
   "cell_type": "code",
   "execution_count": 9,
   "id": "bec06c00-708b-457b-ad53-51d8f17d9d78",
   "metadata": {},
   "outputs": [
    {
     "data": {
      "text/plain": [
       "OrderID\n",
       "3    27.97\n",
       "5    20.98\n",
       "Name: ProductPrice, dtype: float64"
      ]
     },
     "execution_count": 9,
     "metadata": {},
     "output_type": "execute_result"
    }
   ],
   "source": [
    "# create group object\n",
    "group = df.groupby('OrderID')\n",
    "\n",
    "# get order value for group\n",
    "group['ProductPrice'].sum(numeric_only=True)"
   ]
  },
  {
   "cell_type": "markdown",
   "id": "15b2bd30-2aec-4f3a-88c7-5b8ebd622e9f",
   "metadata": {},
   "source": [
    "Ok, let's start by converting the series into a proper dataframe."
   ]
  },
  {
   "cell_type": "code",
   "execution_count": 10,
   "id": "a5968ef9-8ea4-44cd-b6cd-fbd802c4f90b",
   "metadata": {},
   "outputs": [
    {
     "data": {
      "text/html": [
       "<div>\n",
       "<style scoped>\n",
       "    .dataframe tbody tr th:only-of-type {\n",
       "        vertical-align: middle;\n",
       "    }\n",
       "\n",
       "    .dataframe tbody tr th {\n",
       "        vertical-align: top;\n",
       "    }\n",
       "\n",
       "    .dataframe thead th {\n",
       "        text-align: right;\n",
       "    }\n",
       "</style>\n",
       "<table border=\"1\" class=\"dataframe\">\n",
       "  <thead>\n",
       "    <tr style=\"text-align: right;\">\n",
       "      <th></th>\n",
       "      <th>OrderID</th>\n",
       "      <th>ProductPrice</th>\n",
       "    </tr>\n",
       "  </thead>\n",
       "  <tbody>\n",
       "    <tr>\n",
       "      <th>0</th>\n",
       "      <td>3</td>\n",
       "      <td>27.97</td>\n",
       "    </tr>\n",
       "    <tr>\n",
       "      <th>1</th>\n",
       "      <td>5</td>\n",
       "      <td>20.98</td>\n",
       "    </tr>\n",
       "  </tbody>\n",
       "</table>\n",
       "</div>"
      ],
      "text/plain": [
       "   OrderID  ProductPrice\n",
       "0        3         27.97\n",
       "1        5         20.98"
      ]
     },
     "execution_count": 10,
     "metadata": {},
     "output_type": "execute_result"
    }
   ],
   "source": [
    "agg = pd.DataFrame(group['ProductPrice'].sum(numeric_only=True)).reset_index()\n",
    "agg"
   ]
  },
  {
   "cell_type": "markdown",
   "id": "8702aad0-1f0f-4b73-9721-a88f9093b2b8",
   "metadata": {},
   "source": [
    "Since we are going to be merging the new **agg** dataframe, we should probably rename the ProductPrice column to something else so it doesn't clash with the other dataframe.  \n",
    "\n",
    "Since this column represents the total order value, that is what we should call it."
   ]
  },
  {
   "cell_type": "code",
   "execution_count": 11,
   "id": "a6cf4a04-86af-4223-bd70-21bd7cc7098c",
   "metadata": {},
   "outputs": [],
   "source": [
    "# rename columns\n",
    "agg.columns = ['OrderID', 'TotalOrderValue']"
   ]
  },
  {
   "cell_type": "markdown",
   "id": "4ac4d9c0-e980-44c7-b854-d128b41375a2",
   "metadata": {},
   "source": [
    "Now we could have stopped after we calculated the sum on the group. We did get the total order value for each OrderID (27.50 for OderID 3 and 20.98 for OrderID 5). At the same time my mind said, how do we then add this information back to the original dataframe?"
   ]
  },
  {
   "cell_type": "code",
   "execution_count": 12,
   "id": "b564f0b0-a6ed-4c3d-b7f2-f7aae1522cf2",
   "metadata": {},
   "outputs": [
    {
     "data": {
      "text/html": [
       "<div>\n",
       "<style scoped>\n",
       "    .dataframe tbody tr th:only-of-type {\n",
       "        vertical-align: middle;\n",
       "    }\n",
       "\n",
       "    .dataframe tbody tr th {\n",
       "        vertical-align: top;\n",
       "    }\n",
       "\n",
       "    .dataframe thead th {\n",
       "        text-align: right;\n",
       "    }\n",
       "</style>\n",
       "<table border=\"1\" class=\"dataframe\">\n",
       "  <thead>\n",
       "    <tr style=\"text-align: right;\">\n",
       "      <th></th>\n",
       "      <th>OrderID</th>\n",
       "      <th>Region</th>\n",
       "      <th>CustomerID</th>\n",
       "      <th>ProductID</th>\n",
       "      <th>OrderDate</th>\n",
       "      <th>ProductPrice</th>\n",
       "      <th>TotalOrderValue</th>\n",
       "    </tr>\n",
       "  </thead>\n",
       "  <tbody>\n",
       "    <tr>\n",
       "      <th>0</th>\n",
       "      <td>3</td>\n",
       "      <td>North</td>\n",
       "      <td>1</td>\n",
       "      <td>1</td>\n",
       "      <td>2022-01-01</td>\n",
       "      <td>10.99</td>\n",
       "      <td>27.97</td>\n",
       "    </tr>\n",
       "    <tr>\n",
       "      <th>1</th>\n",
       "      <td>3</td>\n",
       "      <td>South</td>\n",
       "      <td>2</td>\n",
       "      <td>1</td>\n",
       "      <td>2022-01-15</td>\n",
       "      <td>10.99</td>\n",
       "      <td>27.97</td>\n",
       "    </tr>\n",
       "    <tr>\n",
       "      <th>2</th>\n",
       "      <td>3</td>\n",
       "      <td>East</td>\n",
       "      <td>3</td>\n",
       "      <td>2</td>\n",
       "      <td>2022-02-01</td>\n",
       "      <td>5.99</td>\n",
       "      <td>27.97</td>\n",
       "    </tr>\n",
       "    <tr>\n",
       "      <th>3</th>\n",
       "      <td>5</td>\n",
       "      <td>West</td>\n",
       "      <td>4</td>\n",
       "      <td>3</td>\n",
       "      <td>2022-03-01</td>\n",
       "      <td>7.99</td>\n",
       "      <td>20.98</td>\n",
       "    </tr>\n",
       "    <tr>\n",
       "      <th>4</th>\n",
       "      <td>5</td>\n",
       "      <td>North</td>\n",
       "      <td>5</td>\n",
       "      <td>4</td>\n",
       "      <td>2022-04-01</td>\n",
       "      <td>12.99</td>\n",
       "      <td>20.98</td>\n",
       "    </tr>\n",
       "  </tbody>\n",
       "</table>\n",
       "</div>"
      ],
      "text/plain": [
       "   OrderID Region  CustomerID  ProductID  OrderDate  ProductPrice  \\\n",
       "0        3  North           1          1 2022-01-01         10.99   \n",
       "1        3  South           2          1 2022-01-15         10.99   \n",
       "2        3   East           3          2 2022-02-01          5.99   \n",
       "3        5   West           4          3 2022-03-01          7.99   \n",
       "4        5  North           5          4 2022-04-01         12.99   \n",
       "\n",
       "   TotalOrderValue  \n",
       "0            27.97  \n",
       "1            27.97  \n",
       "2            27.97  \n",
       "3            20.98  \n",
       "4            20.98  "
      ]
     },
     "execution_count": 12,
     "metadata": {},
     "output_type": "execute_result"
    }
   ],
   "source": [
    "df.merge(agg, on='OrderID')"
   ]
  },
  {
   "cell_type": "markdown",
   "id": "51431610-ee0e-47a5-a4e4-f844c0ddfec6",
   "metadata": {},
   "source": [
    "# Can you solve the BONUS question?\n",
    "- What is the average order value only including products with a price greater than \\\\$8.00? **Answer:** \\$25.64"
   ]
  },
  {
   "cell_type": "markdown",
   "id": "3dec0f23-2daa-4111-9b6f-f86fadef1a27",
   "metadata": {},
   "source": [
    "<p class=\"text-muted\">This tutorial was created by <a href=\"https://www.hedaro.com\" target=\"_blank\"><strong>HEDARO</strong></a></p>"
   ]
  }
 ],
 "metadata": {
  "kernelspec": {
   "display_name": "Python 3 (ipykernel)",
   "language": "python",
   "name": "python3"
  },
  "language_info": {
   "codemirror_mode": {
    "name": "ipython",
    "version": 3
   },
   "file_extension": ".py",
   "mimetype": "text/x-python",
   "name": "python",
   "nbconvert_exporter": "python",
   "pygments_lexer": "ipython3",
   "version": "3.11.7"
  }
 },
 "nbformat": 4,
 "nbformat_minor": 5
}
