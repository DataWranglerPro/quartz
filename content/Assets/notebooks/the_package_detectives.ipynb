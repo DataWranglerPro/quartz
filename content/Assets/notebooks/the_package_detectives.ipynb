{
 "cells": [
  {
   "cell_type": "markdown",
   "id": "23018b60-014e-482a-b9b4-fb985e4a29bf",
   "metadata": {},
   "source": [
    "# The Package Detectives: Cracking the Case with Data  \n",
    "\n",
    "### Description:  \n",
    "Hey there, data scientist! Have you ever wondered what happens when packages go missing in transit? A logistics company is facing this exact issue, with a significant number of packages vanishing without a trace. The company has collected data on its shipments, but needs your expertise to unravel the mystery. Can you use your Pandas skills to help the company identify the root cause of the problem and recover the missing packages?  \n",
    "\n",
    "### Tasks:  \n",
    "- **Package Profiling:** Create a summary of package shipments by region, including the number of packages sent, received, and missing.  \n",
    "- **Route Analysis:** Identify the most common routes where packages go missing, and calculate the average distance for these routes.  \n",
    "- **Carrier Comparison:** Compare the performance of different carriers, including their package loss rates and average delivery times.  "
   ]
  },
  {
   "cell_type": "code",
   "execution_count": 1,
   "id": "f8ce7941-8bcb-4c21-bd78-1bf2f4e73791",
   "metadata": {},
   "outputs": [
    {
     "name": "stdout",
     "output_type": "stream",
     "text": [
      "Python version 3.11.7 | packaged by Anaconda, Inc. | (main, Dec 15 2023, 18:05:47) [MSC v.1916 64 bit (AMD64)]\n",
      "Pandas version 2.2.1\n",
      "Numpy version 1.26.4\n"
     ]
    }
   ],
   "source": [
    "# import libraries\n",
    "import pandas as pd\n",
    "import numpy as np\n",
    "import sys\n",
    "\n",
    "print('Python version ' + sys.version)\n",
    "print('Pandas version ' + pd.__version__)\n",
    "print('Numpy version ' + np.__version__)"
   ]
  },
  {
   "cell_type": "markdown",
   "id": "a6c136f8-e8e0-4737-b9be-78d43b0488db",
   "metadata": {},
   "source": [
    "# The Data  \n",
    "\n",
    "The dataset contains information about packages shipped by a logistics company, including the package ID, region, carrier, shipment and delivery dates, route ID, and a \"missing\" column indicating the packages missing in each destination city. The dataset also includes a separate table with route information, including origin and destination cities, and distance.\n",
    "\n",
    "### Columns:  \n",
    "**packages:**  \n",
    "- **package_id (int):** Unique package identifier\n",
    "- **route_id (int):** Foreign key from the routes dataset  \n",
    "- **region (str):** Region where package was shipped from  \n",
    "- **carrier (str):** Carrier responsible for shipment  \n",
    "- **shipment_date (datetime):** Date package was shipped  \n",
    "- **delivery_date (datetime):** Date package was delivered (if not missing)  \n",
    "- **missing (bool):** Indicator of whether package is missing  \n",
    "\n",
    "**routes:**  \n",
    "- **route_id (int):** Unique route identifier  \n",
    "- **origin (str):** City where route originates  \n",
    "- **destination (str):** City where route terminates  \n",
    "- **distance (float):** Distance of route in miles  "
   ]
  },
  {
   "cell_type": "code",
   "execution_count": 2,
   "id": "0655b081-2c1a-418a-b591-0cbde6e01fee",
   "metadata": {},
   "outputs": [
    {
     "data": {
      "text/html": [
       "<div>\n",
       "<style scoped>\n",
       "    .dataframe tbody tr th:only-of-type {\n",
       "        vertical-align: middle;\n",
       "    }\n",
       "\n",
       "    .dataframe tbody tr th {\n",
       "        vertical-align: top;\n",
       "    }\n",
       "\n",
       "    .dataframe thead th {\n",
       "        text-align: right;\n",
       "    }\n",
       "</style>\n",
       "<table border=\"1\" class=\"dataframe\">\n",
       "  <thead>\n",
       "    <tr style=\"text-align: right;\">\n",
       "      <th></th>\n",
       "      <th>package_id</th>\n",
       "      <th>region</th>\n",
       "      <th>carrier</th>\n",
       "      <th>shipment_date</th>\n",
       "      <th>route_id</th>\n",
       "      <th>delivery_date</th>\n",
       "      <th>origin</th>\n",
       "      <th>destination</th>\n",
       "      <th>distance</th>\n",
       "      <th>missing</th>\n",
       "    </tr>\n",
       "  </thead>\n",
       "  <tbody>\n",
       "    <tr>\n",
       "      <th>0</th>\n",
       "      <td>0</td>\n",
       "      <td>North</td>\n",
       "      <td>CarrierC</td>\n",
       "      <td>2022-01-01</td>\n",
       "      <td>75</td>\n",
       "      <td>2022-01-19</td>\n",
       "      <td>CityA</td>\n",
       "      <td>CityF</td>\n",
       "      <td>508.947668</td>\n",
       "      <td>False</td>\n",
       "    </tr>\n",
       "    <tr>\n",
       "      <th>1</th>\n",
       "      <td>1</td>\n",
       "      <td>West</td>\n",
       "      <td>CarrierA</td>\n",
       "      <td>2022-01-02</td>\n",
       "      <td>56</td>\n",
       "      <td>2022-01-22</td>\n",
       "      <td>CityA</td>\n",
       "      <td>CityF</td>\n",
       "      <td>984.760182</td>\n",
       "      <td>False</td>\n",
       "    </tr>\n",
       "    <tr>\n",
       "      <th>2</th>\n",
       "      <td>2</td>\n",
       "      <td>South</td>\n",
       "      <td>CarrierA</td>\n",
       "      <td>2022-01-03</td>\n",
       "      <td>43</td>\n",
       "      <td>2022-01-23</td>\n",
       "      <td>CityC</td>\n",
       "      <td>CityF</td>\n",
       "      <td>850.541203</td>\n",
       "      <td>False</td>\n",
       "    </tr>\n",
       "    <tr>\n",
       "      <th>3</th>\n",
       "      <td>3</td>\n",
       "      <td>North</td>\n",
       "      <td>CarrierC</td>\n",
       "      <td>2022-01-04</td>\n",
       "      <td>24</td>\n",
       "      <td>2022-01-06</td>\n",
       "      <td>CityC</td>\n",
       "      <td>CityE</td>\n",
       "      <td>357.532844</td>\n",
       "      <td>False</td>\n",
       "    </tr>\n",
       "    <tr>\n",
       "      <th>4</th>\n",
       "      <td>4</td>\n",
       "      <td>West</td>\n",
       "      <td>CarrierA</td>\n",
       "      <td>2022-01-05</td>\n",
       "      <td>81</td>\n",
       "      <td>2022-02-02</td>\n",
       "      <td>CityB</td>\n",
       "      <td>CityF</td>\n",
       "      <td>556.871923</td>\n",
       "      <td>False</td>\n",
       "    </tr>\n",
       "  </tbody>\n",
       "</table>\n",
       "</div>"
      ],
      "text/plain": [
       "   package_id region   carrier shipment_date  route_id delivery_date origin  \\\n",
       "0           0  North  CarrierC    2022-01-01        75    2022-01-19  CityA   \n",
       "1           1   West  CarrierA    2022-01-02        56    2022-01-22  CityA   \n",
       "2           2  South  CarrierA    2022-01-03        43    2022-01-23  CityC   \n",
       "3           3  North  CarrierC    2022-01-04        24    2022-01-06  CityC   \n",
       "4           4   West  CarrierA    2022-01-05        81    2022-02-02  CityB   \n",
       "\n",
       "  destination    distance  missing  \n",
       "0       CityF  508.947668    False  \n",
       "1       CityF  984.760182    False  \n",
       "2       CityF  850.541203    False  \n",
       "3       CityE  357.532844    False  \n",
       "4       CityF  556.871923    False  "
      ]
     },
     "execution_count": 2,
     "metadata": {},
     "output_type": "execute_result"
    }
   ],
   "source": [
    "# set the seed\n",
    "np.random.seed(0)\n",
    "\n",
    "packages = pd.DataFrame({\n",
    "    'package_id': range(1000),\n",
    "    'region': np.random.choice(['North', 'South', 'East', 'West'], size=1000),\n",
    "    'carrier': np.random.choice(['CarrierA', 'CarrierB', 'CarrierC'], size=1000),\n",
    "    'shipment_date': pd.date_range('2022-01-01', periods=1000),\n",
    "    'route_id': np.random.choice(range(100), size=1000)\n",
    "})\n",
    "\n",
    "# generate delivery dates\n",
    "packages['delivery_date'] = packages.apply(lambda x: x['shipment_date'] + pd.Timedelta(days=np.random.randint(1, 60)), axis=1)\n",
    "\n",
    "routes = pd.DataFrame({\n",
    "    'route_id': range(100),\n",
    "    'origin': np.random.choice(['CityA', 'CityB', 'CityC'], size=100),\n",
    "    'destination': np.random.choice(['CityD', 'CityE', 'CityF'], size=100),\n",
    "    'distance': np.random.uniform(100, 1000, size=100)\n",
    "})\n",
    "\n",
    "# merge the dataframes\n",
    "df = packages.merge(routes, on='route_id')\n",
    "\n",
    "# force a pattern to the missing packages\n",
    "df['missing'] = np.where(\n",
    "    df['destination'] == 'CityF', \n",
    "    np.random.choice([True, False], size=1000, p=[0.15, 0.85]),\n",
    "    np.where(\n",
    "        df['destination'] == 'CityD', \n",
    "        np.random.choice([True, False], size=1000, p=[0.2, 0.8]),\n",
    "        np.where(\n",
    "            df['destination'] == 'CityE', \n",
    "            np.random.choice([True, False], size=1000, p=[0.8, 0.2]),\n",
    "            np.random.choice([True, False], size=1000, p=[0.1, 0.9]) # other\n",
    "        )\n",
    "    )\n",
    ")\n",
    "\n",
    "# make sure delivery date is null if the package is missing\n",
    "missing = df['missing'] == True\n",
    "df.loc[missing, 'delivery_date'] = np.nan\n",
    "\n",
    "df.head()"
   ]
  },
  {
   "cell_type": "markdown",
   "id": "d282f64b-b65e-4bdb-8a12-a8230656afd5",
   "metadata": {},
   "source": [
    "Let's look at the data types to ensure all of the column are of the correct type."
   ]
  },
  {
   "cell_type": "code",
   "execution_count": 3,
   "id": "79dbddeb-120e-457c-a9c1-5abc4d6097b7",
   "metadata": {},
   "outputs": [
    {
     "name": "stdout",
     "output_type": "stream",
     "text": [
      "<class 'pandas.core.frame.DataFrame'>\n",
      "RangeIndex: 1000 entries, 0 to 999\n",
      "Data columns (total 10 columns):\n",
      " #   Column         Non-Null Count  Dtype         \n",
      "---  ------         --------------  -----         \n",
      " 0   package_id     1000 non-null   int64         \n",
      " 1   region         1000 non-null   object        \n",
      " 2   carrier        1000 non-null   object        \n",
      " 3   shipment_date  1000 non-null   datetime64[ns]\n",
      " 4   route_id       1000 non-null   int32         \n",
      " 5   delivery_date  605 non-null    datetime64[ns]\n",
      " 6   origin         1000 non-null   object        \n",
      " 7   destination    1000 non-null   object        \n",
      " 8   distance       1000 non-null   float64       \n",
      " 9   missing        1000 non-null   bool          \n",
      "dtypes: bool(1), datetime64[ns](2), float64(1), int32(1), int64(1), object(4)\n",
      "memory usage: 67.5+ KB\n"
     ]
    }
   ],
   "source": [
    "df.info()"
   ]
  },
  {
   "cell_type": "markdown",
   "id": "088842d1-7af7-47d0-8888-32c1a86032c6",
   "metadata": {},
   "source": [
    "# Package Profiling:  \n",
    "\n",
    "Create a summary of package shipments by region, including the number of packages sent, received, and missing.  \n",
    "\n",
    "Take note that we are able to filter the rows of a column before applying the aggregate function.  \n",
    "\n",
    "`lambda x: x[x==True]`  \n",
    "- We find all of the rows where the `missing` column is equal to True\n",
    "- After we have filtered the data, we count the remaining items\n",
    "\n",
    "This functionality allows us to determine how many packages are missing per region."
   ]
  },
  {
   "cell_type": "code",
   "execution_count": 4,
   "id": "6a9fbc14-0550-420c-8dcd-93daf087cc15",
   "metadata": {},
   "outputs": [
    {
     "data": {
      "text/html": [
       "<div>\n",
       "<style scoped>\n",
       "    .dataframe tbody tr th:only-of-type {\n",
       "        vertical-align: middle;\n",
       "    }\n",
       "\n",
       "    .dataframe tbody tr th {\n",
       "        vertical-align: top;\n",
       "    }\n",
       "\n",
       "    .dataframe thead th {\n",
       "        text-align: right;\n",
       "    }\n",
       "</style>\n",
       "<table border=\"1\" class=\"dataframe\">\n",
       "  <thead>\n",
       "    <tr style=\"text-align: right;\">\n",
       "      <th></th>\n",
       "      <th>sent</th>\n",
       "      <th>received</th>\n",
       "      <th>missing</th>\n",
       "      <th>pct_missing</th>\n",
       "    </tr>\n",
       "    <tr>\n",
       "      <th>region</th>\n",
       "      <th></th>\n",
       "      <th></th>\n",
       "      <th></th>\n",
       "      <th></th>\n",
       "    </tr>\n",
       "  </thead>\n",
       "  <tbody>\n",
       "    <tr>\n",
       "      <th>East</th>\n",
       "      <td>241</td>\n",
       "      <td>156</td>\n",
       "      <td>85</td>\n",
       "      <td>0.352697</td>\n",
       "    </tr>\n",
       "    <tr>\n",
       "      <th>North</th>\n",
       "      <td>255</td>\n",
       "      <td>159</td>\n",
       "      <td>96</td>\n",
       "      <td>0.376471</td>\n",
       "    </tr>\n",
       "    <tr>\n",
       "      <th>South</th>\n",
       "      <td>253</td>\n",
       "      <td>141</td>\n",
       "      <td>112</td>\n",
       "      <td>0.442688</td>\n",
       "    </tr>\n",
       "    <tr>\n",
       "      <th>West</th>\n",
       "      <td>251</td>\n",
       "      <td>149</td>\n",
       "      <td>102</td>\n",
       "      <td>0.406375</td>\n",
       "    </tr>\n",
       "  </tbody>\n",
       "</table>\n",
       "</div>"
      ],
      "text/plain": [
       "        sent  received  missing  pct_missing\n",
       "region                                      \n",
       "East     241       156       85     0.352697\n",
       "North    255       159       96     0.376471\n",
       "South    253       141      112     0.442688\n",
       "West     251       149      102     0.406375"
      ]
     },
     "execution_count": 4,
     "metadata": {},
     "output_type": "execute_result"
    }
   ],
   "source": [
    "# create group object\n",
    "group = df.groupby('region')\n",
    "\n",
    "# get summary stats\n",
    "result = group.agg(\n",
    "     sent=pd.NamedAgg(column=\"shipment_date\", aggfunc=\"count\"),\n",
    "     received=pd.NamedAgg(column=\"delivery_date\", aggfunc=\"count\"),\n",
    "     missing=pd.NamedAgg(column=\"missing\", aggfunc=lambda x: x[x==True].count())\n",
    ")\n",
    "\n",
    "# add percentage missing for clarity\n",
    "result['pct_missing'] = result['missing'] / result['sent']\n",
    "result"
   ]
  },
  {
   "cell_type": "markdown",
   "id": "060846bf-eb83-4929-8a86-d5858ce08372",
   "metadata": {},
   "source": [
    "Based on the results above, we can see that the southern region has the most missing packages, but we should continue analyzing the data before we determine the southern region is the root cause of the missing packages."
   ]
  },
  {
   "cell_type": "markdown",
   "id": "03e6df41-2ff7-4a8c-a334-468ac8564f17",
   "metadata": {},
   "source": [
    "# Route Analysis:  \n",
    "\n",
    "Identify the most common routes where packages go missing, and calculate the average distance for these routes."
   ]
  },
  {
   "cell_type": "code",
   "execution_count": 5,
   "id": "8d99e1cc-7a52-4bc9-b9c1-a8b3c873b4a4",
   "metadata": {},
   "outputs": [
    {
     "data": {
      "text/html": [
       "<div>\n",
       "<style scoped>\n",
       "    .dataframe tbody tr th:only-of-type {\n",
       "        vertical-align: middle;\n",
       "    }\n",
       "\n",
       "    .dataframe tbody tr th {\n",
       "        vertical-align: top;\n",
       "    }\n",
       "\n",
       "    .dataframe thead th {\n",
       "        text-align: right;\n",
       "    }\n",
       "</style>\n",
       "<table border=\"1\" class=\"dataframe\">\n",
       "  <thead>\n",
       "    <tr style=\"text-align: right;\">\n",
       "      <th></th>\n",
       "      <th>package_id</th>\n",
       "      <th>region</th>\n",
       "      <th>carrier</th>\n",
       "      <th>shipment_date</th>\n",
       "      <th>route_id</th>\n",
       "      <th>delivery_date</th>\n",
       "      <th>origin</th>\n",
       "      <th>destination</th>\n",
       "      <th>distance</th>\n",
       "      <th>missing</th>\n",
       "      <th>time_in_transit</th>\n",
       "    </tr>\n",
       "  </thead>\n",
       "  <tbody>\n",
       "    <tr>\n",
       "      <th>7</th>\n",
       "      <td>7</td>\n",
       "      <td>West</td>\n",
       "      <td>CarrierA</td>\n",
       "      <td>2022-01-08</td>\n",
       "      <td>18</td>\n",
       "      <td>NaT</td>\n",
       "      <td>CityB</td>\n",
       "      <td>CityE</td>\n",
       "      <td>875.626127</td>\n",
       "      <td>True</td>\n",
       "      <td>NaN</td>\n",
       "    </tr>\n",
       "    <tr>\n",
       "      <th>9</th>\n",
       "      <td>9</td>\n",
       "      <td>West</td>\n",
       "      <td>CarrierC</td>\n",
       "      <td>2022-01-10</td>\n",
       "      <td>89</td>\n",
       "      <td>NaT</td>\n",
       "      <td>CityA</td>\n",
       "      <td>CityF</td>\n",
       "      <td>580.740419</td>\n",
       "      <td>True</td>\n",
       "      <td>NaN</td>\n",
       "    </tr>\n",
       "    <tr>\n",
       "      <th>10</th>\n",
       "      <td>10</td>\n",
       "      <td>South</td>\n",
       "      <td>CarrierB</td>\n",
       "      <td>2022-01-11</td>\n",
       "      <td>29</td>\n",
       "      <td>NaT</td>\n",
       "      <td>CityA</td>\n",
       "      <td>CityE</td>\n",
       "      <td>515.475425</td>\n",
       "      <td>True</td>\n",
       "      <td>NaN</td>\n",
       "    </tr>\n",
       "    <tr>\n",
       "      <th>13</th>\n",
       "      <td>13</td>\n",
       "      <td>West</td>\n",
       "      <td>CarrierC</td>\n",
       "      <td>2022-01-14</td>\n",
       "      <td>40</td>\n",
       "      <td>NaT</td>\n",
       "      <td>CityC</td>\n",
       "      <td>CityE</td>\n",
       "      <td>994.064699</td>\n",
       "      <td>True</td>\n",
       "      <td>NaN</td>\n",
       "    </tr>\n",
       "    <tr>\n",
       "      <th>15</th>\n",
       "      <td>15</td>\n",
       "      <td>North</td>\n",
       "      <td>CarrierC</td>\n",
       "      <td>2022-01-16</td>\n",
       "      <td>11</td>\n",
       "      <td>NaT</td>\n",
       "      <td>CityC</td>\n",
       "      <td>CityE</td>\n",
       "      <td>238.850000</td>\n",
       "      <td>True</td>\n",
       "      <td>NaN</td>\n",
       "    </tr>\n",
       "  </tbody>\n",
       "</table>\n",
       "</div>"
      ],
      "text/plain": [
       "    package_id region   carrier shipment_date  route_id delivery_date origin  \\\n",
       "7            7   West  CarrierA    2022-01-08        18           NaT  CityB   \n",
       "9            9   West  CarrierC    2022-01-10        89           NaT  CityA   \n",
       "10          10  South  CarrierB    2022-01-11        29           NaT  CityA   \n",
       "13          13   West  CarrierC    2022-01-14        40           NaT  CityC   \n",
       "15          15  North  CarrierC    2022-01-16        11           NaT  CityC   \n",
       "\n",
       "   destination    distance  missing  time_in_transit  \n",
       "7        CityE  875.626127     True              NaN  \n",
       "9        CityF  580.740419     True              NaN  \n",
       "10       CityE  515.475425     True              NaN  \n",
       "13       CityE  994.064699     True              NaN  \n",
       "15       CityE  238.850000     True              NaN  "
      ]
     },
     "execution_count": 5,
     "metadata": {},
     "output_type": "execute_result"
    }
   ],
   "source": [
    "# calculate the days in transit\n",
    "df['time_in_transit'] = (df['delivery_date'] - df['shipment_date']).dt.days\n",
    "\n",
    "# missing packages\n",
    "missing = df['missing'] == True\n",
    "df_missing = df[missing]\n",
    "\n",
    "df_missing.head()"
   ]
  },
  {
   "cell_type": "markdown",
   "id": "7fc9a459-5adb-486e-a974-e6f601e5ac59",
   "metadata": {},
   "source": [
    "Now that we have all of the routes that are missing, let us calculate the average distance for these routes."
   ]
  },
  {
   "cell_type": "code",
   "execution_count": 6,
   "id": "4bf85e15-462c-4040-8857-8aa0fb330f5f",
   "metadata": {},
   "outputs": [
    {
     "data": {
      "text/plain": [
       "route_id\n",
       "0     524.497660\n",
       "1     732.105228\n",
       "3     272.413912\n",
       "4     695.956811\n",
       "5     866.191094\n",
       "         ...    \n",
       "93    460.459417\n",
       "94    469.824161\n",
       "97    187.122897\n",
       "98    900.785922\n",
       "99    155.660305\n",
       "Name: distance, Length: 85, dtype: float64"
      ]
     },
     "execution_count": 6,
     "metadata": {},
     "output_type": "execute_result"
    }
   ],
   "source": [
    "# create group object\n",
    "group = df_missing.groupby('route_id')\n",
    "\n",
    "# average distance for these routes\n",
    "group.mean(numeric_only=True)['distance']"
   ]
  },
  {
   "cell_type": "markdown",
   "id": "09a370d3-f8d9-4327-9bb9-997cb91580fa",
   "metadata": {},
   "source": [
    "Another perspective we can use to tackle this task:  \n",
    "- Compare the average distance for the routes that went missing and the routes that made it to their final destination.  \n",
    "\n",
    "> Can you find a correlation?"
   ]
  },
  {
   "cell_type": "code",
   "execution_count": 7,
   "id": "352d2c95-5d20-4794-859b-14edfc1f42d2",
   "metadata": {},
   "outputs": [
    {
     "data": {
      "image/png": "[encoded data removed]",
      "text/plain": [
       "<Figure size 640x480 with 1 Axes>"
      ]
     },
     "metadata": {},
     "output_type": "display_data"
    }
   ],
   "source": [
    "# create group object\n",
    "group = df.groupby('missing')\n",
    "\n",
    "# average distance for these routes\n",
    "group.mean(numeric_only=True)['distance'].plot.barh();"
   ]
  },
  {
   "cell_type": "markdown",
   "id": "0373d0c6-e532-4206-8c49-f5492e90bf98",
   "metadata": {},
   "source": [
    "The routes that went missing do seem to be the longest routes. Does this mean distance is a factor in why the packages are going missing? Maybe, but let us continue exploring."
   ]
  },
  {
   "cell_type": "markdown",
   "id": "77c26c95-c135-4abb-a0d0-1cb24d8d7c99",
   "metadata": {},
   "source": [
    "# Carrier Comparison:  \n",
    "\n",
    "Compare the performance of different carriers, including their package loss rates and average delivery times."
   ]
  },
  {
   "cell_type": "code",
   "execution_count": 8,
   "id": "b3a60f29-2d2b-4f2f-ac9d-e4d62af7d037",
   "metadata": {},
   "outputs": [
    {
     "data": {
      "text/html": [
       "<div>\n",
       "<style scoped>\n",
       "    .dataframe tbody tr th:only-of-type {\n",
       "        vertical-align: middle;\n",
       "    }\n",
       "\n",
       "    .dataframe tbody tr th {\n",
       "        vertical-align: top;\n",
       "    }\n",
       "\n",
       "    .dataframe thead th {\n",
       "        text-align: right;\n",
       "    }\n",
       "</style>\n",
       "<table border=\"1\" class=\"dataframe\">\n",
       "  <thead>\n",
       "    <tr style=\"text-align: right;\">\n",
       "      <th></th>\n",
       "      <th>loss_rate</th>\n",
       "      <th>avg_delivery_times</th>\n",
       "    </tr>\n",
       "    <tr>\n",
       "      <th>carrier</th>\n",
       "      <th></th>\n",
       "      <th></th>\n",
       "    </tr>\n",
       "  </thead>\n",
       "  <tbody>\n",
       "    <tr>\n",
       "      <th>CarrierA</th>\n",
       "      <td>0.385757</td>\n",
       "      <td>29.101449</td>\n",
       "    </tr>\n",
       "    <tr>\n",
       "      <th>CarrierB</th>\n",
       "      <td>0.425656</td>\n",
       "      <td>30.578680</td>\n",
       "    </tr>\n",
       "    <tr>\n",
       "      <th>CarrierC</th>\n",
       "      <td>0.371875</td>\n",
       "      <td>29.343284</td>\n",
       "    </tr>\n",
       "  </tbody>\n",
       "</table>\n",
       "</div>"
      ],
      "text/plain": [
       "          loss_rate  avg_delivery_times\n",
       "carrier                                \n",
       "CarrierA   0.385757           29.101449\n",
       "CarrierB   0.425656           30.578680\n",
       "CarrierC   0.371875           29.343284"
      ]
     },
     "execution_count": 8,
     "metadata": {},
     "output_type": "execute_result"
    }
   ],
   "source": [
    "# create group object\n",
    "group = df.groupby('carrier')\n",
    "\n",
    "# average distance for these routes\n",
    "group.agg(\n",
    "     loss_rate=pd.NamedAgg(column=\"missing\", aggfunc=lambda x: x[x==True].count() / x.count()),\n",
    "     avg_delivery_times=pd.NamedAgg(column=\"time_in_transit\", aggfunc=\"mean\")\n",
    ")"
   ]
  },
  {
   "cell_type": "markdown",
   "id": "56d84f6d-8f6f-44a2-965f-ea05d598fbcd",
   "metadata": {},
   "source": [
    "The chart above should tell us if any of the carriers is mainly responsible for he missing packages. Unfortunately, from the data, it does not seem like the carrier has much to do with the missing packages."
   ]
  },
  {
   "cell_type": "markdown",
   "id": "68bf4982-9c02-4f3f-8b58-1a67c6ae6c38",
   "metadata": {},
   "source": [
    "Let us see if the destination city has anything to do with these packages that are vanishing mysteriously. "
   ]
  },
  {
   "cell_type": "code",
   "execution_count": 9,
   "id": "0e6193b6-2cf0-41b8-915b-257d32108ce9",
   "metadata": {},
   "outputs": [
    {
     "data": {
      "text/html": [
       "<div>\n",
       "<style scoped>\n",
       "    .dataframe tbody tr th:only-of-type {\n",
       "        vertical-align: middle;\n",
       "    }\n",
       "\n",
       "    .dataframe tbody tr th {\n",
       "        vertical-align: top;\n",
       "    }\n",
       "\n",
       "    .dataframe thead th {\n",
       "        text-align: right;\n",
       "    }\n",
       "</style>\n",
       "<table border=\"1\" class=\"dataframe\">\n",
       "  <thead>\n",
       "    <tr style=\"text-align: right;\">\n",
       "      <th></th>\n",
       "      <th>loss_rate</th>\n",
       "    </tr>\n",
       "    <tr>\n",
       "      <th>destination</th>\n",
       "      <th></th>\n",
       "    </tr>\n",
       "  </thead>\n",
       "  <tbody>\n",
       "    <tr>\n",
       "      <th>CityD</th>\n",
       "      <td>0.201439</td>\n",
       "    </tr>\n",
       "    <tr>\n",
       "      <th>CityE</th>\n",
       "      <td>0.832370</td>\n",
       "    </tr>\n",
       "    <tr>\n",
       "      <th>CityF</th>\n",
       "      <td>0.135638</td>\n",
       "    </tr>\n",
       "  </tbody>\n",
       "</table>\n",
       "</div>"
      ],
      "text/plain": [
       "             loss_rate\n",
       "destination           \n",
       "CityD         0.201439\n",
       "CityE         0.832370\n",
       "CityF         0.135638"
      ]
     },
     "execution_count": 9,
     "metadata": {},
     "output_type": "execute_result"
    }
   ],
   "source": [
    "# create group object\n",
    "group = df.groupby('destination')\n",
    "\n",
    "# average distance for these routes\n",
    "group.agg(\n",
    "     loss_rate=pd.NamedAgg(column=\"missing\", aggfunc=lambda x: x[x==True].count() / x.count())\n",
    ")"
   ]
  },
  {
   "cell_type": "markdown",
   "id": "7929aeae-6dd1-43b0-a921-eac73b5a0dd8",
   "metadata": {},
   "source": [
    "Aha! Do you see what I see?  \n",
    "\n",
    "80% of the packages that had a destination to CityE went missing...  \n",
    "\n",
    "This is a significant data point that may help us solve the mistery. Something seems to be happening to packages that are in route to CityE. What could the issue be?"
   ]
  },
  {
   "cell_type": "markdown",
   "id": "aff1f7f4-5371-4fe0-9de8-c81f76f70eb6",
   "metadata": {},
   "source": [
    "I want to make sure there are no other variables that we need to consider.  \n",
    "\n",
    "If we compare the destination city against the following columns, do we still see the missing packages pattern?  \n",
    "- region\n",
    "- carrier\n",
    "- origin"
   ]
  },
  {
   "cell_type": "code",
   "execution_count": 10,
   "id": "2a413d86-7016-41f5-b292-dced5b01b7a9",
   "metadata": {},
   "outputs": [
    {
     "data": {
      "image/png": "[encoded data removed]",
      "text/plain": [
       "<Figure size 1500x500 with 3 Axes>"
      ]
     },
     "metadata": {},
     "output_type": "display_data"
    }
   ],
   "source": [
    "import matplotlib.pyplot as plt\n",
    "\n",
    "# create a grid of charts\n",
    "fig, axs = plt.subplots(nrows=1, ncols=3, figsize=(15, 5))\n",
    "\n",
    "# plot each column in the pivot table in a separate chart\n",
    "for ax, col in zip(axs.flatten(), ['region','carrier','origin']):\n",
    "    df.pivot_table(index='destination', columns=col, values='missing', aggfunc=lambda x: x[x==True].count() / x.count()).plot.bar(ax=ax)\n",
    "\n",
    "# customize the layout\n",
    "plt.tight_layout()\n",
    "plt.show()"
   ]
  },
  {
   "cell_type": "markdown",
   "id": "925c4541-4410-4184-883a-7bc8624155ba",
   "metadata": {},
   "source": [
    "We can clearly see that regardless of the origin city, the region, or the carrier. Packages in route to CityE have a very high chance of going missing. I would recommend the logistics company immediately stop sending packages to this city and do a thorough investigation to determine the root cause."
   ]
  },
  {
   "cell_type": "markdown",
   "id": "3942ff10-ba76-485f-b541-2fbabea0127b",
   "metadata": {},
   "source": [
    "# Summary  \n",
    "\n",
    "**Based on the analysis, it was determined that:**  \n",
    "- Packages that went missing had longer routes on average, suggesting distance might be a factor.  \n",
    "- Carrier performance did not seem to be a significant factor in missing packages.  \n",
    "- However, a significant finding was that 80% of packages destined for CityE went missing, suggesting a specific issue with deliveries to that city.     \n",
    "\n",
    "In summary, further analysis showed that this pattern persisted regardless of origin city, region, or carrier, leading to the recommendation for the logistics company to stop sending packages to CityE and investigate the root cause."
   ]
  },
  {
   "cell_type": "markdown",
   "id": "ae40370f-02b5-4af0-8083-2422f58b91a3",
   "metadata": {},
   "source": [
    "<p class=\"text-muted\">This tutorial was created by <a href=\"https://www.hedaro.com\" target=\"_blank\"><strong>HEDARO</strong></a></p>"
   ]
  }
 ],
 "metadata": {
  "kernelspec": {
   "display_name": "Python 3 (ipykernel)",
   "language": "python",
   "name": "python3"
  },
  "language_info": {
   "codemirror_mode": {
    "name": "ipython",
    "version": 3
   },
   "file_extension": ".py",
   "mimetype": "text/x-python",
   "name": "python",
   "nbconvert_exporter": "python",
   "pygments_lexer": "ipython3",
   "version": "3.11.7"
  }
 },
 "nbformat": 4,
 "nbformat_minor": 5
}
