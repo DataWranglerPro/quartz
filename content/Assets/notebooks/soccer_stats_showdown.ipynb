{
 "cells": [
  {
   "cell_type": "markdown",
   "id": "8753882a-ad15-40ef-963d-5123866f4f73",
   "metadata": {},
   "source": [
    "# Soccer Stats Showdown  \n",
    "\n",
    "### Description: \n",
    "Imagine you're the Data Scientist for a professional soccer league. The season is heating up, and the league wants to gain insights into team and player performance. They've collected a vast dataset of match statistics, but it's a bit of a mess. That's where you come in!  \n",
    "\n",
    "### Tasks:  \n",
    "- **Goal Scoring Analysis:** Calculate the top 5 teams with the highest median goal scoring per match, and display the results in a bar chart.  \n",
    "- **Player Performance:** Create a histogram showing the distribution of assists among all players in the season.\n",
    "- **Matchup Insights:** Determine the teams with the highest winning percentage when playing at home, and display the results in a sorted table."
   ]
  },
  {
   "cell_type": "code",
   "execution_count": 1,
   "id": "c30f5274-c4cd-488f-8ebc-089e6c4458dd",
   "metadata": {},
   "outputs": [
    {
     "name": "stdout",
     "output_type": "stream",
     "text": [
      "Python version 3.11.7 | packaged by Anaconda, Inc. | (main, Dec 15 2023, 18:05:47) [MSC v.1916 64 bit (AMD64)]\n",
      "Pandas version 2.2.1\n",
      "Numpy version 1.26.4\n"
     ]
    }
   ],
   "source": [
    "# import libraries\n",
    "import pandas as pd\n",
    "import numpy as np\n",
    "import sys\n",
    "\n",
    "print('Python version ' + sys.version)\n",
    "print('Pandas version ' + pd.__version__)\n",
    "print('Numpy version ' + np.__version__)"
   ]
  },
  {
   "cell_type": "markdown",
   "id": "259fcfc2-a0a5-44fd-b54a-98d120f4940a",
   "metadata": {},
   "source": [
    "# The Data  \n",
    "\n",
    "This dataset contains 500 matches, with team and player performance statistics. Your task is to wrangle this data using pandas to extract valuable insights!  \n",
    "\n",
    "### Columns:  \n",
    "- **match_id:** a unique identifier for each match.\n",
    "- **team_home and team_away:** IDs of the teams playing in each match, ranging from 0 to 19. These IDs don't correspond to specific team names, but rather represent different teams in the simulation.  \n",
    "- **goals_home and goals_away:** the number of goals scored by each team in each match.\n",
    "- **player_assists and player_goals:** the number of assists and goals scored by a player in each match. \n",
    "\n",
    "Good luck, and have fun!"
   ]
  },
  {
   "cell_type": "code",
   "execution_count": 2,
   "id": "9cd35a17-cc12-40e9-a33c-f19e892057c0",
   "metadata": {},
   "outputs": [
    {
     "data": {
      "text/html": [
       "<div>\n",
       "<style scoped>\n",
       "    .dataframe tbody tr th:only-of-type {\n",
       "        vertical-align: middle;\n",
       "    }\n",
       "\n",
       "    .dataframe tbody tr th {\n",
       "        vertical-align: top;\n",
       "    }\n",
       "\n",
       "    .dataframe thead th {\n",
       "        text-align: right;\n",
       "    }\n",
       "</style>\n",
       "<table border=\"1\" class=\"dataframe\">\n",
       "  <thead>\n",
       "    <tr style=\"text-align: right;\">\n",
       "      <th></th>\n",
       "      <th>match_id</th>\n",
       "      <th>team_home</th>\n",
       "      <th>team_away</th>\n",
       "      <th>goals_home</th>\n",
       "      <th>goals_away</th>\n",
       "      <th>player_goals</th>\n",
       "      <th>player_assists</th>\n",
       "    </tr>\n",
       "  </thead>\n",
       "  <tbody>\n",
       "    <tr>\n",
       "      <th>0</th>\n",
       "      <td>0</td>\n",
       "      <td>12</td>\n",
       "      <td>0</td>\n",
       "      <td>2</td>\n",
       "      <td>0</td>\n",
       "      <td>0</td>\n",
       "      <td>0</td>\n",
       "    </tr>\n",
       "    <tr>\n",
       "      <th>1</th>\n",
       "      <td>1</td>\n",
       "      <td>15</td>\n",
       "      <td>9</td>\n",
       "      <td>0</td>\n",
       "      <td>0</td>\n",
       "      <td>0</td>\n",
       "      <td>0</td>\n",
       "    </tr>\n",
       "    <tr>\n",
       "      <th>2</th>\n",
       "      <td>2</td>\n",
       "      <td>0</td>\n",
       "      <td>16</td>\n",
       "      <td>3</td>\n",
       "      <td>2</td>\n",
       "      <td>1</td>\n",
       "      <td>0</td>\n",
       "    </tr>\n",
       "    <tr>\n",
       "      <th>3</th>\n",
       "      <td>3</td>\n",
       "      <td>3</td>\n",
       "      <td>2</td>\n",
       "      <td>0</td>\n",
       "      <td>2</td>\n",
       "      <td>0</td>\n",
       "      <td>0</td>\n",
       "    </tr>\n",
       "    <tr>\n",
       "      <th>4</th>\n",
       "      <td>4</td>\n",
       "      <td>3</td>\n",
       "      <td>8</td>\n",
       "      <td>2</td>\n",
       "      <td>1</td>\n",
       "      <td>0</td>\n",
       "      <td>0</td>\n",
       "    </tr>\n",
       "  </tbody>\n",
       "</table>\n",
       "</div>"
      ],
      "text/plain": [
       "   match_id  team_home  team_away  goals_home  goals_away  player_goals  \\\n",
       "0         0         12          0           2           0             0   \n",
       "1         1         15          9           0           0             0   \n",
       "2         2          0         16           3           2             1   \n",
       "3         3          3          2           0           2             0   \n",
       "4         4          3          8           2           1             0   \n",
       "\n",
       "   player_assists  \n",
       "0               0  \n",
       "1               0  \n",
       "2               0  \n",
       "3               0  \n",
       "4               0  "
      ]
     },
     "execution_count": 2,
     "metadata": {},
     "output_type": "execute_result"
    }
   ],
   "source": [
    "# set the seed\n",
    "np.random.seed(0)\n",
    "\n",
    "# declare variables\n",
    "matches = 500\n",
    "teams = 20\n",
    "players = 500\n",
    "\n",
    "data = {\n",
    "    'match_id': np.arange(matches),\n",
    "    'team_home': np.random.choice(teams, matches),\n",
    "    'team_away': np.random.choice(teams, matches),\n",
    "    'goals_home': np.random.poisson(lam=1.5, size=matches),\n",
    "    'goals_away': np.random.poisson(lam=1.0, size=matches)\n",
    "}\n",
    "\n",
    "# create dataframe\n",
    "df = pd.DataFrame(data)\n",
    "\n",
    "# ensure player does not score more than the team\n",
    "df['player_goals'] = df.apply(lambda x: np.minimum(np.random.poisson(lam=0.2, size=1), np.maximum(np.random.choice([x['goals_home'], x['goals_away']], 1), 0))[0], axis=1)\n",
    "\n",
    "# ensure player does have more assists than goals scored\n",
    "df['player_assists'] = df.apply(lambda x: np.minimum(np.random.poisson(lam=0.2, size=1), np.maximum(np.random.choice([x['player_goals']], 1), 0))[0], axis=1)\n",
    "\n",
    "df.head()"
   ]
  },
  {
   "cell_type": "markdown",
   "id": "de1ba2a2-0468-45cc-a0ee-570ef8a2ec4d",
   "metadata": {},
   "source": [
    "We are expecting all of the columns to be numeric, let's take a look and verify this."
   ]
  },
  {
   "cell_type": "code",
   "execution_count": 3,
   "id": "0fe8d673-f917-45da-82fe-3fde22ec540f",
   "metadata": {},
   "outputs": [
    {
     "name": "stdout",
     "output_type": "stream",
     "text": [
      "<class 'pandas.core.frame.DataFrame'>\n",
      "RangeIndex: 500 entries, 0 to 499\n",
      "Data columns (total 7 columns):\n",
      " #   Column          Non-Null Count  Dtype\n",
      "---  ------          --------------  -----\n",
      " 0   match_id        500 non-null    int32\n",
      " 1   team_home       500 non-null    int32\n",
      " 2   team_away       500 non-null    int32\n",
      " 3   goals_home      500 non-null    int32\n",
      " 4   goals_away      500 non-null    int32\n",
      " 5   player_goals    500 non-null    int32\n",
      " 6   player_assists  500 non-null    int32\n",
      "dtypes: int32(7)\n",
      "memory usage: 13.8 KB\n"
     ]
    }
   ],
   "source": [
    "df.info()"
   ]
  },
  {
   "cell_type": "markdown",
   "id": "c7c1c75f-9f62-41de-aa51-ca0f60a04add",
   "metadata": {},
   "source": [
    "# Goal Scoring Analysis:\n",
    "\n",
    "Calculate the top 5 teams with the highest goal scoring average per match, and display the results in a bar chart."
   ]
  },
  {
   "cell_type": "code",
   "execution_count": 4,
   "id": "123694b1-343e-40c6-894c-9eaf5127f8c2",
   "metadata": {},
   "outputs": [
    {
     "data": {
      "text/html": [
       "<div>\n",
       "<style scoped>\n",
       "    .dataframe tbody tr th:only-of-type {\n",
       "        vertical-align: middle;\n",
       "    }\n",
       "\n",
       "    .dataframe tbody tr th {\n",
       "        vertical-align: top;\n",
       "    }\n",
       "\n",
       "    .dataframe thead th {\n",
       "        text-align: right;\n",
       "    }\n",
       "</style>\n",
       "<table border=\"1\" class=\"dataframe\">\n",
       "  <thead>\n",
       "    <tr style=\"text-align: right;\">\n",
       "      <th></th>\n",
       "      <th>team_home</th>\n",
       "      <th>goals_home</th>\n",
       "    </tr>\n",
       "  </thead>\n",
       "  <tbody>\n",
       "    <tr>\n",
       "      <th>0</th>\n",
       "      <td>12</td>\n",
       "      <td>2</td>\n",
       "    </tr>\n",
       "    <tr>\n",
       "      <th>1</th>\n",
       "      <td>15</td>\n",
       "      <td>0</td>\n",
       "    </tr>\n",
       "    <tr>\n",
       "      <th>2</th>\n",
       "      <td>0</td>\n",
       "      <td>3</td>\n",
       "    </tr>\n",
       "    <tr>\n",
       "      <th>3</th>\n",
       "      <td>3</td>\n",
       "      <td>0</td>\n",
       "    </tr>\n",
       "    <tr>\n",
       "      <th>4</th>\n",
       "      <td>3</td>\n",
       "      <td>2</td>\n",
       "    </tr>\n",
       "    <tr>\n",
       "      <th>...</th>\n",
       "      <td>...</td>\n",
       "      <td>...</td>\n",
       "    </tr>\n",
       "    <tr>\n",
       "      <th>495</th>\n",
       "      <td>18</td>\n",
       "      <td>0</td>\n",
       "    </tr>\n",
       "    <tr>\n",
       "      <th>496</th>\n",
       "      <td>14</td>\n",
       "      <td>2</td>\n",
       "    </tr>\n",
       "    <tr>\n",
       "      <th>497</th>\n",
       "      <td>18</td>\n",
       "      <td>0</td>\n",
       "    </tr>\n",
       "    <tr>\n",
       "      <th>498</th>\n",
       "      <td>1</td>\n",
       "      <td>0</td>\n",
       "    </tr>\n",
       "    <tr>\n",
       "      <th>499</th>\n",
       "      <td>12</td>\n",
       "      <td>1</td>\n",
       "    </tr>\n",
       "  </tbody>\n",
       "</table>\n",
       "<p>500 rows × 2 columns</p>\n",
       "</div>"
      ],
      "text/plain": [
       "     team_home  goals_home\n",
       "0           12           2\n",
       "1           15           0\n",
       "2            0           3\n",
       "3            3           0\n",
       "4            3           2\n",
       "..         ...         ...\n",
       "495         18           0\n",
       "496         14           2\n",
       "497         18           0\n",
       "498          1           0\n",
       "499         12           1\n",
       "\n",
       "[500 rows x 2 columns]"
      ]
     },
     "execution_count": 4,
     "metadata": {},
     "output_type": "execute_result"
    }
   ],
   "source": [
    "home = df[['team_home','goals_home']]\n",
    "home"
   ]
  },
  {
   "cell_type": "markdown",
   "id": "d0c2240e-c1f4-4b3a-8bbc-58bba6c95626",
   "metadata": {},
   "source": [
    "Note: We will try to use the median as the data is not Normally distributed.\n",
    "\n",
    "You can see that for most of the away matches, the teams seem to score a median of 1 goal. For games where they have a home field advantage, we have a few teams scoring a median of 2 goals per game."
   ]
  },
  {
   "cell_type": "code",
   "execution_count": 5,
   "id": "86949a91-ebb2-4249-a4af-c8cf9f4c9af8",
   "metadata": {},
   "outputs": [
    {
     "data": {
      "image/png": "[encoded data removed]",
      "text/plain": [
       "<Figure size 640x480 with 1 Axes>"
      ]
     },
     "metadata": {},
     "output_type": "display_data"
    }
   ],
   "source": [
    "# home team\n",
    "group = df.groupby('team_home')\n",
    "group_home = group['goals_home'].median()\n",
    "\n",
    "# away team\n",
    "group = df.groupby('team_away')\n",
    "group_away = group['goals_away'].median()\n",
    "\n",
    "# combine data\n",
    "combined = pd.concat([group_home, group_away], axis=1)\n",
    "\n",
    "combined.plot.bar();"
   ]
  },
  {
   "cell_type": "markdown",
   "id": "513d20db-6597-4f6b-9ec2-d5962e63deb7",
   "metadata": {},
   "source": [
    "Let's pull out top 5 scoring teams based on the median goals scored at home games. There was a tie for 5th place, team 18 and team 15 both scored a median of 1.5 goals per home game."
   ]
  },
  {
   "cell_type": "code",
   "execution_count": 6,
   "id": "42381f20-2ec7-4401-afcf-af20ab693262",
   "metadata": {},
   "outputs": [
    {
     "data": {
      "text/plain": [
       "team_home\n",
       "11    2.0\n",
       "17    2.0\n",
       "4     2.0\n",
       "5     2.0\n",
       "18    1.5\n",
       "Name: goals_home, dtype: float64"
      ]
     },
     "execution_count": 6,
     "metadata": {},
     "output_type": "execute_result"
    }
   ],
   "source": [
    "group_home.sort_values(ascending=False).head()"
   ]
  },
  {
   "cell_type": "markdown",
   "id": "b1a6a5e7-4282-4ca0-8768-77f7c8d063cd",
   "metadata": {},
   "source": [
    "# Player Performance:  \n",
    "\n",
    "Create a histogram showing the distribution of assists among all players in the season."
   ]
  },
  {
   "cell_type": "markdown",
   "id": "8678b69c-2ac1-4c02-98e0-7faf45ec5146",
   "metadata": {},
   "source": [
    "As you can see, most players do not have many assists according to the data"
   ]
  },
  {
   "cell_type": "code",
   "execution_count": 7,
   "id": "1901c3e7-a8b8-450c-9171-bba75c2e6dac",
   "metadata": {},
   "outputs": [
    {
     "data": {
      "image/png": "[encoded data removed]",
      "text/plain": [
       "<Figure size 640x480 with 1 Axes>"
      ]
     },
     "metadata": {},
     "output_type": "display_data"
    }
   ],
   "source": [
    "df['player_assists'].sort_values().hist();"
   ]
  },
  {
   "cell_type": "markdown",
   "id": "8bea5549-55d6-4849-bb7c-e5688f21bd6c",
   "metadata": {},
   "source": [
    "If we take a look at some descriptive statistics, we can conclude that there were very few high scoring/assisting players in the season."
   ]
  },
  {
   "cell_type": "code",
   "execution_count": 8,
   "id": "a8012c03-2a66-4d5b-b8cf-4effd377daab",
   "metadata": {},
   "outputs": [
    {
     "data": {
      "text/html": [
       "<div>\n",
       "<style scoped>\n",
       "    .dataframe tbody tr th:only-of-type {\n",
       "        vertical-align: middle;\n",
       "    }\n",
       "\n",
       "    .dataframe tbody tr th {\n",
       "        vertical-align: top;\n",
       "    }\n",
       "\n",
       "    .dataframe thead th {\n",
       "        text-align: right;\n",
       "    }\n",
       "</style>\n",
       "<table border=\"1\" class=\"dataframe\">\n",
       "  <thead>\n",
       "    <tr style=\"text-align: right;\">\n",
       "      <th></th>\n",
       "      <th>goals_home</th>\n",
       "      <th>goals_away</th>\n",
       "      <th>player_goals</th>\n",
       "      <th>player_assists</th>\n",
       "    </tr>\n",
       "  </thead>\n",
       "  <tbody>\n",
       "    <tr>\n",
       "      <th>count</th>\n",
       "      <td>500.000000</td>\n",
       "      <td>500.000000</td>\n",
       "      <td>500.000000</td>\n",
       "      <td>500.000000</td>\n",
       "    </tr>\n",
       "    <tr>\n",
       "      <th>mean</th>\n",
       "      <td>1.492000</td>\n",
       "      <td>1.040000</td>\n",
       "      <td>0.134000</td>\n",
       "      <td>0.026000</td>\n",
       "    </tr>\n",
       "    <tr>\n",
       "      <th>std</th>\n",
       "      <td>1.221852</td>\n",
       "      <td>0.990132</td>\n",
       "      <td>0.352552</td>\n",
       "      <td>0.159295</td>\n",
       "    </tr>\n",
       "    <tr>\n",
       "      <th>min</th>\n",
       "      <td>0.000000</td>\n",
       "      <td>0.000000</td>\n",
       "      <td>0.000000</td>\n",
       "      <td>0.000000</td>\n",
       "    </tr>\n",
       "    <tr>\n",
       "      <th>25%</th>\n",
       "      <td>1.000000</td>\n",
       "      <td>0.000000</td>\n",
       "      <td>0.000000</td>\n",
       "      <td>0.000000</td>\n",
       "    </tr>\n",
       "    <tr>\n",
       "      <th>50%</th>\n",
       "      <td>1.000000</td>\n",
       "      <td>1.000000</td>\n",
       "      <td>0.000000</td>\n",
       "      <td>0.000000</td>\n",
       "    </tr>\n",
       "    <tr>\n",
       "      <th>75%</th>\n",
       "      <td>2.000000</td>\n",
       "      <td>2.000000</td>\n",
       "      <td>0.000000</td>\n",
       "      <td>0.000000</td>\n",
       "    </tr>\n",
       "    <tr>\n",
       "      <th>max</th>\n",
       "      <td>6.000000</td>\n",
       "      <td>5.000000</td>\n",
       "      <td>2.000000</td>\n",
       "      <td>1.000000</td>\n",
       "    </tr>\n",
       "  </tbody>\n",
       "</table>\n",
       "</div>"
      ],
      "text/plain": [
       "       goals_home  goals_away  player_goals  player_assists\n",
       "count  500.000000  500.000000    500.000000      500.000000\n",
       "mean     1.492000    1.040000      0.134000        0.026000\n",
       "std      1.221852    0.990132      0.352552        0.159295\n",
       "min      0.000000    0.000000      0.000000        0.000000\n",
       "25%      1.000000    0.000000      0.000000        0.000000\n",
       "50%      1.000000    1.000000      0.000000        0.000000\n",
       "75%      2.000000    2.000000      0.000000        0.000000\n",
       "max      6.000000    5.000000      2.000000        1.000000"
      ]
     },
     "execution_count": 8,
     "metadata": {},
     "output_type": "execute_result"
    }
   ],
   "source": [
    "df[['goals_home','goals_away','player_goals','player_assists']].describe()"
   ]
  },
  {
   "cell_type": "markdown",
   "id": "aec944af-b714-4def-9471-513765bed39a",
   "metadata": {},
   "source": [
    "# Conclusion  \n",
    "\n",
    "In this tutorial, we analyzed a dataset of soccer match statistics to gain insights into team and player performance. We calculated the top 5 teams with the highest median goal scoring per match and created a histogram showing the distribution of assists among all players.\n",
    "\n",
    "### What You Learned:\n",
    "- How to calculate goal scoring averages per match\n",
    "- How to visualize data using bar charts and histograms\n",
    "- How to extract insights from data "
   ]
  },
  {
   "cell_type": "markdown",
   "id": "edd2d8c6-e80a-4446-9b15-5712b8994f9c",
   "metadata": {},
   "source": [
    "## Can you solve the BONUS question?  \n",
    "\n",
    "**Matchup Insights:** Determine the teams with the highest winning percentage when playing at home, and display the results in a sorted table."
   ]
  },
  {
   "cell_type": "markdown",
   "id": "8efe8809-1e06-40bf-896c-93e65c83834f",
   "metadata": {},
   "source": [
    "<p class=\"text-muted\">This tutorial was created by <a href=\"https://www.hedaro.com\" target=\"_blank\"><strong>HEDARO</strong></a></p>"
   ]
  }
 ],
 "metadata": {
  "kernelspec": {
   "display_name": "Python 3 (ipykernel)",
   "language": "python",
   "name": "python3"
  },
  "language_info": {
   "codemirror_mode": {
    "name": "ipython",
    "version": 3
   },
   "file_extension": ".py",
   "mimetype": "text/x-python",
   "name": "python",
   "nbconvert_exporter": "python",
   "pygments_lexer": "ipython3",
   "version": "3.11.7"
  }
 },
 "nbformat": 4,
 "nbformat_minor": 5
}
