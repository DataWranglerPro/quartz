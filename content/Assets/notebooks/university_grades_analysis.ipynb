{
 "cells": [
  {
   "cell_type": "markdown",
   "id": "aba6c437-ac32-497c-9da6-02e6c8558643",
   "metadata": {},
   "source": [
    "# University Grades Analysis  \n",
    "\n",
    "### Description  \n",
    "You are a Data Analyst at a large university, and they need your help. The university's administration wants to analyze student performance in different departments. They have collected data on student grades, majors, and demographics. However, the data is a mess, and the school needs your Pandas skills to clean and analyze it.  \n",
    "\n",
    "### Tasks  \n",
    "- **Handle Missing Values:** The dataset contains missing values for some students' grades. Use Pandas to identify and handle these missing values appropriately.  \n",
    "- **Data Merging:** The data is split into three separate datasets (student info, grades, and courses). Use Pandas to merge these datasets into a single, unified dataset.  \n",
    "- **Grouping and Aggregation:** Calculate the average grade for each department and major. Find the department with the highest average grade."
   ]
  },
  {
   "cell_type": "code",
   "execution_count": 1,
   "id": "be784c54-1d17-450b-9450-3fe610032f29",
   "metadata": {},
   "outputs": [
    {
     "name": "stdout",
     "output_type": "stream",
     "text": [
      "Python version 3.11.7 | packaged by Anaconda, Inc. | (main, Dec 15 2023, 18:05:47) [MSC v.1916 64 bit (AMD64)]\n",
      "Pandas version 2.2.1\n",
      "Numpy version 1.26.4\n"
     ]
    }
   ],
   "source": [
    "# import libraries\n",
    "import pandas as pd\n",
    "import numpy as np\n",
    "import sys\n",
    "\n",
    "print('Python version ' + sys.version)\n",
    "print('Pandas version ' + pd.__version__)\n",
    "print('Numpy version ' + np.__version__)"
   ]
  },
  {
   "cell_type": "markdown",
   "id": "c4fdc640-57b1-4af8-a6a7-2fdecc7363de",
   "metadata": {},
   "source": [
    "# The Data  \n",
    "\n",
    "The dataset contains information about students, their grades, and their demographics.  \n",
    "\n",
    "### student_info table:  \n",
    "- **Student ID (int):** Unique identifier for each student\n",
    "- **Name (str):** Student name\n",
    "- **Major (str):** Student major (e.g., CS, Math, Physics, Biology)\n",
    "- **Gender (str):** Student gender (Male or Female)\n",
    "\n",
    "### grades table:  \n",
    "- **Student ID (int):** Foreign key referencing the student_info table\n",
    "- **Course (str):** Course name (e.g., Math 101, CS 202, Physics 303, Biology 404)\n",
    "- **Grade (float):** Student grade for the course (between 0 and 100)\n",
    "\n",
    "### courses table:  \n",
    "- **Course (str):** Course name (e.g., Math 101, CS 202, Physics 303, Biology 404)\n",
    "- **Department (str):** Department offering the course (e.g., Math, CS, Physics, Biology)"
   ]
  },
  {
   "cell_type": "code",
   "execution_count": 2,
   "id": "0e049c6d-c47b-445e-8071-51c17a22efef",
   "metadata": {},
   "outputs": [],
   "source": [
    "# set the seed\n",
    "np.random.seed(0)\n",
    "\n",
    "# student info\n",
    "student_info = pd.DataFrame({\n",
    "    'Student ID': range(1000, 2000),\n",
    "    'Name': ['Student '+str(i) for i in range(1000, 2000)],\n",
    "    'Major': np.random.choice(['CS', 'Math', 'Physics', 'Biology'], size=1000),\n",
    "    'Gender': np.random.choice(['Male', 'Female'], size=1000)\n",
    "})\n",
    "\n",
    "# grades\n",
    "grades = pd.DataFrame({\n",
    "    'Student ID': np.random.choice(range(1000, 2000), size=5000),\n",
    "    'Course': np.random.choice(['Math 101', 'CS 202', 'Physics 303', 'Biology 404'], size=5000),\n",
    "    'Grade': np.random.uniform(0, 100, size=5000)\n",
    "})\n",
    "\n",
    "# courses\n",
    "courses = pd.DataFrame({\n",
    "    'Course': ['Math 101', 'CS 202', 'Physics 303', 'Biology 404'],\n",
    "    'Department': ['Math', 'CS', 'Physics', 'Biology']\n",
    "})\n",
    "\n",
    "# generate missing grades\n",
    "missing_grades = np.random.choice(range(5000), size=100, replace=False)\n",
    "grades.loc[missing_grades, 'Grade'] = np.nan"
   ]
  },
  {
   "cell_type": "markdown",
   "id": "8728a542-ed53-496c-a716-18ab296965c9",
   "metadata": {},
   "source": [
    "# Data Merging:  \n",
    "\n",
    "The data is split into three separate datasets (student info, grades, and courses). Use Pandas to merge these datasets into a single, unified dataset."
   ]
  },
  {
   "cell_type": "markdown",
   "id": "ddf0b70a-fa48-4a56-a09e-11738aaaa397",
   "metadata": {},
   "source": [
    "We can merge all three datasets in one line.  \n",
    "- Merge student_info and grades on the column `Student ID`\n",
    "- Merge the previously merged dataset with the courses dataset on the column `Course`."
   ]
  },
  {
   "cell_type": "code",
   "execution_count": 3,
   "id": "36775d6c-7553-48a0-b0da-55c63e0169e3",
   "metadata": {},
   "outputs": [
    {
     "data": {
      "text/html": [
       "<div>\n",
       "<style scoped>\n",
       "    .dataframe tbody tr th:only-of-type {\n",
       "        vertical-align: middle;\n",
       "    }\n",
       "\n",
       "    .dataframe tbody tr th {\n",
       "        vertical-align: top;\n",
       "    }\n",
       "\n",
       "    .dataframe thead th {\n",
       "        text-align: right;\n",
       "    }\n",
       "</style>\n",
       "<table border=\"1\" class=\"dataframe\">\n",
       "  <thead>\n",
       "    <tr style=\"text-align: right;\">\n",
       "      <th></th>\n",
       "      <th>Student ID</th>\n",
       "      <th>Name</th>\n",
       "      <th>Major</th>\n",
       "      <th>Gender</th>\n",
       "      <th>Course</th>\n",
       "      <th>Grade</th>\n",
       "      <th>Department</th>\n",
       "    </tr>\n",
       "  </thead>\n",
       "  <tbody>\n",
       "    <tr>\n",
       "      <th>0</th>\n",
       "      <td>1000</td>\n",
       "      <td>Student 1000</td>\n",
       "      <td>CS</td>\n",
       "      <td>Female</td>\n",
       "      <td>Math 101</td>\n",
       "      <td>21.546156</td>\n",
       "      <td>Math</td>\n",
       "    </tr>\n",
       "    <tr>\n",
       "      <th>1</th>\n",
       "      <td>1000</td>\n",
       "      <td>Student 1000</td>\n",
       "      <td>CS</td>\n",
       "      <td>Female</td>\n",
       "      <td>Math 101</td>\n",
       "      <td>63.415641</td>\n",
       "      <td>Math</td>\n",
       "    </tr>\n",
       "    <tr>\n",
       "      <th>2</th>\n",
       "      <td>1000</td>\n",
       "      <td>Student 1000</td>\n",
       "      <td>CS</td>\n",
       "      <td>Female</td>\n",
       "      <td>Math 101</td>\n",
       "      <td>51.768279</td>\n",
       "      <td>Math</td>\n",
       "    </tr>\n",
       "    <tr>\n",
       "      <th>3</th>\n",
       "      <td>1000</td>\n",
       "      <td>Student 1000</td>\n",
       "      <td>CS</td>\n",
       "      <td>Female</td>\n",
       "      <td>CS 202</td>\n",
       "      <td>67.467882</td>\n",
       "      <td>CS</td>\n",
       "    </tr>\n",
       "    <tr>\n",
       "      <th>4</th>\n",
       "      <td>1000</td>\n",
       "      <td>Student 1000</td>\n",
       "      <td>CS</td>\n",
       "      <td>Female</td>\n",
       "      <td>Math 101</td>\n",
       "      <td>6.090085</td>\n",
       "      <td>Math</td>\n",
       "    </tr>\n",
       "  </tbody>\n",
       "</table>\n",
       "</div>"
      ],
      "text/plain": [
       "   Student ID          Name Major  Gender    Course      Grade Department\n",
       "0        1000  Student 1000    CS  Female  Math 101  21.546156       Math\n",
       "1        1000  Student 1000    CS  Female  Math 101  63.415641       Math\n",
       "2        1000  Student 1000    CS  Female  Math 101  51.768279       Math\n",
       "3        1000  Student 1000    CS  Female    CS 202  67.467882         CS\n",
       "4        1000  Student 1000    CS  Female  Math 101   6.090085       Math"
      ]
     },
     "execution_count": 3,
     "metadata": {},
     "output_type": "execute_result"
    }
   ],
   "source": [
    "# merge datasets\n",
    "df = student_info.merge(grades, left_on='Student ID', right_on='Student ID').merge(courses, left_on='Course', right_on='Course')\n",
    "df.head()"
   ]
  },
  {
   "cell_type": "markdown",
   "id": "c6edacc3-7ed4-4986-bf73-ade7704448ee",
   "metadata": {},
   "source": [
    "Let's take a look at the column datatypes and see if we can verify we have null values in the `Grade` column. Do you see the 100 missing grades?"
   ]
  },
  {
   "cell_type": "code",
   "execution_count": 4,
   "id": "240f50b5-23c7-44ef-86b2-102e17d4ff86",
   "metadata": {},
   "outputs": [
    {
     "name": "stdout",
     "output_type": "stream",
     "text": [
      "<class 'pandas.core.frame.DataFrame'>\n",
      "RangeIndex: 5000 entries, 0 to 4999\n",
      "Data columns (total 7 columns):\n",
      " #   Column      Non-Null Count  Dtype  \n",
      "---  ------      --------------  -----  \n",
      " 0   Student ID  5000 non-null   int64  \n",
      " 1   Name        5000 non-null   object \n",
      " 2   Major       5000 non-null   object \n",
      " 3   Gender      5000 non-null   object \n",
      " 4   Course      5000 non-null   object \n",
      " 5   Grade       4900 non-null   float64\n",
      " 6   Department  5000 non-null   object \n",
      "dtypes: float64(1), int64(1), object(5)\n",
      "memory usage: 273.6+ KB\n"
     ]
    }
   ],
   "source": [
    "df.info()"
   ]
  },
  {
   "cell_type": "markdown",
   "id": "8c86e2a6-b82e-4141-ad8a-2727e43e9bff",
   "metadata": {},
   "source": [
    "# Handle Missing Values\n",
    "\n",
    "The dataset contains missing values for some students' grades. Use Pandas to identify and handle these missing values appropriately."
   ]
  },
  {
   "cell_type": "markdown",
   "id": "6b4e4c45-1e25-4441-ac57-cab6cee3e203",
   "metadata": {},
   "source": [
    "For this specific dataset, since the data is completely random, there is no underlying pattern or relationship to rely on to determine what to replace the missing Grades with.  \n",
    "\n",
    "**Note:** By default, the `dropna()` method examines all columns in a row and removes the entire row if it finds any missing value, which may not be suitable for all situations.\n",
    "\n",
    "> What techniques have you used in the past to solve a similar problem?"
   ]
  },
  {
   "cell_type": "code",
   "execution_count": 5,
   "id": "bc4c5918-d2c3-4a39-83e1-65af17fc5522",
   "metadata": {},
   "outputs": [
    {
     "name": "stdout",
     "output_type": "stream",
     "text": [
      "<class 'pandas.core.frame.DataFrame'>\n",
      "Index: 4900 entries, 0 to 4999\n",
      "Data columns (total 7 columns):\n",
      " #   Column      Non-Null Count  Dtype  \n",
      "---  ------      --------------  -----  \n",
      " 0   Student ID  4900 non-null   int64  \n",
      " 1   Name        4900 non-null   object \n",
      " 2   Major       4900 non-null   object \n",
      " 3   Gender      4900 non-null   object \n",
      " 4   Course      4900 non-null   object \n",
      " 5   Grade       4900 non-null   float64\n",
      " 6   Department  4900 non-null   object \n",
      "dtypes: float64(1), int64(1), object(5)\n",
      "memory usage: 306.2+ KB\n"
     ]
    }
   ],
   "source": [
    "# simply drop the missing values\n",
    "df = df.dropna()\n",
    "df.info()"
   ]
  },
  {
   "cell_type": "markdown",
   "id": "b1f5c8ca-8cc6-4cd1-a4d4-af0ca22b0187",
   "metadata": {},
   "source": [
    "# Grouping and Aggregation:  \n",
    "\n",
    "Calculate the average grade for each department and major. Find the department with the highest average grade."
   ]
  },
  {
   "cell_type": "code",
   "execution_count": 6,
   "id": "4e1ca26a-d917-423e-8084-13b6007dacff",
   "metadata": {},
   "outputs": [
    {
     "data": {
      "text/plain": [
       "Department  Major  \n",
       "Biology     Biology    49.178208\n",
       "            CS         49.394462\n",
       "            Math       49.527255\n",
       "            Physics    48.719099\n",
       "CS          Biology    48.991467\n",
       "            CS         48.233917\n",
       "            Math       48.412236\n",
       "            Physics    50.950611\n",
       "Math        Biology    54.027489\n",
       "            CS         47.204560\n",
       "            Math       47.157162\n",
       "            Physics    52.300515\n",
       "Physics     Biology    48.697856\n",
       "            CS         50.947873\n",
       "            Math       48.599851\n",
       "            Physics    48.544122\n",
       "Name: Grade, dtype: float64"
      ]
     },
     "execution_count": 6,
     "metadata": {},
     "output_type": "execute_result"
    }
   ],
   "source": [
    "# Calculate the average grade for each department and major\n",
    "group = df.groupby(['Department','Major'])\n",
    "\n",
    "group.mean(numeric_only=True)['Grade']"
   ]
  },
  {
   "cell_type": "markdown",
   "id": "64d069de-bb0d-4120-98b1-39199958482a",
   "metadata": {},
   "source": [
    "It is pretty interesting that, out of all the departments, the Math department had the highest average grades."
   ]
  },
  {
   "cell_type": "code",
   "execution_count": 7,
   "id": "d5048b8c-7810-4fc4-bb63-75312cd9edec",
   "metadata": {},
   "outputs": [
    {
     "data": {
      "text/plain": [
       "Department\n",
       "Math    50.119793\n",
       "Name: Grade, dtype: float64"
      ]
     },
     "execution_count": 7,
     "metadata": {},
     "output_type": "execute_result"
    }
   ],
   "source": [
    "# Find the department with the highest average grade\n",
    "group = df.groupby('Department')\n",
    "\n",
    "group.mean(numeric_only=True).sort_values(by='Grade', ascending=False)['Grade'].head(1)"
   ]
  },
  {
   "cell_type": "markdown",
   "id": "5d22181a-c93f-4244-9c83-9987c5b6b060",
   "metadata": {},
   "source": [
    "### In this tutorial, you learned how to:  \n",
    "- **Handle Missing Values:** Identify and handle missing values in a dataset using Pandas. In this case, we simply dropped the missing values using df.dropna().\n",
    "- **Merge Dataframes:** Merge multiple datasets (student info, grades, and courses) into a single, unified dataset using Pandas' merge function.\n",
    "- **Group and Aggregate Data:** Calculate the average grade for each department and major using Pandas' groupby and mean functions."
   ]
  },
  {
   "cell_type": "markdown",
   "id": "62d93d5e-ceb1-4568-be2d-3d9fef5e2e1a",
   "metadata": {},
   "source": [
    "<p class=\"text-muted\">This tutorial was created by <a href=\"https://www.hedaro.com\" target=\"_blank\"><strong>HEDARO</strong></a></p>"
   ]
  }
 ],
 "metadata": {
  "kernelspec": {
   "display_name": "Python 3 (ipykernel)",
   "language": "python",
   "name": "python3"
  },
  "language_info": {
   "codemirror_mode": {
    "name": "ipython",
    "version": 3
   },
   "file_extension": ".py",
   "mimetype": "text/x-python",
   "name": "python",
   "nbconvert_exporter": "python",
   "pygments_lexer": "ipython3",
   "version": "3.11.7"
  }
 },
 "nbformat": 4,
 "nbformat_minor": 5
}
