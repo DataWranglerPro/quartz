{
 "cells": [
  {
   "cell_type": "markdown",
   "id": "8a0c833c-c9b5-4e24-b55e-940e9dff9719",
   "metadata": {},
   "source": [
    "# Clinical Data Quest  \n",
    "\n",
    "### Description:  \n",
    "You're a data analyst at a large healthcare organization, and your team has been tasked with analyzing patient outcomes and hospital resource utilization. Your hospital has implemented a new electronic health record (EHR) system, and you've been given access to a large dataset containing patient information, diagnoses, treatments, and outcomes. Your goal is to extract insights from this data to inform quality improvement initiatives and optimize resource allocation.\n",
    "\n",
    "### Tasks:\n",
    "- **Patient Outcome Analysis:** Calculate the average length of stay for patients with different diagnoses.\n",
    "- **Resource Utilization:** Determine the most common treatments prescribed for patients with a specific diagnosis (e.g., diabetes) and calculate the total cost of these treatments.\n",
    "- **Quality Improvement:** Identify patients who were readmitted within 30 days of discharge and analyze the most common reasons for readmission."
   ]
  },
  {
   "cell_type": "code",
   "execution_count": 1,
   "id": "9e99d57e-9eb3-4e3e-996b-bc80e086ecb6",
   "metadata": {},
   "outputs": [
    {
     "name": "stdout",
     "output_type": "stream",
     "text": [
      "Python version 3.11.7 | packaged by Anaconda, Inc. | (main, Dec 15 2023, 18:05:47) [MSC v.1916 64 bit (AMD64)]\n",
      "Pandas version 2.2.1\n",
      "Numpy version 1.26.4\n"
     ]
    }
   ],
   "source": [
    "# import libraries\n",
    "import pandas as pd\n",
    "import numpy as np\n",
    "import sys\n",
    "\n",
    "print('Python version ' + sys.version)\n",
    "print('Pandas version ' + pd.__version__)\n",
    "print('Numpy version ' + np.__version__)"
   ]
  },
  {
   "cell_type": "markdown",
   "id": "a50f58c7-9a71-4346-8295-8c7359319d9a",
   "metadata": {},
   "source": [
    "# The Data  \n",
    "\n",
    "The dataset contains patient information, including demographics, diagnoses, treatments, outcomes, length of stay, and costs, as well as readmission data for patients who were readmitted within 30 days of discharge. This dataset represents a realistic scenario for a large healthcare organization, with a mix of categorical and numerical data.  \n",
    "\n",
    "### Columns:  \n",
    "- **Patient ID:** Unique identifier for each patient\n",
    "- **Age:** Patient age in years\n",
    "- **Diagnosis:** Primary diagnosis for each patient\n",
    "- **Treatment:** Primary treatment prescribed for each patient\n",
    "- **Outcome:** Outcome for each patient (discharged, readmitted, or deceased)\n",
    "- **Length of Stay:** Number of days each patient stayed in the hospital\n",
    "- **Cost:** Total cost of treatment for each patient\n",
    "- **Readmission Reason:** Reason for readmission (if applicable)"
   ]
  },
  {
   "cell_type": "code",
   "execution_count": 2,
   "id": "695c183c-693b-4b22-987e-595dda058a5f",
   "metadata": {},
   "outputs": [],
   "source": [
    "# set the seed\n",
    "np.random.seed(0)\n",
    "\n",
    "# generate patient data\n",
    "patient_data = pd.DataFrame({\n",
    "    'Patient ID': np.arange(1, 10001),\n",
    "    'Age': np.random.randint(18, 90, size=10000),\n",
    "    'Diagnosis': np.random.choice(['Diabetes', 'Heart Failure', 'Pneumonia', 'Cancer', 'Stroke'], size=10000),\n",
    "    'Treatment': np.random.choice(['Medication', 'Surgery', 'Physical Therapy', 'Chemotherapy', 'Radiation'], size=10000),\n",
    "    'Outcome': np.random.choice(['Discharged', 'Readmitted', 'Deceased'], size=10000),\n",
    "    'Length of Stay': np.random.randint(1, 30, size=10000),\n",
    "    'Cost': np.random.randint(1000, 10000, size=10000)\n",
    "})\n",
    "\n",
    "# generate readmission data\n",
    "readmission_data = pd.DataFrame({\n",
    "    'Patient ID': np.random.choice(patient_data['Patient ID'], size=2000, replace=False),\n",
    "    'Readmission Reason': np.random.choice(['Complication', 'Infection', 'Non-compliance', 'Other'], size=2000)\n",
    "})"
   ]
  },
  {
   "cell_type": "markdown",
   "id": "3adfb4bd-80da-46a2-8e52-b6dc5b319a97",
   "metadata": {},
   "source": [
    "Let us look at the two dataframes we created above to make sure the data types are correct."
   ]
  },
  {
   "cell_type": "code",
   "execution_count": 3,
   "id": "5499f82c-9035-4adf-ab93-93ffd6c2b45b",
   "metadata": {},
   "outputs": [
    {
     "name": "stdout",
     "output_type": "stream",
     "text": [
      "<class 'pandas.core.frame.DataFrame'>\n",
      "RangeIndex: 10000 entries, 0 to 9999\n",
      "Data columns (total 7 columns):\n",
      " #   Column          Non-Null Count  Dtype \n",
      "---  ------          --------------  ----- \n",
      " 0   Patient ID      10000 non-null  int32 \n",
      " 1   Age             10000 non-null  int32 \n",
      " 2   Diagnosis       10000 non-null  object\n",
      " 3   Treatment       10000 non-null  object\n",
      " 4   Outcome         10000 non-null  object\n",
      " 5   Length of Stay  10000 non-null  int32 \n",
      " 6   Cost            10000 non-null  int32 \n",
      "dtypes: int32(4), object(3)\n",
      "memory usage: 390.8+ KB\n"
     ]
    }
   ],
   "source": [
    "patient_data.info()"
   ]
  },
  {
   "cell_type": "markdown",
   "id": "11f19bd2-1036-49f3-aca1-ad662f1d6701",
   "metadata": {},
   "source": [
    "Remember, the data type named \"object\" is a catch-all data type for columns that contain mixed data types or data that can't be represented by other dtypes, such as:  \n",
    "- Strings\n",
    "- Lists\n",
    "- Dictionaries\n",
    "- Other objects\n",
    "\n",
    "The \"Readmission Reason\" column in the dataframe below contains strings."
   ]
  },
  {
   "cell_type": "code",
   "execution_count": 4,
   "id": "0005866b-858c-46ee-ba54-c0afa461880e",
   "metadata": {},
   "outputs": [
    {
     "name": "stdout",
     "output_type": "stream",
     "text": [
      "<class 'pandas.core.frame.DataFrame'>\n",
      "RangeIndex: 2000 entries, 0 to 1999\n",
      "Data columns (total 2 columns):\n",
      " #   Column              Non-Null Count  Dtype \n",
      "---  ------              --------------  ----- \n",
      " 0   Patient ID          2000 non-null   int32 \n",
      " 1   Readmission Reason  2000 non-null   object\n",
      "dtypes: int32(1), object(1)\n",
      "memory usage: 23.6+ KB\n"
     ]
    }
   ],
   "source": [
    "readmission_data.info()"
   ]
  },
  {
   "cell_type": "markdown",
   "id": "09d9d8a1-6f40-437b-b12e-455dfa85f8e5",
   "metadata": {},
   "source": [
    "# Patient Outcome Analysis:  \n",
    "\n",
    "Calculate the average length of stay for patients with different diagnoses.  \n",
    "\n",
    "The data indicates that heart failure patients have the longest average length of stay."
   ]
  },
  {
   "cell_type": "code",
   "execution_count": 5,
   "id": "82e0bb56-0b0a-474f-9c07-b862c473dc98",
   "metadata": {},
   "outputs": [
    {
     "data": {
      "text/plain": [
       "Diagnosis\n",
       "Cancer           15.043435\n",
       "Diabetes         14.959919\n",
       "Heart Failure    15.250129\n",
       "Pneumonia        14.859920\n",
       "Stroke           14.989289\n",
       "Name: Length of Stay, dtype: float64"
      ]
     },
     "execution_count": 5,
     "metadata": {},
     "output_type": "execute_result"
    }
   ],
   "source": [
    "# create group object\n",
    "group = patient_data.groupby('Diagnosis')\n",
    "\n",
    "# get the average length of stay for group\n",
    "group['Length of Stay'].mean()"
   ]
  },
  {
   "cell_type": "markdown",
   "id": "cc9bdf89-0c06-497a-822c-fdfc5aa549fb",
   "metadata": {},
   "source": [
    "# Resource Utilization:  \n",
    "\n",
    "Determine the most common treatments prescribed for patients with a specific diagnosis (e.g., diabetes) and calculate the total cost of these treatments."
   ]
  },
  {
   "cell_type": "code",
   "execution_count": 6,
   "id": "dcd37e79-36f4-4213-a3d3-7a1a5fb33696",
   "metadata": {},
   "outputs": [
    {
     "data": {
      "text/html": [
       "<div>\n",
       "<style scoped>\n",
       "    .dataframe tbody tr th:only-of-type {\n",
       "        vertical-align: middle;\n",
       "    }\n",
       "\n",
       "    .dataframe tbody tr th {\n",
       "        vertical-align: top;\n",
       "    }\n",
       "\n",
       "    .dataframe thead th {\n",
       "        text-align: right;\n",
       "    }\n",
       "</style>\n",
       "<table border=\"1\" class=\"dataframe\">\n",
       "  <thead>\n",
       "    <tr style=\"text-align: right;\">\n",
       "      <th></th>\n",
       "      <th>Diagnosis</th>\n",
       "      <th>Treatment</th>\n",
       "      <th>Count</th>\n",
       "    </tr>\n",
       "  </thead>\n",
       "  <tbody>\n",
       "    <tr>\n",
       "      <th>0</th>\n",
       "      <td>Stroke</td>\n",
       "      <td>Physical Therapy</td>\n",
       "      <td>436</td>\n",
       "    </tr>\n",
       "    <tr>\n",
       "      <th>1</th>\n",
       "      <td>Stroke</td>\n",
       "      <td>Radiation</td>\n",
       "      <td>426</td>\n",
       "    </tr>\n",
       "    <tr>\n",
       "      <th>2</th>\n",
       "      <td>Pneumonia</td>\n",
       "      <td>Medication</td>\n",
       "      <td>414</td>\n",
       "    </tr>\n",
       "    <tr>\n",
       "      <th>3</th>\n",
       "      <td>Pneumonia</td>\n",
       "      <td>Radiation</td>\n",
       "      <td>413</td>\n",
       "    </tr>\n",
       "    <tr>\n",
       "      <th>4</th>\n",
       "      <td>Heart Failure</td>\n",
       "      <td>Physical Therapy</td>\n",
       "      <td>414</td>\n",
       "    </tr>\n",
       "    <tr>\n",
       "      <th>5</th>\n",
       "      <td>Heart Failure</td>\n",
       "      <td>Radiation</td>\n",
       "      <td>391</td>\n",
       "    </tr>\n",
       "    <tr>\n",
       "      <th>6</th>\n",
       "      <td>Diabetes</td>\n",
       "      <td>Chemotherapy</td>\n",
       "      <td>408</td>\n",
       "    </tr>\n",
       "    <tr>\n",
       "      <th>7</th>\n",
       "      <td>Diabetes</td>\n",
       "      <td>Radiation</td>\n",
       "      <td>404</td>\n",
       "    </tr>\n",
       "    <tr>\n",
       "      <th>8</th>\n",
       "      <td>Cancer</td>\n",
       "      <td>Surgery</td>\n",
       "      <td>438</td>\n",
       "    </tr>\n",
       "    <tr>\n",
       "      <th>9</th>\n",
       "      <td>Cancer</td>\n",
       "      <td>Medication</td>\n",
       "      <td>416</td>\n",
       "    </tr>\n",
       "  </tbody>\n",
       "</table>\n",
       "</div>"
      ],
      "text/plain": [
       "       Diagnosis         Treatment  Count\n",
       "0         Stroke  Physical Therapy    436\n",
       "1         Stroke         Radiation    426\n",
       "2      Pneumonia        Medication    414\n",
       "3      Pneumonia         Radiation    413\n",
       "4  Heart Failure  Physical Therapy    414\n",
       "5  Heart Failure         Radiation    391\n",
       "6       Diabetes      Chemotherapy    408\n",
       "7       Diabetes         Radiation    404\n",
       "8         Cancer           Surgery    438\n",
       "9         Cancer        Medication    416"
      ]
     },
     "execution_count": 6,
     "metadata": {},
     "output_type": "execute_result"
    }
   ],
   "source": [
    "# create group object\n",
    "group = patient_data.groupby(['Diagnosis','Treatment'])\n",
    "\n",
    "# get the counts\n",
    "all = group.count()['Cost'].reset_index(name='Count').sort_values(by=['Diagnosis','Count'], ascending=False)\n",
    "\n",
    "# get the top 2 treatments per Diagnosis\n",
    "top2 = all.groupby(['Diagnosis']).head(2).reset_index(drop=True)\n",
    "top2"
   ]
  },
  {
   "cell_type": "markdown",
   "id": "9472a92a-db3a-4e9f-ba81-586a957fa131",
   "metadata": {},
   "source": [
    "Now that we have the most common treatements per diagnosis. Let us join this dataset with the original patient_data dataset. This will ensure we filter our data to only include the top 2 treatments and then we can get the total cost.  \n",
    "\n",
    "**Note:** I choose to extract the top 2 treatments to show you the code to accomplish this data wrangling technique."
   ]
  },
  {
   "cell_type": "code",
   "execution_count": 7,
   "id": "4c4979ba-0547-43d6-af93-5d565a0a1592",
   "metadata": {},
   "outputs": [
    {
     "data": {
      "text/plain": [
       "Diagnosis      Treatment       \n",
       "Cancer         Medication          2343712\n",
       "               Surgery             2407609\n",
       "Diabetes       Chemotherapy        2252451\n",
       "               Radiation           2274558\n",
       "Heart Failure  Physical Therapy    2233649\n",
       "               Radiation           2137515\n",
       "Pneumonia      Medication          2183974\n",
       "               Radiation           2249833\n",
       "Stroke         Physical Therapy    2463359\n",
       "               Radiation           2359345\n",
       "Name: Cost, dtype: int32"
      ]
     },
     "execution_count": 7,
     "metadata": {},
     "output_type": "execute_result"
    }
   ],
   "source": [
    "# filter data to only include top2\n",
    "filtered = patient_data.merge(top2, left_on=['Diagnosis','Treatment'], right_on=['Diagnosis','Treatment'])\n",
    "\n",
    "# create group object\n",
    "group = filtered.groupby(['Diagnosis','Treatment'])\n",
    "\n",
    "# get total cost\n",
    "group['Cost'].sum()"
   ]
  },
  {
   "cell_type": "markdown",
   "id": "8b5cbcc0-e343-4f3a-905a-8eb3780d9409",
   "metadata": {},
   "source": [
    "# Quality Improvement:  \n",
    "\n",
    "Identify patients who were readmitted within 30 days of discharge and analyze the most common reasons for readmission.  \n",
    "\n",
    "We will make the join on the common column named \"Patient ID\" and do a left join. The reason is that by default Pandas will do an inner join and only return the rows where the two dataframes have matching Patient IDs. We want to inlcude all of the rows in patient_data, even if they don't have a matching Patient ID on the other dataframe. "
   ]
  },
  {
   "cell_type": "code",
   "execution_count": 8,
   "id": "90a9114e-19ad-4349-9a26-818c59fa2781",
   "metadata": {},
   "outputs": [
    {
     "data": {
      "text/html": [
       "<div>\n",
       "<style scoped>\n",
       "    .dataframe tbody tr th:only-of-type {\n",
       "        vertical-align: middle;\n",
       "    }\n",
       "\n",
       "    .dataframe tbody tr th {\n",
       "        vertical-align: top;\n",
       "    }\n",
       "\n",
       "    .dataframe thead th {\n",
       "        text-align: right;\n",
       "    }\n",
       "</style>\n",
       "<table border=\"1\" class=\"dataframe\">\n",
       "  <thead>\n",
       "    <tr style=\"text-align: right;\">\n",
       "      <th></th>\n",
       "      <th>Patient ID</th>\n",
       "      <th>Age</th>\n",
       "      <th>Diagnosis</th>\n",
       "      <th>Treatment</th>\n",
       "      <th>Outcome</th>\n",
       "      <th>Length of Stay</th>\n",
       "      <th>Cost</th>\n",
       "      <th>Readmission Reason</th>\n",
       "    </tr>\n",
       "  </thead>\n",
       "  <tbody>\n",
       "    <tr>\n",
       "      <th>0</th>\n",
       "      <td>1</td>\n",
       "      <td>62</td>\n",
       "      <td>Cancer</td>\n",
       "      <td>Chemotherapy</td>\n",
       "      <td>Deceased</td>\n",
       "      <td>11</td>\n",
       "      <td>5334</td>\n",
       "      <td>NaN</td>\n",
       "    </tr>\n",
       "    <tr>\n",
       "      <th>1</th>\n",
       "      <td>2</td>\n",
       "      <td>65</td>\n",
       "      <td>Heart Failure</td>\n",
       "      <td>Chemotherapy</td>\n",
       "      <td>Readmitted</td>\n",
       "      <td>2</td>\n",
       "      <td>9276</td>\n",
       "      <td>NaN</td>\n",
       "    </tr>\n",
       "    <tr>\n",
       "      <th>2</th>\n",
       "      <td>3</td>\n",
       "      <td>82</td>\n",
       "      <td>Stroke</td>\n",
       "      <td>Medication</td>\n",
       "      <td>Readmitted</td>\n",
       "      <td>1</td>\n",
       "      <td>2093</td>\n",
       "      <td>NaN</td>\n",
       "    </tr>\n",
       "    <tr>\n",
       "      <th>3</th>\n",
       "      <td>4</td>\n",
       "      <td>85</td>\n",
       "      <td>Cancer</td>\n",
       "      <td>Radiation</td>\n",
       "      <td>Discharged</td>\n",
       "      <td>23</td>\n",
       "      <td>5313</td>\n",
       "      <td>NaN</td>\n",
       "    </tr>\n",
       "    <tr>\n",
       "      <th>4</th>\n",
       "      <td>5</td>\n",
       "      <td>85</td>\n",
       "      <td>Diabetes</td>\n",
       "      <td>Surgery</td>\n",
       "      <td>Discharged</td>\n",
       "      <td>27</td>\n",
       "      <td>4569</td>\n",
       "      <td>NaN</td>\n",
       "    </tr>\n",
       "    <tr>\n",
       "      <th>...</th>\n",
       "      <td>...</td>\n",
       "      <td>...</td>\n",
       "      <td>...</td>\n",
       "      <td>...</td>\n",
       "      <td>...</td>\n",
       "      <td>...</td>\n",
       "      <td>...</td>\n",
       "      <td>...</td>\n",
       "    </tr>\n",
       "    <tr>\n",
       "      <th>9995</th>\n",
       "      <td>9996</td>\n",
       "      <td>53</td>\n",
       "      <td>Diabetes</td>\n",
       "      <td>Surgery</td>\n",
       "      <td>Discharged</td>\n",
       "      <td>25</td>\n",
       "      <td>2347</td>\n",
       "      <td>NaN</td>\n",
       "    </tr>\n",
       "    <tr>\n",
       "      <th>9996</th>\n",
       "      <td>9997</td>\n",
       "      <td>82</td>\n",
       "      <td>Heart Failure</td>\n",
       "      <td>Radiation</td>\n",
       "      <td>Deceased</td>\n",
       "      <td>24</td>\n",
       "      <td>9782</td>\n",
       "      <td>NaN</td>\n",
       "    </tr>\n",
       "    <tr>\n",
       "      <th>9997</th>\n",
       "      <td>9998</td>\n",
       "      <td>45</td>\n",
       "      <td>Heart Failure</td>\n",
       "      <td>Chemotherapy</td>\n",
       "      <td>Deceased</td>\n",
       "      <td>1</td>\n",
       "      <td>4896</td>\n",
       "      <td>NaN</td>\n",
       "    </tr>\n",
       "    <tr>\n",
       "      <th>9998</th>\n",
       "      <td>9999</td>\n",
       "      <td>32</td>\n",
       "      <td>Stroke</td>\n",
       "      <td>Surgery</td>\n",
       "      <td>Discharged</td>\n",
       "      <td>6</td>\n",
       "      <td>9465</td>\n",
       "      <td>NaN</td>\n",
       "    </tr>\n",
       "    <tr>\n",
       "      <th>9999</th>\n",
       "      <td>10000</td>\n",
       "      <td>27</td>\n",
       "      <td>Diabetes</td>\n",
       "      <td>Medication</td>\n",
       "      <td>Deceased</td>\n",
       "      <td>7</td>\n",
       "      <td>4916</td>\n",
       "      <td>NaN</td>\n",
       "    </tr>\n",
       "  </tbody>\n",
       "</table>\n",
       "<p>10000 rows × 8 columns</p>\n",
       "</div>"
      ],
      "text/plain": [
       "      Patient ID  Age      Diagnosis     Treatment     Outcome  \\\n",
       "0              1   62         Cancer  Chemotherapy    Deceased   \n",
       "1              2   65  Heart Failure  Chemotherapy  Readmitted   \n",
       "2              3   82         Stroke    Medication  Readmitted   \n",
       "3              4   85         Cancer     Radiation  Discharged   \n",
       "4              5   85       Diabetes       Surgery  Discharged   \n",
       "...          ...  ...            ...           ...         ...   \n",
       "9995        9996   53       Diabetes       Surgery  Discharged   \n",
       "9996        9997   82  Heart Failure     Radiation    Deceased   \n",
       "9997        9998   45  Heart Failure  Chemotherapy    Deceased   \n",
       "9998        9999   32         Stroke       Surgery  Discharged   \n",
       "9999       10000   27       Diabetes    Medication    Deceased   \n",
       "\n",
       "      Length of Stay  Cost Readmission Reason  \n",
       "0                 11  5334                NaN  \n",
       "1                  2  9276                NaN  \n",
       "2                  1  2093                NaN  \n",
       "3                 23  5313                NaN  \n",
       "4                 27  4569                NaN  \n",
       "...              ...   ...                ...  \n",
       "9995              25  2347                NaN  \n",
       "9996              24  9782                NaN  \n",
       "9997               1  4896                NaN  \n",
       "9998               6  9465                NaN  \n",
       "9999               7  4916                NaN  \n",
       "\n",
       "[10000 rows x 8 columns]"
      ]
     },
     "execution_count": 8,
     "metadata": {},
     "output_type": "execute_result"
    }
   ],
   "source": [
    "# join the two dataframes to get the readmission data\n",
    "new_df = patient_data.merge(readmission_data, on='Patient ID', how='left')\n",
    "new_df"
   ]
  },
  {
   "cell_type": "markdown",
   "id": "783de960-33f6-4ed8-908d-caa9d2276950",
   "metadata": {},
   "source": [
    "We can now filter the data and visualize it.  \n",
    "\n",
    "**note:** Since the readmission_data dataset did not provide us with any dates, I used the \"length of stay\". "
   ]
  },
  {
   "cell_type": "code",
   "execution_count": 9,
   "id": "cc733578-685e-4764-8827-49f9f9405f50",
   "metadata": {},
   "outputs": [
    {
     "data": {
      "text/html": [
       "<div>\n",
       "<style scoped>\n",
       "    .dataframe tbody tr th:only-of-type {\n",
       "        vertical-align: middle;\n",
       "    }\n",
       "\n",
       "    .dataframe tbody tr th {\n",
       "        vertical-align: top;\n",
       "    }\n",
       "\n",
       "    .dataframe thead th {\n",
       "        text-align: right;\n",
       "    }\n",
       "</style>\n",
       "<table border=\"1\" class=\"dataframe\">\n",
       "  <thead>\n",
       "    <tr style=\"text-align: right;\">\n",
       "      <th></th>\n",
       "      <th>Patient ID</th>\n",
       "      <th>Age</th>\n",
       "      <th>Diagnosis</th>\n",
       "      <th>Treatment</th>\n",
       "      <th>Outcome</th>\n",
       "      <th>Length of Stay</th>\n",
       "      <th>Cost</th>\n",
       "      <th>Readmission Reason</th>\n",
       "    </tr>\n",
       "  </thead>\n",
       "  <tbody>\n",
       "    <tr>\n",
       "      <th>37</th>\n",
       "      <td>38</td>\n",
       "      <td>52</td>\n",
       "      <td>Cancer</td>\n",
       "      <td>Radiation</td>\n",
       "      <td>Readmitted</td>\n",
       "      <td>7</td>\n",
       "      <td>1595</td>\n",
       "      <td>Infection</td>\n",
       "    </tr>\n",
       "    <tr>\n",
       "      <th>41</th>\n",
       "      <td>42</td>\n",
       "      <td>71</td>\n",
       "      <td>Diabetes</td>\n",
       "      <td>Medication</td>\n",
       "      <td>Readmitted</td>\n",
       "      <td>4</td>\n",
       "      <td>6443</td>\n",
       "      <td>Other</td>\n",
       "    </tr>\n",
       "    <tr>\n",
       "      <th>52</th>\n",
       "      <td>53</td>\n",
       "      <td>75</td>\n",
       "      <td>Stroke</td>\n",
       "      <td>Surgery</td>\n",
       "      <td>Deceased</td>\n",
       "      <td>25</td>\n",
       "      <td>8388</td>\n",
       "      <td>Infection</td>\n",
       "    </tr>\n",
       "    <tr>\n",
       "      <th>53</th>\n",
       "      <td>54</td>\n",
       "      <td>53</td>\n",
       "      <td>Diabetes</td>\n",
       "      <td>Physical Therapy</td>\n",
       "      <td>Deceased</td>\n",
       "      <td>23</td>\n",
       "      <td>8769</td>\n",
       "      <td>Complication</td>\n",
       "    </tr>\n",
       "    <tr>\n",
       "      <th>54</th>\n",
       "      <td>55</td>\n",
       "      <td>29</td>\n",
       "      <td>Diabetes</td>\n",
       "      <td>Medication</td>\n",
       "      <td>Readmitted</td>\n",
       "      <td>25</td>\n",
       "      <td>6392</td>\n",
       "      <td>Complication</td>\n",
       "    </tr>\n",
       "  </tbody>\n",
       "</table>\n",
       "</div>"
      ],
      "text/plain": [
       "    Patient ID  Age Diagnosis         Treatment     Outcome  Length of Stay  \\\n",
       "37          38   52    Cancer         Radiation  Readmitted               7   \n",
       "41          42   71  Diabetes        Medication  Readmitted               4   \n",
       "52          53   75    Stroke           Surgery    Deceased              25   \n",
       "53          54   53  Diabetes  Physical Therapy    Deceased              23   \n",
       "54          55   29  Diabetes        Medication  Readmitted              25   \n",
       "\n",
       "    Cost Readmission Reason  \n",
       "37  1595          Infection  \n",
       "41  6443              Other  \n",
       "52  8388          Infection  \n",
       "53  8769       Complication  \n",
       "54  6392       Complication  "
      ]
     },
     "execution_count": 9,
     "metadata": {},
     "output_type": "execute_result"
    }
   ],
   "source": [
    "# identify all the rows that had a length of stay within 30 days\n",
    "within_30_days = new_df['Length of Stay'] < 30\n",
    "\n",
    "# identify all of the rows that had a readmission reason\n",
    "readmission = new_df['Readmission Reason'].notnull()\n",
    "\n",
    "# filtered data\n",
    "final = new_df[within_30_days & readmission]\n",
    "final.head()"
   ]
  },
  {
   "cell_type": "markdown",
   "id": "50d0f3e9-bf28-4993-81bb-e6435071fcb7",
   "metadata": {},
   "source": [
    "Here is a simple bar chart that shows that the most common reason for readmission was \"Non-compliance\". "
   ]
  },
  {
   "cell_type": "code",
   "execution_count": 10,
   "id": "a2f75718-b432-47bc-9f06-0e60b70ccea6",
   "metadata": {},
   "outputs": [
    {
     "data": {
      "image/png": "[encoded data removed]",
      "text/plain": [
       "<Figure size 640x480 with 1 Axes>"
      ]
     },
     "metadata": {},
     "output_type": "display_data"
    }
   ],
   "source": [
    "final['Readmission Reason'].value_counts().plot.bar();"
   ]
  },
  {
   "cell_type": "markdown",
   "id": "40ac0822-6954-4fb2-8a35-e351c71a848a",
   "metadata": {},
   "source": [
    "# Summary\n",
    "\n",
    "This tutorial walked you through a clinical data analysis project where we analyzed patient outcomes and hospital resource utilization using a sample dataset. We performed various data analysis tasks, including calculating the average length of stay for patients with different diagnoses, identifying the most common treatments and their costs, and determining the reasons for readmission within 30 days of discharge. Our analysis revealed that heart failure patients had the longest average length of stay, and non-compliance was the most common reason for readmission.\n",
    "\n",
    "### Key Takeaways:\n",
    "- How to group data by diagnosis and calculate average length of stay\n",
    "- How to filter data to include only top treatments per diagnosis and calculate total cost\n",
    "- How to join two dataframes on a common column (Patient ID) and perform a left join\n",
    "- How to filter data to include only patients readmitted within 30 days and analyze readmission reasons\n",
    "- How to create a simple bar chart to visualize readmission reasons using Pandas and Matplotlib"
   ]
  },
  {
   "cell_type": "markdown",
   "id": "bbadae38-6829-4293-8f19-d5daab65523a",
   "metadata": {},
   "source": [
    "<p class=\"text-muted\">This tutorial was created by <a href=\"https://www.hedaro.com\" target=\"_blank\"><strong>HEDARO</strong></a></p>"
   ]
  }
 ],
 "metadata": {
  "kernelspec": {
   "display_name": "Python 3 (ipykernel)",
   "language": "python",
   "name": "python3"
  },
  "language_info": {
   "codemirror_mode": {
    "name": "ipython",
    "version": 3
   },
   "file_extension": ".py",
   "mimetype": "text/x-python",
   "name": "python",
   "nbconvert_exporter": "python",
   "pygments_lexer": "ipython3",
   "version": "3.11.7"
  }
 },
 "nbformat": 4,
 "nbformat_minor": 5
}
