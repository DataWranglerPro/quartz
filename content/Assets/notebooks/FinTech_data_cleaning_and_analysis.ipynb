{
 "cells": [
  {
   "cell_type": "markdown",
   "id": "8dd8b819-f29f-4887-93a8-007d21c5bf08",
   "metadata": {},
   "source": [
    "# Challenge: \"Financial Data Cleaning and Analysis\"\n",
    "\n",
    "### Description:\n",
    "You are a fintech professional working for a investment firm. Your team has received a large dataset containing financial transactions from various sources, including stocks, bonds, and ETFs. The dataset is messy and requires cleaning before analysis. Your task is to use Pandas to clean and analyze the data to extract valuable insights.\n",
    "\n",
    "### Task:\n",
    "- Clean the data by handling missing values and converting data types where necessary.\n",
    "- Calculate the total value of all transactions for each ticker symbol.\n",
    "- Calculate the average price per share for each ticker symbol.\n",
    "- Identify the top 5 tickers with the highest total value of transactions.\n",
    "\n",
    "Good luck!"
   ]
  },
  {
   "cell_type": "code",
   "execution_count": 1,
   "id": "606e0836-0b95-428f-bc94-6c9e1ccdaea3",
   "metadata": {},
   "outputs": [],
   "source": [
    "import pandas as pd\n",
    "import numpy as np\n",
    "import sys"
   ]
  },
  {
   "cell_type": "code",
   "execution_count": 2,
   "id": "462b3b29-4062-4a6a-8d73-3f07dc08c569",
   "metadata": {},
   "outputs": [
    {
     "name": "stdout",
     "output_type": "stream",
     "text": [
      "Python version 3.11.7 | packaged by Anaconda, Inc. | (main, Dec 15 2023, 18:05:47) [MSC v.1916 64 bit (AMD64)]\n",
      "Pandas version 2.2.1\n",
      "Numpy version 1.26.4\n"
     ]
    }
   ],
   "source": [
    "print('Python version ' + sys.version)\n",
    "print('Pandas version ' + pd.__version__)\n",
    "print('Numpy version ' + np.__version__)"
   ]
  },
  {
   "cell_type": "markdown",
   "id": "c5b8d5ce-37c9-4571-a924-a412e6412805",
   "metadata": {},
   "source": [
    "### Generate the data  \n",
    "\n",
    "Column Names and Data Types:  \n",
    "\r",
    "- **date**\r\n",
    "    - Data Type: datetime\r\n",
    "    - Description: Date of transaction\r\n",
    "- **ticker**\r\n",
    "    - Data Type: string\r\n",
    "    - Description: Ticker symbol of security\r\n",
    "- **type**\r\n",
    "    - Data Type: string\r\n",
    "    - Description: Type of transaction (buy/sell)\r\n",
    "- **quantity**\r\n",
    "    - Data Type: int\r\n",
    "    - Description: Number of shares/units traded\r\n",
    "- **price**\r\n",
    "    - Data Type: float\r\n",
    "    - Description: Price per share/unit\r\n",
    "- **fees**\r\n",
    "    - Data Type: float\r\n",
    "    - Description: Transaction fees\r\n",
    "- **total_value**\r\n",
    "    - Data Type: float\r\n",
    "    - Description: Total value of transaction value of transaction"
   ]
  },
  {
   "cell_type": "code",
   "execution_count": 3,
   "id": "9f27453c-2f9d-4302-8712-05d056efe0a8",
   "metadata": {},
   "outputs": [],
   "source": [
    "# define the number of transactions\n",
    "num_transactions = 1000\n",
    "\n",
    "# generate random data\n",
    "data = {\n",
    "    'date': pd.date_range('2022-01-01', periods=num_transactions),\n",
    "    'ticker': np.random.choice(['AAPL', 'GOOG', 'MSFT', 'AMZN', 'FB'], num_transactions),\n",
    "    'type': np.random.choice(['buy', 'sell'], num_transactions),\n",
    "    'quantity': np.random.randint(1, 100, num_transactions),\n",
    "    'price': np.round(np.random.uniform(100, 5000, num_transactions), 2),\n",
    "    'fees': np.round(np.random.uniform(10, 50, num_transactions), 2)\n",
    "}"
   ]
  },
  {
   "cell_type": "code",
   "execution_count": 4,
   "id": "2a8606fb-6ca0-453f-863e-728de686676a",
   "metadata": {},
   "outputs": [
    {
     "data": {
      "text/html": [
       "<div>\n",
       "<style scoped>\n",
       "    .dataframe tbody tr th:only-of-type {\n",
       "        vertical-align: middle;\n",
       "    }\n",
       "\n",
       "    .dataframe tbody tr th {\n",
       "        vertical-align: top;\n",
       "    }\n",
       "\n",
       "    .dataframe thead th {\n",
       "        text-align: right;\n",
       "    }\n",
       "</style>\n",
       "<table border=\"1\" class=\"dataframe\">\n",
       "  <thead>\n",
       "    <tr style=\"text-align: right;\">\n",
       "      <th></th>\n",
       "      <th>date</th>\n",
       "      <th>ticker</th>\n",
       "      <th>type</th>\n",
       "      <th>quantity</th>\n",
       "      <th>price</th>\n",
       "      <th>fees</th>\n",
       "      <th>total_value</th>\n",
       "    </tr>\n",
       "  </thead>\n",
       "  <tbody>\n",
       "    <tr>\n",
       "      <th>0</th>\n",
       "      <td>2022-01-01</td>\n",
       "      <td>AAPL</td>\n",
       "      <td>sell</td>\n",
       "      <td>81</td>\n",
       "      <td>NaN</td>\n",
       "      <td>10.49</td>\n",
       "      <td>256384.44</td>\n",
       "    </tr>\n",
       "    <tr>\n",
       "      <th>1</th>\n",
       "      <td>2022-01-02</td>\n",
       "      <td>GOOG</td>\n",
       "      <td>buy</td>\n",
       "      <td>40</td>\n",
       "      <td>3344.64</td>\n",
       "      <td>45.95</td>\n",
       "      <td>133785.60</td>\n",
       "    </tr>\n",
       "    <tr>\n",
       "      <th>2</th>\n",
       "      <td>2022-01-03</td>\n",
       "      <td>AAPL</td>\n",
       "      <td>sell</td>\n",
       "      <td>5</td>\n",
       "      <td>3086.66</td>\n",
       "      <td>46.78</td>\n",
       "      <td>15433.30</td>\n",
       "    </tr>\n",
       "    <tr>\n",
       "      <th>3</th>\n",
       "      <td>2022-01-04</td>\n",
       "      <td>AMZN</td>\n",
       "      <td>sell</td>\n",
       "      <td>19</td>\n",
       "      <td>3628.68</td>\n",
       "      <td>42.47</td>\n",
       "      <td>68944.92</td>\n",
       "    </tr>\n",
       "    <tr>\n",
       "      <th>4</th>\n",
       "      <td>2022-01-05</td>\n",
       "      <td>FB</td>\n",
       "      <td>buy</td>\n",
       "      <td>24</td>\n",
       "      <td>2359.98</td>\n",
       "      <td>31.41</td>\n",
       "      <td>56639.52</td>\n",
       "    </tr>\n",
       "    <tr>\n",
       "      <th>5</th>\n",
       "      <td>2022-01-06</td>\n",
       "      <td>MSFT</td>\n",
       "      <td>buy</td>\n",
       "      <td>41</td>\n",
       "      <td>325.54</td>\n",
       "      <td>22.28</td>\n",
       "      <td>13347.14</td>\n",
       "    </tr>\n",
       "    <tr>\n",
       "      <th>6</th>\n",
       "      <td>2022-01-07</td>\n",
       "      <td>GOOG</td>\n",
       "      <td>buy</td>\n",
       "      <td>63</td>\n",
       "      <td>4658.47</td>\n",
       "      <td>46.30</td>\n",
       "      <td>293483.61</td>\n",
       "    </tr>\n",
       "    <tr>\n",
       "      <th>7</th>\n",
       "      <td>2022-01-08</td>\n",
       "      <td>AMZN</td>\n",
       "      <td>buy</td>\n",
       "      <td>42</td>\n",
       "      <td>3676.60</td>\n",
       "      <td>29.48</td>\n",
       "      <td>154417.20</td>\n",
       "    </tr>\n",
       "    <tr>\n",
       "      <th>8</th>\n",
       "      <td>2022-01-09</td>\n",
       "      <td>FB</td>\n",
       "      <td>sell</td>\n",
       "      <td>83</td>\n",
       "      <td>3023.90</td>\n",
       "      <td>24.78</td>\n",
       "      <td>250983.70</td>\n",
       "    </tr>\n",
       "    <tr>\n",
       "      <th>9</th>\n",
       "      <td>2022-01-10</td>\n",
       "      <td>GOOG</td>\n",
       "      <td>sell</td>\n",
       "      <td>18</td>\n",
       "      <td>2796.46</td>\n",
       "      <td>12.22</td>\n",
       "      <td>50336.28</td>\n",
       "    </tr>\n",
       "  </tbody>\n",
       "</table>\n",
       "</div>"
      ],
      "text/plain": [
       "        date ticker  type  quantity    price   fees  total_value\n",
       "0 2022-01-01   AAPL  sell        81      NaN  10.49    256384.44\n",
       "1 2022-01-02   GOOG   buy        40  3344.64  45.95    133785.60\n",
       "2 2022-01-03   AAPL  sell         5  3086.66  46.78     15433.30\n",
       "3 2022-01-04   AMZN  sell        19  3628.68  42.47     68944.92\n",
       "4 2022-01-05     FB   buy        24  2359.98  31.41     56639.52\n",
       "5 2022-01-06   MSFT   buy        41   325.54  22.28     13347.14\n",
       "6 2022-01-07   GOOG   buy        63  4658.47  46.30    293483.61\n",
       "7 2022-01-08   AMZN   buy        42  3676.60  29.48    154417.20\n",
       "8 2022-01-09     FB  sell        83  3023.90  24.78    250983.70\n",
       "9 2022-01-10   GOOG  sell        18  2796.46  12.22     50336.28"
      ]
     },
     "execution_count": 4,
     "metadata": {},
     "output_type": "execute_result"
    }
   ],
   "source": [
    "# create the DataFrame\n",
    "df = pd.DataFrame(data)\n",
    "\n",
    "# calculate the total_value column\n",
    "df['total_value'] = df['quantity'] * df['price']\n",
    "\n",
    "# introduce missing values in the price column (30% missing)\n",
    "df['price'] = df['price'].apply(lambda x: np.nan if np.random.rand() < 0.3 else x)\n",
    "\n",
    "df.head(10)"
   ]
  },
  {
   "cell_type": "code",
   "execution_count": 5,
   "id": "f0317575-dac9-4cb2-8ce6-ea8c2298b3dd",
   "metadata": {},
   "outputs": [
    {
     "name": "stdout",
     "output_type": "stream",
     "text": [
      "<class 'pandas.core.frame.DataFrame'>\n",
      "RangeIndex: 1000 entries, 0 to 999\n",
      "Data columns (total 7 columns):\n",
      " #   Column       Non-Null Count  Dtype         \n",
      "---  ------       --------------  -----         \n",
      " 0   date         1000 non-null   datetime64[ns]\n",
      " 1   ticker       1000 non-null   object        \n",
      " 2   type         1000 non-null   object        \n",
      " 3   quantity     1000 non-null   int32         \n",
      " 4   price        723 non-null    float64       \n",
      " 5   fees         1000 non-null   float64       \n",
      " 6   total_value  1000 non-null   float64       \n",
      "dtypes: datetime64[ns](1), float64(3), int32(1), object(2)\n",
      "memory usage: 50.9+ KB\n"
     ]
    }
   ],
   "source": [
    "# check data types\n",
    "df.info()"
   ]
  },
  {
   "cell_type": "markdown",
   "id": "c74d743e-b528-49c8-a1e3-ea9d93631471",
   "metadata": {},
   "source": [
    "Since we have missing values, we can do the calculations by ignoring those rows."
   ]
  },
  {
   "cell_type": "code",
   "execution_count": 6,
   "id": "519505ea-0d8a-446c-8db2-be2db816b131",
   "metadata": {},
   "outputs": [
    {
     "data": {
      "text/plain": [
       "ticker\n",
       "AAPL    2596.966803\n",
       "AMZN    2731.562197\n",
       "FB      2658.133158\n",
       "GOOG    2513.125063\n",
       "MSFT    2568.949020\n",
       "Name: dropna_price, dtype: float64"
      ]
     },
     "execution_count": 6,
     "metadata": {},
     "output_type": "execute_result"
    }
   ],
   "source": [
    "# create group removing rows with missing values\n",
    "group = df.dropna().groupby('ticker')\n",
    "\n",
    "# calculate the average price per share for each ticker symbol\n",
    "g1 = group['price'].mean()\n",
    "g1 = g1.rename('dropna_price')\n",
    "g1"
   ]
  },
  {
   "cell_type": "markdown",
   "id": "586ead30-416f-473d-8b73-258e0ef43faa",
   "metadata": {},
   "source": [
    "We can also fill the missing values.\n",
    "\n",
    "- **ffill()** - Fill NA/NaN values by propagating the last valid observation to next valid.\n",
    "\n",
    "Example:\n",
    "```\n",
    ">>> ser = pd.Series([1, np.nan, 2, 3])\r\n",
    ">>> ser.ffill()\r\n",
    "0   1.0\r\n",
    "1   1.0\r\n",
    "2   2.0\r\n",
    "3   3.0"
   ]
  },
  {
   "cell_type": "code",
   "execution_count": 7,
   "id": "3c5ecded-e3c4-471c-bc20-cca5f9f3dd58",
   "metadata": {},
   "outputs": [
    {
     "data": {
      "text/plain": [
       "ticker\n",
       "AAPL    2622.748039\n",
       "AMZN    2655.890977\n",
       "FB      2744.863383\n",
       "GOOG    2489.436029\n",
       "MSFT    2647.735450\n",
       "Name: ffill_price, dtype: float64"
      ]
     },
     "execution_count": 7,
     "metadata": {},
     "output_type": "execute_result"
    }
   ],
   "source": [
    "# create group replacing missing values with last non null value\n",
    "group = df.ffill().groupby('ticker')\n",
    "\n",
    "# calculate the average price per share for each ticker symbol\n",
    "g2 = group['price'].mean()\n",
    "g2 = g2.rename('ffill_price')\n",
    "g2"
   ]
  },
  {
   "cell_type": "code",
   "execution_count": 8,
   "id": "f47cdbff-db85-470d-97ea-818a47803c0b",
   "metadata": {},
   "outputs": [
    {
     "data": {
      "text/html": [
       "<div>\n",
       "<style scoped>\n",
       "    .dataframe tbody tr th:only-of-type {\n",
       "        vertical-align: middle;\n",
       "    }\n",
       "\n",
       "    .dataframe tbody tr th {\n",
       "        vertical-align: top;\n",
       "    }\n",
       "\n",
       "    .dataframe thead th {\n",
       "        text-align: right;\n",
       "    }\n",
       "</style>\n",
       "<table border=\"1\" class=\"dataframe\">\n",
       "  <thead>\n",
       "    <tr style=\"text-align: right;\">\n",
       "      <th></th>\n",
       "      <th>dropna_price</th>\n",
       "      <th>ffill_price</th>\n",
       "    </tr>\n",
       "    <tr>\n",
       "      <th>ticker</th>\n",
       "      <th></th>\n",
       "      <th></th>\n",
       "    </tr>\n",
       "  </thead>\n",
       "  <tbody>\n",
       "    <tr>\n",
       "      <th>AAPL</th>\n",
       "      <td>2596.966803</td>\n",
       "      <td>2622.748039</td>\n",
       "    </tr>\n",
       "    <tr>\n",
       "      <th>AMZN</th>\n",
       "      <td>2731.562197</td>\n",
       "      <td>2655.890977</td>\n",
       "    </tr>\n",
       "    <tr>\n",
       "      <th>FB</th>\n",
       "      <td>2658.133158</td>\n",
       "      <td>2744.863383</td>\n",
       "    </tr>\n",
       "    <tr>\n",
       "      <th>GOOG</th>\n",
       "      <td>2513.125063</td>\n",
       "      <td>2489.436029</td>\n",
       "    </tr>\n",
       "    <tr>\n",
       "      <th>MSFT</th>\n",
       "      <td>2568.949020</td>\n",
       "      <td>2647.735450</td>\n",
       "    </tr>\n",
       "  </tbody>\n",
       "</table>\n",
       "</div>"
      ],
      "text/plain": [
       "        dropna_price  ffill_price\n",
       "ticker                           \n",
       "AAPL     2596.966803  2622.748039\n",
       "AMZN     2731.562197  2655.890977\n",
       "FB       2658.133158  2744.863383\n",
       "GOOG     2513.125063  2489.436029\n",
       "MSFT     2568.949020  2647.735450"
      ]
     },
     "execution_count": 8,
     "metadata": {},
     "output_type": "execute_result"
    }
   ],
   "source": [
    "# combine results to compare\n",
    "pd.concat([g1,g2], axis=1)"
   ]
  },
  {
   "cell_type": "markdown",
   "id": "d5496a7f-86ac-4087-9016-b845f4664a77",
   "metadata": {},
   "source": [
    "<p class=\"text-muted\">This tutorial was created by <a href=\"https://www.hedaro.com\" target=\"_blank\"><strong>HEDARO</strong></a></p>"
   ]
  }
 ],
 "metadata": {
  "kernelspec": {
   "display_name": "Python 3 (ipykernel)",
   "language": "python",
   "name": "python3"
  },
  "language_info": {
   "codemirror_mode": {
    "name": "ipython",
    "version": 3
   },
   "file_extension": ".py",
   "mimetype": "text/x-python",
   "name": "python",
   "nbconvert_exporter": "python",
   "pygments_lexer": "ipython3",
   "version": "3.11.7"
  }
 },
 "nbformat": 4,
 "nbformat_minor": 5
}
