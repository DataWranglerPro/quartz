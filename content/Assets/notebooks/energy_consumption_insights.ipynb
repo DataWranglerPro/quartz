{
 "cells": [
  {
   "cell_type": "markdown",
   "id": "2c92955a-eac7-46c3-8536-a0a15643e291",
   "metadata": {},
   "source": [
    "# Challenge: Energy Consumption Insights  \n",
    "\n",
    "### Description:  \n",
    "Imagine you're a data analyst at a utility company. Your team needs your help to analyze energy consumption data from smart meters. They want you to identify trends in energy usage, peak consumption periods, and areas with high energy demand. The data is in a large CSV file, and they need someone with your Pandas skills to wrangle it and extract valuable insights.\n",
    "\n",
    "### Tasks:  \n",
    "- Task 1: **Energy Usage Patterns** - Find the top 5 days with the highest average energy consumption.  \n",
    "- Task 2: **Peak Hours** - Identify the peak consumption hours of the day and calculate the average energy usage during those hours.  \n",
    "- Task 3: **High-Demand Areas** - Determine the top area (zip code) with the highest total energy consumption.  "
   ]
  },
  {
   "cell_type": "code",
   "execution_count": 1,
   "id": "4390842b-3a59-4f53-8e8e-138972c28676",
   "metadata": {},
   "outputs": [],
   "source": [
    "# import libraries\n",
    "import pandas as pd\n",
    "import numpy as np\n",
    "import sys"
   ]
  },
  {
   "cell_type": "code",
   "execution_count": 2,
   "id": "2d5216bb-d816-4d2f-b9da-9da26d38fe1d",
   "metadata": {},
   "outputs": [
    {
     "name": "stdout",
     "output_type": "stream",
     "text": [
      "Python version 3.11.7 | packaged by Anaconda, Inc. | (main, Dec 15 2023, 18:05:47) [MSC v.1916 64 bit (AMD64)]\n",
      "Pandas version 2.2.1\n",
      "Numpy version 1.26.4\n"
     ]
    }
   ],
   "source": [
    "print('Python version ' + sys.version)\n",
    "print('Pandas version ' + pd.__version__)\n",
    "print('Numpy version ' + np.__version__)"
   ]
  },
  {
   "cell_type": "markdown",
   "id": "024abd9f-1e52-4ca8-af73-15a50f9a349d",
   "metadata": {},
   "source": [
    "# The Data  \n",
    "\n",
    "The code below generates a dataset of 100,000 energy consumption records with the following columns:  \n",
    "- **date:** The date of energy consumption    \n",
    "- **time:** The time of energy consumption  \n",
    "- **zip_code:** The zip code of the area where energy consumption was recorded  \n",
    "- **energy_consumption:** The amount of energy consumed (in kilowatt-hours, kWh) during the specified date and time in the given zip code area\n",
    "\n",
    "The energy_consumption column contains the following **patterns**:  \n",
    "- For zip code '12345', a normal distribution with a mean of 20 and a standard deviation of 5.  \n",
    "- For zip code '67890', a normal distribution with a mean of 15 and a standard deviation of 3.  \n",
    "- For zip code '34567', a normal distribution with a mean of 30 and a standard deviation of 7.  "
   ]
  },
  {
   "cell_type": "code",
   "execution_count": 3,
   "id": "d7d37a80-f028-46ce-9e93-bad00b6e7cab",
   "metadata": {},
   "outputs": [
    {
     "data": {
      "text/html": [
       "<div>\n",
       "<style scoped>\n",
       "    .dataframe tbody tr th:only-of-type {\n",
       "        vertical-align: middle;\n",
       "    }\n",
       "\n",
       "    .dataframe tbody tr th {\n",
       "        vertical-align: top;\n",
       "    }\n",
       "\n",
       "    .dataframe thead th {\n",
       "        text-align: right;\n",
       "    }\n",
       "</style>\n",
       "<table border=\"1\" class=\"dataframe\">\n",
       "  <thead>\n",
       "    <tr style=\"text-align: right;\">\n",
       "      <th></th>\n",
       "      <th>date</th>\n",
       "      <th>time</th>\n",
       "      <th>zip_code</th>\n",
       "      <th>energy_consumption</th>\n",
       "    </tr>\n",
       "  </thead>\n",
       "  <tbody>\n",
       "    <tr>\n",
       "      <th>0</th>\n",
       "      <td>2022-06-22</td>\n",
       "      <td>18:00</td>\n",
       "      <td>67890</td>\n",
       "      <td>13.514508</td>\n",
       "    </tr>\n",
       "    <tr>\n",
       "      <th>1</th>\n",
       "      <td>2022-02-17</td>\n",
       "      <td>20:00</td>\n",
       "      <td>34567</td>\n",
       "      <td>20.695992</td>\n",
       "    </tr>\n",
       "    <tr>\n",
       "      <th>2</th>\n",
       "      <td>2022-04-28</td>\n",
       "      <td>11:00</td>\n",
       "      <td>34567</td>\n",
       "      <td>30.532627</td>\n",
       "    </tr>\n",
       "    <tr>\n",
       "      <th>3</th>\n",
       "      <td>2022-07-12</td>\n",
       "      <td>09:00</td>\n",
       "      <td>67890</td>\n",
       "      <td>15.940379</td>\n",
       "    </tr>\n",
       "    <tr>\n",
       "      <th>4</th>\n",
       "      <td>2022-11-20</td>\n",
       "      <td>07:00</td>\n",
       "      <td>12345</td>\n",
       "      <td>29.480771</td>\n",
       "    </tr>\n",
       "  </tbody>\n",
       "</table>\n",
       "</div>"
      ],
      "text/plain": [
       "        date   time zip_code  energy_consumption\n",
       "0 2022-06-22  18:00    67890           13.514508\n",
       "1 2022-02-17  20:00    34567           20.695992\n",
       "2 2022-04-28  11:00    34567           30.532627\n",
       "3 2022-07-12  09:00    67890           15.940379\n",
       "4 2022-11-20  07:00    12345           29.480771"
      ]
     },
     "execution_count": 3,
     "metadata": {},
     "output_type": "execute_result"
    }
   ],
   "source": [
    "# set the seed\n",
    "np.random.seed(0)\n",
    "\n",
    "# generate 100,000 energy consumption records\n",
    "df = pd.DataFrame({\n",
    "    'date': np.random.choice(pd.date_range('2022-01-01', '2022-12-31'), size=100000),\n",
    "    'time': np.random.choice(['00:00', '01:00', '02:00', '03:00', '04:00', '05:00', '06:00', '07:00', '08:00', '09:00', '10:00', '11:00', '12:00', '13:00', '14:00', '15:00', '16:00', '17:00', '18:00', '19:00', '20:00', '21:00', '22:00', '23:00'], size=100000),\n",
    "    'zip_code': np.random.choice(['12345', '67890', '34567'], size=100000)\n",
    "})\n",
    "\n",
    "# calculate energy consumption\n",
    "df['energy_consumption'] = np.where(\n",
    "                                df['zip_code'] == '12345',\n",
    "                                np.random.normal(20, 5, 100000),  # mean 20, stddev 5 for zip code 12345\n",
    "                           np.where(\n",
    "                                df['zip_code'] == '67890',\n",
    "                                np.random.normal(15, 3, 100000),  # mean 15, stddev 3 for zip code 67890\n",
    "                                np.random.normal(30, 7, 100000)  # mean 30, stddev 7 for zip code 34567\n",
    "                           ))\n",
    "\n",
    "df.head()"
   ]
  },
  {
   "cell_type": "markdown",
   "id": "4ebda2d1-03f1-431c-b974-837459c0200f",
   "metadata": {},
   "source": [
    "Let's take a look at the datatypes of our shiny new dataframe.  \n",
    "\n",
    "The **time** column is currently a string, we will see if this causes us any problems."
   ]
  },
  {
   "cell_type": "code",
   "execution_count": 4,
   "id": "8892b98d-f87f-4f4f-a087-0c9bfe89b739",
   "metadata": {},
   "outputs": [
    {
     "name": "stdout",
     "output_type": "stream",
     "text": [
      "<class 'pandas.core.frame.DataFrame'>\n",
      "RangeIndex: 100000 entries, 0 to 99999\n",
      "Data columns (total 4 columns):\n",
      " #   Column              Non-Null Count   Dtype         \n",
      "---  ------              --------------   -----         \n",
      " 0   date                100000 non-null  datetime64[ns]\n",
      " 1   time                100000 non-null  object        \n",
      " 2   zip_code            100000 non-null  object        \n",
      " 3   energy_consumption  100000 non-null  float64       \n",
      "dtypes: datetime64[ns](1), float64(1), object(2)\n",
      "memory usage: 3.1+ MB\n"
     ]
    }
   ],
   "source": [
    "df.info()"
   ]
  },
  {
   "cell_type": "markdown",
   "id": "1afdbcd7-ba3f-4fe8-b26e-7fd3844abafc",
   "metadata": {},
   "source": [
    "# Energy Usage Patterns  \n",
    "\n",
    "Find the top 5 days with the highest average energy consumption."
   ]
  },
  {
   "cell_type": "code",
   "execution_count": 5,
   "id": "7e7da0f7-fd3c-4827-929f-02019833c6ec",
   "metadata": {
    "scrolled": true
   },
   "outputs": [
    {
     "data": {
      "text/html": [
       "<div>\n",
       "<style scoped>\n",
       "    .dataframe tbody tr th:only-of-type {\n",
       "        vertical-align: middle;\n",
       "    }\n",
       "\n",
       "    .dataframe tbody tr th {\n",
       "        vertical-align: top;\n",
       "    }\n",
       "\n",
       "    .dataframe thead th {\n",
       "        text-align: right;\n",
       "    }\n",
       "</style>\n",
       "<table border=\"1\" class=\"dataframe\">\n",
       "  <thead>\n",
       "    <tr style=\"text-align: right;\">\n",
       "      <th></th>\n",
       "      <th>energy_consumption</th>\n",
       "    </tr>\n",
       "    <tr>\n",
       "      <th>date</th>\n",
       "      <th></th>\n",
       "    </tr>\n",
       "  </thead>\n",
       "  <tbody>\n",
       "    <tr>\n",
       "      <th>2022-11-29</th>\n",
       "      <td>23.297248</td>\n",
       "    </tr>\n",
       "    <tr>\n",
       "      <th>2022-10-23</th>\n",
       "      <td>23.097614</td>\n",
       "    </tr>\n",
       "    <tr>\n",
       "      <th>2022-02-07</th>\n",
       "      <td>23.032625</td>\n",
       "    </tr>\n",
       "    <tr>\n",
       "      <th>2022-11-01</th>\n",
       "      <td>22.909447</td>\n",
       "    </tr>\n",
       "    <tr>\n",
       "      <th>2022-06-27</th>\n",
       "      <td>22.842946</td>\n",
       "    </tr>\n",
       "  </tbody>\n",
       "</table>\n",
       "</div>"
      ],
      "text/plain": [
       "            energy_consumption\n",
       "date                          \n",
       "2022-11-29           23.297248\n",
       "2022-10-23           23.097614\n",
       "2022-02-07           23.032625\n",
       "2022-11-01           22.909447\n",
       "2022-06-27           22.842946"
      ]
     },
     "execution_count": 5,
     "metadata": {},
     "output_type": "execute_result"
    }
   ],
   "source": [
    "# create group object\n",
    "group = df.groupby('date')\n",
    "\n",
    "# get the average of each group\n",
    "# since the data is normally distributed, it is OK to use the mean\n",
    "avg = group.mean(numeric_only=True)\n",
    "\n",
    "# return the top 5 dates\n",
    "avg.sort_values(by='energy_consumption', ascending=False).head(5)"
   ]
  },
  {
   "cell_type": "markdown",
   "id": "fb20e148-26a6-406c-a60c-8186f6395d00",
   "metadata": {},
   "source": [
    "Notice I calculated the averages by grouping all of the dates, but what if the question was actually asking for the days (Monday, Tuesday, ...)?  \n",
    "\n",
    "Luckily, we can pull out the name of the day and group by it. Follow along to see how."
   ]
  },
  {
   "cell_type": "code",
   "execution_count": 6,
   "id": "f3f6ac49-2162-4c46-ace5-00fc5963431e",
   "metadata": {},
   "outputs": [
    {
     "data": {
      "text/plain": [
       "0    Wednesday\n",
       "1     Thursday\n",
       "2     Thursday\n",
       "3      Tuesday\n",
       "4       Sunday\n",
       "Name: date, dtype: object"
      ]
     },
     "execution_count": 6,
     "metadata": {},
     "output_type": "execute_result"
    }
   ],
   "source": [
    "# here you can see how we can easily get the name of the date value\n",
    "df['date'].apply(lambda x: x.day_name()).head()"
   ]
  },
  {
   "cell_type": "markdown",
   "id": "b8835ab8-a644-463c-a291-6d0ec084de86",
   "metadata": {},
   "source": [
    "The **groupby** method is very flexible, and it allows us to not only pass column names but actual functions as shown below."
   ]
  },
  {
   "cell_type": "code",
   "execution_count": 7,
   "id": "79fff07f-82b8-4a01-95e5-e70b96703125",
   "metadata": {},
   "outputs": [
    {
     "data": {
      "text/html": [
       "<div>\n",
       "<style scoped>\n",
       "    .dataframe tbody tr th:only-of-type {\n",
       "        vertical-align: middle;\n",
       "    }\n",
       "\n",
       "    .dataframe tbody tr th {\n",
       "        vertical-align: top;\n",
       "    }\n",
       "\n",
       "    .dataframe thead th {\n",
       "        text-align: right;\n",
       "    }\n",
       "</style>\n",
       "<table border=\"1\" class=\"dataframe\">\n",
       "  <thead>\n",
       "    <tr style=\"text-align: right;\">\n",
       "      <th></th>\n",
       "      <th>date</th>\n",
       "      <th>day_name</th>\n",
       "      <th>energy_consumption</th>\n",
       "    </tr>\n",
       "  </thead>\n",
       "  <tbody>\n",
       "    <tr>\n",
       "      <th>332</th>\n",
       "      <td>2022-11-29</td>\n",
       "      <td>Tuesday</td>\n",
       "      <td>23.297248</td>\n",
       "    </tr>\n",
       "    <tr>\n",
       "      <th>295</th>\n",
       "      <td>2022-10-23</td>\n",
       "      <td>Sunday</td>\n",
       "      <td>23.097614</td>\n",
       "    </tr>\n",
       "    <tr>\n",
       "      <th>37</th>\n",
       "      <td>2022-02-07</td>\n",
       "      <td>Monday</td>\n",
       "      <td>23.032625</td>\n",
       "    </tr>\n",
       "    <tr>\n",
       "      <th>304</th>\n",
       "      <td>2022-11-01</td>\n",
       "      <td>Tuesday</td>\n",
       "      <td>22.909447</td>\n",
       "    </tr>\n",
       "    <tr>\n",
       "      <th>177</th>\n",
       "      <td>2022-06-27</td>\n",
       "      <td>Monday</td>\n",
       "      <td>22.842946</td>\n",
       "    </tr>\n",
       "  </tbody>\n",
       "</table>\n",
       "</div>"
      ],
      "text/plain": [
       "          date day_name  energy_consumption\n",
       "332 2022-11-29  Tuesday           23.297248\n",
       "295 2022-10-23   Sunday           23.097614\n",
       "37  2022-02-07   Monday           23.032625\n",
       "304 2022-11-01  Tuesday           22.909447\n",
       "177 2022-06-27   Monday           22.842946"
      ]
     },
     "execution_count": 7,
     "metadata": {},
     "output_type": "execute_result"
    }
   ],
   "source": [
    "# create group object\n",
    "group = df.groupby([df['date'],df['date'].apply(lambda x: x.day_name())])\n",
    "\n",
    "# get the average of each group\n",
    "# since the data is normally distributed, it is OK to use the mean\n",
    "avg = group.mean(numeric_only=True)\n",
    "\n",
    "# rename index columns (they both had the same name of date)\n",
    "avg = avg.reset_index(names=['date', 'day_name'])\n",
    "\n",
    "# return the top 5 dates\n",
    "avg.sort_values(by='energy_consumption', ascending=False).head(5)"
   ]
  },
  {
   "cell_type": "markdown",
   "id": "c95db21c-0533-44ba-847c-731f24613104",
   "metadata": {},
   "source": [
    "Now, you may be tempted to only group by the name of the day (Monday, Tuesday, ...), but realize that you will get a different result.  \n",
    "\n",
    "You would be asking Pandas to group all of the Mondays and calculate the average and this **IS NOT THE SAME** as getting the average, on a particular date."
   ]
  },
  {
   "cell_type": "code",
   "execution_count": 8,
   "id": "23f03193-b47b-47cf-968a-0a705be67db5",
   "metadata": {},
   "outputs": [
    {
     "data": {
      "text/html": [
       "<div>\n",
       "<style scoped>\n",
       "    .dataframe tbody tr th:only-of-type {\n",
       "        vertical-align: middle;\n",
       "    }\n",
       "\n",
       "    .dataframe tbody tr th {\n",
       "        vertical-align: top;\n",
       "    }\n",
       "\n",
       "    .dataframe thead th {\n",
       "        text-align: right;\n",
       "    }\n",
       "</style>\n",
       "<table border=\"1\" class=\"dataframe\">\n",
       "  <thead>\n",
       "    <tr style=\"text-align: right;\">\n",
       "      <th></th>\n",
       "      <th>energy_consumption</th>\n",
       "    </tr>\n",
       "    <tr>\n",
       "      <th>date</th>\n",
       "      <th></th>\n",
       "    </tr>\n",
       "  </thead>\n",
       "  <tbody>\n",
       "    <tr>\n",
       "      <th>Monday</th>\n",
       "      <td>21.810044</td>\n",
       "    </tr>\n",
       "    <tr>\n",
       "      <th>Thursday</th>\n",
       "      <td>21.735327</td>\n",
       "    </tr>\n",
       "    <tr>\n",
       "      <th>Tuesday</th>\n",
       "      <td>21.665705</td>\n",
       "    </tr>\n",
       "    <tr>\n",
       "      <th>Friday</th>\n",
       "      <td>21.664956</td>\n",
       "    </tr>\n",
       "    <tr>\n",
       "      <th>Saturday</th>\n",
       "      <td>21.656552</td>\n",
       "    </tr>\n",
       "  </tbody>\n",
       "</table>\n",
       "</div>"
      ],
      "text/plain": [
       "          energy_consumption\n",
       "date                        \n",
       "Monday             21.810044\n",
       "Thursday           21.735327\n",
       "Tuesday            21.665705\n",
       "Friday             21.664956\n",
       "Saturday           21.656552"
      ]
     },
     "execution_count": 8,
     "metadata": {},
     "output_type": "execute_result"
    }
   ],
   "source": [
    "# create group object\n",
    "group = df.groupby(df['date'].apply(lambda x: x.day_name()))\n",
    "\n",
    "# get the average of each group\n",
    "# since the data is normally distributed, it is OK to use the mean\n",
    "avg = group.mean(numeric_only=True)\n",
    "\n",
    "# return the top 5 dates\n",
    "avg.sort_values(by='energy_consumption', ascending=False).head(5)"
   ]
  },
  {
   "cell_type": "markdown",
   "id": "a409096b-90d0-49a0-a45e-a376d52a6aa5",
   "metadata": {},
   "source": [
    "# Peak Hours  \n",
    "\n",
    "Identify the peak consumption hours of the day and calculate the average energy usage during those hours.  \n",
    "\n",
    "Remember I said we might have issues with the datatype of the **time** column? Well, I guess I was wrong."
   ]
  },
  {
   "cell_type": "code",
   "execution_count": 9,
   "id": "8324e89c-4ab7-4dfb-9506-45933114942d",
   "metadata": {},
   "outputs": [
    {
     "data": {
      "text/html": [
       "<div>\n",
       "<style scoped>\n",
       "    .dataframe tbody tr th:only-of-type {\n",
       "        vertical-align: middle;\n",
       "    }\n",
       "\n",
       "    .dataframe tbody tr th {\n",
       "        vertical-align: top;\n",
       "    }\n",
       "\n",
       "    .dataframe thead th {\n",
       "        text-align: right;\n",
       "    }\n",
       "</style>\n",
       "<table border=\"1\" class=\"dataframe\">\n",
       "  <thead>\n",
       "    <tr style=\"text-align: right;\">\n",
       "      <th></th>\n",
       "      <th>energy_consumption</th>\n",
       "    </tr>\n",
       "    <tr>\n",
       "      <th>time</th>\n",
       "      <th></th>\n",
       "    </tr>\n",
       "  </thead>\n",
       "  <tbody>\n",
       "    <tr>\n",
       "      <th>11:00</th>\n",
       "      <td>21.865782</td>\n",
       "    </tr>\n",
       "    <tr>\n",
       "      <th>17:00</th>\n",
       "      <td>21.833443</td>\n",
       "    </tr>\n",
       "    <tr>\n",
       "      <th>13:00</th>\n",
       "      <td>21.829379</td>\n",
       "    </tr>\n",
       "    <tr>\n",
       "      <th>23:00</th>\n",
       "      <td>21.821426</td>\n",
       "    </tr>\n",
       "    <tr>\n",
       "      <th>00:00</th>\n",
       "      <td>21.782811</td>\n",
       "    </tr>\n",
       "  </tbody>\n",
       "</table>\n",
       "</div>"
      ],
      "text/plain": [
       "       energy_consumption\n",
       "time                     \n",
       "11:00           21.865782\n",
       "17:00           21.833443\n",
       "13:00           21.829379\n",
       "23:00           21.821426\n",
       "00:00           21.782811"
      ]
     },
     "execution_count": 9,
     "metadata": {},
     "output_type": "execute_result"
    }
   ],
   "source": [
    "# create group object\n",
    "group = df.groupby(df['time'])\n",
    "\n",
    "# get the average of each group\n",
    "# since the data is normally distributed, it is OK to use the mean\n",
    "avg = group.mean(numeric_only=True)\n",
    "\n",
    "# return the top 5 dates\n",
    "avg.sort_values(by='energy_consumption', ascending=False).head(5)"
   ]
  },
  {
   "cell_type": "markdown",
   "id": "5476b011-f955-4bd1-8af3-96e8f1768a9c",
   "metadata": {},
   "source": [
    "Here, we plot those times and clearly see the spikes that represent those high consumption periods."
   ]
  },
  {
   "cell_type": "code",
   "execution_count": 10,
   "id": "94730309-c602-42f3-a8ee-3ce9f6d8039a",
   "metadata": {},
   "outputs": [
    {
     "data": {
      "image/png": "[encoded data removed]",
      "text/plain": [
       "<Figure size 1000x500 with 1 Axes>"
      ]
     },
     "metadata": {},
     "output_type": "display_data"
    }
   ],
   "source": [
    "avg.plot(figsize=(10,5));"
   ]
  },
  {
   "cell_type": "markdown",
   "id": "cb37b3bd-624a-4bf3-a966-9670718721aa",
   "metadata": {},
   "source": [
    "# Can You Solve the Last Question?    \n",
    "\n",
    "- High-Demand Areas - Determine the top area (zip code) with the highest total energy consumption."
   ]
  },
  {
   "cell_type": "markdown",
   "id": "a6fa7815-b3a7-46f4-98da-7df56a98bc70",
   "metadata": {},
   "source": [
    "<p class=\"text-muted\">This tutorial was created by <a href=\"https://www.hedaro.com\" target=\"_blank\"><strong>HEDARO</strong></a></p>"
   ]
  }
 ],
 "metadata": {
  "kernelspec": {
   "display_name": "Python 3 (ipykernel)",
   "language": "python",
   "name": "python3"
  },
  "language_info": {
   "codemirror_mode": {
    "name": "ipython",
    "version": 3
   },
   "file_extension": ".py",
   "mimetype": "text/x-python",
   "name": "python",
   "nbconvert_exporter": "python",
   "pygments_lexer": "ipython3",
   "version": "3.11.7"
  }
 },
 "nbformat": 4,
 "nbformat_minor": 5
}
