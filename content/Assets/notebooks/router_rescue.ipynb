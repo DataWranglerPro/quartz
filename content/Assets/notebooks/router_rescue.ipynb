{
 "cells": [
  {
   "cell_type": "markdown",
   "id": "c62bfcc2-a0fa-4fbe-a69c-e7fb9b30c59d",
   "metadata": {},
   "source": [
    "# Router Rescue  \n",
    "\n",
    "### Description:  \n",
    "Imagine you're a Cisco engineer tasked with troubleshooting performance issues on a client's network. The client's router is struggling, and you need to dive into the log data to identify the root cause. Your mission is to use your Pandas skills, to analyze the log data, pinpoint the problems, and save the day!\n",
    "\n",
    "### Tasks:  \n",
    "- **Extract top 5 error-causing IP addresses** - Identify the IP addresses with the most error messages.  \n",
    "- **Calculate average response time by hour** - Determine the average response time for each hour of the day.  \n",
    "- **Error Message Distribution** - Calculate the percentage distribution of each error message type (Timeout, Connection Refused, Packet Loss) in the dataset."
   ]
  },
  {
   "cell_type": "code",
   "execution_count": 1,
   "id": "cabb13b3-2485-4bda-8e52-4a3f563408e1",
   "metadata": {},
   "outputs": [
    {
     "name": "stdout",
     "output_type": "stream",
     "text": [
      "Python version 3.11.7 | packaged by Anaconda, Inc. | (main, Dec 15 2023, 18:05:47) [MSC v.1916 64 bit (AMD64)]\n",
      "Pandas version 2.2.1\n",
      "Numpy version 1.26.4\n"
     ]
    }
   ],
   "source": [
    "# import libraries\n",
    "import pandas as pd\n",
    "import numpy as np\n",
    "import sys\n",
    "\n",
    "print('Python version ' + sys.version)\n",
    "print('Pandas version ' + pd.__version__)\n",
    "print('Numpy version ' + np.__version__)"
   ]
  },
  {
   "cell_type": "markdown",
   "id": "7f011723-731d-4226-90a3-f666446509d4",
   "metadata": {},
   "source": [
    "# The Data  \n",
    "\n",
    "The dataset consists of 10,000 log entries from a Cisco router, containing timestamps, IP addresses, error messages, and response times. The data spans a month-long period, with various error messages and response times, simulating a real-world scenario where performance issues need to be identified and addressed.    \n",
    "\n",
    "### Columns:  \n",
    "- **timestamp:** The date and time of each log entry (datetime64[ns] type)  \n",
    "- **ip_address:** The IP address associated with each log entry (object type)  \n",
    "- **error_message:** The error message corresponding to each log entry (object type)  \n",
    "- **response_time:** The response time for each log entry (float64 type)  \n",
    "\n",
    "Your task is to use pandas to unravel the mysteries hidden in this log data and help the Cisco engineer optimize the router's performance!"
   ]
  },
  {
   "cell_type": "code",
   "execution_count": 2,
   "id": "2ea59dd5-a247-4163-be91-c42fd53e1dbc",
   "metadata": {},
   "outputs": [
    {
     "data": {
      "text/html": [
       "<div>\n",
       "<style scoped>\n",
       "    .dataframe tbody tr th:only-of-type {\n",
       "        vertical-align: middle;\n",
       "    }\n",
       "\n",
       "    .dataframe tbody tr th {\n",
       "        vertical-align: top;\n",
       "    }\n",
       "\n",
       "    .dataframe thead th {\n",
       "        text-align: right;\n",
       "    }\n",
       "</style>\n",
       "<table border=\"1\" class=\"dataframe\">\n",
       "  <thead>\n",
       "    <tr style=\"text-align: right;\">\n",
       "      <th></th>\n",
       "      <th>timestamp</th>\n",
       "      <th>ip_address</th>\n",
       "      <th>error_message</th>\n",
       "      <th>response_time</th>\n",
       "    </tr>\n",
       "  </thead>\n",
       "  <tbody>\n",
       "    <tr>\n",
       "      <th>0</th>\n",
       "      <td>2024-01-29 12:00:00</td>\n",
       "      <td>192.168.1.56</td>\n",
       "      <td>Packet Loss</td>\n",
       "      <td>0.450262</td>\n",
       "    </tr>\n",
       "    <tr>\n",
       "      <th>1</th>\n",
       "      <td>2024-01-24 07:00:00</td>\n",
       "      <td>192.168.1.80</td>\n",
       "      <td>Connection Refused</td>\n",
       "      <td>0.715412</td>\n",
       "    </tr>\n",
       "    <tr>\n",
       "      <th>2</th>\n",
       "      <td>2024-01-27 05:00:00</td>\n",
       "      <td>192.168.1.53</td>\n",
       "      <td>Packet Loss</td>\n",
       "      <td>0.716506</td>\n",
       "    </tr>\n",
       "    <tr>\n",
       "      <th>3</th>\n",
       "      <td>2024-01-09 00:00:00</td>\n",
       "      <td>192.168.1.68</td>\n",
       "      <td>Connection Refused</td>\n",
       "      <td>0.123755</td>\n",
       "    </tr>\n",
       "    <tr>\n",
       "      <th>4</th>\n",
       "      <td>2024-01-30 11:00:00</td>\n",
       "      <td>192.168.1.80</td>\n",
       "      <td>Packet Loss</td>\n",
       "      <td>0.170197</td>\n",
       "    </tr>\n",
       "  </tbody>\n",
       "</table>\n",
       "</div>"
      ],
      "text/plain": [
       "            timestamp    ip_address       error_message  response_time\n",
       "0 2024-01-29 12:00:00  192.168.1.56         Packet Loss       0.450262\n",
       "1 2024-01-24 07:00:00  192.168.1.80  Connection Refused       0.715412\n",
       "2 2024-01-27 05:00:00  192.168.1.53         Packet Loss       0.716506\n",
       "3 2024-01-09 00:00:00  192.168.1.68  Connection Refused       0.123755\n",
       "4 2024-01-30 11:00:00  192.168.1.80         Packet Loss       0.170197"
      ]
     },
     "execution_count": 2,
     "metadata": {},
     "output_type": "execute_result"
    }
   ],
   "source": [
    "# set the seed\n",
    "np.random.seed(0)\n",
    "\n",
    "logs = {\n",
    "    'timestamp': np.random.choice(pd.date_range('2024-01-01 00:00:00', '2024-01-31 23:00:00', freq='h'), size=10000),\n",
    "    'ip_address': np.random.choice(['192.168.1.' + str(i) for i in range(1, 100)], size=10000),\n",
    "    'error_message': np.random.choice(['Timeout', 'Connection Refused', 'Packet Loss'], size=10000),\n",
    "    'response_time': np.random.uniform(0, 1, size=10000)\n",
    "}\n",
    "\n",
    "df = pd.DataFrame(logs)\n",
    "df.head()"
   ]
  },
  {
   "cell_type": "markdown",
   "id": "ddc28a6a-b1bd-4ffb-9497-35788d731b6c",
   "metadata": {},
   "source": [
    "Let us start by taking a look at the datatypes to ensure they match the description in the section above."
   ]
  },
  {
   "cell_type": "code",
   "execution_count": 3,
   "id": "80d3bd5e-0c66-42c7-a5a5-4fb3adaf965a",
   "metadata": {},
   "outputs": [
    {
     "name": "stdout",
     "output_type": "stream",
     "text": [
      "<class 'pandas.core.frame.DataFrame'>\n",
      "RangeIndex: 10000 entries, 0 to 9999\n",
      "Data columns (total 4 columns):\n",
      " #   Column         Non-Null Count  Dtype         \n",
      "---  ------         --------------  -----         \n",
      " 0   timestamp      10000 non-null  datetime64[ns]\n",
      " 1   ip_address     10000 non-null  object        \n",
      " 2   error_message  10000 non-null  object        \n",
      " 3   response_time  10000 non-null  float64       \n",
      "dtypes: datetime64[ns](1), float64(1), object(2)\n",
      "memory usage: 312.6+ KB\n"
     ]
    }
   ],
   "source": [
    "df.info()"
   ]
  },
  {
   "cell_type": "markdown",
   "id": "ad6be8ca-407c-4375-aa9c-a0f1a6efc177",
   "metadata": {},
   "source": [
    "# Extract top 5 error-causing IP addresses\n",
    "\n",
    "Identify the IP addresses with the most error messages."
   ]
  },
  {
   "cell_type": "code",
   "execution_count": 4,
   "id": "799a4a1c-4ef7-44ca-9c42-d7050c2e4813",
   "metadata": {},
   "outputs": [
    {
     "data": {
      "text/plain": [
       "ip_address\n",
       "192.168.1.49    131\n",
       "192.168.1.79    120\n",
       "192.168.1.11    118\n",
       "192.168.1.52    117\n",
       "192.168.1.15    115\n",
       "Name: error_message, dtype: int64"
      ]
     },
     "execution_count": 4,
     "metadata": {},
     "output_type": "execute_result"
    }
   ],
   "source": [
    "# create the group object\n",
    "group = df.groupby('ip_address')\n",
    "\n",
    "# count by ip address, sort the results, and pull the top 5\n",
    "group.count().sort_values(by='error_message', ascending=False)['error_message'].head()"
   ]
  },
  {
   "cell_type": "markdown",
   "id": "9b879149-795e-4900-a42f-7b0e355c1e3b",
   "metadata": {},
   "source": [
    "The IP addresses above have the most errors. We can also quickly determine how many error messages are assigned to each IP address in this dataset.  \n",
    "\n",
    "Looking at the histogram below, it seems like we can expect to see most the error frequencies to fall between 85 and 119. "
   ]
  },
  {
   "cell_type": "code",
   "execution_count": 5,
   "id": "d92aa2b5-1247-401a-84da-449de7ea8d73",
   "metadata": {},
   "outputs": [
    {
     "data": {
      "image/png": "[encoded data removed]",
      "text/plain": [
       "<Figure size 640x480 with 1 Axes>"
      ]
     },
     "metadata": {},
     "output_type": "display_data"
    }
   ],
   "source": [
    "group.count()['error_message'].plot.hist();"
   ]
  },
  {
   "cell_type": "markdown",
   "id": "7458f17c-8e59-4952-81e6-04d267845ec2",
   "metadata": {},
   "source": [
    "# Calculate average response time by hour  \n",
    "\n",
    "Determine the average response time for each hour of the day."
   ]
  },
  {
   "cell_type": "markdown",
   "id": "00d5063e-ad7a-4963-bfcf-242cdfe3a072",
   "metadata": {},
   "source": [
    "If we simply start by plotting the data, we can clearly see that the data is not normally distributed. The data below lacks a bell-shaped curve."
   ]
  },
  {
   "cell_type": "code",
   "execution_count": 6,
   "id": "1dbd9f0e-e146-4831-8737-681a34300ddf",
   "metadata": {},
   "outputs": [
    {
     "data": {
      "image/png": "[encoded data removed]",
      "text/plain": [
       "<Figure size 1000x500 with 1 Axes>"
      ]
     },
     "metadata": {},
     "output_type": "display_data"
    }
   ],
   "source": [
    "df.sort_values(by='timestamp').set_index('timestamp')['response_time'].plot(figsize=(10,5));"
   ]
  },
  {
   "cell_type": "markdown",
   "id": "ee85d5c2-c805-427a-adef-bbac26f5b5ea",
   "metadata": {},
   "source": [
    "We can also plot the data using a histogram and again, this is not a normally distributed dataset.  "
   ]
  },
  {
   "cell_type": "code",
   "execution_count": 7,
   "id": "4cb34c6f-c7cd-4f3c-abaa-71c723dc7f7a",
   "metadata": {},
   "outputs": [
    {
     "data": {
      "image/png": "[encoded data removed]",
      "text/plain": [
       "<Figure size 640x480 with 1 Axes>"
      ]
     },
     "metadata": {},
     "output_type": "display_data"
    }
   ],
   "source": [
    "df.sort_values(by='timestamp').set_index('timestamp')['response_time'].plot.hist();"
   ]
  },
  {
   "cell_type": "markdown",
   "id": "17960cd9-7318-4ade-a1c6-231f16685049",
   "metadata": {},
   "source": [
    "This means we cannot use the average and must use the median. Let's go!  \n",
    "\n",
    "Notice how we are able to pull the hour from a date object."
   ]
  },
  {
   "cell_type": "code",
   "execution_count": 8,
   "id": "25995159-645f-4d93-99f3-91bf91586ed3",
   "metadata": {},
   "outputs": [
    {
     "data": {
      "text/html": [
       "<div>\n",
       "<style scoped>\n",
       "    .dataframe tbody tr th:only-of-type {\n",
       "        vertical-align: middle;\n",
       "    }\n",
       "\n",
       "    .dataframe tbody tr th {\n",
       "        vertical-align: top;\n",
       "    }\n",
       "\n",
       "    .dataframe thead th {\n",
       "        text-align: right;\n",
       "    }\n",
       "</style>\n",
       "<table border=\"1\" class=\"dataframe\">\n",
       "  <thead>\n",
       "    <tr style=\"text-align: right;\">\n",
       "      <th></th>\n",
       "      <th>response_time</th>\n",
       "    </tr>\n",
       "    <tr>\n",
       "      <th>timestamp</th>\n",
       "      <th></th>\n",
       "    </tr>\n",
       "  </thead>\n",
       "  <tbody>\n",
       "    <tr>\n",
       "      <th>0</th>\n",
       "      <td>0.497693</td>\n",
       "    </tr>\n",
       "    <tr>\n",
       "      <th>1</th>\n",
       "      <td>0.497187</td>\n",
       "    </tr>\n",
       "    <tr>\n",
       "      <th>2</th>\n",
       "      <td>0.524920</td>\n",
       "    </tr>\n",
       "    <tr>\n",
       "      <th>3</th>\n",
       "      <td>0.494640</td>\n",
       "    </tr>\n",
       "    <tr>\n",
       "      <th>4</th>\n",
       "      <td>0.506575</td>\n",
       "    </tr>\n",
       "  </tbody>\n",
       "</table>\n",
       "</div>"
      ],
      "text/plain": [
       "           response_time\n",
       "timestamp               \n",
       "0               0.497693\n",
       "1               0.497187\n",
       "2               0.524920\n",
       "3               0.494640\n",
       "4               0.506575"
      ]
     },
     "execution_count": 8,
     "metadata": {},
     "output_type": "execute_result"
    }
   ],
   "source": [
    "# create the group object\n",
    "group = df.groupby(df['timestamp'].dt.hour)\n",
    "\n",
    "# get the median\n",
    "group.median(numeric_only=True).head()"
   ]
  },
  {
   "cell_type": "markdown",
   "id": "e9cb5282-ed4a-45bf-8693-c775b618b448",
   "metadata": {},
   "source": [
    "# Error Message Distribution  \n",
    "\n",
    "Calculate the percentage distribution of each error message type (Timeout, Connection Refused, Packet Loss) in the dataset.  \n",
    "\n",
    "As you might expect, for this dataset, the types of error messages are distributed pretty evenly."
   ]
  },
  {
   "cell_type": "code",
   "execution_count": 9,
   "id": "7a8e8c32-83d1-4c23-aaa3-e43f0f029db3",
   "metadata": {},
   "outputs": [
    {
     "data": {
      "text/plain": [
       "error_message\n",
       "Connection Refused    0.3376\n",
       "Timeout               0.3329\n",
       "Packet Loss           0.3295\n",
       "Name: count, dtype: float64"
      ]
     },
     "execution_count": 9,
     "metadata": {},
     "output_type": "execute_result"
    }
   ],
   "source": [
    "df['error_message'].value_counts() / df['error_message'].count()"
   ]
  },
  {
   "cell_type": "markdown",
   "id": "8954abd5-055f-4439-8230-7f0443354a23",
   "metadata": {},
   "source": [
    "# Summary  \n",
    "\n",
    "- The top 5 error-causing IP addresses were identified, with IP address 192.168.1.49 having the most errors (131).\n",
    "- The average response time by hour was calculated, showing a varying response time throughout the day, with a median response time between 0.4826 and 0.5472.\n",
    "- The error message distribution showed that the three error message types (Timeout, Connection Refused, Packet Loss) are fairly evenly distributed, with Connection Refused being the most frequent (33.76% of total errors).\n",
    "\n",
    "By analyzing these results, the Cisco engineer can now focus on troubleshooting and optimizing the router's performance. This includes specifically targeting the top error-causing IP addresses and investigating the causes of the error messages.  \n",
    "\n",
    "### Key Takeaways:  \n",
    "- How to use the groupby function to group data by IP address and count error messages\n",
    "- How to use the sort_values function to sort data and extract the top 5 error-causing IP addresses\n",
    "- How to use the dt.hour attribute to extract the hour from a timestamp\n",
    "- How to use the groupby function to group data by hour and calculate the median response time\n",
    "- How to use the value_counts function to calculate the distribution of error message types"
   ]
  },
  {
   "cell_type": "markdown",
   "id": "28ccd7a6-41d9-4c6e-b202-61b92f3200c0",
   "metadata": {},
   "source": [
    "<p class=\"text-muted\">This tutorial was created by <a href=\"https://www.hedaro.com\" target=\"_blank\"><strong>HEDARO</strong></a></p>"
   ]
  }
 ],
 "metadata": {
  "kernelspec": {
   "display_name": "Python 3 (ipykernel)",
   "language": "python",
   "name": "python3"
  },
  "language_info": {
   "codemirror_mode": {
    "name": "ipython",
    "version": 3
   },
   "file_extension": ".py",
   "mimetype": "text/x-python",
   "name": "python",
   "nbconvert_exporter": "python",
   "pygments_lexer": "ipython3",
   "version": "3.11.7"
  }
 },
 "nbformat": 4,
 "nbformat_minor": 5
}
