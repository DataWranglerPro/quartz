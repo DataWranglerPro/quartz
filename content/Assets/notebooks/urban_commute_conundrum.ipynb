{
 "cells": [
  {
   "cell_type": "markdown",
   "id": "0dcc1950-a123-498e-8c58-da4dfb08b70f",
   "metadata": {},
   "source": [
    "# Solving the Urban Commute Conundrum  \n",
    "\n",
    "### Description:   \n",
    "Imagine you're a data scientist working for a city's transportation department, tasked with optimizing public transportation routes to reduce congestion and improve air quality. You have access to a large dataset containing information on bus routes, schedules, and passenger traffic.  \n",
    "\n",
    "### Tasks:\n",
    "- **Route Optimization:** Merge two datasets, bus_routes and passenger_traffic, on the route_id column. Then, calculate the average passenger count for each route and identify the top 5 routes with the highest average passenger traffic.\n",
    "- **Schedule Alignment:** Transform the schedules column in the bus_routes dataset from a string format (\"HH:MM-HH:MM\") to a datetime format. Then, calculate the total daily operating hours for each route and identify routes with operating hours exceeding 18 hours.\n",
    "- **Passenger Flow Analysis:** Pivot the passenger_traffic dataset to create a new table showing the total passenger count for each hour of the day, across all routes. Then, identify the peak hour with the highest passenger traffic."
   ]
  },
  {
   "cell_type": "code",
   "execution_count": 1,
   "id": "e4e9f29f-9bc9-4b60-9742-88c27d6d5488",
   "metadata": {},
   "outputs": [
    {
     "name": "stdout",
     "output_type": "stream",
     "text": [
      "Python version 3.11.7 | packaged by Anaconda, Inc. | (main, Dec 15 2023, 18:05:47) [MSC v.1916 64 bit (AMD64)]\n",
      "Pandas version 2.2.1\n",
      "Numpy version 1.26.4\n"
     ]
    }
   ],
   "source": [
    "# import libraries\n",
    "import pandas as pd\n",
    "import numpy as np\n",
    "import sys\n",
    "\n",
    "print('Python version ' + sys.version)\n",
    "print('Pandas version ' + pd.__version__)\n",
    "print('Numpy version ' + np.__version__)"
   ]
  },
  {
   "cell_type": "markdown",
   "id": "b269d31c-a817-4d1a-b297-966e80f955cc",
   "metadata": {},
   "source": [
    "# The Data  \n",
    "\n",
    "The dataset consists of two CSV files:  \n",
    "- bus_routes.csv: Contains information on bus routes, including route_id, route_name, and schedules.\n",
    "- passenger_traffic.csv: Contains information on passenger traffic, including route_id, hour, and passenger_count.\n",
    "\n",
    "### Columns:  \n",
    "- **route_id:** Unique identifier for each bus route\n",
    "- **route_name:** Name of each bus route\n",
    "- **schedules:** String representation of bus schedules (\"HH:MM-HH:MM\")\n",
    "- **hour:** Hour of the day (1-24)\n",
    "- **passenger_count:** Number of passengers on a given route at a given hour"
   ]
  },
  {
   "cell_type": "code",
   "execution_count": 2,
   "id": "675a4397-f17a-4611-a099-b7724ad31d00",
   "metadata": {},
   "outputs": [],
   "source": [
    "# set the seed\n",
    "np.random.seed(0)\n",
    "\n",
    "# generate bus routes dataset\n",
    "bus_routes = pd.DataFrame({\n",
    "    'route_id': np.arange(1, 101),\n",
    "    'route_name': ['Route ' + str(i) for i in np.arange(1, 101)],\n",
    "    'schedules': ['08:00-18:00' if i % 2 == 0 else '09:00-20:00' for i in np.arange(1, 101)]\n",
    "})\n",
    "\n",
    "# generate passenger traffic dataset\n",
    "passenger_traffic = pd.DataFrame({\n",
    "    'route_id': np.repeat(np.arange(1, 101), 24),\n",
    "    'hour': np.tile(np.arange(1, 25), 100),\n",
    "    'passenger_count': np.random.randint(10, 100, size=2400)\n",
    "})\n",
    "\n",
    "# export to CSV\n",
    "bus_routes.to_csv('bus_routes.csv', index=False)\n",
    "passenger_traffic.to_csv('passenger_traffic.csv', index=False)"
   ]
  },
  {
   "cell_type": "markdown",
   "id": "6bf2ff77-b1a3-4a88-bdc1-be41f19168b9",
   "metadata": {},
   "source": [
    "# Read CSV files  \n",
    "\n",
    "We will also take a look at the column data types and verify they are correct.  \n",
    "\n",
    "**Note:** We will convert the \"schedules\" column from string to datetime in the Schedule Alignment task."
   ]
  },
  {
   "cell_type": "code",
   "execution_count": 3,
   "id": "3bada0c0-3bb5-449d-a009-b28fe3bea8ac",
   "metadata": {},
   "outputs": [
    {
     "name": "stdout",
     "output_type": "stream",
     "text": [
      "<class 'pandas.core.frame.DataFrame'>\n",
      "RangeIndex: 100 entries, 0 to 99\n",
      "Data columns (total 3 columns):\n",
      " #   Column      Non-Null Count  Dtype \n",
      "---  ------      --------------  ----- \n",
      " 0   route_id    100 non-null    int64 \n",
      " 1   route_name  100 non-null    object\n",
      " 2   schedules   100 non-null    object\n",
      "dtypes: int64(1), object(2)\n",
      "memory usage: 2.5+ KB\n"
     ]
    }
   ],
   "source": [
    "df_bus_routes = pd.read_csv('bus_routes.csv')\n",
    "df_bus_routes.info()"
   ]
  },
  {
   "cell_type": "code",
   "execution_count": 4,
   "id": "767cd288-334f-4cb2-a1d4-0f292e0e46b5",
   "metadata": {},
   "outputs": [
    {
     "name": "stdout",
     "output_type": "stream",
     "text": [
      "<class 'pandas.core.frame.DataFrame'>\n",
      "RangeIndex: 2400 entries, 0 to 2399\n",
      "Data columns (total 3 columns):\n",
      " #   Column           Non-Null Count  Dtype\n",
      "---  ------           --------------  -----\n",
      " 0   route_id         2400 non-null   int64\n",
      " 1   hour             2400 non-null   int64\n",
      " 2   passenger_count  2400 non-null   int64\n",
      "dtypes: int64(3)\n",
      "memory usage: 56.4 KB\n"
     ]
    }
   ],
   "source": [
    "df_passenger_traffic = pd.read_csv('passenger_traffic.csv')\n",
    "df_passenger_traffic.info()"
   ]
  },
  {
   "cell_type": "markdown",
   "id": "170c4323-2810-48fb-a7f0-46b11315e9bf",
   "metadata": {},
   "source": [
    "# Route Optimization  \n",
    "\n",
    "Merge two datasets, bus_routes and passenger_traffic, on the route_id column. Then, calculate the average passenger count for each route and identify the top 5 routes with the highest average passenger traffic."
   ]
  },
  {
   "cell_type": "code",
   "execution_count": 5,
   "id": "b97532e3-bbbf-40c6-9585-4a2674d3c5b1",
   "metadata": {},
   "outputs": [
    {
     "data": {
      "text/html": [
       "<div>\n",
       "<style scoped>\n",
       "    .dataframe tbody tr th:only-of-type {\n",
       "        vertical-align: middle;\n",
       "    }\n",
       "\n",
       "    .dataframe tbody tr th {\n",
       "        vertical-align: top;\n",
       "    }\n",
       "\n",
       "    .dataframe thead th {\n",
       "        text-align: right;\n",
       "    }\n",
       "</style>\n",
       "<table border=\"1\" class=\"dataframe\">\n",
       "  <thead>\n",
       "    <tr style=\"text-align: right;\">\n",
       "      <th></th>\n",
       "      <th>route_id</th>\n",
       "      <th>route_name</th>\n",
       "      <th>schedules</th>\n",
       "      <th>hour</th>\n",
       "      <th>passenger_count</th>\n",
       "    </tr>\n",
       "  </thead>\n",
       "  <tbody>\n",
       "    <tr>\n",
       "      <th>0</th>\n",
       "      <td>1</td>\n",
       "      <td>Route 1</td>\n",
       "      <td>09:00-20:00</td>\n",
       "      <td>1</td>\n",
       "      <td>54</td>\n",
       "    </tr>\n",
       "    <tr>\n",
       "      <th>1</th>\n",
       "      <td>1</td>\n",
       "      <td>Route 1</td>\n",
       "      <td>09:00-20:00</td>\n",
       "      <td>2</td>\n",
       "      <td>57</td>\n",
       "    </tr>\n",
       "    <tr>\n",
       "      <th>2</th>\n",
       "      <td>1</td>\n",
       "      <td>Route 1</td>\n",
       "      <td>09:00-20:00</td>\n",
       "      <td>3</td>\n",
       "      <td>74</td>\n",
       "    </tr>\n",
       "    <tr>\n",
       "      <th>3</th>\n",
       "      <td>1</td>\n",
       "      <td>Route 1</td>\n",
       "      <td>09:00-20:00</td>\n",
       "      <td>4</td>\n",
       "      <td>77</td>\n",
       "    </tr>\n",
       "    <tr>\n",
       "      <th>4</th>\n",
       "      <td>1</td>\n",
       "      <td>Route 1</td>\n",
       "      <td>09:00-20:00</td>\n",
       "      <td>5</td>\n",
       "      <td>77</td>\n",
       "    </tr>\n",
       "  </tbody>\n",
       "</table>\n",
       "</div>"
      ],
      "text/plain": [
       "   route_id route_name    schedules  hour  passenger_count\n",
       "0         1    Route 1  09:00-20:00     1               54\n",
       "1         1    Route 1  09:00-20:00     2               57\n",
       "2         1    Route 1  09:00-20:00     3               74\n",
       "3         1    Route 1  09:00-20:00     4               77\n",
       "4         1    Route 1  09:00-20:00     5               77"
      ]
     },
     "execution_count": 5,
     "metadata": {},
     "output_type": "execute_result"
    }
   ],
   "source": [
    "merged = df_bus_routes.merge(df_passenger_traffic, on='route_id')\n",
    "merged.head()"
   ]
  },
  {
   "cell_type": "code",
   "execution_count": 6,
   "id": "286b41fe-fe7b-4bf6-9552-012eab2f3d24",
   "metadata": {},
   "outputs": [
    {
     "data": {
      "text/plain": [
       "route_name\n",
       "Route 1      67.750000\n",
       "Route 10     50.875000\n",
       "Route 100    57.625000\n",
       "Route 11     52.833333\n",
       "Route 12     50.208333\n",
       "Name: passenger_count, dtype: float64"
      ]
     },
     "execution_count": 6,
     "metadata": {},
     "output_type": "execute_result"
    }
   ],
   "source": [
    "# create group object\n",
    "group = merged.groupby('route_name')\n",
    "\n",
    "# average passenger traffic\n",
    "avg_pass_traffic = group['passenger_count'].mean()\n",
    "avg_pass_traffic.head()"
   ]
  },
  {
   "cell_type": "code",
   "execution_count": 7,
   "id": "940424e2-e02c-48e1-8dfa-3705227e1824",
   "metadata": {},
   "outputs": [
    {
     "data": {
      "text/plain": [
       "route_name\n",
       "Route 1     67.750000\n",
       "Route 77    64.416667\n",
       "Route 66    63.250000\n",
       "Route 24    62.666667\n",
       "Route 45    61.541667\n",
       "Name: passenger_count, dtype: float64"
      ]
     },
     "execution_count": 7,
     "metadata": {},
     "output_type": "execute_result"
    }
   ],
   "source": [
    "# identify the top 5 routes\n",
    "avg_pass_traffic.sort_values(ascending=False).head(5)"
   ]
  },
  {
   "cell_type": "markdown",
   "id": "093f6f17-49eb-417c-b1b8-954ee13ec1c6",
   "metadata": {},
   "source": [
    "# Schedule Alignment  \n",
    "\n",
    "Transform the schedules column in the bus_routes dataset from a string format (\"HH:MM-HH:MM\") to a datetime format. Then, calculate the total daily operating hours for each route and identify routes with operating hours exceeding 18 hours."
   ]
  },
  {
   "cell_type": "code",
   "execution_count": 8,
   "id": "48aaccc0-b93d-4eb8-99bf-50c1379956b2",
   "metadata": {},
   "outputs": [
    {
     "data": {
      "text/html": [
       "<div>\n",
       "<style scoped>\n",
       "    .dataframe tbody tr th:only-of-type {\n",
       "        vertical-align: middle;\n",
       "    }\n",
       "\n",
       "    .dataframe tbody tr th {\n",
       "        vertical-align: top;\n",
       "    }\n",
       "\n",
       "    .dataframe thead th {\n",
       "        text-align: right;\n",
       "    }\n",
       "</style>\n",
       "<table border=\"1\" class=\"dataframe\">\n",
       "  <thead>\n",
       "    <tr style=\"text-align: right;\">\n",
       "      <th></th>\n",
       "      <th>route_id</th>\n",
       "      <th>route_name</th>\n",
       "      <th>schedules</th>\n",
       "    </tr>\n",
       "  </thead>\n",
       "  <tbody>\n",
       "    <tr>\n",
       "      <th>0</th>\n",
       "      <td>1</td>\n",
       "      <td>Route 1</td>\n",
       "      <td>09:00-20:00</td>\n",
       "    </tr>\n",
       "    <tr>\n",
       "      <th>1</th>\n",
       "      <td>2</td>\n",
       "      <td>Route 2</td>\n",
       "      <td>08:00-18:00</td>\n",
       "    </tr>\n",
       "    <tr>\n",
       "      <th>2</th>\n",
       "      <td>3</td>\n",
       "      <td>Route 3</td>\n",
       "      <td>09:00-20:00</td>\n",
       "    </tr>\n",
       "    <tr>\n",
       "      <th>3</th>\n",
       "      <td>4</td>\n",
       "      <td>Route 4</td>\n",
       "      <td>08:00-18:00</td>\n",
       "    </tr>\n",
       "    <tr>\n",
       "      <th>4</th>\n",
       "      <td>5</td>\n",
       "      <td>Route 5</td>\n",
       "      <td>09:00-20:00</td>\n",
       "    </tr>\n",
       "  </tbody>\n",
       "</table>\n",
       "</div>"
      ],
      "text/plain": [
       "   route_id route_name    schedules\n",
       "0         1    Route 1  09:00-20:00\n",
       "1         2    Route 2  08:00-18:00\n",
       "2         3    Route 3  09:00-20:00\n",
       "3         4    Route 4  08:00-18:00\n",
       "4         5    Route 5  09:00-20:00"
      ]
     },
     "execution_count": 8,
     "metadata": {},
     "output_type": "execute_result"
    }
   ],
   "source": [
    "df_bus_routes.head()"
   ]
  },
  {
   "cell_type": "markdown",
   "id": "bbfa2787-1115-4acb-8ca3-61950cba57bb",
   "metadata": {},
   "source": [
    "Since we have two dates in one column, we will have to split the \"schedules\" column into two columns.  \n",
    "\n",
    "The `expand=True` parameter lets us split an existing column into two new ones."
   ]
  },
  {
   "cell_type": "code",
   "execution_count": 9,
   "id": "f7b17950-8fd8-4470-ba36-273547d24fcd",
   "metadata": {},
   "outputs": [
    {
     "data": {
      "text/html": [
       "<div>\n",
       "<style scoped>\n",
       "    .dataframe tbody tr th:only-of-type {\n",
       "        vertical-align: middle;\n",
       "    }\n",
       "\n",
       "    .dataframe tbody tr th {\n",
       "        vertical-align: top;\n",
       "    }\n",
       "\n",
       "    .dataframe thead th {\n",
       "        text-align: right;\n",
       "    }\n",
       "</style>\n",
       "<table border=\"1\" class=\"dataframe\">\n",
       "  <thead>\n",
       "    <tr style=\"text-align: right;\">\n",
       "      <th></th>\n",
       "      <th>route_id</th>\n",
       "      <th>route_name</th>\n",
       "      <th>schedules</th>\n",
       "      <th>start_time</th>\n",
       "      <th>end_time</th>\n",
       "    </tr>\n",
       "  </thead>\n",
       "  <tbody>\n",
       "    <tr>\n",
       "      <th>0</th>\n",
       "      <td>1</td>\n",
       "      <td>Route 1</td>\n",
       "      <td>09:00-20:00</td>\n",
       "      <td>09:00</td>\n",
       "      <td>20:00</td>\n",
       "    </tr>\n",
       "    <tr>\n",
       "      <th>1</th>\n",
       "      <td>2</td>\n",
       "      <td>Route 2</td>\n",
       "      <td>08:00-18:00</td>\n",
       "      <td>08:00</td>\n",
       "      <td>18:00</td>\n",
       "    </tr>\n",
       "    <tr>\n",
       "      <th>2</th>\n",
       "      <td>3</td>\n",
       "      <td>Route 3</td>\n",
       "      <td>09:00-20:00</td>\n",
       "      <td>09:00</td>\n",
       "      <td>20:00</td>\n",
       "    </tr>\n",
       "    <tr>\n",
       "      <th>3</th>\n",
       "      <td>4</td>\n",
       "      <td>Route 4</td>\n",
       "      <td>08:00-18:00</td>\n",
       "      <td>08:00</td>\n",
       "      <td>18:00</td>\n",
       "    </tr>\n",
       "    <tr>\n",
       "      <th>4</th>\n",
       "      <td>5</td>\n",
       "      <td>Route 5</td>\n",
       "      <td>09:00-20:00</td>\n",
       "      <td>09:00</td>\n",
       "      <td>20:00</td>\n",
       "    </tr>\n",
       "  </tbody>\n",
       "</table>\n",
       "</div>"
      ],
      "text/plain": [
       "   route_id route_name    schedules start_time end_time\n",
       "0         1    Route 1  09:00-20:00      09:00    20:00\n",
       "1         2    Route 2  08:00-18:00      08:00    18:00\n",
       "2         3    Route 3  09:00-20:00      09:00    20:00\n",
       "3         4    Route 4  08:00-18:00      08:00    18:00\n",
       "4         5    Route 5  09:00-20:00      09:00    20:00"
      ]
     },
     "execution_count": 9,
     "metadata": {},
     "output_type": "execute_result"
    }
   ],
   "source": [
    "# split the string into start and end times\n",
    "df_bus_routes[[\"start_time\", \"end_time\"]] = df_bus_routes[\"schedules\"].str.split(\"-\", expand=True)\n",
    "\n",
    "df_bus_routes.head()"
   ]
  },
  {
   "cell_type": "markdown",
   "id": "df3a5570-8eeb-42b9-88b5-ffcbd1534df7",
   "metadata": {},
   "source": [
    "We now can make use of `pd.to_datetime` to convert the strings into dates. The only potential issue is that the dates default to 1900."
   ]
  },
  {
   "cell_type": "code",
   "execution_count": 10,
   "id": "4ecea9e1-d9a4-4b50-8b2d-3a2d9712bb5c",
   "metadata": {},
   "outputs": [
    {
     "data": {
      "text/html": [
       "<div>\n",
       "<style scoped>\n",
       "    .dataframe tbody tr th:only-of-type {\n",
       "        vertical-align: middle;\n",
       "    }\n",
       "\n",
       "    .dataframe tbody tr th {\n",
       "        vertical-align: top;\n",
       "    }\n",
       "\n",
       "    .dataframe thead th {\n",
       "        text-align: right;\n",
       "    }\n",
       "</style>\n",
       "<table border=\"1\" class=\"dataframe\">\n",
       "  <thead>\n",
       "    <tr style=\"text-align: right;\">\n",
       "      <th></th>\n",
       "      <th>route_id</th>\n",
       "      <th>route_name</th>\n",
       "      <th>schedules</th>\n",
       "      <th>start_time</th>\n",
       "      <th>end_time</th>\n",
       "      <th>new_start_time</th>\n",
       "      <th>new_end_time</th>\n",
       "    </tr>\n",
       "  </thead>\n",
       "  <tbody>\n",
       "    <tr>\n",
       "      <th>0</th>\n",
       "      <td>1</td>\n",
       "      <td>Route 1</td>\n",
       "      <td>09:00-20:00</td>\n",
       "      <td>09:00</td>\n",
       "      <td>20:00</td>\n",
       "      <td>1900-01-01 09:00:00</td>\n",
       "      <td>1900-01-01 20:00:00</td>\n",
       "    </tr>\n",
       "    <tr>\n",
       "      <th>1</th>\n",
       "      <td>2</td>\n",
       "      <td>Route 2</td>\n",
       "      <td>08:00-18:00</td>\n",
       "      <td>08:00</td>\n",
       "      <td>18:00</td>\n",
       "      <td>1900-01-01 08:00:00</td>\n",
       "      <td>1900-01-01 18:00:00</td>\n",
       "    </tr>\n",
       "    <tr>\n",
       "      <th>2</th>\n",
       "      <td>3</td>\n",
       "      <td>Route 3</td>\n",
       "      <td>09:00-20:00</td>\n",
       "      <td>09:00</td>\n",
       "      <td>20:00</td>\n",
       "      <td>1900-01-01 09:00:00</td>\n",
       "      <td>1900-01-01 20:00:00</td>\n",
       "    </tr>\n",
       "    <tr>\n",
       "      <th>3</th>\n",
       "      <td>4</td>\n",
       "      <td>Route 4</td>\n",
       "      <td>08:00-18:00</td>\n",
       "      <td>08:00</td>\n",
       "      <td>18:00</td>\n",
       "      <td>1900-01-01 08:00:00</td>\n",
       "      <td>1900-01-01 18:00:00</td>\n",
       "    </tr>\n",
       "    <tr>\n",
       "      <th>4</th>\n",
       "      <td>5</td>\n",
       "      <td>Route 5</td>\n",
       "      <td>09:00-20:00</td>\n",
       "      <td>09:00</td>\n",
       "      <td>20:00</td>\n",
       "      <td>1900-01-01 09:00:00</td>\n",
       "      <td>1900-01-01 20:00:00</td>\n",
       "    </tr>\n",
       "  </tbody>\n",
       "</table>\n",
       "</div>"
      ],
      "text/plain": [
       "   route_id route_name    schedules start_time end_time      new_start_time  \\\n",
       "0         1    Route 1  09:00-20:00      09:00    20:00 1900-01-01 09:00:00   \n",
       "1         2    Route 2  08:00-18:00      08:00    18:00 1900-01-01 08:00:00   \n",
       "2         3    Route 3  09:00-20:00      09:00    20:00 1900-01-01 09:00:00   \n",
       "3         4    Route 4  08:00-18:00      08:00    18:00 1900-01-01 08:00:00   \n",
       "4         5    Route 5  09:00-20:00      09:00    20:00 1900-01-01 09:00:00   \n",
       "\n",
       "         new_end_time  \n",
       "0 1900-01-01 20:00:00  \n",
       "1 1900-01-01 18:00:00  \n",
       "2 1900-01-01 20:00:00  \n",
       "3 1900-01-01 18:00:00  \n",
       "4 1900-01-01 20:00:00  "
      ]
     },
     "execution_count": 10,
     "metadata": {},
     "output_type": "execute_result"
    }
   ],
   "source": [
    "df_bus_routes[\"new_start_time\"] = pd.to_datetime(df_bus_routes['start_time'], format=\"%H:%M\")\n",
    "df_bus_routes[\"new_end_time\"] = pd.to_datetime(df_bus_routes['end_time'], format=\"%H:%M\")\n",
    "df_bus_routes.head()"
   ]
  },
  {
   "cell_type": "markdown",
   "id": "4dbd2a06-a7d0-4190-bf14-5b0951eb01d4",
   "metadata": {},
   "source": [
    "Here is how I was able to change the default date of 1900 to 2024. It was not that pretty."
   ]
  },
  {
   "cell_type": "code",
   "execution_count": 11,
   "id": "742388a5-57ba-48e2-b191-a5d339560047",
   "metadata": {},
   "outputs": [
    {
     "data": {
      "text/html": [
       "<div>\n",
       "<style scoped>\n",
       "    .dataframe tbody tr th:only-of-type {\n",
       "        vertical-align: middle;\n",
       "    }\n",
       "\n",
       "    .dataframe tbody tr th {\n",
       "        vertical-align: top;\n",
       "    }\n",
       "\n",
       "    .dataframe thead th {\n",
       "        text-align: right;\n",
       "    }\n",
       "</style>\n",
       "<table border=\"1\" class=\"dataframe\">\n",
       "  <thead>\n",
       "    <tr style=\"text-align: right;\">\n",
       "      <th></th>\n",
       "      <th>route_id</th>\n",
       "      <th>route_name</th>\n",
       "      <th>schedules</th>\n",
       "      <th>start_time</th>\n",
       "      <th>end_time</th>\n",
       "      <th>new_start_time</th>\n",
       "      <th>new_end_time</th>\n",
       "    </tr>\n",
       "  </thead>\n",
       "  <tbody>\n",
       "    <tr>\n",
       "      <th>0</th>\n",
       "      <td>1</td>\n",
       "      <td>Route 1</td>\n",
       "      <td>09:00-20:00</td>\n",
       "      <td>09:00</td>\n",
       "      <td>20:00</td>\n",
       "      <td>2024-01-01 09:00:00</td>\n",
       "      <td>2024-01-01 20:00:00</td>\n",
       "    </tr>\n",
       "    <tr>\n",
       "      <th>1</th>\n",
       "      <td>2</td>\n",
       "      <td>Route 2</td>\n",
       "      <td>08:00-18:00</td>\n",
       "      <td>08:00</td>\n",
       "      <td>18:00</td>\n",
       "      <td>2024-01-01 08:00:00</td>\n",
       "      <td>2024-01-01 18:00:00</td>\n",
       "    </tr>\n",
       "    <tr>\n",
       "      <th>2</th>\n",
       "      <td>3</td>\n",
       "      <td>Route 3</td>\n",
       "      <td>09:00-20:00</td>\n",
       "      <td>09:00</td>\n",
       "      <td>20:00</td>\n",
       "      <td>2024-01-01 09:00:00</td>\n",
       "      <td>2024-01-01 20:00:00</td>\n",
       "    </tr>\n",
       "    <tr>\n",
       "      <th>3</th>\n",
       "      <td>4</td>\n",
       "      <td>Route 4</td>\n",
       "      <td>08:00-18:00</td>\n",
       "      <td>08:00</td>\n",
       "      <td>18:00</td>\n",
       "      <td>2024-01-01 08:00:00</td>\n",
       "      <td>2024-01-01 18:00:00</td>\n",
       "    </tr>\n",
       "    <tr>\n",
       "      <th>4</th>\n",
       "      <td>5</td>\n",
       "      <td>Route 5</td>\n",
       "      <td>09:00-20:00</td>\n",
       "      <td>09:00</td>\n",
       "      <td>20:00</td>\n",
       "      <td>2024-01-01 09:00:00</td>\n",
       "      <td>2024-01-01 20:00:00</td>\n",
       "    </tr>\n",
       "  </tbody>\n",
       "</table>\n",
       "</div>"
      ],
      "text/plain": [
       "   route_id route_name    schedules start_time end_time      new_start_time  \\\n",
       "0         1    Route 1  09:00-20:00      09:00    20:00 2024-01-01 09:00:00   \n",
       "1         2    Route 2  08:00-18:00      08:00    18:00 2024-01-01 08:00:00   \n",
       "2         3    Route 3  09:00-20:00      09:00    20:00 2024-01-01 09:00:00   \n",
       "3         4    Route 4  08:00-18:00      08:00    18:00 2024-01-01 08:00:00   \n",
       "4         5    Route 5  09:00-20:00      09:00    20:00 2024-01-01 09:00:00   \n",
       "\n",
       "         new_end_time  \n",
       "0 2024-01-01 20:00:00  \n",
       "1 2024-01-01 18:00:00  \n",
       "2 2024-01-01 20:00:00  \n",
       "3 2024-01-01 18:00:00  \n",
       "4 2024-01-01 20:00:00  "
      ]
     },
     "execution_count": 11,
     "metadata": {},
     "output_type": "execute_result"
    }
   ],
   "source": [
    "# calculate the number of days since 1900\n",
    "origin_days = (pd.to_datetime('2024-01-01') - pd.to_datetime('1900-01-01')).days\n",
    "\n",
    "# we move our dates to 2024\n",
    "df_bus_routes[\"new_start_time\"] = df_bus_routes[\"new_start_time\"] + pd.Timedelta(days=origin_days)\n",
    "df_bus_routes[\"new_end_time\"] = df_bus_routes[\"new_end_time\"] + pd.Timedelta(days=origin_days)\n",
    "df_bus_routes.head()"
   ]
  },
  {
   "cell_type": "markdown",
   "id": "31a994d0-074f-43c8-9491-686455d97bec",
   "metadata": {},
   "source": [
    "Now that we have our date objects looking good, we can finally calculate the hours between the two new columns.\n",
    "\n",
    "I could not figure out why the index was being placed in my group object. This is the reason you see the code `reset_index` below."
   ]
  },
  {
   "cell_type": "code",
   "execution_count": 12,
   "id": "d8f63716-96ec-4380-adb3-ac7363d10a74",
   "metadata": {},
   "outputs": [
    {
     "data": {
      "text/plain": [
       "route_name\n",
       "Route 1     11.0\n",
       "Route 7     11.0\n",
       "Route 45    11.0\n",
       "Route 47    11.0\n",
       "Route 49    11.0\n",
       "dtype: float64"
      ]
     },
     "execution_count": 12,
     "metadata": {},
     "output_type": "execute_result"
    }
   ],
   "source": [
    "# create group object\n",
    "group = df_bus_routes.groupby('route_name')\n",
    "\n",
    "# calculate the hours between the two column\n",
    "result = group.apply(lambda x: (x['new_end_time'] - x['new_start_time']).dt.seconds/3600, include_groups=False)\n",
    "\n",
    "# drop the original index\n",
    "result = result.reset_index(level=1, drop=True)\n",
    "\n",
    "# sort descending\n",
    "result.sort_values(ascending=False).head()"
   ]
  },
  {
   "cell_type": "markdown",
   "id": "3d9f81cd-c165-4ff6-9a0f-645894c6f935",
   "metadata": {},
   "source": [
    "The task requested us to calculate the \"routes with operating hours exceeding 18 hours\", but as you can see from the results above, none of the routes go past 11 hours."
   ]
  },
  {
   "cell_type": "markdown",
   "id": "5c2c2992-d3ec-4688-8201-df3cbe661533",
   "metadata": {},
   "source": [
    "# Passenger Flow Analysis: \n",
    "\n",
    "Pivot the passenger_traffic dataset to create a new table showing the total passenger count for each hour of the day, across all routes. Then, identify the peak hour with the highest passenger traffic."
   ]
  },
  {
   "cell_type": "code",
   "execution_count": 13,
   "id": "aef1a3fd-69f2-4d47-b84e-ebe9c297537a",
   "metadata": {},
   "outputs": [
    {
     "data": {
      "text/html": [
       "<div>\n",
       "<style scoped>\n",
       "    .dataframe tbody tr th:only-of-type {\n",
       "        vertical-align: middle;\n",
       "    }\n",
       "\n",
       "    .dataframe tbody tr th {\n",
       "        vertical-align: top;\n",
       "    }\n",
       "\n",
       "    .dataframe thead th {\n",
       "        text-align: right;\n",
       "    }\n",
       "</style>\n",
       "<table border=\"1\" class=\"dataframe\">\n",
       "  <thead>\n",
       "    <tr style=\"text-align: right;\">\n",
       "      <th>route_id</th>\n",
       "      <th>1</th>\n",
       "      <th>2</th>\n",
       "      <th>3</th>\n",
       "      <th>4</th>\n",
       "      <th>5</th>\n",
       "      <th>6</th>\n",
       "      <th>7</th>\n",
       "      <th>8</th>\n",
       "      <th>9</th>\n",
       "      <th>10</th>\n",
       "      <th>...</th>\n",
       "      <th>92</th>\n",
       "      <th>93</th>\n",
       "      <th>94</th>\n",
       "      <th>95</th>\n",
       "      <th>96</th>\n",
       "      <th>97</th>\n",
       "      <th>98</th>\n",
       "      <th>99</th>\n",
       "      <th>100</th>\n",
       "      <th>All</th>\n",
       "    </tr>\n",
       "    <tr>\n",
       "      <th>hour</th>\n",
       "      <th></th>\n",
       "      <th></th>\n",
       "      <th></th>\n",
       "      <th></th>\n",
       "      <th></th>\n",
       "      <th></th>\n",
       "      <th></th>\n",
       "      <th></th>\n",
       "      <th></th>\n",
       "      <th></th>\n",
       "      <th></th>\n",
       "      <th></th>\n",
       "      <th></th>\n",
       "      <th></th>\n",
       "      <th></th>\n",
       "      <th></th>\n",
       "      <th></th>\n",
       "      <th></th>\n",
       "      <th></th>\n",
       "      <th></th>\n",
       "      <th></th>\n",
       "    </tr>\n",
       "  </thead>\n",
       "  <tbody>\n",
       "    <tr>\n",
       "      <th>21</th>\n",
       "      <td>91</td>\n",
       "      <td>42</td>\n",
       "      <td>67</td>\n",
       "      <td>89</td>\n",
       "      <td>33</td>\n",
       "      <td>42</td>\n",
       "      <td>24</td>\n",
       "      <td>66</td>\n",
       "      <td>42</td>\n",
       "      <td>33</td>\n",
       "      <td>...</td>\n",
       "      <td>80</td>\n",
       "      <td>68</td>\n",
       "      <td>69</td>\n",
       "      <td>46</td>\n",
       "      <td>24</td>\n",
       "      <td>65</td>\n",
       "      <td>43</td>\n",
       "      <td>48</td>\n",
       "      <td>33</td>\n",
       "      <td>5064</td>\n",
       "    </tr>\n",
       "    <tr>\n",
       "      <th>22</th>\n",
       "      <td>47</td>\n",
       "      <td>41</td>\n",
       "      <td>45</td>\n",
       "      <td>23</td>\n",
       "      <td>69</td>\n",
       "      <td>64</td>\n",
       "      <td>14</td>\n",
       "      <td>34</td>\n",
       "      <td>21</td>\n",
       "      <td>13</td>\n",
       "      <td>...</td>\n",
       "      <td>99</td>\n",
       "      <td>90</td>\n",
       "      <td>46</td>\n",
       "      <td>69</td>\n",
       "      <td>46</td>\n",
       "      <td>84</td>\n",
       "      <td>28</td>\n",
       "      <td>58</td>\n",
       "      <td>72</td>\n",
       "      <td>6028</td>\n",
       "    </tr>\n",
       "    <tr>\n",
       "      <th>23</th>\n",
       "      <td>35</td>\n",
       "      <td>84</td>\n",
       "      <td>21</td>\n",
       "      <td>95</td>\n",
       "      <td>12</td>\n",
       "      <td>10</td>\n",
       "      <td>77</td>\n",
       "      <td>89</td>\n",
       "      <td>94</td>\n",
       "      <td>56</td>\n",
       "      <td>...</td>\n",
       "      <td>85</td>\n",
       "      <td>38</td>\n",
       "      <td>54</td>\n",
       "      <td>44</td>\n",
       "      <td>14</td>\n",
       "      <td>41</td>\n",
       "      <td>16</td>\n",
       "      <td>70</td>\n",
       "      <td>58</td>\n",
       "      <td>5506</td>\n",
       "    </tr>\n",
       "    <tr>\n",
       "      <th>24</th>\n",
       "      <td>87</td>\n",
       "      <td>33</td>\n",
       "      <td>56</td>\n",
       "      <td>58</td>\n",
       "      <td>72</td>\n",
       "      <td>48</td>\n",
       "      <td>21</td>\n",
       "      <td>51</td>\n",
       "      <td>20</td>\n",
       "      <td>60</td>\n",
       "      <td>...</td>\n",
       "      <td>27</td>\n",
       "      <td>19</td>\n",
       "      <td>95</td>\n",
       "      <td>80</td>\n",
       "      <td>57</td>\n",
       "      <td>93</td>\n",
       "      <td>12</td>\n",
       "      <td>16</td>\n",
       "      <td>69</td>\n",
       "      <td>5040</td>\n",
       "    </tr>\n",
       "    <tr>\n",
       "      <th>All</th>\n",
       "      <td>1626</td>\n",
       "      <td>1342</td>\n",
       "      <td>1086</td>\n",
       "      <td>1341</td>\n",
       "      <td>1208</td>\n",
       "      <td>1269</td>\n",
       "      <td>1183</td>\n",
       "      <td>1468</td>\n",
       "      <td>1383</td>\n",
       "      <td>1221</td>\n",
       "      <td>...</td>\n",
       "      <td>1356</td>\n",
       "      <td>1414</td>\n",
       "      <td>1034</td>\n",
       "      <td>1098</td>\n",
       "      <td>1087</td>\n",
       "      <td>1218</td>\n",
       "      <td>1267</td>\n",
       "      <td>1236</td>\n",
       "      <td>1383</td>\n",
       "      <td>130554</td>\n",
       "    </tr>\n",
       "  </tbody>\n",
       "</table>\n",
       "<p>5 rows × 101 columns</p>\n",
       "</div>"
      ],
      "text/plain": [
       "route_id     1     2     3     4     5     6     7     8     9    10  ...  \\\n",
       "hour                                                                  ...   \n",
       "21          91    42    67    89    33    42    24    66    42    33  ...   \n",
       "22          47    41    45    23    69    64    14    34    21    13  ...   \n",
       "23          35    84    21    95    12    10    77    89    94    56  ...   \n",
       "24          87    33    56    58    72    48    21    51    20    60  ...   \n",
       "All       1626  1342  1086  1341  1208  1269  1183  1468  1383  1221  ...   \n",
       "\n",
       "route_id    92    93    94    95    96    97    98    99   100     All  \n",
       "hour                                                                    \n",
       "21          80    68    69    46    24    65    43    48    33    5064  \n",
       "22          99    90    46    69    46    84    28    58    72    6028  \n",
       "23          85    38    54    44    14    41    16    70    58    5506  \n",
       "24          27    19    95    80    57    93    12    16    69    5040  \n",
       "All       1356  1414  1034  1098  1087  1218  1267  1236  1383  130554  \n",
       "\n",
       "[5 rows x 101 columns]"
      ]
     },
     "execution_count": 13,
     "metadata": {},
     "output_type": "execute_result"
    }
   ],
   "source": [
    "pivot_table = df_passenger_traffic.pivot_table(values='passenger_count', index='hour', columns='route_id', aggfunc='sum', margins=True)\n",
    "\n",
    "pivot_table.tail()"
   ]
  },
  {
   "cell_type": "markdown",
   "id": "44d29175-f1e4-4995-84d3-61944162dca2",
   "metadata": {},
   "source": [
    "Here are the steps to get the most popular hour:  \n",
    "- Remove the row margin named \"All\"\n",
    "- Select the column margin named \"All\"\n",
    "- Order the row desceding and select the top value "
   ]
  },
  {
   "cell_type": "code",
   "execution_count": 14,
   "id": "de4a0474-dc15-4b67-8df8-dde898d12d07",
   "metadata": {},
   "outputs": [
    {
     "data": {
      "text/plain": [
       "hour\n",
       "22    6028\n",
       "Name: All, dtype: int64"
      ]
     },
     "execution_count": 14,
     "metadata": {},
     "output_type": "execute_result"
    }
   ],
   "source": [
    "# remove the \"All\" row\n",
    "remove_all_row = pivot_table.index.drop('All')\n",
    "\n",
    "# find the most popular hour\n",
    "pivot_table.loc[remove_all_row,'All'].sort_values(ascending=False).head(1)"
   ]
  },
  {
   "cell_type": "markdown",
   "id": "2140fca8-b415-4609-8242-1e2acd8f337c",
   "metadata": {},
   "source": [
    "Here are the steps to get the most popular route:  \n",
    "- Remove the column named \"All\"\n",
    "- Select the row margin named \"All\"\n",
    "- Order the row desceding and select the top value "
   ]
  },
  {
   "cell_type": "code",
   "execution_count": 15,
   "id": "6ad1dc50-399c-4a91-b8fb-2d2772e2ee10",
   "metadata": {},
   "outputs": [
    {
     "data": {
      "text/plain": [
       "route_id\n",
       "1    1626\n",
       "Name: All, dtype: int64"
      ]
     },
     "execution_count": 15,
     "metadata": {},
     "output_type": "execute_result"
    }
   ],
   "source": [
    "# remove the \"All\" row\n",
    "remove_all_column = pivot_table.columns.drop('All')\n",
    "\n",
    "# find the most popular hour\n",
    "pivot_table.loc['All', remove_all_column].sort_values(ascending=False).head(1)"
   ]
  },
  {
   "cell_type": "markdown",
   "id": "ea381ed6-b4b2-4b49-83fd-8b2e799aac84",
   "metadata": {},
   "source": [
    "# Summary:  \n",
    "The tutorial demonstrated how to use Pandas to analyze a dataset containing information on bus routes, schedules, and passenger traffic. It covered three tasks: route optimization, schedule alignment, and passenger flow analysis.  \n",
    "\n",
    "### Key Takeaways:\n",
    "- You learned how to merge datasets on a common column and calculate average values for each group.\n",
    "- You discovered how to identify top-performing groups based on calculated averages.\n",
    "- You learned how to transform string data into datetime format for easier analysis.\n",
    "- You understood how to calculate time differences.\n",
    "- You learned how to pivot data to create new tables with aggregated values.\n",
    "\n",
    "### Pandas Functions Used:  \n",
    "- merge\n",
    "- groupby\n",
    "- mean\n",
    "- sort_values\n",
    "- str.split\n",
    "- pd.to_datetime\n",
    "- pivot_table\n",
    "- reset_index\n",
    "- apply\n",
    "- dt.seconds\n",
    "- drop"
   ]
  },
  {
   "cell_type": "markdown",
   "id": "8c103364-f55f-49e9-bf83-af9360c592f3",
   "metadata": {},
   "source": [
    "<p class=\"text-muted\">This tutorial was created by <a href=\"https://www.hedaro.com\" target=\"_blank\"><strong>HEDARO</strong></a></p>"
   ]
  }
 ],
 "metadata": {
  "kernelspec": {
   "display_name": "Python 3 (ipykernel)",
   "language": "python",
   "name": "python3"
  },
  "language_info": {
   "codemirror_mode": {
    "name": "ipython",
    "version": 3
   },
   "file_extension": ".py",
   "mimetype": "text/x-python",
   "name": "python",
   "nbconvert_exporter": "python",
   "pygments_lexer": "ipython3",
   "version": "3.11.7"
  }
 },
 "nbformat": 4,
 "nbformat_minor": 5
}
