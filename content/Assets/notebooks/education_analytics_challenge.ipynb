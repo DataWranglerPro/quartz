{
 "cells": [
  {
   "cell_type": "markdown",
   "id": "02a6273b-41a0-4a5e-9ee1-823c4a5b0d86",
   "metadata": {},
   "source": [
    "# Education Analytics Challenge  \n",
    "\n",
    "### Description:   \n",
    "Your friend is a data analyst for a large online education platform. She needs your help to analyze student performance data and identify trends in student engagement. She provides you with a dataset containing student scores, ages, and study hours.  \n",
    "\n",
    "### Tasks:  \n",
    "- **Score Binning:** Use `pd.cut` to bin student scores into three categories: low (0-40), medium (41-70), and high (71-100). Calculate the count of students in each bin.\n",
    "- **Age Quantiles:** Use `pd.qcut` to divide students into four age groups based on quantiles (25th, 50th, 75th percentiles). Calculate the average score for each age group.\n",
    "- **Study Hour Categories:** Use `pd.cut` to categorize study hours into three groups: low (0-5 hours), medium (6-10 hours), and high (11+ hours). Calculate the average score for each study hour category."
   ]
  },
  {
   "cell_type": "code",
   "execution_count": 1,
   "id": "75dbb786-831b-4057-9709-312eeed9608b",
   "metadata": {},
   "outputs": [
    {
     "name": "stdout",
     "output_type": "stream",
     "text": [
      "Python version 3.11.7 | packaged by Anaconda, Inc. | (main, Dec 15 2023, 18:05:47) [MSC v.1916 64 bit (AMD64)]\n",
      "Pandas version 2.2.1\n",
      "Numpy version 1.26.4\n"
     ]
    }
   ],
   "source": [
    "# import libraries\n",
    "import pandas as pd\n",
    "import numpy as np\n",
    "import sys\n",
    "\n",
    "print('Python version ' + sys.version)\n",
    "print('Pandas version ' + pd.__version__)\n",
    "print('Numpy version ' + np.__version__)"
   ]
  },
  {
   "cell_type": "markdown",
   "id": "9e05a655-ab97-41c0-aed1-47f0eaa720a1",
   "metadata": {},
   "source": [
    "# The Data  \n",
    "\n",
    "This dataset represents a sample of student performance and engagement metrics, providing a snapshot of their academic progress and learning habits.  \n",
    "\n",
    "### Columns:  \n",
    "- **Score:** The student's score on a test (0-100)\n",
    "- **Age:** The student's age (18-30)\n",
    "- **Study Hours:** The number of hours the student studied (0-20)"
   ]
  },
  {
   "cell_type": "code",
   "execution_count": 2,
   "id": "a54b5307-863d-4beb-8ee5-93e64f29f849",
   "metadata": {},
   "outputs": [
    {
     "data": {
      "text/html": [
       "<div>\n",
       "<style scoped>\n",
       "    .dataframe tbody tr th:only-of-type {\n",
       "        vertical-align: middle;\n",
       "    }\n",
       "\n",
       "    .dataframe tbody tr th {\n",
       "        vertical-align: top;\n",
       "    }\n",
       "\n",
       "    .dataframe thead th {\n",
       "        text-align: right;\n",
       "    }\n",
       "</style>\n",
       "<table border=\"1\" class=\"dataframe\">\n",
       "  <thead>\n",
       "    <tr style=\"text-align: right;\">\n",
       "      <th></th>\n",
       "      <th>Score</th>\n",
       "      <th>Age</th>\n",
       "      <th>Study Hours</th>\n",
       "    </tr>\n",
       "  </thead>\n",
       "  <tbody>\n",
       "    <tr>\n",
       "      <th>0</th>\n",
       "      <td>54.881350</td>\n",
       "      <td>19</td>\n",
       "      <td>19.013202</td>\n",
       "    </tr>\n",
       "    <tr>\n",
       "      <th>1</th>\n",
       "      <td>71.518937</td>\n",
       "      <td>24</td>\n",
       "      <td>12.036051</td>\n",
       "    </tr>\n",
       "    <tr>\n",
       "      <th>2</th>\n",
       "      <td>60.276338</td>\n",
       "      <td>28</td>\n",
       "      <td>16.291702</td>\n",
       "    </tr>\n",
       "    <tr>\n",
       "      <th>3</th>\n",
       "      <td>54.488318</td>\n",
       "      <td>23</td>\n",
       "      <td>19.747667</td>\n",
       "    </tr>\n",
       "    <tr>\n",
       "      <th>4</th>\n",
       "      <td>42.365480</td>\n",
       "      <td>22</td>\n",
       "      <td>15.749032</td>\n",
       "    </tr>\n",
       "  </tbody>\n",
       "</table>\n",
       "</div>"
      ],
      "text/plain": [
       "       Score  Age  Study Hours\n",
       "0  54.881350   19    19.013202\n",
       "1  71.518937   24    12.036051\n",
       "2  60.276338   28    16.291702\n",
       "3  54.488318   23    19.747667\n",
       "4  42.365480   22    15.749032"
      ]
     },
     "execution_count": 2,
     "metadata": {},
     "output_type": "execute_result"
    }
   ],
   "source": [
    "# set the seed\n",
    "np.random.seed(0)\n",
    "\n",
    "data = {\n",
    "    'Score': np.random.uniform(0, 100, size=1000),\n",
    "    'Age': np.random.randint(18, 30, size=1000),\n",
    "    'Study Hours': np.random.uniform(0, 20, size=1000)\n",
    "}\n",
    "\n",
    "df = pd.DataFrame(data)\n",
    "df.head()"
   ]
  },
  {
   "cell_type": "markdown",
   "id": "4affa575-efb3-455c-8753-5dcd09ce8f35",
   "metadata": {},
   "source": [
    "# Score Binning:  \n",
    "\n",
    "Use `pd.cut` to bin student scores into three categories and calculate the count of students in each bin.  \n",
    "- low (0-40)\n",
    "- medium (41-70)\n",
    "- high (71-100) "
   ]
  },
  {
   "cell_type": "markdown",
   "id": "49a3248d-d147-48c7-966a-12585d78b26e",
   "metadata": {},
   "source": [
    "`pd.cut` is a Pandas function that allows you to bin or categorize numeric data into intervals or categories. It's useful when you want to group continuous data into discrete categories.  \n",
    "\n",
    "### How it works:  \n",
    "You pass in a series (a column of data) and specify the bins (intervals) you want to use. `pd.cut` returns a new series with the bin labels assigned to each value.  \n",
    "\n",
    "### When to use it:\n",
    "- When you want to group continuous data into categories (e.g., age groups, score ranges)  \n",
    "- When you want to simplify complex data into more manageable chunks  \n",
    "- When you want to create a new feature based on existing numerical data\n",
    "\n",
    "### Simple example:  \n",
    "Suppose we have a series of exam scores:  \n",
    "``` Python\n",
    "scores = pd.Series([80, 70, 90, 60, 75])\n",
    "```\n",
    "\n",
    "We can use `pd.cut` to bin the scores into three categories: low (0-70), medium (71-90), and high (91-100)  \n",
    "``` python\n",
    "bins = [0, 70, 90, 100]  \n",
    "labels = ['low', 'medium', 'high']  \n",
    "binned_scores = pd.cut(scores, bins=bins, labels=labels)  \n",
    "print(binned_scores)  \n",
    "```\n",
    "\n",
    "**Output:** \n",
    "``` python\n",
    "0    medium\n",
    "1       low\n",
    "2    medium\n",
    "3       low\n",
    "4    medium\n",
    "dtype: category\n",
    "Categories (3, object): ['low' < 'medium' < 'high']\n",
    "```\n",
    "\n",
    "**Bin Ranges:**  \n",
    "(0 - 70] -> low  \n",
    "(70 - 90] -> medium  \n",
    "(90 - 100] -> high  \n",
    "\n",
    "\n",
    "Let us go over the output above:  \n",
    "- The first data point is 80, this number falls under the medium category (70-90]\n",
    "- The second data point is 70, this number falls under the low category (0-70]\n",
    "- The third data point is 90, this number falls under the medium category (70-90]\n",
    "- The fourth data point is 60, this number falls under the low category (0-70]\n",
    "- The fifth data point is 75, this number falls under the medium category (70-90]"
   ]
  },
  {
   "cell_type": "code",
   "execution_count": 3,
   "id": "736c180c-f990-4a39-b8a0-c0011f2330b6",
   "metadata": {},
   "outputs": [
    {
     "data": {
      "text/plain": [
       "Score\n",
       "low       415\n",
       "medium    294\n",
       "high      291\n",
       "Name: count, dtype: int64"
      ]
     },
     "execution_count": 3,
     "metadata": {},
     "output_type": "execute_result"
    }
   ],
   "source": [
    "# create bins for the low (0-40), medium (41-70), and high (71-100) categories\n",
    "bins = [0, 40, 70, 100]  \n",
    "\n",
    "# labels for the three categories\n",
    "labels = ['low', 'medium', 'high']  \n",
    "\n",
    "# bin it up!\n",
    "binned_scores = pd.cut(df['Score'], bins=bins, labels=labels)\n",
    "\n",
    "# here we get a frequency count of the categories\n",
    "binned_scores.value_counts()"
   ]
  },
  {
   "cell_type": "markdown",
   "id": "6dc0c355-7566-4d9f-9ee2-b12ce2af7e9a",
   "metadata": {},
   "source": [
    "Here is a handy loop to visualize the bins."
   ]
  },
  {
   "cell_type": "code",
   "execution_count": 4,
   "id": "aeb97613-446d-47b5-8a12-310b845ce354",
   "metadata": {},
   "outputs": [
    {
     "name": "stdout",
     "output_type": "stream",
     "text": [
      "\n",
      "Bin Ranges:\n",
      "(0 - 40] -> low\n",
      "(40 - 70] -> medium\n",
      "(70 - 100] -> high\n"
     ]
    }
   ],
   "source": [
    "# print the bin ranges\n",
    "print(\"\\nBin Ranges:\")\n",
    "for i in range(len(bins)-1):\n",
    "    print(f\"({bins[i]} - {bins[i+1]}] -> {labels[i]}\")"
   ]
  },
  {
   "cell_type": "markdown",
   "id": "d39214c1-7520-4e57-a186-4a7d9633999c",
   "metadata": {
    "jp-MarkdownHeadingCollapsed": true
   },
   "source": [
    "<h3 align=\"middle\">pd.cut versus pd.qcut</h3> \n",
    "\n",
    "<h5 align=\"middle\">In the next task we will be using pd.qcut, to avoid confusion with pd.cut, below is a table comparing the two methods.</h5> \n",
    "\n",
    "| **Feature**           | **pd.cut**               | **pd.qcut**                      |\n",
    "| --------------------- | ------------------------ | -------------------------------- |\n",
    "| **Bin Edges**         | Fixed, user-specified    | Dynamic, based on quantiles      |\n",
    "| **Bin Specification** | Manual, explicit         | Automatic, based on quantiles    |\n",
    "| **Number of Bins**    | User-specified           | User-specified (q parameter)     |\n",
    "| **Bin Size**          | Variable                 | Equal-sized buckets              |\n",
    "| **Use Case**          | Specific bin edges known | Equal-sized buckets desired      |\n",
    "| **Quantiles**         | Not directly related     | Directly related, uses quantiles |"
   ]
  },
  {
   "cell_type": "markdown",
   "id": "1bc97553-93e1-4fc9-ae2c-872394784dda",
   "metadata": {},
   "source": [
    "# Age Quantiles:  \n",
    "\n",
    "Use `pd.qcut` to divide students into four age groups based on quantiles (25th, 50th, 75th percentiles). Calculate the average score for each age group.  "
   ]
  },
  {
   "cell_type": "code",
   "execution_count": 5,
   "id": "26a1bb51-fa32-4a9a-8cb7-c36e3040a89e",
   "metadata": {},
   "outputs": [
    {
     "data": {
      "text/plain": [
       "binned_ages\n",
       "0-25%      48.435515\n",
       "26%-50%    52.325292\n",
       "51%-75%    48.789424\n",
       "76%+       49.102480\n",
       "Name: Score, dtype: float64"
      ]
     },
     "execution_count": 5,
     "metadata": {},
     "output_type": "execute_result"
    }
   ],
   "source": [
    "# bin into 4 groups\n",
    "binned_ages = pd.qcut(df['Age'], q=4, labels=['0-25%', '26%-50%', '51%-75%', '76%+'], retbins=True)\n",
    "\n",
    "# add it to the dataframe\n",
    "df['binned_ages'] = binned_ages[0]\n",
    "\n",
    "# create group object\n",
    "group = df.groupby('binned_ages', observed=True)\n",
    "\n",
    "# calculate the average score for the group\n",
    "group.mean(numeric_only=True)['Score']"
   ]
  },
  {
   "cell_type": "markdown",
   "id": "d7cb637b-e532-4ed3-88aa-41ff42ac921f",
   "metadata": {},
   "source": [
    "We can see the bin ranges used."
   ]
  },
  {
   "cell_type": "code",
   "execution_count": 6,
   "id": "0d27eee3-097f-4e26-8998-6b31b2348d94",
   "metadata": {},
   "outputs": [
    {
     "data": {
      "text/plain": [
       "array([18., 21., 24., 27., 29.])"
      ]
     },
     "execution_count": 6,
     "metadata": {},
     "output_type": "execute_result"
    }
   ],
   "source": [
    "binned_ages[1]"
   ]
  },
  {
   "cell_type": "markdown",
   "id": "ac2b7566-8452-49b4-ae78-7b4e629faea7",
   "metadata": {},
   "source": [
    "Below are a couple ways to get the quantiles, just in case you are curious."
   ]
  },
  {
   "cell_type": "code",
   "execution_count": 7,
   "id": "c45fb25c-0b60-4a96-bc99-2f27d41b3625",
   "metadata": {},
   "outputs": [
    {
     "data": {
      "text/plain": [
       "count    1000.000000\n",
       "mean       23.748000\n",
       "std         3.497818\n",
       "min        18.000000\n",
       "25%        21.000000\n",
       "50%        24.000000\n",
       "75%        27.000000\n",
       "max        29.000000\n",
       "Name: Age, dtype: float64"
      ]
     },
     "execution_count": 7,
     "metadata": {},
     "output_type": "execute_result"
    }
   ],
   "source": [
    "df['Age'].describe()"
   ]
  },
  {
   "cell_type": "code",
   "execution_count": 8,
   "id": "093cb7a2-def8-43c1-be5b-f0372ca965b7",
   "metadata": {},
   "outputs": [
    {
     "data": {
      "text/plain": [
       "0.25    21.0\n",
       "0.50    24.0\n",
       "0.75    27.0\n",
       "Name: Age, dtype: float64"
      ]
     },
     "execution_count": 8,
     "metadata": {},
     "output_type": "execute_result"
    }
   ],
   "source": [
    "df['Age'].quantile([0.25, 0.5, 0.75])"
   ]
  },
  {
   "cell_type": "markdown",
   "id": "a90c94c6-f3e2-466f-817a-d28fccbd94f3",
   "metadata": {},
   "source": [
    "# Study Hour Categories:  \n",
    "\n",
    "Use `pd.cut` to categorize study hours into three groups: low (0-5 hours), medium (6-10 hours), and high (11+ hours). Calculate the average score for each study hour category.  \n",
    "\n",
    "---\n",
    "Let us talk about the `df.groupby` parameter named observed.  \n",
    "\n",
    "I needed to add the observed parameter and set it to True to avoid a Pandas warning I was getting. Now the question is, why was I getting this warning? I have used the `df.groupby` method many times, but don't recall seeing this warning before.  \n",
    "\n",
    "```FutureWarning: The default of observed=False is deprecated and will be changed to True in a future version of pandas. Pass observed=False to retain current behavior or observed=True to adopt the future default and silence this warning.```\n",
    "\n",
    "I was getting this warning because I was grouping by the column named binned_ages, which has a datatype of category.\n",
    "\n",
    "Categoricals have a special property called \"observed\" which determines whether the categories should be considered as part of the data's index.  \n",
    "\n",
    "When you group data using a Categorical column, Pandas uses the categories as the grouping keys. If the categories are not already part of the data's index, Pandas will create a new index based on the categories. This is where the \"observed\" parameter comes in.  \n",
    "\n",
    "- If **observed=False** (the current default), Pandas will treat the categories as \"unobserved\" variables, meaning they won't be considered part of the data's index. This is useful when you want to group data based on a Categorical column without modifying the original index.\n",
    "- If **observed=True**, Pandas will treat the categories as part of the data's index, which can affect the behavior of certain operations, like merging or joining dataframes.\n",
    "\n",
    "So, the warning is only relevant when you're grouping data using a Categorical column, because that's when the \"observed\" parameter has a significant impact on the behavior of the groupby operation. If you're grouping data using non-Categorical columns (e.g., numerical or string columns), the \"observed\" parameter doesn't have any effect, and the warning is not applicable. "
   ]
  },
  {
   "cell_type": "code",
   "execution_count": 9,
   "id": "67d2cc66-0e90-4592-b225-0697e2724c9f",
   "metadata": {},
   "outputs": [
    {
     "data": {
      "text/plain": [
       "binned_hours\n",
       "low       48.110535\n",
       "medium    49.040285\n",
       "high      50.585352\n",
       "Name: Score, dtype: float64"
      ]
     },
     "execution_count": 9,
     "metadata": {},
     "output_type": "execute_result"
    }
   ],
   "source": [
    "# create bins\n",
    "bins = [0, 5, 10, 20]  \n",
    "\n",
    "# labels for the three categories\n",
    "labels = ['low', 'medium', 'high']  \n",
    "\n",
    "# bin it up!\n",
    "binned_hours = pd.cut(df['Study Hours'], bins=bins, labels=labels)\n",
    "\n",
    "# add it to the dataframe\n",
    "df['binned_hours'] = binned_hours\n",
    "\n",
    "# create group object\n",
    "group = df.groupby('binned_hours', observed=True)\n",
    "\n",
    "# calculate the average score for the group\n",
    "group.mean(numeric_only=True)['Score']"
   ]
  },
  {
   "cell_type": "markdown",
   "id": "604bb152-4873-4715-bb05-394b1be1eb4f",
   "metadata": {},
   "source": [
    "### Summary:  \n",
    "The tutorial analyzed student performance data to identify trends in engagement, covering score binning, age quantiles, and study hour categories. It demonstrated the use of Pandas functions pd.cut and pd.qcut for categorizing and binning data, and calculating average scores.\n",
    "\n",
    "### You learned:\n",
    "- How to bin data into categories using pd.cut\n",
    "- How to divide data into quantiles using pd.qcut\n",
    "- How to group data and calculate average scores for each group\n",
    "- The difference between pd.cut and pd.qcut\n",
    "- How to use the observed parameter in df.groupby when working with Categorical columns"
   ]
  },
  {
   "cell_type": "markdown",
   "id": "8c1b4807-28b5-4b0f-92d4-5020219d0e37",
   "metadata": {},
   "source": [
    "<p class=\"text-muted\">This tutorial was created by <a href=\"https://www.hedaro.com\" target=\"_blank\"><strong>HEDARO</strong></a></p>"
   ]
  }
 ],
 "metadata": {
  "kernelspec": {
   "display_name": "Python 3 (ipykernel)",
   "language": "python",
   "name": "python3"
  },
  "language_info": {
   "codemirror_mode": {
    "name": "ipython",
    "version": 3
   },
   "file_extension": ".py",
   "mimetype": "text/x-python",
   "name": "python",
   "nbconvert_exporter": "python",
   "pygments_lexer": "ipython3",
   "version": "3.11.7"
  }
 },
 "nbformat": 4,
 "nbformat_minor": 5
}
