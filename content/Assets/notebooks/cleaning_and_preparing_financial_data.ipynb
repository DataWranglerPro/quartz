{
 "cells": [
  {
   "cell_type": "markdown",
   "id": "85677189-dd96-4b7d-b3ae-f98347b09c56",
   "metadata": {},
   "source": [
    "# Cleaning and Preparing Financial Data  \n",
    "\n",
    "### Description:  \n",
    "You are a Fintech professional at a leading investment firm, and your team is analyzing the performance of various hedge funds. Your manager has asked you to create a report that provides insights into the funds' performance, but the data is messy and needs to be cleaned and transformed before analysis can begin.\n",
    "\n",
    "### Tasks:  \n",
    "- **Fill Missing Returns:** Use the ffill method to fill missing values in the 'Returns' column, assuming that missing values are a result of no trading activity.\n",
    "- **Normalize Returns Data:** Normalize the 'Returns' data to a range of 0 to 1.\n",
    "- **Remove Duplicate Rows:** Remove duplicate rows that have the same 'Fund' and 'Date' values."
   ]
  },
  {
   "cell_type": "code",
   "execution_count": 1,
   "id": "c99707bd-8079-498d-b69d-c275adf4090e",
   "metadata": {},
   "outputs": [
    {
     "name": "stdout",
     "output_type": "stream",
     "text": [
      "Python version 3.11.7 | packaged by Anaconda, Inc. | (main, Dec 15 2023, 18:05:47) [MSC v.1916 64 bit (AMD64)]\n",
      "Pandas version 2.2.1\n",
      "Numpy version 1.26.4\n"
     ]
    }
   ],
   "source": [
    "# import libraries\n",
    "import pandas as pd\n",
    "import numpy as np\n",
    "import sys\n",
    "\n",
    "print('Python version ' + sys.version)\n",
    "print('Pandas version ' + pd.__version__)\n",
    "print('Numpy version ' + np.__version__)"
   ]
  },
  {
   "cell_type": "markdown",
   "id": "980b2387-64b3-49b5-8a22-aeb0c624875d",
   "metadata": {},
   "source": [
    "# The data  \n",
    "\n",
    "The dataset consists of daily returns data for 100 hedge funds, with additional columns for assets under management, investment strategy, and volatility. The data is messy, with missing values and duplicate rows, and requires cleaning and normalization before analysis can begin.\n",
    "\n",
    "### Columns:  \n",
    "- **Fund:** The name of the hedge fund\n",
    "- **Date:** The trading date (in datetime format)\n",
    "- **Returns:** The daily returns of the fund with missing values and a large range\n",
    "- **Assets:** The total assets under management by the fund\n",
    "- **Strategy:** The investment strategy used by the fund (Equity, Fixed Income, or Multi-Asset)\n",
    "- **Volatility:** A numeric column representing the annualized standard deviation of each hedge fund's returns, expressed as a percentage."
   ]
  },
  {
   "cell_type": "code",
   "execution_count": 2,
   "id": "9b09e5e9-0748-4c10-b911-240622c696d4",
   "metadata": {},
   "outputs": [
    {
     "data": {
      "text/html": [
       "<div>\n",
       "<style scoped>\n",
       "    .dataframe tbody tr th:only-of-type {\n",
       "        vertical-align: middle;\n",
       "    }\n",
       "\n",
       "    .dataframe tbody tr th {\n",
       "        vertical-align: top;\n",
       "    }\n",
       "\n",
       "    .dataframe thead th {\n",
       "        text-align: right;\n",
       "    }\n",
       "</style>\n",
       "<table border=\"1\" class=\"dataframe\">\n",
       "  <thead>\n",
       "    <tr style=\"text-align: right;\">\n",
       "      <th></th>\n",
       "      <th>Fund</th>\n",
       "      <th>Date</th>\n",
       "      <th>Returns</th>\n",
       "      <th>Assets</th>\n",
       "      <th>Strategy</th>\n",
       "      <th>Volatility</th>\n",
       "    </tr>\n",
       "  </thead>\n",
       "  <tbody>\n",
       "    <tr>\n",
       "      <th>0</th>\n",
       "      <td>Fund 1</td>\n",
       "      <td>2022-12-17</td>\n",
       "      <td>-222.371294</td>\n",
       "      <td>76434668</td>\n",
       "      <td>Multi-Asset</td>\n",
       "      <td>65.210327</td>\n",
       "    </tr>\n",
       "    <tr>\n",
       "      <th>1</th>\n",
       "      <td>Fund 1</td>\n",
       "      <td>2022-06-24</td>\n",
       "      <td>86.784346</td>\n",
       "      <td>76434668</td>\n",
       "      <td>Multi-Asset</td>\n",
       "      <td>65.210327</td>\n",
       "    </tr>\n",
       "    <tr>\n",
       "      <th>2</th>\n",
       "      <td>Fund 1</td>\n",
       "      <td>2022-10-01</td>\n",
       "      <td>363.855606</td>\n",
       "      <td>76434668</td>\n",
       "      <td>Multi-Asset</td>\n",
       "      <td>65.210327</td>\n",
       "    </tr>\n",
       "    <tr>\n",
       "      <th>3</th>\n",
       "      <td>Fund 1</td>\n",
       "      <td>2022-04-07</td>\n",
       "      <td>-382.468144</td>\n",
       "      <td>76434668</td>\n",
       "      <td>Multi-Asset</td>\n",
       "      <td>65.210327</td>\n",
       "    </tr>\n",
       "    <tr>\n",
       "      <th>4</th>\n",
       "      <td>Fund 1</td>\n",
       "      <td>2022-03-07</td>\n",
       "      <td>17.379107</td>\n",
       "      <td>76434668</td>\n",
       "      <td>Multi-Asset</td>\n",
       "      <td>65.210327</td>\n",
       "    </tr>\n",
       "  </tbody>\n",
       "</table>\n",
       "</div>"
      ],
      "text/plain": [
       "     Fund       Date     Returns    Assets     Strategy  Volatility\n",
       "0  Fund 1 2022-12-17 -222.371294  76434668  Multi-Asset   65.210327\n",
       "1  Fund 1 2022-06-24   86.784346  76434668  Multi-Asset   65.210327\n",
       "2  Fund 1 2022-10-01  363.855606  76434668  Multi-Asset   65.210327\n",
       "3  Fund 1 2022-04-07 -382.468144  76434668  Multi-Asset   65.210327\n",
       "4  Fund 1 2022-03-07   17.379107  76434668  Multi-Asset   65.210327"
      ]
     },
     "execution_count": 2,
     "metadata": {},
     "output_type": "execute_result"
    }
   ],
   "source": [
    "# set the seed\n",
    "np.random.seed(0)\n",
    "\n",
    "# data\n",
    "data = {\n",
    "    'Fund': ['Fund {}'.format(i) for i in range(1, 101)],\n",
    "    'Assets': np.random.randint(low=1000000, high=100000000, size=100),\n",
    "    'Strategy': np.random.choice(['Equity', 'Fixed Income', 'Multi-Asset'], size=100),\n",
    "    'Volatility': np.random.uniform(low=0, high=100, size=100),\n",
    "    'Returns': [np.random.uniform(low=-500, high=500, size=252) for _ in range(100)]\n",
    "}\n",
    "\n",
    "# create dataframe\n",
    "df = pd.DataFrame(data)\n",
    "\n",
    "# unpack the lists in the 'Returns' column\n",
    "df = df.explode('Returns')\n",
    "\n",
    "# reset the index\n",
    "df = df.reset_index(drop=True)\n",
    "\n",
    "# add missing values\n",
    "df.loc[np.random.choice(df.index, 50), 'Returns'] = np.nan\n",
    "\n",
    "# add duplicates\n",
    "extra_rows = df.iloc[np.random.choice(df.index, size=int(0.05*len(df)), replace=False)]\n",
    "df = pd.concat([df, extra_rows])\n",
    "\n",
    "# add a new column 'Date' with a specific date range\n",
    "date_range = pd.date_range(start='2022-01-01', end='2022-12-31')\n",
    "df['Date'] = np.random.choice(date_range, size=len(df))\n",
    "\n",
    "# reorder the columns\n",
    "df = df[['Fund', 'Date', 'Returns', 'Assets', 'Strategy', 'Volatility']]\n",
    "\n",
    "df.head()"
   ]
  },
  {
   "cell_type": "markdown",
   "id": "225e7e2e-6065-462c-bb18-e56d8f8a735e",
   "metadata": {},
   "source": [
    "Let us check the column data types using `df.info()`\n",
    "\n",
    "Since the \"Returns\" column has both floats and NaNs, Pandas returns the column as an object. "
   ]
  },
  {
   "cell_type": "code",
   "execution_count": 3,
   "id": "af757c8d-3173-4a88-8e2b-b448dd56c051",
   "metadata": {},
   "outputs": [
    {
     "name": "stdout",
     "output_type": "stream",
     "text": [
      "<class 'pandas.core.frame.DataFrame'>\n",
      "Index: 26460 entries, 0 to 9581\n",
      "Data columns (total 6 columns):\n",
      " #   Column      Non-Null Count  Dtype         \n",
      "---  ------      --------------  -----         \n",
      " 0   Fund        26460 non-null  object        \n",
      " 1   Date        26460 non-null  datetime64[ns]\n",
      " 2   Returns     26407 non-null  object        \n",
      " 3   Assets      26460 non-null  int32         \n",
      " 4   Strategy    26460 non-null  object        \n",
      " 5   Volatility  26460 non-null  float64       \n",
      "dtypes: datetime64[ns](1), float64(1), int32(1), object(3)\n",
      "memory usage: 1.3+ MB\n"
     ]
    }
   ],
   "source": [
    "df.info()"
   ]
  },
  {
   "cell_type": "markdown",
   "id": "750097f6-ac10-4cb1-8930-046b8c0135c7",
   "metadata": {},
   "source": [
    "We should be able to get `df.info()` to return the column as float64.  \n",
    "\n",
    "> **Pro Tip:** Do not try to use `.loc` or `.iloc` when casting to another data type. You will not get any errors, but nothing gets converted. This will save you a lot of time trying to figure out what is going on. "
   ]
  },
  {
   "cell_type": "code",
   "execution_count": 4,
   "id": "e896deb8-7417-4bb2-aa1e-bd5947d89ea0",
   "metadata": {},
   "outputs": [
    {
     "name": "stdout",
     "output_type": "stream",
     "text": [
      "<class 'pandas.core.frame.DataFrame'>\n",
      "Index: 26460 entries, 0 to 9581\n",
      "Data columns (total 6 columns):\n",
      " #   Column      Non-Null Count  Dtype         \n",
      "---  ------      --------------  -----         \n",
      " 0   Fund        26460 non-null  object        \n",
      " 1   Date        26460 non-null  datetime64[ns]\n",
      " 2   Returns     26407 non-null  float64       \n",
      " 3   Assets      26460 non-null  int32         \n",
      " 4   Strategy    26460 non-null  object        \n",
      " 5   Volatility  26460 non-null  float64       \n",
      "dtypes: datetime64[ns](1), float64(2), int32(1), object(2)\n",
      "memory usage: 1.3+ MB\n"
     ]
    }
   ],
   "source": [
    "# convert to float\n",
    "df['Returns'] = pd.to_numeric(df['Returns'], errors='coerce')\n",
    "\n",
    "df.info()"
   ]
  },
  {
   "cell_type": "markdown",
   "id": "dfdb06b5-93d7-455a-a10d-9803a6c10597",
   "metadata": {},
   "source": [
    "# Fill Missing Returns: \n",
    "\n",
    "Use the ffill method to fill missing values in the \"Returns\" column, assuming that missing values are a result of no trading activity."
   ]
  },
  {
   "cell_type": "code",
   "execution_count": 5,
   "id": "eb6d85e5-f54d-44f3-9b60-72e0d4817f16",
   "metadata": {},
   "outputs": [
    {
     "data": {
      "text/html": [
       "<div>\n",
       "<style scoped>\n",
       "    .dataframe tbody tr th:only-of-type {\n",
       "        vertical-align: middle;\n",
       "    }\n",
       "\n",
       "    .dataframe tbody tr th {\n",
       "        vertical-align: top;\n",
       "    }\n",
       "\n",
       "    .dataframe thead th {\n",
       "        text-align: right;\n",
       "    }\n",
       "</style>\n",
       "<table border=\"1\" class=\"dataframe\">\n",
       "  <thead>\n",
       "    <tr style=\"text-align: right;\">\n",
       "      <th></th>\n",
       "      <th>Fund</th>\n",
       "      <th>Date</th>\n",
       "      <th>Returns</th>\n",
       "      <th>Assets</th>\n",
       "      <th>Strategy</th>\n",
       "      <th>Volatility</th>\n",
       "    </tr>\n",
       "  </thead>\n",
       "  <tbody>\n",
       "    <tr>\n",
       "      <th>0</th>\n",
       "      <td>Fund 1</td>\n",
       "      <td>2022-01-02</td>\n",
       "      <td>52.192470</td>\n",
       "      <td>76434668</td>\n",
       "      <td>Multi-Asset</td>\n",
       "      <td>65.210327</td>\n",
       "    </tr>\n",
       "    <tr>\n",
       "      <th>1</th>\n",
       "      <td>Fund 1</td>\n",
       "      <td>2022-01-03</td>\n",
       "      <td>-129.147201</td>\n",
       "      <td>76434668</td>\n",
       "      <td>Multi-Asset</td>\n",
       "      <td>65.210327</td>\n",
       "    </tr>\n",
       "    <tr>\n",
       "      <th>2</th>\n",
       "      <td>Fund 1</td>\n",
       "      <td>2022-01-05</td>\n",
       "      <td>-101.565741</td>\n",
       "      <td>76434668</td>\n",
       "      <td>Multi-Asset</td>\n",
       "      <td>65.210327</td>\n",
       "    </tr>\n",
       "    <tr>\n",
       "      <th>3</th>\n",
       "      <td>Fund 1</td>\n",
       "      <td>2022-01-06</td>\n",
       "      <td>-43.859433</td>\n",
       "      <td>76434668</td>\n",
       "      <td>Multi-Asset</td>\n",
       "      <td>65.210327</td>\n",
       "    </tr>\n",
       "    <tr>\n",
       "      <th>4</th>\n",
       "      <td>Fund 1</td>\n",
       "      <td>2022-01-06</td>\n",
       "      <td>-139.454440</td>\n",
       "      <td>76434668</td>\n",
       "      <td>Multi-Asset</td>\n",
       "      <td>65.210327</td>\n",
       "    </tr>\n",
       "  </tbody>\n",
       "</table>\n",
       "</div>"
      ],
      "text/plain": [
       "     Fund       Date     Returns    Assets     Strategy  Volatility\n",
       "0  Fund 1 2022-01-02   52.192470  76434668  Multi-Asset   65.210327\n",
       "1  Fund 1 2022-01-03 -129.147201  76434668  Multi-Asset   65.210327\n",
       "2  Fund 1 2022-01-05 -101.565741  76434668  Multi-Asset   65.210327\n",
       "3  Fund 1 2022-01-06  -43.859433  76434668  Multi-Asset   65.210327\n",
       "4  Fund 1 2022-01-06 -139.454440  76434668  Multi-Asset   65.210327"
      ]
     },
     "execution_count": 5,
     "metadata": {},
     "output_type": "execute_result"
    }
   ],
   "source": [
    "# sort the data\n",
    "df = df.sort_values(by=['Fund', 'Date']).reset_index(drop=True)\n",
    "\n",
    "df.head()"
   ]
  },
  {
   "cell_type": "markdown",
   "id": "00c9cc3f-4d34-490c-9485-9fb512857e2f",
   "metadata": {},
   "source": [
    "To apply the `ffill()` method to each Fund, we need to use the `groupby()` method."
   ]
  },
  {
   "cell_type": "code",
   "execution_count": 6,
   "id": "c5b67567-bee3-4942-96a1-1562938f6a17",
   "metadata": {},
   "outputs": [
    {
     "name": "stdout",
     "output_type": "stream",
     "text": [
      "<class 'pandas.core.frame.DataFrame'>\n",
      "RangeIndex: 26460 entries, 0 to 26459\n",
      "Data columns (total 7 columns):\n",
      " #   Column         Non-Null Count  Dtype         \n",
      "---  ------         --------------  -----         \n",
      " 0   Fund           26460 non-null  object        \n",
      " 1   Date           26460 non-null  datetime64[ns]\n",
      " 2   Returns        26407 non-null  float64       \n",
      " 3   Assets         26460 non-null  int32         \n",
      " 4   Strategy       26460 non-null  object        \n",
      " 5   Volatility     26460 non-null  float64       \n",
      " 6   Returns_ffill  26460 non-null  float64       \n",
      "dtypes: datetime64[ns](1), float64(3), int32(1), object(2)\n",
      "memory usage: 1.3+ MB\n"
     ]
    }
   ],
   "source": [
    "group = df.groupby('Fund')\n",
    "\n",
    "# use ffill\n",
    "df['Returns_ffill'] = group['Returns'].ffill()\n",
    "\n",
    "df.info()"
   ]
  },
  {
   "cell_type": "markdown",
   "id": "2e5f3967-004a-422f-864a-77871a8a4678",
   "metadata": {},
   "source": [
    "# Normalize Returns Data: \n",
    "\n",
    "Use the following formula to normalize the 'Returns' data to a range of 0 to 1:\n",
    "\n",
    "```\n",
    "normalized_returns = (returns - returns.min()) / (returns.max() - returns.min())\n",
    "```\n",
    "\n",
    "This will rescale the 'Returns' data to a range of 0 to 1, making it easier to analyze and visualize."
   ]
  },
  {
   "cell_type": "code",
   "execution_count": 7,
   "id": "74138f9c-5197-4251-90b4-85984ac05160",
   "metadata": {},
   "outputs": [
    {
     "data": {
      "text/html": [
       "<div>\n",
       "<style scoped>\n",
       "    .dataframe tbody tr th:only-of-type {\n",
       "        vertical-align: middle;\n",
       "    }\n",
       "\n",
       "    .dataframe tbody tr th {\n",
       "        vertical-align: top;\n",
       "    }\n",
       "\n",
       "    .dataframe thead th {\n",
       "        text-align: right;\n",
       "    }\n",
       "</style>\n",
       "<table border=\"1\" class=\"dataframe\">\n",
       "  <thead>\n",
       "    <tr style=\"text-align: right;\">\n",
       "      <th></th>\n",
       "      <th>Fund</th>\n",
       "      <th>Date</th>\n",
       "      <th>Returns</th>\n",
       "      <th>Assets</th>\n",
       "      <th>Strategy</th>\n",
       "      <th>Volatility</th>\n",
       "      <th>Returns_ffill</th>\n",
       "      <th>normalized_returns</th>\n",
       "    </tr>\n",
       "  </thead>\n",
       "  <tbody>\n",
       "    <tr>\n",
       "      <th>0</th>\n",
       "      <td>Fund 1</td>\n",
       "      <td>2022-01-02</td>\n",
       "      <td>52.192470</td>\n",
       "      <td>76434668</td>\n",
       "      <td>Multi-Asset</td>\n",
       "      <td>65.210327</td>\n",
       "      <td>52.192470</td>\n",
       "      <td>0.552172</td>\n",
       "    </tr>\n",
       "    <tr>\n",
       "      <th>1</th>\n",
       "      <td>Fund 1</td>\n",
       "      <td>2022-01-03</td>\n",
       "      <td>-129.147201</td>\n",
       "      <td>76434668</td>\n",
       "      <td>Multi-Asset</td>\n",
       "      <td>65.210327</td>\n",
       "      <td>-129.147201</td>\n",
       "      <td>0.370815</td>\n",
       "    </tr>\n",
       "    <tr>\n",
       "      <th>2</th>\n",
       "      <td>Fund 1</td>\n",
       "      <td>2022-01-05</td>\n",
       "      <td>-101.565741</td>\n",
       "      <td>76434668</td>\n",
       "      <td>Multi-Asset</td>\n",
       "      <td>65.210327</td>\n",
       "      <td>-101.565741</td>\n",
       "      <td>0.398399</td>\n",
       "    </tr>\n",
       "    <tr>\n",
       "      <th>3</th>\n",
       "      <td>Fund 1</td>\n",
       "      <td>2022-01-06</td>\n",
       "      <td>-43.859433</td>\n",
       "      <td>76434668</td>\n",
       "      <td>Multi-Asset</td>\n",
       "      <td>65.210327</td>\n",
       "      <td>-43.859433</td>\n",
       "      <td>0.456111</td>\n",
       "    </tr>\n",
       "    <tr>\n",
       "      <th>4</th>\n",
       "      <td>Fund 1</td>\n",
       "      <td>2022-01-06</td>\n",
       "      <td>-139.454440</td>\n",
       "      <td>76434668</td>\n",
       "      <td>Multi-Asset</td>\n",
       "      <td>65.210327</td>\n",
       "      <td>-139.454440</td>\n",
       "      <td>0.360507</td>\n",
       "    </tr>\n",
       "  </tbody>\n",
       "</table>\n",
       "</div>"
      ],
      "text/plain": [
       "     Fund       Date     Returns    Assets     Strategy  Volatility  \\\n",
       "0  Fund 1 2022-01-02   52.192470  76434668  Multi-Asset   65.210327   \n",
       "1  Fund 1 2022-01-03 -129.147201  76434668  Multi-Asset   65.210327   \n",
       "2  Fund 1 2022-01-05 -101.565741  76434668  Multi-Asset   65.210327   \n",
       "3  Fund 1 2022-01-06  -43.859433  76434668  Multi-Asset   65.210327   \n",
       "4  Fund 1 2022-01-06 -139.454440  76434668  Multi-Asset   65.210327   \n",
       "\n",
       "   Returns_ffill  normalized_returns  \n",
       "0      52.192470            0.552172  \n",
       "1    -129.147201            0.370815  \n",
       "2    -101.565741            0.398399  \n",
       "3     -43.859433            0.456111  \n",
       "4    -139.454440            0.360507  "
      ]
     },
     "execution_count": 7,
     "metadata": {},
     "output_type": "execute_result"
    }
   ],
   "source": [
    "df['normalized_returns'] = (df['Returns_ffill'] - df['Returns_ffill'].min()) / (df['Returns_ffill'].max() - df['Returns_ffill'].min())\n",
    "\n",
    "df.head()"
   ]
  },
  {
   "cell_type": "markdown",
   "id": "99434538-c508-4dc5-bab2-17e2d3a146ca",
   "metadata": {},
   "source": [
    "You can see we were able to rescale the data between 0 and 1."
   ]
  },
  {
   "cell_type": "code",
   "execution_count": 8,
   "id": "2ced7011-75d7-4bb9-8c50-1d4415597f58",
   "metadata": {},
   "outputs": [
    {
     "data": {
      "image/png": "[encoded data removed]",
      "text/plain": [
       "<Figure size 640x480 with 1 Axes>"
      ]
     },
     "metadata": {},
     "output_type": "display_data"
    }
   ],
   "source": [
    "df['normalized_returns'].plot.box();"
   ]
  },
  {
   "cell_type": "markdown",
   "id": "555a0cd6-847e-49ed-abcd-0ba1f66df444",
   "metadata": {},
   "source": [
    "# Remove Duplicate Rows: \n",
    "\n",
    "Remove duplicate rows that have the same 'Fund' and 'Date' values."
   ]
  },
  {
   "cell_type": "markdown",
   "id": "99278918-5208-4da6-8898-dc079df2c78e",
   "metadata": {},
   "source": [
    "The `drop_duplicates()` method has a parameter named \"subset\" that allows us to drop duplicates but only consider a specific set of columns."
   ]
  },
  {
   "cell_type": "code",
   "execution_count": 9,
   "id": "7ea20e3f-6992-4f02-8d63-6629a2065eb4",
   "metadata": {},
   "outputs": [
    {
     "name": "stdout",
     "output_type": "stream",
     "text": [
      "<class 'pandas.core.frame.DataFrame'>\n",
      "Index: 18839 entries, 0 to 26457\n",
      "Data columns (total 8 columns):\n",
      " #   Column              Non-Null Count  Dtype         \n",
      "---  ------              --------------  -----         \n",
      " 0   Fund                18839 non-null  object        \n",
      " 1   Date                18839 non-null  datetime64[ns]\n",
      " 2   Returns             18803 non-null  float64       \n",
      " 3   Assets              18839 non-null  int32         \n",
      " 4   Strategy            18839 non-null  object        \n",
      " 5   Volatility          18839 non-null  float64       \n",
      " 6   Returns_ffill       18839 non-null  float64       \n",
      " 7   normalized_returns  18839 non-null  float64       \n",
      "dtypes: datetime64[ns](1), float64(4), int32(1), object(2)\n",
      "memory usage: 1.2+ MB\n"
     ]
    }
   ],
   "source": [
    "clean = df.drop_duplicates(subset=['Fund', 'Date'])\n",
    "\n",
    "clean.info()"
   ]
  },
  {
   "cell_type": "markdown",
   "id": "87a5942c-da5c-4c5f-8b27-031d673ce71f",
   "metadata": {},
   "source": [
    "# Summary:  \n",
    "The tutorial demonstrates how to clean and prepare financial data for analysis. It starts with a messy dataset of hedge funds' daily returns, assets, strategy, and volatility. The data is cleaned by filling missing values, normalizing returns data, and removing duplicate rows.\n",
    "\n",
    "### Key Takeaways:  \n",
    "- **Fill missing values:** Use the `ffill` method to fill missing values in a column, especially when the missing values are a result of no trading activity.\n",
    "- **Normalize data:** Use the formula (returns - returns.min()) / (returns.max() - returns.min()) to normalize data to a range of 0 to 1.\n",
    "- **Remove duplicates:** Use the `drop_duplicates` method with the subset parameter to remove duplicate rows based on specific columns.\n",
    "- **Data types:** Be aware of the data types in each column and convert them as needed (e.g., from object to float64).\n",
    "- **GroupBy:** Use the groupby method to perform operations on groups of data (e.g., filling missing values for each fund)."
   ]
  },
  {
   "cell_type": "markdown",
   "id": "8ab0c43e-fb43-4746-bf39-259055c97a5b",
   "metadata": {},
   "source": [
    "<p class=\"text-muted\">This tutorial was created by <a href=\"https://www.hedaro.com\" target=\"_blank\"><strong>HEDARO</strong></a></p>"
   ]
  }
 ],
 "metadata": {
  "kernelspec": {
   "display_name": "Python 3 (ipykernel)",
   "language": "python",
   "name": "python3"
  },
  "language_info": {
   "codemirror_mode": {
    "name": "ipython",
    "version": 3
   },
   "file_extension": ".py",
   "mimetype": "text/x-python",
   "name": "python",
   "nbconvert_exporter": "python",
   "pygments_lexer": "ipython3",
   "version": "3.11.7"
  }
 },
 "nbformat": 4,
 "nbformat_minor": 5
}
