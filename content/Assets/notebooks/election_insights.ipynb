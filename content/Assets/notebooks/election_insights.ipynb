{
 "cells": [
  {
   "cell_type": "markdown",
   "id": "3c52f53b-759d-4d8d-a60b-bf09b1c9746c",
   "metadata": {},
   "source": [
    "# Election Insights: Uncovering Voter Trends  \n",
    "\n",
    "### Description  \n",
    "It's election season, and the Democratic National Committee (**DNC**) and the Republican National Committee (**RNC**) need your help analyzing voter demographics and donation data to inform campaign strategies.\n",
    "\n",
    "### Tasks\n",
    "- Merge the voter demographics and donation dataframes on the voter ID column and calculate the total donations received from each state.\n",
    "- Transform the 'donation_date' column to datetime format and extract the month and year of each donation. Then, create a new dataframe showing the total donations received each month, grouped by state.\n",
    "- Pivot the merged dataframe to show the average donation amount by age group and state."
   ]
  },
  {
   "cell_type": "code",
   "execution_count": 1,
   "id": "331ac28e-7a8b-4564-b063-f5b2dba21198",
   "metadata": {},
   "outputs": [
    {
     "name": "stdout",
     "output_type": "stream",
     "text": [
      "Python version 3.11.7 | packaged by Anaconda, Inc. | (main, Dec 15 2023, 18:05:47) [MSC v.1916 64 bit (AMD64)]\n",
      "Pandas version 2.2.1\n",
      "Numpy version 1.26.4\n"
     ]
    }
   ],
   "source": [
    "# import libraries\n",
    "import pandas as pd\n",
    "import numpy as np\n",
    "import sys\n",
    "\n",
    "print('Python version ' + sys.version)\n",
    "print('Pandas version ' + pd.__version__)\n",
    "print('Numpy version ' + np.__version__)"
   ]
  },
  {
   "cell_type": "markdown",
   "id": "f1467320-3943-43cd-8889-c08288643e9e",
   "metadata": {},
   "source": [
    "# The Data  \n",
    "\n",
    "The dataset consists of two CSV files: \"voter_demographics\" and \"donations\", containing information on 100,000 voters (age, state, party affiliation) and 50,000 donations (date, amount) made by these voters, respectively. The data is synthetic, representing a fictional scenario, and is designed to mimic real-world voter demographics and donation patterns.\n",
    "\n",
    "### Columns:\n",
    "**Voter Demographics:**  \n",
    "- **voter_id:** Unique identifier for each voter.\n",
    "- **state:** Two-letter abbreviation for the voter's state.\n",
    "- **age:** Voter's age.\n",
    "- **party_affiliation:** Voter's party affiliation.\n",
    "\n",
    "\n",
    "**Donations:**  \n",
    "- **voter_id:** Unique identifier for each voter.\n",
    "- **donation_date:** Date of donation.\n",
    "- **donation_amount:** Amount donated."
   ]
  },
  {
   "cell_type": "code",
   "execution_count": 2,
   "id": "413d6284-345a-4701-8aea-425581feb957",
   "metadata": {},
   "outputs": [],
   "source": [
    "# set the seed\n",
    "np.random.seed(0)\n",
    "\n",
    "# voter demographics data\n",
    "voter_demographics = pd.DataFrame({\n",
    "    'voter_id': range(100000),\n",
    "    'state': np.random.choice(['AL', 'AK', 'AZ', 'AR', 'CA', 'CO', 'CT', 'DE', 'FL', 'GA'], size=100000),\n",
    "    'age': np.random.randint(18, 80, size=100000),\n",
    "    'party_affiliation': np.random.choice(['Democrat', 'Republican', 'Independent'], size=100000)\n",
    "})\n",
    "\n",
    "# donation data\n",
    "donations = pd.DataFrame({\n",
    "    'voter_id': np.random.choice(range(100000), size=50000),\n",
    "    'donation_date': pd.date_range('2022-01-01', '2024-11-04', periods=50000),\n",
    "    'donation_amount': np.random.randint(10, 1000, size=50000)\n",
    "})\n",
    "\n",
    "# save dataframes to CSV files\n",
    "voter_demographics.to_csv('voter_demographics.csv', index=False)\n",
    "donations.to_csv('donations.csv', index=False)"
   ]
  },
  {
   "cell_type": "markdown",
   "id": "40931e40-e82c-4d54-a54f-2699dcf32f85",
   "metadata": {},
   "source": [
    "We will begin by reading the CSV files into memory."
   ]
  },
  {
   "cell_type": "code",
   "execution_count": 3,
   "id": "ae7414c8-ddb7-4b39-b380-aa821f95e40b",
   "metadata": {},
   "outputs": [],
   "source": [
    "# create dataframes\n",
    "voter_demographics_df = pd.read_csv('voter_demographics.csv')\n",
    "donations_df = pd.read_csv('donations.csv')"
   ]
  },
  {
   "cell_type": "markdown",
   "id": "9c0fab2a-e7f7-4f1a-ae56-607ab138eedb",
   "metadata": {},
   "source": [
    "Let us take a look at the data types."
   ]
  },
  {
   "cell_type": "code",
   "execution_count": 4,
   "id": "3725e105-df3c-4e44-8bad-d80eb5cd3a03",
   "metadata": {},
   "outputs": [
    {
     "name": "stdout",
     "output_type": "stream",
     "text": [
      "<class 'pandas.core.frame.DataFrame'>\n",
      "RangeIndex: 100000 entries, 0 to 99999\n",
      "Data columns (total 4 columns):\n",
      " #   Column             Non-Null Count   Dtype \n",
      "---  ------             --------------   ----- \n",
      " 0   voter_id           100000 non-null  int64 \n",
      " 1   state              100000 non-null  object\n",
      " 2   age                100000 non-null  int64 \n",
      " 3   party_affiliation  100000 non-null  object\n",
      "dtypes: int64(2), object(2)\n",
      "memory usage: 3.1+ MB\n"
     ]
    }
   ],
   "source": [
    "voter_demographics_df.info()"
   ]
  },
  {
   "cell_type": "markdown",
   "id": "07776fc3-9964-409c-ae31-8ebf589e0487",
   "metadata": {},
   "source": [
    "Take note that the column named \"donation_date\" will need to be converted into a date object since it is currently being treated as a string. (see task #2)"
   ]
  },
  {
   "cell_type": "code",
   "execution_count": 5,
   "id": "a913f88d-8b37-4552-847a-406eaa708324",
   "metadata": {},
   "outputs": [
    {
     "name": "stdout",
     "output_type": "stream",
     "text": [
      "<class 'pandas.core.frame.DataFrame'>\n",
      "RangeIndex: 50000 entries, 0 to 49999\n",
      "Data columns (total 3 columns):\n",
      " #   Column           Non-Null Count  Dtype \n",
      "---  ------           --------------  ----- \n",
      " 0   voter_id         50000 non-null  int64 \n",
      " 1   donation_date    50000 non-null  object\n",
      " 2   donation_amount  50000 non-null  int64 \n",
      "dtypes: int64(2), object(1)\n",
      "memory usage: 1.1+ MB\n"
     ]
    }
   ],
   "source": [
    "donations_df.info()"
   ]
  },
  {
   "cell_type": "markdown",
   "id": "b05c3c6c-98fe-44e7-8311-0bdda607626b",
   "metadata": {},
   "source": [
    "# Task #1  \n",
    "\n",
    "Merge the voter demographics and donation dataframes on the voter ID column and calculate the total donations received from each state.\n",
    "\n",
    "**Note:** By default, when using the `.merge` method, we are performing an inner join. This means we will not include any row where the \"voter_id\" column does not match between the two dataframes."
   ]
  },
  {
   "cell_type": "code",
   "execution_count": 6,
   "id": "680b630a-9cd4-4867-862c-36a00a2eafa6",
   "metadata": {},
   "outputs": [
    {
     "data": {
      "text/html": [
       "<div>\n",
       "<style scoped>\n",
       "    .dataframe tbody tr th:only-of-type {\n",
       "        vertical-align: middle;\n",
       "    }\n",
       "\n",
       "    .dataframe tbody tr th {\n",
       "        vertical-align: top;\n",
       "    }\n",
       "\n",
       "    .dataframe thead th {\n",
       "        text-align: right;\n",
       "    }\n",
       "</style>\n",
       "<table border=\"1\" class=\"dataframe\">\n",
       "  <thead>\n",
       "    <tr style=\"text-align: right;\">\n",
       "      <th></th>\n",
       "      <th>voter_id</th>\n",
       "      <th>state</th>\n",
       "      <th>age</th>\n",
       "      <th>party_affiliation</th>\n",
       "      <th>donation_date</th>\n",
       "      <th>donation_amount</th>\n",
       "    </tr>\n",
       "  </thead>\n",
       "  <tbody>\n",
       "    <tr>\n",
       "      <th>0</th>\n",
       "      <td>0</td>\n",
       "      <td>CO</td>\n",
       "      <td>64</td>\n",
       "      <td>Independent</td>\n",
       "      <td>2023-12-28 02:17:33.093061864</td>\n",
       "      <td>317</td>\n",
       "    </tr>\n",
       "    <tr>\n",
       "      <th>1</th>\n",
       "      <td>2</td>\n",
       "      <td>AR</td>\n",
       "      <td>49</td>\n",
       "      <td>Independent</td>\n",
       "      <td>2022-01-18 04:33:03.495669913</td>\n",
       "      <td>857</td>\n",
       "    </tr>\n",
       "    <tr>\n",
       "      <th>2</th>\n",
       "      <td>3</td>\n",
       "      <td>AR</td>\n",
       "      <td>47</td>\n",
       "      <td>Democrat</td>\n",
       "      <td>2022-04-25 06:51:57.806356128</td>\n",
       "      <td>296</td>\n",
       "    </tr>\n",
       "    <tr>\n",
       "      <th>3</th>\n",
       "      <td>5</td>\n",
       "      <td>GA</td>\n",
       "      <td>64</td>\n",
       "      <td>Independent</td>\n",
       "      <td>2023-11-25 08:03:14.691893840</td>\n",
       "      <td>100</td>\n",
       "    </tr>\n",
       "    <tr>\n",
       "      <th>4</th>\n",
       "      <td>6</td>\n",
       "      <td>AR</td>\n",
       "      <td>73</td>\n",
       "      <td>Independent</td>\n",
       "      <td>2022-06-10 13:57:48.525370508</td>\n",
       "      <td>119</td>\n",
       "    </tr>\n",
       "  </tbody>\n",
       "</table>\n",
       "</div>"
      ],
      "text/plain": [
       "   voter_id state  age party_affiliation                  donation_date  \\\n",
       "0         0    CO   64       Independent  2023-12-28 02:17:33.093061864   \n",
       "1         2    AR   49       Independent  2022-01-18 04:33:03.495669913   \n",
       "2         3    AR   47          Democrat  2022-04-25 06:51:57.806356128   \n",
       "3         5    GA   64       Independent  2023-11-25 08:03:14.691893840   \n",
       "4         6    AR   73       Independent  2022-06-10 13:57:48.525370508   \n",
       "\n",
       "   donation_amount  \n",
       "0              317  \n",
       "1              857  \n",
       "2              296  \n",
       "3              100  \n",
       "4              119  "
      ]
     },
     "execution_count": 6,
     "metadata": {},
     "output_type": "execute_result"
    }
   ],
   "source": [
    "# merge the two dataframes\n",
    "df = voter_demographics_df.merge(donations_df, on='voter_id')\n",
    "df.head()"
   ]
  },
  {
   "cell_type": "markdown",
   "id": "99316b70-4429-4521-a62a-b01d7afe97fe",
   "metadata": {},
   "source": [
    "We will make use of the `.groupby` method to calculate the total donations received from each state.\n",
    "\n",
    "Looking at the final results, we can see that California gave the most donations and Arizona gave the least."
   ]
  },
  {
   "cell_type": "code",
   "execution_count": 7,
   "id": "2b647dcf-d2fa-4352-918f-ce76fec4dae7",
   "metadata": {},
   "outputs": [
    {
     "data": {
      "text/plain": [
       "state\n",
       "CA    2598324\n",
       "AK    2582826\n",
       "AR    2562748\n",
       "CT    2522359\n",
       "DE    2521311\n",
       "FL    2520236\n",
       "AL    2490510\n",
       "CO    2477765\n",
       "GA    2467164\n",
       "AZ    2464678\n",
       "Name: donation_amount, dtype: int64"
      ]
     },
     "execution_count": 7,
     "metadata": {},
     "output_type": "execute_result"
    }
   ],
   "source": [
    "# create group object\n",
    "group = df.groupby('state')\n",
    "\n",
    "# total donations for the group\n",
    "group['donation_amount'].sum().sort_values(ascending=False)"
   ]
  },
  {
   "cell_type": "markdown",
   "id": "ae0b205b-ffd8-44c1-8ee7-e0837ce695f8",
   "metadata": {},
   "source": [
    "# Task #2  \n",
    "\n",
    "Transform the 'donation_date' column to datetime format and extract the month and year of each donation. Then, create a new dataframe showing the total donations received each month, grouped by state."
   ]
  },
  {
   "cell_type": "code",
   "execution_count": 8,
   "id": "4b0e2846-5e7f-45d4-a9ab-b4b184ecfa99",
   "metadata": {},
   "outputs": [
    {
     "name": "stdout",
     "output_type": "stream",
     "text": [
      "<class 'pandas.core.frame.DataFrame'>\n",
      "RangeIndex: 50000 entries, 0 to 49999\n",
      "Data columns (total 6 columns):\n",
      " #   Column             Non-Null Count  Dtype         \n",
      "---  ------             --------------  -----         \n",
      " 0   voter_id           50000 non-null  int64         \n",
      " 1   state              50000 non-null  object        \n",
      " 2   age                50000 non-null  int64         \n",
      " 3   party_affiliation  50000 non-null  object        \n",
      " 4   donation_date      50000 non-null  datetime64[ns]\n",
      " 5   donation_amount    50000 non-null  int64         \n",
      "dtypes: datetime64[ns](1), int64(3), object(2)\n",
      "memory usage: 2.3+ MB\n"
     ]
    }
   ],
   "source": [
    "# convert to date object\n",
    "df['donation_date'] = pd.to_datetime(df['donation_date'])\n",
    "\n",
    "# check to make sure it worked\n",
    "df.info()"
   ]
  },
  {
   "cell_type": "code",
   "execution_count": 9,
   "id": "fb68e0c6-b0fd-4bb8-b3af-35d113620818",
   "metadata": {},
   "outputs": [
    {
     "data": {
      "text/html": [
       "<div>\n",
       "<style scoped>\n",
       "    .dataframe tbody tr th:only-of-type {\n",
       "        vertical-align: middle;\n",
       "    }\n",
       "\n",
       "    .dataframe tbody tr th {\n",
       "        vertical-align: top;\n",
       "    }\n",
       "\n",
       "    .dataframe thead th {\n",
       "        text-align: right;\n",
       "    }\n",
       "</style>\n",
       "<table border=\"1\" class=\"dataframe\">\n",
       "  <thead>\n",
       "    <tr style=\"text-align: right;\">\n",
       "      <th></th>\n",
       "      <th>state</th>\n",
       "      <th>donation_date</th>\n",
       "      <th>donation_amount</th>\n",
       "      <th>donation_month</th>\n",
       "      <th>donation_year</th>\n",
       "    </tr>\n",
       "  </thead>\n",
       "  <tbody>\n",
       "    <tr>\n",
       "      <th>0</th>\n",
       "      <td>CO</td>\n",
       "      <td>2023-12-28 02:17:33.093061864</td>\n",
       "      <td>317</td>\n",
       "      <td>12</td>\n",
       "      <td>2023</td>\n",
       "    </tr>\n",
       "    <tr>\n",
       "      <th>1</th>\n",
       "      <td>AR</td>\n",
       "      <td>2022-01-18 04:33:03.495669913</td>\n",
       "      <td>857</td>\n",
       "      <td>1</td>\n",
       "      <td>2022</td>\n",
       "    </tr>\n",
       "    <tr>\n",
       "      <th>2</th>\n",
       "      <td>AR</td>\n",
       "      <td>2022-04-25 06:51:57.806356128</td>\n",
       "      <td>296</td>\n",
       "      <td>4</td>\n",
       "      <td>2022</td>\n",
       "    </tr>\n",
       "    <tr>\n",
       "      <th>3</th>\n",
       "      <td>GA</td>\n",
       "      <td>2023-11-25 08:03:14.691893840</td>\n",
       "      <td>100</td>\n",
       "      <td>11</td>\n",
       "      <td>2023</td>\n",
       "    </tr>\n",
       "    <tr>\n",
       "      <th>4</th>\n",
       "      <td>AR</td>\n",
       "      <td>2022-06-10 13:57:48.525370508</td>\n",
       "      <td>119</td>\n",
       "      <td>6</td>\n",
       "      <td>2022</td>\n",
       "    </tr>\n",
       "  </tbody>\n",
       "</table>\n",
       "</div>"
      ],
      "text/plain": [
       "  state                 donation_date  donation_amount  donation_month  \\\n",
       "0    CO 2023-12-28 02:17:33.093061864              317              12   \n",
       "1    AR 2022-01-18 04:33:03.495669913              857               1   \n",
       "2    AR 2022-04-25 06:51:57.806356128              296               4   \n",
       "3    GA 2023-11-25 08:03:14.691893840              100              11   \n",
       "4    AR 2022-06-10 13:57:48.525370508              119               6   \n",
       "\n",
       "   donation_year  \n",
       "0           2023  \n",
       "1           2022  \n",
       "2           2022  \n",
       "3           2023  \n",
       "4           2022  "
      ]
     },
     "execution_count": 9,
     "metadata": {},
     "output_type": "execute_result"
    }
   ],
   "source": [
    "# create a new dataframe\n",
    "df_new = df.loc[:,['state','donation_date','donation_amount']]\n",
    "\n",
    "# create new month and year columns\n",
    "df_new['donation_month'] = df_new['donation_date'].dt.month\n",
    "df_new['donation_year'] = df_new['donation_date'].dt.year\n",
    "\n",
    "df_new.head()"
   ]
  },
  {
   "cell_type": "code",
   "execution_count": 10,
   "id": "c993c231-2c87-48d0-8070-dccdcbf27e79",
   "metadata": {},
   "outputs": [
    {
     "data": {
      "text/plain": [
       "donation_month  state\n",
       "1               AK       227603\n",
       "                AL       221196\n",
       "                AR       246627\n",
       "                AZ       214069\n",
       "                CA       243227\n",
       "                          ...  \n",
       "12              CO       138175\n",
       "                CT       149352\n",
       "                DE       144633\n",
       "                FL       164114\n",
       "                GA       171758\n",
       "Name: donation_amount, Length: 120, dtype: int64"
      ]
     },
     "execution_count": 10,
     "metadata": {},
     "output_type": "execute_result"
    }
   ],
   "source": [
    "# create group object\n",
    "group = df_new.groupby(['donation_month','state'])\n",
    "\n",
    "# total donations received by group\n",
    "group['donation_amount'].sum()"
   ]
  },
  {
   "cell_type": "markdown",
   "id": "e180edba-cb42-4fe6-b483-13f6b1a52e52",
   "metadata": {},
   "source": [
    "# Task #3  \n",
    "\n",
    "Pivot the merged dataframe to show the average donation amount by age group and state."
   ]
  },
  {
   "cell_type": "code",
   "execution_count": 11,
   "id": "0840ad4c-160c-4139-b403-5b80ea272e6c",
   "metadata": {},
   "outputs": [
    {
     "data": {
      "text/plain": [
       "state  age\n",
       "AK     18     568.564516\n",
       "       19     507.548780\n",
       "       20     479.083333\n",
       "       21     519.535714\n",
       "       22     491.085714\n",
       "                 ...    \n",
       "GA     75     493.054795\n",
       "       76     511.250000\n",
       "       77     519.724638\n",
       "       78     505.541667\n",
       "       79     506.794118\n",
       "Name: donation_amount, Length: 620, dtype: float64"
      ]
     },
     "execution_count": 11,
     "metadata": {},
     "output_type": "execute_result"
    }
   ],
   "source": [
    "# create group object\n",
    "group = df.groupby(['state','age'])\n",
    "\n",
    "# total donations received by group\n",
    "group['donation_amount'].mean()"
   ]
  },
  {
   "cell_type": "markdown",
   "id": "968eb329-2747-408c-98ea-4ff50d5b4230",
   "metadata": {},
   "source": [
    "DNC and RNC listen up!\n",
    "\n",
    "Voters in the 45-54 age bracket give the highest donation amounts. Do you agree?"
   ]
  },
  {
   "cell_type": "code",
   "execution_count": 12,
   "id": "31108970-36af-4a7d-9e72-b31b0eb0719a",
   "metadata": {},
   "outputs": [
    {
     "data": {
      "image/png": "[encoded data removed]",
      "text/plain": [
       "<Figure size 640x480 with 1 Axes>"
      ]
     },
     "metadata": {},
     "output_type": "display_data"
    }
   ],
   "source": [
    "# create bins for the (18-24), (25-34), (35-44), (45-54) and (55+) categories\n",
    "bins = [18, 25, 34, 44, 55, float('inf')]  \n",
    " \n",
    "# labels for the three categories\n",
    "labels = ['18-24', '25-34', '35-44', '45-54', '55+'] \n",
    " \n",
    "# bin it up!\n",
    "df['age_brackets'] = pd.cut(df['age'], bins=bins, labels=labels, include_lowest=True)\n",
    " \n",
    "# plot it!\n",
    "df.groupby('age_brackets', observed=True)['donation_amount'].median().plot();"
   ]
  },
  {
   "cell_type": "markdown",
   "id": "6c2d927d-5689-49a7-ad9a-a4cf6afdec5b",
   "metadata": {},
   "source": [
    "# Summary  \n",
    "\n",
    "This tutorial focused on analyzing voter demographics and donation data to assist in election strategies. Using Pandas, various tasks were performed to uncover trends in voter donations across different states, age groups, and time periods.\n",
    "\n",
    "### Key Takeaways:\n",
    "- Learned how to merge two DataFrames (voter demographics and donations) on a common column (voter_id).\n",
    "- Calculated total donations received by each state using the `.groupby()` and `.sum()` functions.\n",
    "- Transformed the donation_date column from string to datetime format.\n",
    "- Extracted month and year from the donation_date for further analysis.\n",
    "- Visualized the median donation amounts per age bracket, discovering that the 45-54 age group contributed the most."
   ]
  },
  {
   "cell_type": "markdown",
   "id": "4175976f-1e6c-4c44-815b-194b3f1b3b90",
   "metadata": {},
   "source": [
    "<p class=\"text-muted\">This tutorial was created by <a href=\"https://www.hedaro.com\" target=\"_blank\"><strong>HEDARO</strong></a></p>"
   ]
  }
 ],
 "metadata": {
  "kernelspec": {
   "display_name": "Python 3 (ipykernel)",
   "language": "python",
   "name": "python3"
  },
  "language_info": {
   "codemirror_mode": {
    "name": "ipython",
    "version": 3
   },
   "file_extension": ".py",
   "mimetype": "text/x-python",
   "name": "python",
   "nbconvert_exporter": "python",
   "pygments_lexer": "ipython3",
   "version": "3.11.7"
  }
 },
 "nbformat": 4,
 "nbformat_minor": 5
}
