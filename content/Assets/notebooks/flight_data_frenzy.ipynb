{
 "cells": [
  {
   "cell_type": "markdown",
   "id": "db1e8c6a-556c-484f-8cc7-0c69ea0d9a48",
   "metadata": {},
   "source": [
    "# Flight Data Frenzy: Cleaning and Preparing for Takeoff  \n",
    "\n",
    "### Description:  \n",
    "As a Data Analyst at a busy airline, you're tasked with preparing a crucial dataset for analysis. However, the data is plagued by missing values, inconsistent formatting, and errors. Use Pandas to clean, transform, and prepare the dataset for takeoff, ensuring accurate insights to optimize flight operations.  \n",
    "\n",
    "### Tasks:  \n",
    "- **Missing Value Mayhem:** Identify and handle missing values in the 'DepartureTime' column, deciding whether to impute (replace missing values with an estimated value) or drop them.  \n",
    "- **Route Formatting Frenzy:** Standardize the 'Route' column, converting it to a consistent format (e.g., 'NYC-LAX' instead of 'New York to Los Angeles').  \n",
    "- **Duplicate Flight Chaos:** Remove duplicate flights while ensuring that crucial information isn't lost."
   ]
  },
  {
   "cell_type": "code",
   "execution_count": 1,
   "id": "ea5c7c2d-9f02-4839-8d91-334212db2cd3",
   "metadata": {},
   "outputs": [
    {
     "name": "stdout",
     "output_type": "stream",
     "text": [
      "Python version 3.11.7 | packaged by Anaconda, Inc. | (main, Dec 15 2023, 18:05:47) [MSC v.1916 64 bit (AMD64)]\n",
      "Pandas version 2.2.1\n",
      "Numpy version 1.26.4\n"
     ]
    }
   ],
   "source": [
    "# import libraries\n",
    "import pandas as pd\n",
    "import numpy as np\n",
    "import sys\n",
    "\n",
    "print('Python version ' + sys.version)\n",
    "print('Pandas version ' + pd.__version__)\n",
    "print('Numpy version ' + np.__version__)"
   ]
  },
  {
   "cell_type": "markdown",
   "id": "0a47d555-d5f2-4142-84d7-5755eee71cb6",
   "metadata": {},
   "source": [
    "# The Data  \n",
    "\n",
    "The dataset contains information about flights operated by an airline. It includes details such as flight ID, departure time, route, number of passengers, and crew members.    \n",
    "\n",
    "### Columns:  \n",
    "- **FlightID:** A unique identifier for each flight\n",
    "- **DepartureTime:** The scheduled departure time of each flight\n",
    "- **Route:** The route of each flight, represented as a string (e.g., 'NYC-LAX' or 'New York to Los Angeles')\n",
    "- **Passengers:** The number of passengers on each flight\n",
    "- **Crew:** The number of crew members on each flight"
   ]
  },
  {
   "cell_type": "code",
   "execution_count": 2,
   "id": "68affe3f-f075-492b-b3a3-15f56301429d",
   "metadata": {},
   "outputs": [
    {
     "data": {
      "text/html": [
       "<div>\n",
       "<style scoped>\n",
       "    .dataframe tbody tr th:only-of-type {\n",
       "        vertical-align: middle;\n",
       "    }\n",
       "\n",
       "    .dataframe tbody tr th {\n",
       "        vertical-align: top;\n",
       "    }\n",
       "\n",
       "    .dataframe thead th {\n",
       "        text-align: right;\n",
       "    }\n",
       "</style>\n",
       "<table border=\"1\" class=\"dataframe\">\n",
       "  <thead>\n",
       "    <tr style=\"text-align: right;\">\n",
       "      <th></th>\n",
       "      <th>FlightID</th>\n",
       "      <th>DepartureTime</th>\n",
       "      <th>Route</th>\n",
       "      <th>Passengers</th>\n",
       "      <th>Crew</th>\n",
       "    </tr>\n",
       "  </thead>\n",
       "  <tbody>\n",
       "    <tr>\n",
       "      <th>0</th>\n",
       "      <td>0</td>\n",
       "      <td>NaN</td>\n",
       "      <td>LAX to CHI</td>\n",
       "      <td>141</td>\n",
       "      <td>5</td>\n",
       "    </tr>\n",
       "    <tr>\n",
       "      <th>1</th>\n",
       "      <td>1</td>\n",
       "      <td>2024-01-15 12:30</td>\n",
       "      <td>LAX to CHI</td>\n",
       "      <td>123</td>\n",
       "      <td>5</td>\n",
       "    </tr>\n",
       "    <tr>\n",
       "      <th>2</th>\n",
       "      <td>2</td>\n",
       "      <td>2024-01-01 10:00</td>\n",
       "      <td>New York to Los Angeles</td>\n",
       "      <td>152</td>\n",
       "      <td>5</td>\n",
       "    </tr>\n",
       "    <tr>\n",
       "      <th>3</th>\n",
       "      <td>3</td>\n",
       "      <td>2024-01-15 12:30</td>\n",
       "      <td>LAX to CHI</td>\n",
       "      <td>123</td>\n",
       "      <td>9</td>\n",
       "    </tr>\n",
       "    <tr>\n",
       "      <th>4</th>\n",
       "      <td>4</td>\n",
       "      <td>2024-01-15 12:30</td>\n",
       "      <td>MIA to LAX</td>\n",
       "      <td>172</td>\n",
       "      <td>8</td>\n",
       "    </tr>\n",
       "  </tbody>\n",
       "</table>\n",
       "</div>"
      ],
      "text/plain": [
       "   FlightID     DepartureTime                    Route  Passengers  Crew\n",
       "0         0               NaN               LAX to CHI         141     5\n",
       "1         1  2024-01-15 12:30               LAX to CHI         123     5\n",
       "2         2  2024-01-01 10:00  New York to Los Angeles         152     5\n",
       "3         3  2024-01-15 12:30               LAX to CHI         123     9\n",
       "4         4  2024-01-15 12:30               MIA to LAX         172     8"
      ]
     },
     "execution_count": 2,
     "metadata": {},
     "output_type": "execute_result"
    }
   ],
   "source": [
    "# set the seed\n",
    "np.random.seed(0)\n",
    "\n",
    "flights = pd.DataFrame({\n",
    "    'FlightID': range(1000),\n",
    "    'DepartureTime': np.random.choice(['2024-01-01 10:00', '2024-01-15 12:30', '2024-02-01 09:00'], size=1000),\n",
    "    'Route': np.random.choice(['NYC-LAX', 'LAX-CHI', 'CHI-NYC', 'NYC-MIA', 'MIA-LAX', 'New York to Los Angeles'], size=1000),\n",
    "    'Passengers': np.random.randint(100, 200, size=1000),\n",
    "    'Crew': np.random.randint(5, 10, size=1000)\n",
    "})\n",
    "\n",
    "# introduce missing values\n",
    "flights.loc[flights.index[::5], 'DepartureTime'] = np.nan\n",
    "\n",
    "# introduce duplicates\n",
    "dupes = pd.DataFrame(flights.iloc[:50])\n",
    "flights = pd.concat([flights, dupes])\n",
    "\n",
    "# introduce formatting issues\n",
    "flights['Route'] = flights['Route'].apply(lambda x: x.replace('-', ' to '))\n",
    "\n",
    "flights.head()"
   ]
  },
  {
   "cell_type": "markdown",
   "id": "1e2aa2d4-e65b-41d3-8e37-6ed3c5950405",
   "metadata": {},
   "source": [
    "Let's start by looking at the datatypes.\n",
    "\n",
    "Here are a few observations:  \n",
    "- Departure time has null values and after they get removed we need to make sure this column gets recognized as a date object.\n",
    "- We can also see the additional 50 duplicates we added to the original dataframe."
   ]
  },
  {
   "cell_type": "code",
   "execution_count": 3,
   "id": "1e938a44-afc8-4eda-b5ef-49c385e9fd8d",
   "metadata": {},
   "outputs": [
    {
     "name": "stdout",
     "output_type": "stream",
     "text": [
      "<class 'pandas.core.frame.DataFrame'>\n",
      "Index: 1050 entries, 0 to 49\n",
      "Data columns (total 5 columns):\n",
      " #   Column         Non-Null Count  Dtype \n",
      "---  ------         --------------  ----- \n",
      " 0   FlightID       1050 non-null   int64 \n",
      " 1   DepartureTime  840 non-null    object\n",
      " 2   Route          1050 non-null   object\n",
      " 3   Passengers     1050 non-null   int32 \n",
      " 4   Crew           1050 non-null   int32 \n",
      "dtypes: int32(2), int64(1), object(2)\n",
      "memory usage: 41.0+ KB\n"
     ]
    }
   ],
   "source": [
    "flights.info()"
   ]
  },
  {
   "cell_type": "markdown",
   "id": "a4a1f8a5-acb4-4c2f-8ac1-c2d190850988",
   "metadata": {},
   "source": [
    "# Duplicates  \n",
    "\n",
    "We can take care of this issue at the beginning."
   ]
  },
  {
   "cell_type": "code",
   "execution_count": 4,
   "id": "61b865d3-225c-4565-8cb7-3f73b82ad797",
   "metadata": {},
   "outputs": [
    {
     "data": {
      "text/html": [
       "<div>\n",
       "<style scoped>\n",
       "    .dataframe tbody tr th:only-of-type {\n",
       "        vertical-align: middle;\n",
       "    }\n",
       "\n",
       "    .dataframe tbody tr th {\n",
       "        vertical-align: top;\n",
       "    }\n",
       "\n",
       "    .dataframe thead th {\n",
       "        text-align: right;\n",
       "    }\n",
       "</style>\n",
       "<table border=\"1\" class=\"dataframe\">\n",
       "  <thead>\n",
       "    <tr style=\"text-align: right;\">\n",
       "      <th></th>\n",
       "      <th>FlightID</th>\n",
       "      <th>DepartureTime</th>\n",
       "      <th>Route</th>\n",
       "      <th>Passengers</th>\n",
       "      <th>Crew</th>\n",
       "    </tr>\n",
       "  </thead>\n",
       "  <tbody>\n",
       "    <tr>\n",
       "      <th>0</th>\n",
       "      <td>0</td>\n",
       "      <td>NaN</td>\n",
       "      <td>LAX to CHI</td>\n",
       "      <td>141</td>\n",
       "      <td>5</td>\n",
       "    </tr>\n",
       "    <tr>\n",
       "      <th>1</th>\n",
       "      <td>1</td>\n",
       "      <td>2024-01-15 12:30</td>\n",
       "      <td>LAX to CHI</td>\n",
       "      <td>123</td>\n",
       "      <td>5</td>\n",
       "    </tr>\n",
       "    <tr>\n",
       "      <th>2</th>\n",
       "      <td>2</td>\n",
       "      <td>2024-01-01 10:00</td>\n",
       "      <td>New York to Los Angeles</td>\n",
       "      <td>152</td>\n",
       "      <td>5</td>\n",
       "    </tr>\n",
       "    <tr>\n",
       "      <th>3</th>\n",
       "      <td>3</td>\n",
       "      <td>2024-01-15 12:30</td>\n",
       "      <td>LAX to CHI</td>\n",
       "      <td>123</td>\n",
       "      <td>9</td>\n",
       "    </tr>\n",
       "    <tr>\n",
       "      <th>4</th>\n",
       "      <td>4</td>\n",
       "      <td>2024-01-15 12:30</td>\n",
       "      <td>MIA to LAX</td>\n",
       "      <td>172</td>\n",
       "      <td>8</td>\n",
       "    </tr>\n",
       "  </tbody>\n",
       "</table>\n",
       "</div>"
      ],
      "text/plain": [
       "   FlightID     DepartureTime                    Route  Passengers  Crew\n",
       "0         0               NaN               LAX to CHI         141     5\n",
       "1         1  2024-01-15 12:30               LAX to CHI         123     5\n",
       "2         2  2024-01-01 10:00  New York to Los Angeles         152     5\n",
       "3         3  2024-01-15 12:30               LAX to CHI         123     9\n",
       "4         4  2024-01-15 12:30               MIA to LAX         172     8"
      ]
     },
     "execution_count": 4,
     "metadata": {},
     "output_type": "execute_result"
    }
   ],
   "source": [
    "# identify the dupes\n",
    "flights[flights.duplicated()].head()"
   ]
  },
  {
   "cell_type": "markdown",
   "id": "a71c3bc1-bf96-4034-8643-651e92d8b885",
   "metadata": {},
   "source": [
    "Let me show you one of the duplicates."
   ]
  },
  {
   "cell_type": "code",
   "execution_count": 5,
   "id": "563d493e-3c16-46d6-8689-51ed06ad7db0",
   "metadata": {},
   "outputs": [
    {
     "data": {
      "text/html": [
       "<div>\n",
       "<style scoped>\n",
       "    .dataframe tbody tr th:only-of-type {\n",
       "        vertical-align: middle;\n",
       "    }\n",
       "\n",
       "    .dataframe tbody tr th {\n",
       "        vertical-align: top;\n",
       "    }\n",
       "\n",
       "    .dataframe thead th {\n",
       "        text-align: right;\n",
       "    }\n",
       "</style>\n",
       "<table border=\"1\" class=\"dataframe\">\n",
       "  <thead>\n",
       "    <tr style=\"text-align: right;\">\n",
       "      <th></th>\n",
       "      <th>FlightID</th>\n",
       "      <th>DepartureTime</th>\n",
       "      <th>Route</th>\n",
       "      <th>Passengers</th>\n",
       "      <th>Crew</th>\n",
       "    </tr>\n",
       "  </thead>\n",
       "  <tbody>\n",
       "    <tr>\n",
       "      <th>0</th>\n",
       "      <td>0</td>\n",
       "      <td>NaN</td>\n",
       "      <td>LAX to CHI</td>\n",
       "      <td>141</td>\n",
       "      <td>5</td>\n",
       "    </tr>\n",
       "    <tr>\n",
       "      <th>0</th>\n",
       "      <td>0</td>\n",
       "      <td>NaN</td>\n",
       "      <td>LAX to CHI</td>\n",
       "      <td>141</td>\n",
       "      <td>5</td>\n",
       "    </tr>\n",
       "  </tbody>\n",
       "</table>\n",
       "</div>"
      ],
      "text/plain": [
       "   FlightID DepartureTime       Route  Passengers  Crew\n",
       "0         0           NaN  LAX to CHI         141     5\n",
       "0         0           NaN  LAX to CHI         141     5"
      ]
     },
     "execution_count": 5,
     "metadata": {},
     "output_type": "execute_result"
    }
   ],
   "source": [
    "flights[flights['FlightID'] == 0]"
   ]
  },
  {
   "cell_type": "markdown",
   "id": "5619d8d6-8947-425a-a0af-1ad4d2cceb77",
   "metadata": {},
   "source": [
    "Here is how you can see all of them at once."
   ]
  },
  {
   "cell_type": "code",
   "execution_count": 6,
   "id": "976cb6fb-7f5b-46bb-b752-47b143448ad2",
   "metadata": {},
   "outputs": [
    {
     "data": {
      "text/html": [
       "<div>\n",
       "<style scoped>\n",
       "    .dataframe tbody tr th:only-of-type {\n",
       "        vertical-align: middle;\n",
       "    }\n",
       "\n",
       "    .dataframe tbody tr th {\n",
       "        vertical-align: top;\n",
       "    }\n",
       "\n",
       "    .dataframe thead th {\n",
       "        text-align: right;\n",
       "    }\n",
       "</style>\n",
       "<table border=\"1\" class=\"dataframe\">\n",
       "  <thead>\n",
       "    <tr style=\"text-align: right;\">\n",
       "      <th></th>\n",
       "      <th>FlightID</th>\n",
       "      <th>DepartureTime</th>\n",
       "      <th>Route</th>\n",
       "      <th>Passengers</th>\n",
       "      <th>Crew</th>\n",
       "    </tr>\n",
       "  </thead>\n",
       "  <tbody>\n",
       "    <tr>\n",
       "      <th>0</th>\n",
       "      <td>0</td>\n",
       "      <td>NaN</td>\n",
       "      <td>LAX to CHI</td>\n",
       "      <td>141</td>\n",
       "      <td>5</td>\n",
       "    </tr>\n",
       "    <tr>\n",
       "      <th>0</th>\n",
       "      <td>0</td>\n",
       "      <td>NaN</td>\n",
       "      <td>LAX to CHI</td>\n",
       "      <td>141</td>\n",
       "      <td>5</td>\n",
       "    </tr>\n",
       "    <tr>\n",
       "      <th>1</th>\n",
       "      <td>1</td>\n",
       "      <td>2024-01-15 12:30</td>\n",
       "      <td>LAX to CHI</td>\n",
       "      <td>123</td>\n",
       "      <td>5</td>\n",
       "    </tr>\n",
       "    <tr>\n",
       "      <th>1</th>\n",
       "      <td>1</td>\n",
       "      <td>2024-01-15 12:30</td>\n",
       "      <td>LAX to CHI</td>\n",
       "      <td>123</td>\n",
       "      <td>5</td>\n",
       "    </tr>\n",
       "    <tr>\n",
       "      <th>2</th>\n",
       "      <td>2</td>\n",
       "      <td>2024-01-01 10:00</td>\n",
       "      <td>New York to Los Angeles</td>\n",
       "      <td>152</td>\n",
       "      <td>5</td>\n",
       "    </tr>\n",
       "    <tr>\n",
       "      <th>...</th>\n",
       "      <td>...</td>\n",
       "      <td>...</td>\n",
       "      <td>...</td>\n",
       "      <td>...</td>\n",
       "      <td>...</td>\n",
       "    </tr>\n",
       "    <tr>\n",
       "      <th>47</th>\n",
       "      <td>47</td>\n",
       "      <td>2024-01-15 12:30</td>\n",
       "      <td>MIA to LAX</td>\n",
       "      <td>157</td>\n",
       "      <td>7</td>\n",
       "    </tr>\n",
       "    <tr>\n",
       "      <th>48</th>\n",
       "      <td>48</td>\n",
       "      <td>2024-02-01 09:00</td>\n",
       "      <td>New York to Los Angeles</td>\n",
       "      <td>168</td>\n",
       "      <td>8</td>\n",
       "    </tr>\n",
       "    <tr>\n",
       "      <th>48</th>\n",
       "      <td>48</td>\n",
       "      <td>2024-02-01 09:00</td>\n",
       "      <td>New York to Los Angeles</td>\n",
       "      <td>168</td>\n",
       "      <td>8</td>\n",
       "    </tr>\n",
       "    <tr>\n",
       "      <th>49</th>\n",
       "      <td>49</td>\n",
       "      <td>2024-01-01 10:00</td>\n",
       "      <td>NYC to MIA</td>\n",
       "      <td>145</td>\n",
       "      <td>5</td>\n",
       "    </tr>\n",
       "    <tr>\n",
       "      <th>49</th>\n",
       "      <td>49</td>\n",
       "      <td>2024-01-01 10:00</td>\n",
       "      <td>NYC to MIA</td>\n",
       "      <td>145</td>\n",
       "      <td>5</td>\n",
       "    </tr>\n",
       "  </tbody>\n",
       "</table>\n",
       "<p>1150 rows × 5 columns</p>\n",
       "</div>"
      ],
      "text/plain": [
       "    FlightID     DepartureTime                    Route  Passengers  Crew\n",
       "0          0               NaN               LAX to CHI         141     5\n",
       "0          0               NaN               LAX to CHI         141     5\n",
       "1          1  2024-01-15 12:30               LAX to CHI         123     5\n",
       "1          1  2024-01-15 12:30               LAX to CHI         123     5\n",
       "2          2  2024-01-01 10:00  New York to Los Angeles         152     5\n",
       "..       ...               ...                      ...         ...   ...\n",
       "47        47  2024-01-15 12:30               MIA to LAX         157     7\n",
       "48        48  2024-02-01 09:00  New York to Los Angeles         168     8\n",
       "48        48  2024-02-01 09:00  New York to Los Angeles         168     8\n",
       "49        49  2024-01-01 10:00               NYC to MIA         145     5\n",
       "49        49  2024-01-01 10:00               NYC to MIA         145     5\n",
       "\n",
       "[1150 rows x 5 columns]"
      ]
     },
     "execution_count": 6,
     "metadata": {},
     "output_type": "execute_result"
    }
   ],
   "source": [
    "flights.loc[flights.duplicated().index,:]"
   ]
  },
  {
   "cell_type": "code",
   "execution_count": 7,
   "id": "b46f36c0-a1d9-4fec-a957-2053587cb828",
   "metadata": {},
   "outputs": [],
   "source": [
    "# drop duplicates\n",
    "flights = flights.drop_duplicates()"
   ]
  },
  {
   "cell_type": "markdown",
   "id": "5fa75a57-f6b5-4dab-a09b-9dad235ed587",
   "metadata": {},
   "source": [
    "# Missing Value Mayhem:  \n",
    "\n",
    "Identify and handle missing values in the 'DepartureTime' column, deciding whether to impute (replace missing values with an estimated value) or drop them.  \n",
    "\n",
    "This one is a bit tricky since we are working with synthetic data. Let's see if we can make a guess on what the correct departure time for the ones that have missing values.  \n",
    "\n",
    "We can see from the `describe()` method that there are only 3 dates."
   ]
  },
  {
   "cell_type": "code",
   "execution_count": 8,
   "id": "1d4acfcb-352f-41b4-be7a-6d24950b5efd",
   "metadata": {},
   "outputs": [
    {
     "data": {
      "text/plain": [
       "count                  800\n",
       "unique                   3\n",
       "top       2024-01-15 12:30\n",
       "freq                   275\n",
       "Name: DepartureTime, dtype: object"
      ]
     },
     "execution_count": 8,
     "metadata": {},
     "output_type": "execute_result"
    }
   ],
   "source": [
    "flights['DepartureTime'].describe()"
   ]
  },
  {
   "cell_type": "markdown",
   "id": "cb99f7c2-c4d1-4115-94b6-b5ff3a6f873a",
   "metadata": {},
   "source": [
    "The three dates are:  \n",
    "- January 1st  \n",
    "- January 15th\n",
    "- February 1st"
   ]
  },
  {
   "cell_type": "code",
   "execution_count": 9,
   "id": "a568fabe-d3af-4d3a-884a-028e29ea3387",
   "metadata": {},
   "outputs": [
    {
     "data": {
      "text/plain": [
       "array([nan, '2024-01-15 12:30', '2024-01-01 10:00', '2024-02-01 09:00'],\n",
       "      dtype=object)"
      ]
     },
     "execution_count": 9,
     "metadata": {},
     "output_type": "execute_result"
    }
   ],
   "source": [
    "flights['DepartureTime'].unique()"
   ]
  },
  {
   "cell_type": "markdown",
   "id": "d684469d-e830-40c8-8d51-c7c2258eb317",
   "metadata": {},
   "source": [
    "The flight times do not seem to be related to the flight id value. Let's move on for the moment and clean up the Route column."
   ]
  },
  {
   "cell_type": "code",
   "execution_count": 10,
   "id": "a420b7c6-1412-4df9-bdfd-334c7a9caf75",
   "metadata": {},
   "outputs": [
    {
     "data": {
      "text/html": [
       "<div>\n",
       "<style scoped>\n",
       "    .dataframe tbody tr th:only-of-type {\n",
       "        vertical-align: middle;\n",
       "    }\n",
       "\n",
       "    .dataframe tbody tr th {\n",
       "        vertical-align: top;\n",
       "    }\n",
       "\n",
       "    .dataframe thead th {\n",
       "        text-align: right;\n",
       "    }\n",
       "</style>\n",
       "<table border=\"1\" class=\"dataframe\">\n",
       "  <thead>\n",
       "    <tr style=\"text-align: right;\">\n",
       "      <th></th>\n",
       "      <th>FlightID</th>\n",
       "      <th>DepartureTime</th>\n",
       "      <th>Route</th>\n",
       "      <th>Passengers</th>\n",
       "      <th>Crew</th>\n",
       "    </tr>\n",
       "  </thead>\n",
       "  <tbody>\n",
       "    <tr>\n",
       "      <th>0</th>\n",
       "      <td>0</td>\n",
       "      <td>NaN</td>\n",
       "      <td>LAX to CHI</td>\n",
       "      <td>141</td>\n",
       "      <td>5</td>\n",
       "    </tr>\n",
       "    <tr>\n",
       "      <th>1</th>\n",
       "      <td>1</td>\n",
       "      <td>2024-01-15 12:30</td>\n",
       "      <td>LAX to CHI</td>\n",
       "      <td>123</td>\n",
       "      <td>5</td>\n",
       "    </tr>\n",
       "    <tr>\n",
       "      <th>2</th>\n",
       "      <td>2</td>\n",
       "      <td>2024-01-01 10:00</td>\n",
       "      <td>New York to Los Angeles</td>\n",
       "      <td>152</td>\n",
       "      <td>5</td>\n",
       "    </tr>\n",
       "    <tr>\n",
       "      <th>3</th>\n",
       "      <td>3</td>\n",
       "      <td>2024-01-15 12:30</td>\n",
       "      <td>LAX to CHI</td>\n",
       "      <td>123</td>\n",
       "      <td>9</td>\n",
       "    </tr>\n",
       "    <tr>\n",
       "      <th>4</th>\n",
       "      <td>4</td>\n",
       "      <td>2024-01-15 12:30</td>\n",
       "      <td>MIA to LAX</td>\n",
       "      <td>172</td>\n",
       "      <td>8</td>\n",
       "    </tr>\n",
       "    <tr>\n",
       "      <th>5</th>\n",
       "      <td>5</td>\n",
       "      <td>NaN</td>\n",
       "      <td>New York to Los Angeles</td>\n",
       "      <td>141</td>\n",
       "      <td>6</td>\n",
       "    </tr>\n",
       "    <tr>\n",
       "      <th>6</th>\n",
       "      <td>6</td>\n",
       "      <td>2024-01-01 10:00</td>\n",
       "      <td>MIA to LAX</td>\n",
       "      <td>160</td>\n",
       "      <td>7</td>\n",
       "    </tr>\n",
       "    <tr>\n",
       "      <th>7</th>\n",
       "      <td>7</td>\n",
       "      <td>2024-02-01 09:00</td>\n",
       "      <td>MIA to LAX</td>\n",
       "      <td>147</td>\n",
       "      <td>7</td>\n",
       "    </tr>\n",
       "    <tr>\n",
       "      <th>8</th>\n",
       "      <td>8</td>\n",
       "      <td>2024-01-01 10:00</td>\n",
       "      <td>CHI to NYC</td>\n",
       "      <td>115</td>\n",
       "      <td>5</td>\n",
       "    </tr>\n",
       "    <tr>\n",
       "      <th>9</th>\n",
       "      <td>9</td>\n",
       "      <td>2024-01-01 10:00</td>\n",
       "      <td>NYC to MIA</td>\n",
       "      <td>136</td>\n",
       "      <td>6</td>\n",
       "    </tr>\n",
       "  </tbody>\n",
       "</table>\n",
       "</div>"
      ],
      "text/plain": [
       "   FlightID     DepartureTime                    Route  Passengers  Crew\n",
       "0         0               NaN               LAX to CHI         141     5\n",
       "1         1  2024-01-15 12:30               LAX to CHI         123     5\n",
       "2         2  2024-01-01 10:00  New York to Los Angeles         152     5\n",
       "3         3  2024-01-15 12:30               LAX to CHI         123     9\n",
       "4         4  2024-01-15 12:30               MIA to LAX         172     8\n",
       "5         5               NaN  New York to Los Angeles         141     6\n",
       "6         6  2024-01-01 10:00               MIA to LAX         160     7\n",
       "7         7  2024-02-01 09:00               MIA to LAX         147     7\n",
       "8         8  2024-01-01 10:00               CHI to NYC         115     5\n",
       "9         9  2024-01-01 10:00               NYC to MIA         136     6"
      ]
     },
     "execution_count": 10,
     "metadata": {},
     "output_type": "execute_result"
    }
   ],
   "source": [
    "flights.head(10)"
   ]
  },
  {
   "cell_type": "markdown",
   "id": "4e288846-123a-423a-83c9-cfb2a491e195",
   "metadata": {},
   "source": [
    "# Route Formatting Frenzy:  \n",
    "\n",
    "Standardize the 'Route' column, converting it to a consistent format (e.g., 'NYC-LAX' instead of 'New York to Los Angeles').\n",
    "\n",
    "We will have to create a custom function that clean the data for us."
   ]
  },
  {
   "cell_type": "code",
   "execution_count": 11,
   "id": "e9d0ace6-34a6-427d-af94-67c13daa5164",
   "metadata": {},
   "outputs": [
    {
     "data": {
      "text/plain": [
       "array(['LAX-CHI', 'NYC-LAX', 'MIA-LAX', 'CHI-NYC', 'NYC-MIA'],\n",
       "      dtype=object)"
      ]
     },
     "execution_count": 11,
     "metadata": {},
     "output_type": "execute_result"
    }
   ],
   "source": [
    "def clean_column(value):\n",
    "    ''' identify pattern and clean up  \n",
    "    '''\n",
    "    value = value.replace('New York', 'NYC')\n",
    "    value = value.replace('Los Angeles', 'LAX')\n",
    "    value = value.replace(' to ', '-')\n",
    "    return value\n",
    "\n",
    "flights.loc[:,'Route'] = flights['Route'].apply(clean_column)\n",
    "flights['Route'].unique()"
   ]
  },
  {
   "cell_type": "markdown",
   "id": "da0f928c-2450-48b0-bb49-3e064ac1a4bd",
   "metadata": {},
   "source": [
    "Now let's go back to the missing departure time rows. Let's see if we can find a pattern between routes and departure times."
   ]
  },
  {
   "cell_type": "code",
   "execution_count": 12,
   "id": "351824ab-23bc-45d7-8b79-8419495e005f",
   "metadata": {},
   "outputs": [
    {
     "data": {
      "text/plain": [
       "Route    DepartureTime   \n",
       "CHI-NYC  2024-01-01 10:00    34\n",
       "         2024-01-15 12:30    54\n",
       "         2024-02-01 09:00    51\n",
       "LAX-CHI  2024-01-01 10:00    43\n",
       "         2024-01-15 12:30    42\n",
       "         2024-02-01 09:00    41\n",
       "MIA-LAX  2024-01-01 10:00    42\n",
       "         2024-01-15 12:30    35\n",
       "         2024-02-01 09:00    44\n",
       "NYC-LAX  2024-01-01 10:00    92\n",
       "         2024-01-15 12:30    89\n",
       "         2024-02-01 09:00    82\n",
       "NYC-MIA  2024-01-01 10:00    50\n",
       "         2024-01-15 12:30    55\n",
       "         2024-02-01 09:00    46\n",
       "Name: Flights, dtype: int64"
      ]
     },
     "execution_count": 12,
     "metadata": {},
     "output_type": "execute_result"
    }
   ],
   "source": [
    "group = flights.groupby(['Route','DepartureTime'])\n",
    "\n",
    "grp1 = group.count()['FlightID'].rename('Flights')\n",
    "grp1"
   ]
  },
  {
   "cell_type": "markdown",
   "id": "995945f3-fb93-417b-b223-1aa5a8e0a355",
   "metadata": {},
   "source": [
    "Here are the missing flights for all the routes."
   ]
  },
  {
   "cell_type": "code",
   "execution_count": 13,
   "id": "535ab10b-b7f0-4463-8c29-e6ecc65ef9ff",
   "metadata": {},
   "outputs": [
    {
     "data": {
      "text/plain": [
       "Route\n",
       "CHI-NYC    27\n",
       "LAX-CHI    41\n",
       "MIA-LAX    35\n",
       "NYC-LAX    63\n",
       "NYC-MIA    34\n",
       "Name: FlightsMissing, dtype: int64"
      ]
     },
     "execution_count": 13,
     "metadata": {},
     "output_type": "execute_result"
    }
   ],
   "source": [
    "missing = flights['DepartureTime'].isna()\n",
    "group = flights[missing].groupby('Route')\n",
    "\n",
    "grp2 = group.count()['FlightID'].rename('FlightsMissing')\n",
    "grp2"
   ]
  },
  {
   "cell_type": "markdown",
   "id": "c6a88c5f-1357-4e10-a7df-d32cc1d13a21",
   "metadata": {},
   "source": [
    "Looking at the data below, I am not really seeing a pattern we can use to fill in the missing departure times."
   ]
  },
  {
   "cell_type": "code",
   "execution_count": 14,
   "id": "53aba9be-fa63-4b03-a40f-8b54bf900289",
   "metadata": {},
   "outputs": [
    {
     "data": {
      "text/html": [
       "<div>\n",
       "<style scoped>\n",
       "    .dataframe tbody tr th:only-of-type {\n",
       "        vertical-align: middle;\n",
       "    }\n",
       "\n",
       "    .dataframe tbody tr th {\n",
       "        vertical-align: top;\n",
       "    }\n",
       "\n",
       "    .dataframe thead th {\n",
       "        text-align: right;\n",
       "    }\n",
       "</style>\n",
       "<table border=\"1\" class=\"dataframe\">\n",
       "  <thead>\n",
       "    <tr style=\"text-align: right;\">\n",
       "      <th></th>\n",
       "      <th></th>\n",
       "      <th>Flights</th>\n",
       "      <th>FlightsMissing</th>\n",
       "    </tr>\n",
       "    <tr>\n",
       "      <th>Route</th>\n",
       "      <th>DepartureTime</th>\n",
       "      <th></th>\n",
       "      <th></th>\n",
       "    </tr>\n",
       "  </thead>\n",
       "  <tbody>\n",
       "    <tr>\n",
       "      <th rowspan=\"3\" valign=\"top\">CHI-NYC</th>\n",
       "      <th>2024-01-01 10:00</th>\n",
       "      <td>34</td>\n",
       "      <td>27</td>\n",
       "    </tr>\n",
       "    <tr>\n",
       "      <th>2024-01-15 12:30</th>\n",
       "      <td>54</td>\n",
       "      <td>27</td>\n",
       "    </tr>\n",
       "    <tr>\n",
       "      <th>2024-02-01 09:00</th>\n",
       "      <td>51</td>\n",
       "      <td>27</td>\n",
       "    </tr>\n",
       "    <tr>\n",
       "      <th rowspan=\"3\" valign=\"top\">LAX-CHI</th>\n",
       "      <th>2024-01-01 10:00</th>\n",
       "      <td>43</td>\n",
       "      <td>41</td>\n",
       "    </tr>\n",
       "    <tr>\n",
       "      <th>2024-01-15 12:30</th>\n",
       "      <td>42</td>\n",
       "      <td>41</td>\n",
       "    </tr>\n",
       "    <tr>\n",
       "      <th>2024-02-01 09:00</th>\n",
       "      <td>41</td>\n",
       "      <td>41</td>\n",
       "    </tr>\n",
       "    <tr>\n",
       "      <th rowspan=\"3\" valign=\"top\">MIA-LAX</th>\n",
       "      <th>2024-01-01 10:00</th>\n",
       "      <td>42</td>\n",
       "      <td>35</td>\n",
       "    </tr>\n",
       "    <tr>\n",
       "      <th>2024-01-15 12:30</th>\n",
       "      <td>35</td>\n",
       "      <td>35</td>\n",
       "    </tr>\n",
       "    <tr>\n",
       "      <th>2024-02-01 09:00</th>\n",
       "      <td>44</td>\n",
       "      <td>35</td>\n",
       "    </tr>\n",
       "    <tr>\n",
       "      <th rowspan=\"3\" valign=\"top\">NYC-LAX</th>\n",
       "      <th>2024-01-01 10:00</th>\n",
       "      <td>92</td>\n",
       "      <td>63</td>\n",
       "    </tr>\n",
       "    <tr>\n",
       "      <th>2024-01-15 12:30</th>\n",
       "      <td>89</td>\n",
       "      <td>63</td>\n",
       "    </tr>\n",
       "    <tr>\n",
       "      <th>2024-02-01 09:00</th>\n",
       "      <td>82</td>\n",
       "      <td>63</td>\n",
       "    </tr>\n",
       "    <tr>\n",
       "      <th rowspan=\"3\" valign=\"top\">NYC-MIA</th>\n",
       "      <th>2024-01-01 10:00</th>\n",
       "      <td>50</td>\n",
       "      <td>34</td>\n",
       "    </tr>\n",
       "    <tr>\n",
       "      <th>2024-01-15 12:30</th>\n",
       "      <td>55</td>\n",
       "      <td>34</td>\n",
       "    </tr>\n",
       "    <tr>\n",
       "      <th>2024-02-01 09:00</th>\n",
       "      <td>46</td>\n",
       "      <td>34</td>\n",
       "    </tr>\n",
       "  </tbody>\n",
       "</table>\n",
       "</div>"
      ],
      "text/plain": [
       "                          Flights  FlightsMissing\n",
       "Route   DepartureTime                            \n",
       "CHI-NYC 2024-01-01 10:00       34              27\n",
       "        2024-01-15 12:30       54              27\n",
       "        2024-02-01 09:00       51              27\n",
       "LAX-CHI 2024-01-01 10:00       43              41\n",
       "        2024-01-15 12:30       42              41\n",
       "        2024-02-01 09:00       41              41\n",
       "MIA-LAX 2024-01-01 10:00       42              35\n",
       "        2024-01-15 12:30       35              35\n",
       "        2024-02-01 09:00       44              35\n",
       "NYC-LAX 2024-01-01 10:00       92              63\n",
       "        2024-01-15 12:30       89              63\n",
       "        2024-02-01 09:00       82              63\n",
       "NYC-MIA 2024-01-01 10:00       50              34\n",
       "        2024-01-15 12:30       55              34\n",
       "        2024-02-01 09:00       46              34"
      ]
     },
     "execution_count": 14,
     "metadata": {},
     "output_type": "execute_result"
    }
   ],
   "source": [
    "pd.merge(grp1, grp2, left_index=True, right_index=True)"
   ]
  },
  {
   "cell_type": "markdown",
   "id": "ab15c117-0cf9-445d-9569-f183c633db15",
   "metadata": {},
   "source": [
    "# Conclusion  \n",
    "In this tutorial, we tackled the task of cleaning and preparing a dataset for analysis as a Data Analyst at a busy airline. We identified and addressed several issues, including:  \n",
    "\n",
    "- Analyzed missing values in the 'DepartureTime' column\n",
    "- Standardized the formatting in the 'Route' column\n",
    "- Removed duplicate flights\n",
    "\n",
    "By the end of this tutorial, we successfully removed duplicates, standardized the 'Route' column, and explored the missing values in the 'DepartureTime' column, although we didn't find a clear pattern to impute the missing values.\n",
    "\n",
    "### Can you find a pattern and fill in the missing Departure Times?"
   ]
  },
  {
   "cell_type": "markdown",
   "id": "e56e7c7b-c4a2-4789-9272-f1d17a9463d8",
   "metadata": {},
   "source": [
    "<p class=\"text-muted\">This tutorial was created by <a href=\"https://www.hedaro.com\" target=\"_blank\"><strong>HEDARO</strong></a></p>"
   ]
  }
 ],
 "metadata": {
  "kernelspec": {
   "display_name": "Python 3 (ipykernel)",
   "language": "python",
   "name": "python3"
  },
  "language_info": {
   "codemirror_mode": {
    "name": "ipython",
    "version": 3
   },
   "file_extension": ".py",
   "mimetype": "text/x-python",
   "name": "python",
   "nbconvert_exporter": "python",
   "pygments_lexer": "ipython3",
   "version": "3.11.7"
  }
 },
 "nbformat": 4,
 "nbformat_minor": 5
}
