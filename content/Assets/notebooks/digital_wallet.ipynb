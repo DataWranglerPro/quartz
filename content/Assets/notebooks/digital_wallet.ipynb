{
 "cells": [
  {
   "cell_type": "markdown",
   "id": "7f9a1135-faf1-4462-bc48-715b1acdf8a3",
   "metadata": {},
   "source": [
    "# Digital Wallet Data Challenge  \n",
    "\n",
    "### Description:  \n",
    "You're a fintech professional working for a digital wallet company. Your company has partnered with several merchants to offer exclusive discounts to customers. However, the data team has been struggling to consolidate the discount offers and customer transactions efficiently. The current process involves manually merging and transforming data from different sources, leading to errors and delays. Your task is to develop a robust Pandas solution to streamline the data processing pipeline.\n",
    "\n",
    "### Tasks:\n",
    "- **Data Merging:** Merge two datasets, discount_offers and customer_transactions, based on the merchant_id column. Ensure the merged dataset retains all columns from both tables.\n",
    "- **Data Transformation:** Convert the discount_start_date and discount_end_date columns from string format (YYYY-MM-DD) to datetime format. Then, calculate the duration of each discount offer in days.\n",
    "- **Data Reshaping:** Pivot the merged dataset to create a new table with merchant_id as the index, discount_type as columns, and the corresponding discount_duration values."
   ]
  },
  {
   "cell_type": "code",
   "execution_count": 1,
   "id": "199a2b0e-1e1c-49e0-9629-eb77939bfa11",
   "metadata": {},
   "outputs": [
    {
     "name": "stdout",
     "output_type": "stream",
     "text": [
      "Python version 3.11.7 | packaged by Anaconda, Inc. | (main, Dec 15 2023, 18:05:47) [MSC v.1916 64 bit (AMD64)]\n",
      "Pandas version 2.2.1\n",
      "Numpy version 1.26.4\n"
     ]
    }
   ],
   "source": [
    "# import libraries\n",
    "import pandas as pd\n",
    "import numpy as np\n",
    "import sys\n",
    "\n",
    "print('Python version ' + sys.version)\n",
    "print('Pandas version ' + pd.__version__)\n",
    "print('Numpy version ' + np.__version__)"
   ]
  },
  {
   "cell_type": "markdown",
   "id": "8a26d0a2-6346-4f37-ba88-dd4a3af25782",
   "metadata": {},
   "source": [
    "# The Data  \n",
    "\n",
    "**Discount Offers Dataset:** This dataset contains information about exclusive discounts offered by various merchants, including the type of discount, start and end dates, and the associated merchant ID. It has 1000 rows and 4 columns.  \n",
    "\n",
    "**Customer Transactions Dataset:** This dataset contains transactional data for customers, including the merchant ID, customer ID, transaction date, and transaction amount, with 5000 rows and 4 columns, representing purchases made by customers at different merchants.  \n",
    "\n",
    "### Columns:  \n",
    "\n",
    "The **discount_offers** dataset contains 1000 rows and 4 columns:\n",
    "- **merchant_id (int):** Unique identifier for each merchant\n",
    "- **discount_type (str):** Type of discount offered (percentage or fixed)\n",
    "- **discount_start_date (str):** Start date of the discount offer (YYYY-MM-DD)\n",
    "- **discount_end_date (str):** End date of the discount offer (YYYY-MM-DD)\n",
    "\n",
    "The **customer_transactions** dataset contains 5000 rows and 4 columns:\n",
    "- **merchant_id (int):** Unique identifier for each merchant\n",
    "- **customer_id (int):** Unique identifier for each customer\n",
    "- **transaction_date (str):** Date of the transaction (YYYY-MM-DD)\n",
    "- **transaction_amount (float):** Amount of the transaction"
   ]
  },
  {
   "cell_type": "code",
   "execution_count": 2,
   "id": "b2ab8ccf-d526-4bf8-b3ab-51cf28e1cee9",
   "metadata": {},
   "outputs": [],
   "source": [
    "# set the seed\n",
    "np.random.seed(0)\n",
    "\n",
    "# generate discount_offers dataset\n",
    "discount_offers = pd.DataFrame({\n",
    "    'merchant_id': np.random.randint(1, 100, size=1000),\n",
    "    'discount_type': np.random.choice(['percentage', 'fixed'], size=1000),\n",
    "    'discount_start_date': pd.date_range('2022-01-01', periods=1000).strftime('%Y-%m-%d'),\n",
    "    'discount_end_date': pd.date_range('2022-01-15', periods=1000).strftime('%Y-%m-%d')\n",
    "})\n",
    "\n",
    "# generate customer_transactions dataset\n",
    "customer_transactions = pd.DataFrame({\n",
    "    'merchant_id': np.random.randint(1, 100, size=5000),\n",
    "    'customer_id': np.random.randint(1, 1000, size=5000),\n",
    "    'transaction_date': pd.date_range('2022-01-01', periods=5000).strftime('%Y-%m-%d'),\n",
    "    'transaction_amount': np.random.uniform(10, 100, size=5000)\n",
    "})"
   ]
  },
  {
   "cell_type": "markdown",
   "id": "c9024337-4d73-4a77-bf74-a500585079fd",
   "metadata": {},
   "source": [
    "Let us take a look at the data types.\n",
    "\n",
    "The date columns on both dataframes are not of type datetime, we will need to fix this as we work through the tasks."
   ]
  },
  {
   "cell_type": "code",
   "execution_count": 3,
   "id": "1f431c1f-609b-4241-903a-bedde477c0c1",
   "metadata": {},
   "outputs": [
    {
     "name": "stdout",
     "output_type": "stream",
     "text": [
      "<class 'pandas.core.frame.DataFrame'>\n",
      "RangeIndex: 1000 entries, 0 to 999\n",
      "Data columns (total 4 columns):\n",
      " #   Column               Non-Null Count  Dtype \n",
      "---  ------               --------------  ----- \n",
      " 0   merchant_id          1000 non-null   int32 \n",
      " 1   discount_type        1000 non-null   object\n",
      " 2   discount_start_date  1000 non-null   object\n",
      " 3   discount_end_date    1000 non-null   object\n",
      "dtypes: int32(1), object(3)\n",
      "memory usage: 27.5+ KB\n"
     ]
    }
   ],
   "source": [
    "discount_offers.info()"
   ]
  },
  {
   "cell_type": "code",
   "execution_count": 4,
   "id": "5a1156a7-48dd-46c9-879a-a2249cbafa14",
   "metadata": {},
   "outputs": [
    {
     "name": "stdout",
     "output_type": "stream",
     "text": [
      "<class 'pandas.core.frame.DataFrame'>\n",
      "RangeIndex: 5000 entries, 0 to 4999\n",
      "Data columns (total 4 columns):\n",
      " #   Column              Non-Null Count  Dtype  \n",
      "---  ------              --------------  -----  \n",
      " 0   merchant_id         5000 non-null   int32  \n",
      " 1   customer_id         5000 non-null   int32  \n",
      " 2   transaction_date    5000 non-null   object \n",
      " 3   transaction_amount  5000 non-null   float64\n",
      "dtypes: float64(1), int32(2), object(1)\n",
      "memory usage: 117.3+ KB\n"
     ]
    }
   ],
   "source": [
    "customer_transactions.info()"
   ]
  },
  {
   "cell_type": "markdown",
   "id": "017fb9a3-8a95-46a9-975f-3abc04590476",
   "metadata": {},
   "source": [
    "# Data Merging  \n",
    "\n",
    "Merge two datasets, discount_offers and customer_transactions, based on the merchant_id column. Ensure the merged dataset retains all columns from both tables."
   ]
  },
  {
   "cell_type": "code",
   "execution_count": 5,
   "id": "ae08687d-e011-41d5-b57a-077a90e8cb1b",
   "metadata": {},
   "outputs": [
    {
     "data": {
      "text/html": [
       "<div>\n",
       "<style scoped>\n",
       "    .dataframe tbody tr th:only-of-type {\n",
       "        vertical-align: middle;\n",
       "    }\n",
       "\n",
       "    .dataframe tbody tr th {\n",
       "        vertical-align: top;\n",
       "    }\n",
       "\n",
       "    .dataframe thead th {\n",
       "        text-align: right;\n",
       "    }\n",
       "</style>\n",
       "<table border=\"1\" class=\"dataframe\">\n",
       "  <thead>\n",
       "    <tr style=\"text-align: right;\">\n",
       "      <th></th>\n",
       "      <th>merchant_id</th>\n",
       "      <th>customer_id</th>\n",
       "      <th>transaction_date</th>\n",
       "      <th>transaction_amount</th>\n",
       "      <th>discount_type</th>\n",
       "      <th>discount_start_date</th>\n",
       "      <th>discount_end_date</th>\n",
       "    </tr>\n",
       "  </thead>\n",
       "  <tbody>\n",
       "    <tr>\n",
       "      <th>0</th>\n",
       "      <td>16</td>\n",
       "      <td>572</td>\n",
       "      <td>2022-01-01</td>\n",
       "      <td>30.199690</td>\n",
       "      <td>fixed</td>\n",
       "      <td>2022-03-31</td>\n",
       "      <td>2022-04-14</td>\n",
       "    </tr>\n",
       "    <tr>\n",
       "      <th>1</th>\n",
       "      <td>16</td>\n",
       "      <td>572</td>\n",
       "      <td>2022-01-01</td>\n",
       "      <td>30.199690</td>\n",
       "      <td>fixed</td>\n",
       "      <td>2023-08-24</td>\n",
       "      <td>2023-09-07</td>\n",
       "    </tr>\n",
       "    <tr>\n",
       "      <th>2</th>\n",
       "      <td>16</td>\n",
       "      <td>572</td>\n",
       "      <td>2022-01-01</td>\n",
       "      <td>30.199690</td>\n",
       "      <td>fixed</td>\n",
       "      <td>2024-03-14</td>\n",
       "      <td>2024-03-28</td>\n",
       "    </tr>\n",
       "    <tr>\n",
       "      <th>3</th>\n",
       "      <td>16</td>\n",
       "      <td>572</td>\n",
       "      <td>2022-01-01</td>\n",
       "      <td>30.199690</td>\n",
       "      <td>percentage</td>\n",
       "      <td>2024-04-25</td>\n",
       "      <td>2024-05-09</td>\n",
       "    </tr>\n",
       "    <tr>\n",
       "      <th>4</th>\n",
       "      <td>5</td>\n",
       "      <td>677</td>\n",
       "      <td>2022-01-02</td>\n",
       "      <td>97.575916</td>\n",
       "      <td>percentage</td>\n",
       "      <td>2022-03-03</td>\n",
       "      <td>2022-03-17</td>\n",
       "    </tr>\n",
       "  </tbody>\n",
       "</table>\n",
       "</div>"
      ],
      "text/plain": [
       "   merchant_id  customer_id transaction_date  transaction_amount  \\\n",
       "0           16          572       2022-01-01           30.199690   \n",
       "1           16          572       2022-01-01           30.199690   \n",
       "2           16          572       2022-01-01           30.199690   \n",
       "3           16          572       2022-01-01           30.199690   \n",
       "4            5          677       2022-01-02           97.575916   \n",
       "\n",
       "  discount_type discount_start_date discount_end_date  \n",
       "0         fixed          2022-03-31        2022-04-14  \n",
       "1         fixed          2023-08-24        2023-09-07  \n",
       "2         fixed          2024-03-14        2024-03-28  \n",
       "3    percentage          2024-04-25        2024-05-09  \n",
       "4    percentage          2022-03-03        2022-03-17  "
      ]
     },
     "execution_count": 5,
     "metadata": {},
     "output_type": "execute_result"
    }
   ],
   "source": [
    "merged_df = customer_transactions.merge(discount_offers, on='merchant_id')\n",
    "merged_df.head()"
   ]
  },
  {
   "cell_type": "markdown",
   "id": "5a5db08c-5c7b-4fd9-8bd8-96d8fa662310",
   "metadata": {},
   "source": [
    "# Data Transformation\n",
    "\n",
    "Convert the discount_start_date and discount_end_date columns from string format (YYYY-MM-DD) to datetime format. Then, calculate the duration of each discount offer in days."
   ]
  },
  {
   "cell_type": "code",
   "execution_count": 6,
   "id": "6b88bcca-5456-432b-bf42-ff1d8221e9fb",
   "metadata": {},
   "outputs": [
    {
     "name": "stdout",
     "output_type": "stream",
     "text": [
      "<class 'pandas.core.frame.DataFrame'>\n",
      "RangeIndex: 50980 entries, 0 to 50979\n",
      "Data columns (total 7 columns):\n",
      " #   Column               Non-Null Count  Dtype         \n",
      "---  ------               --------------  -----         \n",
      " 0   merchant_id          50980 non-null  int32         \n",
      " 1   customer_id          50980 non-null  int32         \n",
      " 2   transaction_date     50980 non-null  object        \n",
      " 3   transaction_amount   50980 non-null  float64       \n",
      " 4   discount_type        50980 non-null  object        \n",
      " 5   discount_start_date  50980 non-null  datetime64[ns]\n",
      " 6   discount_end_date    50980 non-null  datetime64[ns]\n",
      "dtypes: datetime64[ns](2), float64(1), int32(2), object(2)\n",
      "memory usage: 2.3+ MB\n"
     ]
    }
   ],
   "source": [
    "# convert to date object\n",
    "merged_df['discount_start_date'] = pd.to_datetime(merged_df['discount_start_date'])\n",
    "merged_df['discount_end_date'] = pd.to_datetime(merged_df['discount_end_date'])\n",
    "\n",
    "merged_df.info()"
   ]
  },
  {
   "cell_type": "markdown",
   "id": "bcf21351-756c-4ce9-8387-f5feb2417e90",
   "metadata": {},
   "source": [
    "Now that we have converted our dates into date objects, let's do some date math and calculate delta between the date columns.\n",
    "\n",
    "**Note:** I was able to access to access the days via `.dt.days`"
   ]
  },
  {
   "cell_type": "code",
   "execution_count": 7,
   "id": "e3730fbc-0418-494d-9499-7c7bc012a848",
   "metadata": {},
   "outputs": [
    {
     "data": {
      "text/html": [
       "<div>\n",
       "<style scoped>\n",
       "    .dataframe tbody tr th:only-of-type {\n",
       "        vertical-align: middle;\n",
       "    }\n",
       "\n",
       "    .dataframe tbody tr th {\n",
       "        vertical-align: top;\n",
       "    }\n",
       "\n",
       "    .dataframe thead th {\n",
       "        text-align: right;\n",
       "    }\n",
       "</style>\n",
       "<table border=\"1\" class=\"dataframe\">\n",
       "  <thead>\n",
       "    <tr style=\"text-align: right;\">\n",
       "      <th></th>\n",
       "      <th>merchant_id</th>\n",
       "      <th>customer_id</th>\n",
       "      <th>transaction_date</th>\n",
       "      <th>transaction_amount</th>\n",
       "      <th>discount_type</th>\n",
       "      <th>discount_start_date</th>\n",
       "      <th>discount_end_date</th>\n",
       "      <th>discount_duration</th>\n",
       "    </tr>\n",
       "  </thead>\n",
       "  <tbody>\n",
       "    <tr>\n",
       "      <th>0</th>\n",
       "      <td>16</td>\n",
       "      <td>572</td>\n",
       "      <td>2022-01-01</td>\n",
       "      <td>30.199690</td>\n",
       "      <td>fixed</td>\n",
       "      <td>2022-03-31</td>\n",
       "      <td>2022-04-14</td>\n",
       "      <td>14</td>\n",
       "    </tr>\n",
       "    <tr>\n",
       "      <th>1</th>\n",
       "      <td>16</td>\n",
       "      <td>572</td>\n",
       "      <td>2022-01-01</td>\n",
       "      <td>30.199690</td>\n",
       "      <td>fixed</td>\n",
       "      <td>2023-08-24</td>\n",
       "      <td>2023-09-07</td>\n",
       "      <td>14</td>\n",
       "    </tr>\n",
       "    <tr>\n",
       "      <th>2</th>\n",
       "      <td>16</td>\n",
       "      <td>572</td>\n",
       "      <td>2022-01-01</td>\n",
       "      <td>30.199690</td>\n",
       "      <td>fixed</td>\n",
       "      <td>2024-03-14</td>\n",
       "      <td>2024-03-28</td>\n",
       "      <td>14</td>\n",
       "    </tr>\n",
       "    <tr>\n",
       "      <th>3</th>\n",
       "      <td>16</td>\n",
       "      <td>572</td>\n",
       "      <td>2022-01-01</td>\n",
       "      <td>30.199690</td>\n",
       "      <td>percentage</td>\n",
       "      <td>2024-04-25</td>\n",
       "      <td>2024-05-09</td>\n",
       "      <td>14</td>\n",
       "    </tr>\n",
       "    <tr>\n",
       "      <th>4</th>\n",
       "      <td>5</td>\n",
       "      <td>677</td>\n",
       "      <td>2022-01-02</td>\n",
       "      <td>97.575916</td>\n",
       "      <td>percentage</td>\n",
       "      <td>2022-03-03</td>\n",
       "      <td>2022-03-17</td>\n",
       "      <td>14</td>\n",
       "    </tr>\n",
       "  </tbody>\n",
       "</table>\n",
       "</div>"
      ],
      "text/plain": [
       "   merchant_id  customer_id transaction_date  transaction_amount  \\\n",
       "0           16          572       2022-01-01           30.199690   \n",
       "1           16          572       2022-01-01           30.199690   \n",
       "2           16          572       2022-01-01           30.199690   \n",
       "3           16          572       2022-01-01           30.199690   \n",
       "4            5          677       2022-01-02           97.575916   \n",
       "\n",
       "  discount_type discount_start_date discount_end_date  discount_duration  \n",
       "0         fixed          2022-03-31        2022-04-14                 14  \n",
       "1         fixed          2023-08-24        2023-09-07                 14  \n",
       "2         fixed          2024-03-14        2024-03-28                 14  \n",
       "3    percentage          2024-04-25        2024-05-09                 14  \n",
       "4    percentage          2022-03-03        2022-03-17                 14  "
      ]
     },
     "execution_count": 7,
     "metadata": {},
     "output_type": "execute_result"
    }
   ],
   "source": [
    "merged_df['discount_duration'] = (merged_df['discount_end_date'] - merged_df['discount_start_date']).dt.days\n",
    "merged_df.head()"
   ]
  },
  {
   "cell_type": "markdown",
   "id": "3a465430-9cbc-4baf-a14b-a6104f9ce260",
   "metadata": {},
   "source": [
    "# Data Reshaping\n",
    "\n",
    "Pivot the merged dataset to create a new table with merchant_id as the index, discount_type as columns, and the corresponding discount_duration values."
   ]
  },
  {
   "cell_type": "code",
   "execution_count": 8,
   "id": "afa2e847-094b-469b-8804-a04fe6da95bf",
   "metadata": {},
   "outputs": [
    {
     "data": {
      "text/html": [
       "<div>\n",
       "<style scoped>\n",
       "    .dataframe tbody tr th:only-of-type {\n",
       "        vertical-align: middle;\n",
       "    }\n",
       "\n",
       "    .dataframe tbody tr th {\n",
       "        vertical-align: top;\n",
       "    }\n",
       "\n",
       "    .dataframe thead th {\n",
       "        text-align: right;\n",
       "    }\n",
       "</style>\n",
       "<table border=\"1\" class=\"dataframe\">\n",
       "  <thead>\n",
       "    <tr style=\"text-align: right;\">\n",
       "      <th>discount_type</th>\n",
       "      <th>fixed</th>\n",
       "      <th>percentage</th>\n",
       "    </tr>\n",
       "    <tr>\n",
       "      <th>merchant_id</th>\n",
       "      <th></th>\n",
       "      <th></th>\n",
       "    </tr>\n",
       "  </thead>\n",
       "  <tbody>\n",
       "    <tr>\n",
       "      <th>1</th>\n",
       "      <td>14.0</td>\n",
       "      <td>14.0</td>\n",
       "    </tr>\n",
       "    <tr>\n",
       "      <th>2</th>\n",
       "      <td>14.0</td>\n",
       "      <td>14.0</td>\n",
       "    </tr>\n",
       "    <tr>\n",
       "      <th>3</th>\n",
       "      <td>14.0</td>\n",
       "      <td>14.0</td>\n",
       "    </tr>\n",
       "    <tr>\n",
       "      <th>4</th>\n",
       "      <td>14.0</td>\n",
       "      <td>14.0</td>\n",
       "    </tr>\n",
       "    <tr>\n",
       "      <th>5</th>\n",
       "      <td>14.0</td>\n",
       "      <td>14.0</td>\n",
       "    </tr>\n",
       "  </tbody>\n",
       "</table>\n",
       "</div>"
      ],
      "text/plain": [
       "discount_type  fixed  percentage\n",
       "merchant_id                     \n",
       "1               14.0        14.0\n",
       "2               14.0        14.0\n",
       "3               14.0        14.0\n",
       "4               14.0        14.0\n",
       "5               14.0        14.0"
      ]
     },
     "execution_count": 8,
     "metadata": {},
     "output_type": "execute_result"
    }
   ],
   "source": [
    "# create pivot table\n",
    "new_df = merged_df.pivot_table(index='merchant_id', columns='discount_type', values='discount_duration')\n",
    "new_df.head()"
   ]
  },
  {
   "cell_type": "markdown",
   "id": "b0dff7ab-d7c1-4861-bd03-1e7d98d21558",
   "metadata": {},
   "source": [
    "Here are a few key points to note about the results from the pivot table we just created.\n",
    "\n",
    "- **The fixed and percentage columns all have the same value of 14.0:**\n",
    "\n",
    "When we created the synthetic data, here is the code we used:  \n",
    "    `'discount_start_date': pd.date_range('2022-01-01', periods=1000).strftime('%Y-%m-%d')`  \n",
    "    `'discount_end_date': pd.date_range('2022-01-15', periods=1000).strftime('%Y-%m-%d')`  \n",
    "\n",
    "As you can see we have 14 days between the start and end dates. This is the reason we are seeing all of the rows with the same value of fourteen.\n",
    "\n",
    "- **We are calculating the mean on the \"discount_duration\" column:**\n",
    "\n",
    "From the pandas documentation:    \r\n",
    "\"If aggfunc is None (default), the aggregation function will default to mean for numeric data, and first for object data (strings).  \n",
    "\n",
    "This means the average is being calculated on the results, but since they are all equal to 14, we really don't notice. I just wanted to point it out so you realize this is happening in the background and that this aggregate function can be changed if needed.\""
   ]
  },
  {
   "cell_type": "markdown",
   "id": "ad07ed57-6146-4d8e-8b08-d09b905dada7",
   "metadata": {},
   "source": [
    "# Summary:  \n",
    "The tutorial demonstrated how to use Pandas to streamline a data processing pipeline for a digital wallet company. It involved merging two datasets (discount offers and customer transactions), transforming the data by converting date columns to datetime format and calculating the duration of discount offers, and reshaping the data using a pivot table.  \n",
    "\n",
    "### Key Takeaways:  \n",
    "- Merged two datasets (discount_offers and customer_transactions) based on the merchant_id column using `customer_transactions.merge(discount_offers, on='merchant_id')`.\n",
    "- Converted date columns (discount_start_date and discount_end_date) from string format to datetime format using `pd.to_datetime()`.\n",
    "- Calculated the duration of discount offers in days using `(merged_df['discount_end_date'] - merged_df['discount_start_date']).dt.days`.\n",
    "- Created a pivot table with merchant_id as the index, discount_type as columns, and discount_duration values using `merged_df.pivot_table()`.\n",
    "- Understood that the pivot table calculates the mean of discount_duration values by default, which can be changed if needed.\n",
    "- Recognized that the synthetic data generated for the tutorial resulted in a consistent 14-day duration for all discount offers, leading to identical values in the pivot table."
   ]
  },
  {
   "cell_type": "markdown",
   "id": "61073c4f-1d8d-4f83-b6de-c5aeac555f5e",
   "metadata": {},
   "source": [
    "<p class=\"text-muted\">This tutorial was created by <a href=\"https://www.hedaro.com\" target=\"_blank\"><strong>HEDARO</strong></a></p>"
   ]
  }
 ],
 "metadata": {
  "kernelspec": {
   "display_name": "Python 3 (ipykernel)",
   "language": "python",
   "name": "python3"
  },
  "language_info": {
   "codemirror_mode": {
    "name": "ipython",
    "version": 3
   },
   "file_extension": ".py",
   "mimetype": "text/x-python",
   "name": "python",
   "nbconvert_exporter": "python",
   "pygments_lexer": "ipython3",
   "version": "3.11.7"
  }
 },
 "nbformat": 4,
 "nbformat_minor": 5
}
