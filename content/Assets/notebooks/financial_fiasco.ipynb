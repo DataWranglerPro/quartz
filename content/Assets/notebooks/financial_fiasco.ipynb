{
 "cells": [
  {
   "cell_type": "markdown",
   "id": "fa64f28f-1de7-4794-8bcd-748b18371786",
   "metadata": {},
   "source": [
    "# Financial Fiasco: A Bank's Dilemma  \n",
    "\n",
    "### Description:  \n",
    "Imagine you're a Data Analyst at a bank, and your manager just dropped a bombshell on you. It seems that the bank's financial reports are a mess, and they need your expertise to sort it out. The problem is that the data is scattered across multiple files, with different formats and inconsistencies. Your task is to use your Pandas skills to wrangle the data, identify the issues, and provide insights to help the bank get back on track.  \n",
    "\n",
    "### Tasks:  \n",
    "- **Data Unification:** Combine the 'transactions.csv' and 'customers.xlsx' files into a single dataframe, handling missing values and data type inconsistencies. Ensure that the 'customer_id' column is of numeric type (int or float) and the 'date' column is in datetime format.\n",
    "\n",
    "- **Transaction Categorization:** Create a new column 'transaction_category' and categorize each transaction as either 'deposit', 'withdrawal', or 'transfer' based on the 'transaction_type' column. Calculate the total value and average amount for each transaction category.\n",
    "\n",
    "- **Customer Insights:** Group by 'gender' and 'location', and calculate the average account balance (sum of 'amount' column) and transaction frequency (count of transactions) for each group. Output the results as a new dataframe."
   ]
  },
  {
   "cell_type": "code",
   "execution_count": 1,
   "id": "04947c5f-c32a-4b08-8279-dc797b5716e7",
   "metadata": {},
   "outputs": [
    {
     "name": "stdout",
     "output_type": "stream",
     "text": [
      "Python version 3.11.7 | packaged by Anaconda, Inc. | (main, Dec 15 2023, 18:05:47) [MSC v.1916 64 bit (AMD64)]\n",
      "Pandas version 2.2.1\n",
      "Numpy version 1.26.4\n"
     ]
    }
   ],
   "source": [
    "# import libraries\n",
    "import pandas as pd\n",
    "import numpy as np\n",
    "import sys\n",
    "\n",
    "print('Python version ' + sys.version)\n",
    "print('Pandas version ' + pd.__version__)\n",
    "print('Numpy version ' + np.__version__)"
   ]
  },
  {
   "cell_type": "markdown",
   "id": "73bbe54c-c555-48eb-b652-801cb9d482c5",
   "metadata": {},
   "source": [
    "# The Data  \n",
    "\n",
    "The dataset contains financial transaction records for 1,000 bank customers, including 10,000 transactions (deposits, withdrawals, and transfers) across two files (transactions.csv and customers.xlsx), with demographic information about each customer, such as age, gender, and location.\n",
    "\n",
    "### Summary of Data:  \n",
    "\n",
    "#### Transactions:  \n",
    "- **customer_id (int):** unique customer identifier  \n",
    "- **transaction_type (str):** type of transaction (deposit, withdrawal, transfer)  \n",
    "- **amount (float):** transaction amount  \n",
    "- **date (datetime):** transaction date     \n",
    "\n",
    "#### Customers:  \n",
    "- **customer_id (int):** unique customer identifier  \n",
    "- **age (int):** customer age  \n",
    "- **gender (str):** customer gender  \n",
    "- **location (str):** customer location (urban/rural)"
   ]
  },
  {
   "cell_type": "code",
   "execution_count": 2,
   "id": "57251bee-9854-477d-be90-aeec82293d7d",
   "metadata": {},
   "outputs": [],
   "source": [
    "# set the seed\n",
    "np.random.seed(0)\n",
    "\n",
    "transactions = pd.DataFrame({\n",
    "    'customer_id': np.random.randint(1, 1000, 10000),\n",
    "    'transaction_type': np.random.choice(['deposit', 'withdrawal', 'transfer'], 10000),\n",
    "    'amount': np.random.uniform(100, 1000, 10000),\n",
    "    'date': pd.date_range('2024-01-01', periods=10000)\n",
    "})\n",
    "\n",
    "# select 100 unique customer IDs\n",
    "missing_ids = np.random.choice(transactions['customer_id'].unique(), 100, replace=False)\n",
    "\n",
    "# for each of the selected customer IDs, set a random 'amount' value to null\n",
    "for customer_id in missing_ids:\n",
    "    idx = np.random.choice(transactions[transactions['customer_id'] == customer_id].index)\n",
    "    transactions.loc[idx, 'amount'] = np.nan\n",
    "\n",
    "customers = pd.DataFrame({\n",
    "    'customer_id': np.arange(1, 1001),\n",
    "    'age': np.random.randint(25, 65, 1000),\n",
    "    'gender': np.random.choice(['male', 'female'], 1000),\n",
    "    'location': np.random.choice(['urban', 'rural'], 1000)\n",
    "})\n",
    "\n",
    "# save data to disc\n",
    "transactions.to_csv('transactions.csv', index=False)\n",
    "customers.to_excel('customers.xlsx', index=False)"
   ]
  },
  {
   "cell_type": "markdown",
   "id": "24d4d8c2-c41e-4097-85ed-f32ede0ab824",
   "metadata": {},
   "source": [
    "# Data Unification:  \n",
    "\n",
    "- Combine the 'transactions.csv' and 'customers.xlsx' files into a single dataframe, handling missing values and data type inconsistencies.\n",
    "- Ensure the 'customer_id' column is of numeric type (int or float) and the 'date' column is in datetime format."
   ]
  },
  {
   "cell_type": "markdown",
   "id": "e2d3f831-07df-45b9-8140-c2e4561b2bb0",
   "metadata": {},
   "source": [
    "Let us start by reading in the CSV and Excel file. We will then look at their data types to ensure they are correct."
   ]
  },
  {
   "cell_type": "code",
   "execution_count": 3,
   "id": "f7ee5a1a-3891-4a4d-9456-437d4e36575a",
   "metadata": {},
   "outputs": [
    {
     "name": "stdout",
     "output_type": "stream",
     "text": [
      "<class 'pandas.core.frame.DataFrame'>\n",
      "RangeIndex: 10000 entries, 0 to 9999\n",
      "Data columns (total 4 columns):\n",
      " #   Column            Non-Null Count  Dtype  \n",
      "---  ------            --------------  -----  \n",
      " 0   customer_id       10000 non-null  int64  \n",
      " 1   transaction_type  10000 non-null  object \n",
      " 2   amount            9900 non-null   float64\n",
      " 3   date              10000 non-null  object \n",
      "dtypes: float64(1), int64(1), object(2)\n",
      "memory usage: 312.6+ KB\n"
     ]
    }
   ],
   "source": [
    "transactions_df = pd.read_csv('transactions.csv')\n",
    "transactions_df.info()"
   ]
  },
  {
   "cell_type": "markdown",
   "id": "9c1822f5-a2ed-4ae9-8393-bb373ec7576a",
   "metadata": {},
   "source": [
    "From the table above, we can see we need to update the `date` column so it is represented as a date object. Currently it is represented as a string object.  \n",
    "\n",
    "The easiest way is to use the `pd.to_datetime` method."
   ]
  },
  {
   "cell_type": "code",
   "execution_count": 4,
   "id": "f2244e02-1709-4f3c-906a-a8fcb8a985cc",
   "metadata": {},
   "outputs": [
    {
     "name": "stdout",
     "output_type": "stream",
     "text": [
      "<class 'pandas.core.frame.DataFrame'>\n",
      "RangeIndex: 10000 entries, 0 to 9999\n",
      "Data columns (total 4 columns):\n",
      " #   Column            Non-Null Count  Dtype         \n",
      "---  ------            --------------  -----         \n",
      " 0   customer_id       10000 non-null  int64         \n",
      " 1   transaction_type  10000 non-null  object        \n",
      " 2   amount            9900 non-null   float64       \n",
      " 3   date              10000 non-null  datetime64[ns]\n",
      "dtypes: datetime64[ns](1), float64(1), int64(1), object(1)\n",
      "memory usage: 312.6+ KB\n"
     ]
    }
   ],
   "source": [
    "transactions_df['date'] = pd.to_datetime(transactions_df['date'])\n",
    "transactions_df.info()"
   ]
  },
  {
   "cell_type": "markdown",
   "id": "9e0fb524-da5a-4075-9f99-e83ca30085f6",
   "metadata": {},
   "source": [
    "Let us now import the Excel file and perform the same process as we did with the CSV import.  \n",
    "\n",
    "I am not seeing any issues with the datatypes after importing from Excel. Yay!"
   ]
  },
  {
   "cell_type": "code",
   "execution_count": 5,
   "id": "47b961fc-2f5a-4250-92b8-dd07c1cfdf5a",
   "metadata": {},
   "outputs": [
    {
     "name": "stdout",
     "output_type": "stream",
     "text": [
      "<class 'pandas.core.frame.DataFrame'>\n",
      "RangeIndex: 1000 entries, 0 to 999\n",
      "Data columns (total 4 columns):\n",
      " #   Column       Non-Null Count  Dtype \n",
      "---  ------       --------------  ----- \n",
      " 0   customer_id  1000 non-null   int64 \n",
      " 1   age          1000 non-null   int64 \n",
      " 2   gender       1000 non-null   object\n",
      " 3   location     1000 non-null   object\n",
      "dtypes: int64(2), object(2)\n",
      "memory usage: 31.4+ KB\n"
     ]
    }
   ],
   "source": [
    "customers_df = pd.read_excel('customers.xlsx')\n",
    "customers_df.info()"
   ]
  },
  {
   "cell_type": "markdown",
   "id": "c6657924-3c51-4f2e-94a7-77d474f7eb53",
   "metadata": {},
   "source": [
    "Now we can try to merge the dataframes. The common key between them is `customer_id` and we will use the `.merge()` method to accomplish this portion of the task."
   ]
  },
  {
   "cell_type": "code",
   "execution_count": 6,
   "id": "844bae6b-9a22-44c3-b7d3-90ebfaca11ef",
   "metadata": {},
   "outputs": [
    {
     "data": {
      "text/html": [
       "<div>\n",
       "<style scoped>\n",
       "    .dataframe tbody tr th:only-of-type {\n",
       "        vertical-align: middle;\n",
       "    }\n",
       "\n",
       "    .dataframe tbody tr th {\n",
       "        vertical-align: top;\n",
       "    }\n",
       "\n",
       "    .dataframe thead th {\n",
       "        text-align: right;\n",
       "    }\n",
       "</style>\n",
       "<table border=\"1\" class=\"dataframe\">\n",
       "  <thead>\n",
       "    <tr style=\"text-align: right;\">\n",
       "      <th></th>\n",
       "      <th>customer_id</th>\n",
       "      <th>transaction_type</th>\n",
       "      <th>amount</th>\n",
       "      <th>date</th>\n",
       "      <th>age</th>\n",
       "      <th>gender</th>\n",
       "      <th>location</th>\n",
       "    </tr>\n",
       "  </thead>\n",
       "  <tbody>\n",
       "    <tr>\n",
       "      <th>0</th>\n",
       "      <td>685</td>\n",
       "      <td>withdrawal</td>\n",
       "      <td>189.852038</td>\n",
       "      <td>2024-01-01</td>\n",
       "      <td>37</td>\n",
       "      <td>female</td>\n",
       "      <td>rural</td>\n",
       "    </tr>\n",
       "    <tr>\n",
       "      <th>1</th>\n",
       "      <td>560</td>\n",
       "      <td>withdrawal</td>\n",
       "      <td>626.720139</td>\n",
       "      <td>2024-01-02</td>\n",
       "      <td>36</td>\n",
       "      <td>male</td>\n",
       "      <td>urban</td>\n",
       "    </tr>\n",
       "    <tr>\n",
       "      <th>2</th>\n",
       "      <td>630</td>\n",
       "      <td>withdrawal</td>\n",
       "      <td>657.841588</td>\n",
       "      <td>2024-01-03</td>\n",
       "      <td>28</td>\n",
       "      <td>male</td>\n",
       "      <td>rural</td>\n",
       "    </tr>\n",
       "    <tr>\n",
       "      <th>3</th>\n",
       "      <td>193</td>\n",
       "      <td>deposit</td>\n",
       "      <td>327.129016</td>\n",
       "      <td>2024-01-04</td>\n",
       "      <td>48</td>\n",
       "      <td>male</td>\n",
       "      <td>rural</td>\n",
       "    </tr>\n",
       "    <tr>\n",
       "      <th>4</th>\n",
       "      <td>836</td>\n",
       "      <td>transfer</td>\n",
       "      <td>798.239145</td>\n",
       "      <td>2024-01-05</td>\n",
       "      <td>41</td>\n",
       "      <td>male</td>\n",
       "      <td>urban</td>\n",
       "    </tr>\n",
       "  </tbody>\n",
       "</table>\n",
       "</div>"
      ],
      "text/plain": [
       "   customer_id transaction_type      amount       date  age  gender location\n",
       "0          685       withdrawal  189.852038 2024-01-01   37  female    rural\n",
       "1          560       withdrawal  626.720139 2024-01-02   36    male    urban\n",
       "2          630       withdrawal  657.841588 2024-01-03   28    male    rural\n",
       "3          193          deposit  327.129016 2024-01-04   48    male    rural\n",
       "4          836         transfer  798.239145 2024-01-05   41    male    urban"
      ]
     },
     "execution_count": 6,
     "metadata": {},
     "output_type": "execute_result"
    }
   ],
   "source": [
    "df = pd.merge(transactions_df, customers_df, on='customer_id')\n",
    "df.head()"
   ]
  },
  {
   "cell_type": "markdown",
   "id": "7f94a019-cab4-45b3-8b15-e0e65342065a",
   "metadata": {},
   "source": [
    "# Transaction Categorization:  \n",
    "\n",
    "Using the 'transaction_type' column, calculate the total value and average amount for each transaction category.  \n",
    "\n",
    "The transaction_type column contains the strings 'deposit', 'withdrawal', and 'transfer'. Since we are looking for total values in addition to the averages of these three categories, let us see if a pivot table would work for this task.  \n",
    "\n",
    "**Notes on the `df.pivot_table`:**  \n",
    "- By default the pivot table will calcuate the mean of `values`\n",
    "- To change the aggregate function you need to add the parameter, i.e. aggfunc='sum'\n",
    "- To get a different perspective: replace `index` with `columns`"
   ]
  },
  {
   "cell_type": "code",
   "execution_count": 7,
   "id": "8192db67-885e-4116-b786-bdacd9405e3b",
   "metadata": {},
   "outputs": [
    {
     "data": {
      "text/html": [
       "<div>\n",
       "<style scoped>\n",
       "    .dataframe tbody tr th:only-of-type {\n",
       "        vertical-align: middle;\n",
       "    }\n",
       "\n",
       "    .dataframe tbody tr th {\n",
       "        vertical-align: top;\n",
       "    }\n",
       "\n",
       "    .dataframe thead tr th {\n",
       "        text-align: left;\n",
       "    }\n",
       "\n",
       "    .dataframe thead tr:last-of-type th {\n",
       "        text-align: right;\n",
       "    }\n",
       "</style>\n",
       "<table border=\"1\" class=\"dataframe\">\n",
       "  <thead>\n",
       "    <tr>\n",
       "      <th></th>\n",
       "      <th>sum</th>\n",
       "      <th>mean</th>\n",
       "    </tr>\n",
       "    <tr>\n",
       "      <th></th>\n",
       "      <th>amount</th>\n",
       "      <th>amount</th>\n",
       "    </tr>\n",
       "    <tr>\n",
       "      <th>transaction_type</th>\n",
       "      <th></th>\n",
       "      <th></th>\n",
       "    </tr>\n",
       "  </thead>\n",
       "  <tbody>\n",
       "    <tr>\n",
       "      <th>deposit</th>\n",
       "      <td>1.794246e+06</td>\n",
       "      <td>547.694277</td>\n",
       "    </tr>\n",
       "    <tr>\n",
       "      <th>transfer</th>\n",
       "      <td>1.843336e+06</td>\n",
       "      <td>548.611931</td>\n",
       "    </tr>\n",
       "    <tr>\n",
       "      <th>withdrawal</th>\n",
       "      <td>1.785630e+06</td>\n",
       "      <td>547.067914</td>\n",
       "    </tr>\n",
       "  </tbody>\n",
       "</table>\n",
       "</div>"
      ],
      "text/plain": [
       "                           sum        mean\n",
       "                        amount      amount\n",
       "transaction_type                          \n",
       "deposit           1.794246e+06  547.694277\n",
       "transfer          1.843336e+06  548.611931\n",
       "withdrawal        1.785630e+06  547.067914"
      ]
     },
     "execution_count": 7,
     "metadata": {},
     "output_type": "execute_result"
    }
   ],
   "source": [
    "df.pivot_table(index=['transaction_type'], values=['amount'], aggfunc=['sum','mean'])"
   ]
  },
  {
   "cell_type": "markdown",
   "id": "9d190913-48eb-497b-bfcb-a1f7df24e5cf",
   "metadata": {},
   "source": [
    "# Customer Insights:  \n",
    "\n",
    "Group by 'gender' and 'location', and calculate the average account balance (sum of 'amount' column) and transaction frequency (count of transactions) for each group. Output the results as a new dataframe."
   ]
  },
  {
   "cell_type": "markdown",
   "id": "2b7726bf-7360-43f2-a0d6-040330290437",
   "metadata": {},
   "source": [
    "The `agg()` method gives us a really nice API to work with. We not only can use multiple aggregate functions, but Pandas allows us to choose and name the column. "
   ]
  },
  {
   "cell_type": "code",
   "execution_count": 8,
   "id": "6d6bc283-65e0-49e8-8ba8-fb0a4aab980d",
   "metadata": {},
   "outputs": [
    {
     "data": {
      "text/html": [
       "<div>\n",
       "<style scoped>\n",
       "    .dataframe tbody tr th:only-of-type {\n",
       "        vertical-align: middle;\n",
       "    }\n",
       "\n",
       "    .dataframe tbody tr th {\n",
       "        vertical-align: top;\n",
       "    }\n",
       "\n",
       "    .dataframe thead th {\n",
       "        text-align: right;\n",
       "    }\n",
       "</style>\n",
       "<table border=\"1\" class=\"dataframe\">\n",
       "  <thead>\n",
       "    <tr style=\"text-align: right;\">\n",
       "      <th></th>\n",
       "      <th></th>\n",
       "      <th>amount_sum</th>\n",
       "      <th>amount_count</th>\n",
       "    </tr>\n",
       "    <tr>\n",
       "      <th>gender</th>\n",
       "      <th>location</th>\n",
       "      <th></th>\n",
       "      <th></th>\n",
       "    </tr>\n",
       "  </thead>\n",
       "  <tbody>\n",
       "    <tr>\n",
       "      <th rowspan=\"2\" valign=\"top\">female</th>\n",
       "      <th>rural</th>\n",
       "      <td>1.447087e+06</td>\n",
       "      <td>2620</td>\n",
       "    </tr>\n",
       "    <tr>\n",
       "      <th>urban</th>\n",
       "      <td>1.280509e+06</td>\n",
       "      <td>2298</td>\n",
       "    </tr>\n",
       "    <tr>\n",
       "      <th rowspan=\"2\" valign=\"top\">male</th>\n",
       "      <th>rural</th>\n",
       "      <td>1.312961e+06</td>\n",
       "      <td>2419</td>\n",
       "    </tr>\n",
       "    <tr>\n",
       "      <th>urban</th>\n",
       "      <td>1.382655e+06</td>\n",
       "      <td>2563</td>\n",
       "    </tr>\n",
       "  </tbody>\n",
       "</table>\n",
       "</div>"
      ],
      "text/plain": [
       "                   amount_sum  amount_count\n",
       "gender location                            \n",
       "female rural     1.447087e+06          2620\n",
       "       urban     1.280509e+06          2298\n",
       "male   rural     1.312961e+06          2419\n",
       "       urban     1.382655e+06          2563"
      ]
     },
     "execution_count": 8,
     "metadata": {},
     "output_type": "execute_result"
    }
   ],
   "source": [
    "# create group object\n",
    "group = df.groupby(['gender','location'])\n",
    "\n",
    "# get the total and average of the group\n",
    "group.agg(\n",
    "     amount_sum=pd.NamedAgg(column=\"amount\", aggfunc=\"sum\"),\n",
    "     amount_count=pd.NamedAgg(column=\"amount\", aggfunc=\"count\")\n",
    ")"
   ]
  },
  {
   "cell_type": "markdown",
   "id": "4c2b5610-0a5a-4d73-8a6f-67375b06c1a4",
   "metadata": {},
   "source": [
    "# Summary  \n",
    "In this tutorial, you have completed three tasks and learned valuable skills along the way. You unified data by combining multiple files into a single DataFrame, categorized transactions to calculate totals and averages, and gained customer insights by grouping data by gender and location. Through these tasks, you have learned how to work with Pandas, including saving and loading data, checking and converting data types, merging DataFrames, using pivot tables, and grouping data to calculate aggregate values.\n",
    "\n",
    "# Key Takeaways  \n",
    "Here are the important skills you learned in this tutorial:\n",
    "- How to create DataFrames from dictionaries and save them to CSV and Excel files  \n",
    "- How to read CSV and Excel files into DataFrames  \n",
    "- How to check the data types of a DataFrame's columns  \n",
    "- How to convert data types (e.g., converting a column to datetime format)  \n",
    "- How to merge DataFrames based on a common column (e.g., customer_id)  \n",
    "- How to use pivot tables to calculate aggregate values (e.g., sum and mean) for transaction categories  \n",
    "- How to group data by multiple columns (e.g., gender and location) and calculate aggregate values (e.g., sum and mean) for each group."
   ]
  },
  {
   "cell_type": "markdown",
   "id": "0ff39302-77d9-4eff-a4f0-82cd32f356d6",
   "metadata": {},
   "source": [
    "<p class=\"text-muted\">This tutorial was created by <a href=\"https://www.hedaro.com\" target=\"_blank\"><strong>HEDARO</strong></a></p>"
   ]
  }
 ],
 "metadata": {
  "kernelspec": {
   "display_name": "Python 3 (ipykernel)",
   "language": "python",
   "name": "python3"
  },
  "language_info": {
   "codemirror_mode": {
    "name": "ipython",
    "version": 3
   },
   "file_extension": ".py",
   "mimetype": "text/x-python",
   "name": "python",
   "nbconvert_exporter": "python",
   "pygments_lexer": "ipython3",
   "version": "3.11.7"
  }
 },
 "nbformat": 4,
 "nbformat_minor": 5
}
