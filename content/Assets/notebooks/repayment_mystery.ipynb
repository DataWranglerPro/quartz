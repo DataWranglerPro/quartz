{
 "cells": [
  {
   "cell_type": "markdown",
   "id": "58c6faf2-c251-41f0-abc6-1ba297ec792e",
   "metadata": {},
   "source": [
    "# The Great Repayment Mystery: Can You Unravel the Clues?  \n",
    "\n",
    "### Description  \n",
    "You are a data analyst at a fintech company that provides loan services to customers. Your manager has asked you to analyze the loan repayment behavior of borrowers to identify trends and insights that can inform business decisions. You have been provided with a large dataset containing loan repayment information, including loan amounts, repayment dates, and borrower information. Your task is to use Pandas to analyze this data, identify trends, and provide insights that can help the company improve its loan services.  \n",
    "\n",
    "### Tasks  \n",
    "- **Loan Repayment Analysis:** Calculate the average loan repayment amount by month and identify the top 5 months with the highest repayment amounts.  \n",
    "- **Borrower Insights:** Group borrowers by age and calculate the average loan amount and repayment amount for each age group.  \n",
    "- **Late Repayments:** Identify loans that were repaid late (after the due date) and calculate the total amount of late repayments.  "
   ]
  },
  {
   "cell_type": "code",
   "execution_count": 1,
   "id": "7d6c6505-1d95-4e3d-8ebe-75607a0563b4",
   "metadata": {},
   "outputs": [
    {
     "name": "stdout",
     "output_type": "stream",
     "text": [
      "Python version 3.11.7 | packaged by Anaconda, Inc. | (main, Dec 15 2023, 18:05:47) [MSC v.1916 64 bit (AMD64)]\n",
      "Pandas version 2.2.1\n",
      "Numpy version 1.26.4\n"
     ]
    }
   ],
   "source": [
    "# import libraries\n",
    "import pandas as pd\n",
    "import numpy as np\n",
    "import sys\n",
    "\n",
    "print('Python version ' + sys.version)\n",
    "print('Pandas version ' + pd.__version__)\n",
    "print('Numpy version ' + np.__version__)"
   ]
  },
  {
   "cell_type": "markdown",
   "id": "93c375f1-afa6-4a14-99ad-732a92f1462b",
   "metadata": {},
   "source": [
    "# The Data  \n",
    "\n",
    "The dataset contains information about loan repayments made by borrowers to a fintech company. The dataset includes 1200 loans, each with information about the loan amount, repayment date, borrower age, due date, and repayment amount.    \n",
    "\n",
    "### Column Definitions\n",
    "- **Loan Amount:** The amount borrowed by the customer (float)  \n",
    "- **Repayment Date:** The date on which the loan was repaid (datetime)  \n",
    "- **Borrower Age:** The age of the borrower at the time of loan repayment (int)  \n",
    "- **Due Date:** The date by which the loan was due to be repaid (datetime)  \n",
    "- **Repayment Amount:** The amount repaid by the borrower (float)  \n",
    "\n",
    "**Some additional notes on the dataset:**  \n",
    "- The dataset includes some missing values in the Repayment Amount column, representing loans where the repayment amount is not known.  \n",
    "- Some loans have been marked as late repayments, where the Repayment Date is after the Due Date.  "
   ]
  },
  {
   "cell_type": "code",
   "execution_count": 2,
   "id": "f0c10220-77b1-4334-a5dc-e5590a945f5d",
   "metadata": {},
   "outputs": [
    {
     "data": {
      "text/html": [
       "<div>\n",
       "<style scoped>\n",
       "    .dataframe tbody tr th:only-of-type {\n",
       "        vertical-align: middle;\n",
       "    }\n",
       "\n",
       "    .dataframe tbody tr th {\n",
       "        vertical-align: top;\n",
       "    }\n",
       "\n",
       "    .dataframe thead th {\n",
       "        text-align: right;\n",
       "    }\n",
       "</style>\n",
       "<table border=\"1\" class=\"dataframe\">\n",
       "  <thead>\n",
       "    <tr style=\"text-align: right;\">\n",
       "      <th></th>\n",
       "      <th>Loan Amount</th>\n",
       "      <th>Repayment Date</th>\n",
       "      <th>Borrower Age</th>\n",
       "      <th>Due Date</th>\n",
       "      <th>Repayment Amount</th>\n",
       "    </tr>\n",
       "  </thead>\n",
       "  <tbody>\n",
       "    <tr>\n",
       "      <th>0</th>\n",
       "      <td>5939.321535</td>\n",
       "      <td>2022-01-01</td>\n",
       "      <td>42</td>\n",
       "      <td>2022-01-01</td>\n",
       "      <td>2940.536278</td>\n",
       "    </tr>\n",
       "    <tr>\n",
       "      <th>1</th>\n",
       "      <td>7436.704297</td>\n",
       "      <td>2022-01-02</td>\n",
       "      <td>54</td>\n",
       "      <td>2022-01-02</td>\n",
       "      <td>7436.704297</td>\n",
       "    </tr>\n",
       "    <tr>\n",
       "      <th>2</th>\n",
       "      <td>6424.870385</td>\n",
       "      <td>2022-01-03</td>\n",
       "      <td>31</td>\n",
       "      <td>2022-01-03</td>\n",
       "      <td>6424.870385</td>\n",
       "    </tr>\n",
       "    <tr>\n",
       "      <th>3</th>\n",
       "      <td>5903.948647</td>\n",
       "      <td>2022-01-04</td>\n",
       "      <td>53</td>\n",
       "      <td>2022-01-04</td>\n",
       "      <td>2272.657962</td>\n",
       "    </tr>\n",
       "    <tr>\n",
       "      <th>4</th>\n",
       "      <td>4812.893194</td>\n",
       "      <td>2022-01-05</td>\n",
       "      <td>35</td>\n",
       "      <td>2022-01-05</td>\n",
       "      <td>3978.737138</td>\n",
       "    </tr>\n",
       "  </tbody>\n",
       "</table>\n",
       "</div>"
      ],
      "text/plain": [
       "   Loan Amount Repayment Date  Borrower Age   Due Date  Repayment Amount\n",
       "0  5939.321535     2022-01-01            42 2022-01-01       2940.536278\n",
       "1  7436.704297     2022-01-02            54 2022-01-02       7436.704297\n",
       "2  6424.870385     2022-01-03            31 2022-01-03       6424.870385\n",
       "3  5903.948647     2022-01-04            53 2022-01-04       2272.657962\n",
       "4  4812.893194     2022-01-05            35 2022-01-05       3978.737138"
      ]
     },
     "execution_count": 2,
     "metadata": {},
     "output_type": "execute_result"
    }
   ],
   "source": [
    "# set the seed\n",
    "np.random.seed(0)\n",
    "\n",
    "# generate the loan data\n",
    "loans = pd.DataFrame({\n",
    "    'Loan Amount': np.random.uniform(1000, 10000, size=1000),\n",
    "    'Repayment Date': pd.date_range('2022-01-01', periods=1000),\n",
    "    'Borrower Age': np.random.randint(25, 60, size=1000),\n",
    "    'Due Date': pd.date_range('2022-01-01', periods=1000),\n",
    "    'Repayment Amount': np.random.uniform(1000, 10000, size=1000)\n",
    "})\n",
    "\n",
    "# generate repayment amounts (never larger than loan amount)\n",
    "loans['Repayment Amount'] = loans.apply(lambda x: np.random.choice([np.random.uniform(0, x['Loan Amount']), x['Loan Amount']]), axis=1)\n",
    "\n",
    "# add some late repayments\n",
    "late_repayments = loans.sample(frac=0.2)\n",
    "late_repayments['Repayment Date'] += pd.Timedelta(days=30)\n",
    "loans = pd.concat([loans, late_repayments])\n",
    "\n",
    "# add some missing values\n",
    "loans.loc[np.random.choice(loans.index, size=100), 'Repayment Amount'] = np.nan\n",
    "\n",
    "loans.head()"
   ]
  },
  {
   "cell_type": "markdown",
   "id": "db9b3462-90dd-4e25-b646-0d265e894596",
   "metadata": {},
   "source": [
    "Let us start with taking a peek at the datatypes."
   ]
  },
  {
   "cell_type": "code",
   "execution_count": 3,
   "id": "217cb1fc-0457-40eb-964d-33fe3fb1525f",
   "metadata": {},
   "outputs": [
    {
     "name": "stdout",
     "output_type": "stream",
     "text": [
      "<class 'pandas.core.frame.DataFrame'>\n",
      "Index: 1200 entries, 0 to 941\n",
      "Data columns (total 5 columns):\n",
      " #   Column            Non-Null Count  Dtype         \n",
      "---  ------            --------------  -----         \n",
      " 0   Loan Amount       1200 non-null   float64       \n",
      " 1   Repayment Date    1200 non-null   datetime64[ns]\n",
      " 2   Borrower Age      1200 non-null   int32         \n",
      " 3   Due Date          1200 non-null   datetime64[ns]\n",
      " 4   Repayment Amount  1074 non-null   float64       \n",
      "dtypes: datetime64[ns](2), float64(2), int32(1)\n",
      "memory usage: 83.9 KB\n"
     ]
    }
   ],
   "source": [
    "loans.info()"
   ]
  },
  {
   "cell_type": "markdown",
   "id": "2dcfc222-5875-49ec-b48a-1f73b191b038",
   "metadata": {},
   "source": [
    "# Missing Values  \n",
    "\n",
    "If I received this dataset, I would have asked if I could take a look at the source of the data. There are lots of times where the person/script that compiled the data for you is not 100% perfect. Data is usually messy and it may have edge cases that may not have been taken into account when preparing the data.  \n",
    "\n",
    "In this case, since we have no other reference point, we will simply delete rows with the missing values."
   ]
  },
  {
   "cell_type": "code",
   "execution_count": 4,
   "id": "fbc155ed-6581-4221-80ad-50ed6a4c4241",
   "metadata": {},
   "outputs": [
    {
     "name": "stdout",
     "output_type": "stream",
     "text": [
      "<class 'pandas.core.frame.DataFrame'>\n",
      "Index: 1074 entries, 0 to 941\n",
      "Data columns (total 5 columns):\n",
      " #   Column            Non-Null Count  Dtype         \n",
      "---  ------            --------------  -----         \n",
      " 0   Loan Amount       1074 non-null   float64       \n",
      " 1   Repayment Date    1074 non-null   datetime64[ns]\n",
      " 2   Borrower Age      1074 non-null   int32         \n",
      " 3   Due Date          1074 non-null   datetime64[ns]\n",
      " 4   Repayment Amount  1074 non-null   float64       \n",
      "dtypes: datetime64[ns](2), float64(2), int32(1)\n",
      "memory usage: 46.1 KB\n"
     ]
    }
   ],
   "source": [
    "loans = loans.dropna()\n",
    "loans.info()"
   ]
  },
  {
   "cell_type": "markdown",
   "id": "3cd147c1-12dd-430f-b2cc-bf1f777d7306",
   "metadata": {},
   "source": [
    "# Loan Repayment Analysis:  \n",
    "\n",
    "Calculate the average loan repayment amount by month and identify the top 5 months with the highest repayment amounts.  \n",
    "\n",
    "**Challenge:** Can you redo this section, but group by month and year which may have been the original intention of the task?"
   ]
  },
  {
   "cell_type": "code",
   "execution_count": 5,
   "id": "4acb0424-a71e-4ef6-bb80-1cc8a86c1a25",
   "metadata": {},
   "outputs": [
    {
     "data": {
      "text/plain": [
       "Repayment Date\n",
       "1     4584.052671\n",
       "12    4165.392593\n",
       "9     4153.814819\n",
       "4     4096.045033\n",
       "3     4082.376501\n",
       "Name: Repayment Amount, dtype: float64"
      ]
     },
     "execution_count": 5,
     "metadata": {},
     "output_type": "execute_result"
    }
   ],
   "source": [
    "# create group object\n",
    "group = loans.groupby(loans['Repayment Date'].dt.month)\n",
    "\n",
    "# top 5 repayment amounts\n",
    "group.mean(numeric_only=True).sort_values(by='Repayment Amount', ascending=False)['Repayment Amount'].head(5)"
   ]
  },
  {
   "cell_type": "markdown",
   "id": "50c4ccaa-58cd-4f49-8210-8322b0d1fceb",
   "metadata": {},
   "source": [
    "Notice I was able to pull the month out of the date column."
   ]
  },
  {
   "cell_type": "code",
   "execution_count": 6,
   "id": "47b43528-33c8-4340-814d-bea873046c32",
   "metadata": {},
   "outputs": [
    {
     "data": {
      "text/plain": [
       "0       1\n",
       "1       1\n",
       "2       1\n",
       "3       1\n",
       "4       1\n",
       "       ..\n",
       "301    11\n",
       "515     6\n",
       "565     8\n",
       "995    10\n",
       "941     8\n",
       "Name: Repayment Date, Length: 1074, dtype: int32"
      ]
     },
     "execution_count": 6,
     "metadata": {},
     "output_type": "execute_result"
    }
   ],
   "source": [
    "loans['Repayment Date'].dt.month"
   ]
  },
  {
   "cell_type": "markdown",
   "id": "b52fb634-94df-4e19-ad3b-af85d5b11001",
   "metadata": {},
   "source": [
    "# Borrower Insights:  \n",
    "\n",
    "Group borrowers by age and calculate the average loan amount and repayment amount for each age group.  \n",
    "\n",
    "From the figure below, it seems like not a lot of people are paying their loans off!"
   ]
  },
  {
   "cell_type": "code",
   "execution_count": 7,
   "id": "d172a13f-5b08-467f-9977-9f3371cd716d",
   "metadata": {},
   "outputs": [
    {
     "data": {
      "image/png": "[encoded data removed]",
      "text/plain": [
       "<Figure size 1000x500 with 1 Axes>"
      ]
     },
     "metadata": {},
     "output_type": "display_data"
    }
   ],
   "source": [
    "# create group object\n",
    "group = loans.groupby('Borrower Age')\n",
    "\n",
    "# top 5 repayment amounts\n",
    "group.mean(numeric_only=True).plot(figsize=(10,5));"
   ]
  },
  {
   "cell_type": "markdown",
   "id": "bea74d96-1128-493e-9172-8c30f6aa6d5f",
   "metadata": {},
   "source": [
    "# Late Repayments:  \n",
    "\n",
    "Identify loans that were repaid late (after the due date) and calculate the total amount of late repayments."
   ]
  },
  {
   "cell_type": "code",
   "execution_count": 8,
   "id": "0f21d2a3-e20c-4687-bae7-c7871e587df8",
   "metadata": {},
   "outputs": [
    {
     "data": {
      "text/html": [
       "<div>\n",
       "<style scoped>\n",
       "    .dataframe tbody tr th:only-of-type {\n",
       "        vertical-align: middle;\n",
       "    }\n",
       "\n",
       "    .dataframe tbody tr th {\n",
       "        vertical-align: top;\n",
       "    }\n",
       "\n",
       "    .dataframe thead th {\n",
       "        text-align: right;\n",
       "    }\n",
       "</style>\n",
       "<table border=\"1\" class=\"dataframe\">\n",
       "  <thead>\n",
       "    <tr style=\"text-align: right;\">\n",
       "      <th></th>\n",
       "      <th>Loan Amount</th>\n",
       "      <th>Repayment Date</th>\n",
       "      <th>Borrower Age</th>\n",
       "      <th>Due Date</th>\n",
       "      <th>Repayment Amount</th>\n",
       "      <th>late</th>\n",
       "    </tr>\n",
       "  </thead>\n",
       "  <tbody>\n",
       "    <tr>\n",
       "      <th>387</th>\n",
       "      <td>2434.730171</td>\n",
       "      <td>2023-02-22</td>\n",
       "      <td>47</td>\n",
       "      <td>2023-01-23</td>\n",
       "      <td>2434.730171</td>\n",
       "      <td>True</td>\n",
       "    </tr>\n",
       "    <tr>\n",
       "      <th>510</th>\n",
       "      <td>1941.650999</td>\n",
       "      <td>2023-06-25</td>\n",
       "      <td>54</td>\n",
       "      <td>2023-05-26</td>\n",
       "      <td>894.474464</td>\n",
       "      <td>True</td>\n",
       "    </tr>\n",
       "    <tr>\n",
       "      <th>46</th>\n",
       "      <td>2893.443050</td>\n",
       "      <td>2022-03-18</td>\n",
       "      <td>28</td>\n",
       "      <td>2022-02-16</td>\n",
       "      <td>2893.443050</td>\n",
       "      <td>True</td>\n",
       "    </tr>\n",
       "    <tr>\n",
       "      <th>20</th>\n",
       "      <td>9807.565080</td>\n",
       "      <td>2022-02-20</td>\n",
       "      <td>50</td>\n",
       "      <td>2022-01-21</td>\n",
       "      <td>2333.814874</td>\n",
       "      <td>True</td>\n",
       "    </tr>\n",
       "    <tr>\n",
       "      <th>720</th>\n",
       "      <td>7759.194840</td>\n",
       "      <td>2024-01-21</td>\n",
       "      <td>55</td>\n",
       "      <td>2023-12-22</td>\n",
       "      <td>7759.194840</td>\n",
       "      <td>True</td>\n",
       "    </tr>\n",
       "  </tbody>\n",
       "</table>\n",
       "</div>"
      ],
      "text/plain": [
       "     Loan Amount Repayment Date  Borrower Age   Due Date  Repayment Amount  \\\n",
       "387  2434.730171     2023-02-22            47 2023-01-23       2434.730171   \n",
       "510  1941.650999     2023-06-25            54 2023-05-26        894.474464   \n",
       "46   2893.443050     2022-03-18            28 2022-02-16       2893.443050   \n",
       "20   9807.565080     2022-02-20            50 2022-01-21       2333.814874   \n",
       "720  7759.194840     2024-01-21            55 2023-12-22       7759.194840   \n",
       "\n",
       "     late  \n",
       "387  True  \n",
       "510  True  \n",
       "46   True  \n",
       "20   True  \n",
       "720  True  "
      ]
     },
     "execution_count": 8,
     "metadata": {},
     "output_type": "execute_result"
    }
   ],
   "source": [
    "# flag the loans that were repaid late\n",
    "loans['late'] = loans['Repayment Date'] > loans['Due Date']\n",
    "loans[loans['late'] == True].head()"
   ]
  },
  {
   "cell_type": "markdown",
   "id": "fdc52955-1dfb-493b-83cf-874f494fdc45",
   "metadata": {},
   "source": [
    "### How many were repaid late?"
   ]
  },
  {
   "cell_type": "code",
   "execution_count": 9,
   "id": "4bf91484-d1a4-414c-b5ad-3a367986a463",
   "metadata": {},
   "outputs": [
    {
     "data": {
      "text/plain": [
       "Loan Amount         171\n",
       "Repayment Date      171\n",
       "Borrower Age        171\n",
       "Due Date            171\n",
       "Repayment Amount    171\n",
       "late                171\n",
       "dtype: int64"
      ]
     },
     "execution_count": 9,
     "metadata": {},
     "output_type": "execute_result"
    }
   ],
   "source": [
    "loans[loans['late'] == True].count()"
   ]
  },
  {
   "cell_type": "markdown",
   "id": "8f9b3b25-5a22-45cd-abeb-b32b6e1cd5e0",
   "metadata": {},
   "source": [
    "### Calculate the total amount of late repayments  \n",
    "\n",
    "We get a total of $650,231.87."
   ]
  },
  {
   "cell_type": "code",
   "execution_count": 10,
   "id": "2404235a-92c2-4387-8d6d-40a0f5351987",
   "metadata": {},
   "outputs": [
    {
     "data": {
      "text/plain": [
       "650231.8707490516"
      ]
     },
     "execution_count": 10,
     "metadata": {},
     "output_type": "execute_result"
    }
   ],
   "source": [
    "loans[loans['late'] == True].sum(numeric_only=True)['Repayment Amount']"
   ]
  },
  {
   "cell_type": "markdown",
   "id": "8feca8f6-1769-4cf3-801c-9da1a973d773",
   "metadata": {},
   "source": [
    "# Key Takeaways  \n",
    "- How to handle missing values (dropna() function)\n",
    "- How to group data by a specific column (groupby() function)\n",
    "- How to calculate average values by group (mean() function)\n",
    "- How to sort values in descending order (sort_values() function)\n",
    "- How to extract specific columns or rows from a dataset\n",
    "\n",
    "### Tasks and Outputs\n",
    "**Loan Repayment Analysis:**  \n",
    "- Calculated average loan repayment amount by month\n",
    "- Identified top 5 months with highest repayment amounts: January, December, September, April, and March\n",
    "\n",
    "**Borrower Insights:**  \n",
    "- Grouped borrowers by age and calculated average loan and repayment amounts\n",
    "- Plotted a graph to visualize the data\n",
    "\n",
    "**Late Repayments:**  \n",
    "- Identified loans repaid late (after due date)\n",
    "- Calculated total amount of late repayments: $650,231.87"
   ]
  },
  {
   "cell_type": "markdown",
   "id": "93e81570-f97c-4b75-8f8d-27353c6d5973",
   "metadata": {},
   "source": [
    "<p class=\"text-muted\">This tutorial was created by <a href=\"https://www.hedaro.com\" target=\"_blank\"><strong>HEDARO</strong></a></p>"
   ]
  }
 ],
 "metadata": {
  "kernelspec": {
   "display_name": "Python 3 (ipykernel)",
   "language": "python",
   "name": "python3"
  },
  "language_info": {
   "codemirror_mode": {
    "name": "ipython",
    "version": 3
   },
   "file_extension": ".py",
   "mimetype": "text/x-python",
   "name": "python",
   "nbconvert_exporter": "python",
   "pygments_lexer": "ipython3",
   "version": "3.11.7"
  }
 },
 "nbformat": 4,
 "nbformat_minor": 5
}
