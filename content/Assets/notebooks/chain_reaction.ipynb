{
 "cells": [
  {
   "cell_type": "markdown",
   "id": "925df6de-4376-4d75-9e4c-3ce2455ff577",
   "metadata": {},
   "source": [
    "# Chain Reaction: Uncovering Patterns in Bike-Sharing Usage  \n",
    "\n",
    "### Description:  \n",
    "The local government has launched a public bike-sharing system to reduce traffic congestion and promote sustainable transportation. As a data scientist, you're tasked with analyzing the usage patterns of this system. You have access to a dataset containing information about bike trips, including the date, time, start and end stations, and user information. Your mission is to uncover insights that will help optimize the system.\n",
    "\n",
    "### Tasks:  \n",
    "- **Riding by the Clock:** Calculate the average trip duration by day of the week and time of day.\n",
    "- **Popular Pedals:** Identify the most popular bike routes and the number of trips taken on each route.\n",
    "- **Lost in Transit:** Determine the percentage of users who fail to return bikes to designated stations."
   ]
  },
  {
   "cell_type": "code",
   "execution_count": 1,
   "id": "d36876e5-5b86-4519-9115-9fd64dd26e52",
   "metadata": {},
   "outputs": [
    {
     "name": "stdout",
     "output_type": "stream",
     "text": [
      "Python version 3.11.7 | packaged by Anaconda, Inc. | (main, Dec 15 2023, 18:05:47) [MSC v.1916 64 bit (AMD64)]\n",
      "Pandas version 2.2.1\n",
      "Numpy version 1.26.4\n"
     ]
    }
   ],
   "source": [
    "# import libraries\n",
    "import pandas as pd\n",
    "import numpy as np\n",
    "import sys\n",
    "\n",
    "print('Python version ' + sys.version)\n",
    "print('Pandas version ' + pd.__version__)\n",
    "print('Numpy version ' + np.__version__)"
   ]
  },
  {
   "cell_type": "markdown",
   "id": "5f40761b-2e3d-41d0-b6c9-d65f115b5de3",
   "metadata": {},
   "source": [
    "# The Data  \n",
    "\n",
    "The dataset contains information about 1000 bike trips in a public bike-sharing system, including trip details. Some of the trips are missing end station information, indicating bikes not returned to designated stations.  \n",
    "\n",
    "### Columns:  \n",
    "- **Trip ID** - unique identifier\n",
    "- **Start Date** - date of the trip\n",
    "- **Start Time** - hour of the day\n",
    "- **Start Station** - station where the trip started\n",
    "- **End Station** - station where the trip ended, may be missing\n",
    "- **Trip Duration** - length of the trip in minutes\n",
    "- **Bike ID** - unique identifier for the bike"
   ]
  },
  {
   "cell_type": "code",
   "execution_count": 2,
   "id": "3118f32f-6443-4085-98ad-da3d434c136e",
   "metadata": {},
   "outputs": [
    {
     "data": {
      "text/html": [
       "<div>\n",
       "<style scoped>\n",
       "    .dataframe tbody tr th:only-of-type {\n",
       "        vertical-align: middle;\n",
       "    }\n",
       "\n",
       "    .dataframe tbody tr th {\n",
       "        vertical-align: top;\n",
       "    }\n",
       "\n",
       "    .dataframe thead th {\n",
       "        text-align: right;\n",
       "    }\n",
       "</style>\n",
       "<table border=\"1\" class=\"dataframe\">\n",
       "  <thead>\n",
       "    <tr style=\"text-align: right;\">\n",
       "      <th></th>\n",
       "      <th>Trip ID</th>\n",
       "      <th>Start Date</th>\n",
       "      <th>Start Time</th>\n",
       "      <th>Start Station</th>\n",
       "      <th>End Station</th>\n",
       "      <th>Trip Duration</th>\n",
       "      <th>Bike ID</th>\n",
       "    </tr>\n",
       "  </thead>\n",
       "  <tbody>\n",
       "    <tr>\n",
       "      <th>0</th>\n",
       "      <td>1</td>\n",
       "      <td>2024-01-13</td>\n",
       "      <td>18</td>\n",
       "      <td>A</td>\n",
       "      <td>I</td>\n",
       "      <td>43</td>\n",
       "      <td>83</td>\n",
       "    </tr>\n",
       "    <tr>\n",
       "      <th>1</th>\n",
       "      <td>2</td>\n",
       "      <td>2024-01-16</td>\n",
       "      <td>6</td>\n",
       "      <td>D</td>\n",
       "      <td>J</td>\n",
       "      <td>53</td>\n",
       "      <td>36</td>\n",
       "    </tr>\n",
       "    <tr>\n",
       "      <th>2</th>\n",
       "      <td>3</td>\n",
       "      <td>2024-01-22</td>\n",
       "      <td>20</td>\n",
       "      <td>D</td>\n",
       "      <td>J</td>\n",
       "      <td>7</td>\n",
       "      <td>85</td>\n",
       "    </tr>\n",
       "    <tr>\n",
       "      <th>3</th>\n",
       "      <td>4</td>\n",
       "      <td>2024-01-01</td>\n",
       "      <td>11</td>\n",
       "      <td>C</td>\n",
       "      <td>I</td>\n",
       "      <td>4</td>\n",
       "      <td>6</td>\n",
       "    </tr>\n",
       "    <tr>\n",
       "      <th>4</th>\n",
       "      <td>5</td>\n",
       "      <td>2024-01-04</td>\n",
       "      <td>22</td>\n",
       "      <td>B</td>\n",
       "      <td>J</td>\n",
       "      <td>41</td>\n",
       "      <td>59</td>\n",
       "    </tr>\n",
       "  </tbody>\n",
       "</table>\n",
       "</div>"
      ],
      "text/plain": [
       "   Trip ID Start Date  Start Time Start Station End Station  Trip Duration  \\\n",
       "0        1 2024-01-13          18             A           I             43   \n",
       "1        2 2024-01-16           6             D           J             53   \n",
       "2        3 2024-01-22          20             D           J              7   \n",
       "3        4 2024-01-01          11             C           I              4   \n",
       "4        5 2024-01-04          22             B           J             41   \n",
       "\n",
       "   Bike ID  \n",
       "0       83  \n",
       "1       36  \n",
       "2       85  \n",
       "3        6  \n",
       "4       59  "
      ]
     },
     "execution_count": 2,
     "metadata": {},
     "output_type": "execute_result"
    }
   ],
   "source": [
    "# set the seed\n",
    "np.random.seed(0)\n",
    "\n",
    "# create a date range\n",
    "dates = pd.date_range('2024-01-01', '2024-01-31')\n",
    "\n",
    "# generate random trip data\n",
    "trips = pd.DataFrame({\n",
    "    'Trip ID': range(1, 1001),\n",
    "    'Start Date': np.random.choice(dates, 1000),\n",
    "    'Start Time': np.random.randint(0, 24, 1000),\n",
    "    'Start Station': np.random.choice(['A', 'B', 'C', 'D', 'E'], 1000),\n",
    "    'End Station': np.random.choice(['F', 'G', 'H', 'I', 'J'], 1000)\n",
    "})\n",
    "\n",
    "# bikes not returned\n",
    "trips.loc[np.random.choice(trips.index, 50), 'End Station'] = np.nan\n",
    "\n",
    "# Add some additional columns\n",
    "trips['Trip Duration'] = np.random.randint(1, 60, 1000)\n",
    "trips['Bike ID'] = np.random.randint(1, 100, 1000)\n",
    "\n",
    "trips.head()"
   ]
  },
  {
   "cell_type": "markdown",
   "id": "d8160429-d782-401a-a65a-575622dc1a68",
   "metadata": {},
   "source": [
    "Let us check the column data types before we begin task one."
   ]
  },
  {
   "cell_type": "code",
   "execution_count": 3,
   "id": "21a1a43e-76bd-4a1f-b655-db54fa4e4c3f",
   "metadata": {},
   "outputs": [
    {
     "name": "stdout",
     "output_type": "stream",
     "text": [
      "<class 'pandas.core.frame.DataFrame'>\n",
      "RangeIndex: 1000 entries, 0 to 999\n",
      "Data columns (total 7 columns):\n",
      " #   Column         Non-Null Count  Dtype         \n",
      "---  ------         --------------  -----         \n",
      " 0   Trip ID        1000 non-null   int64         \n",
      " 1   Start Date     1000 non-null   datetime64[ns]\n",
      " 2   Start Time     1000 non-null   int32         \n",
      " 3   Start Station  1000 non-null   object        \n",
      " 4   End Station    951 non-null    object        \n",
      " 5   Trip Duration  1000 non-null   int32         \n",
      " 6   Bike ID        1000 non-null   int32         \n",
      "dtypes: datetime64[ns](1), int32(3), int64(1), object(2)\n",
      "memory usage: 43.1+ KB\n"
     ]
    }
   ],
   "source": [
    "trips.info()"
   ]
  },
  {
   "cell_type": "markdown",
   "id": "b01ba9d5-ffc0-48fe-b3cf-f18002cf2821",
   "metadata": {},
   "source": [
    "# Riding by the Clock: \n",
    "\n",
    "Calculate the average trip duration by day of the week and time of day."
   ]
  },
  {
   "cell_type": "markdown",
   "id": "b9402b51-eb12-4712-a7da-d19bdea4cc95",
   "metadata": {},
   "source": [
    "We can pull the day of the week by using `.dt.dayofweek`  \n",
    "\n",
    "**Here is what the numbers mean:**  \n",
    "- Monday = 0\n",
    "- Tuesday = 1\n",
    "- Wednesday = 2\n",
    "- Thursday = 3\n",
    "- Friday = 4\n",
    "- Saturday = 5\n",
    "- Sunday = 6"
   ]
  },
  {
   "cell_type": "code",
   "execution_count": 4,
   "id": "843f7107-2a20-420b-a9d7-9943a83bc9e1",
   "metadata": {},
   "outputs": [
    {
     "data": {
      "text/plain": [
       "0    5\n",
       "1    1\n",
       "2    0\n",
       "3    0\n",
       "4    3\n",
       "Name: Start Date, dtype: int32"
      ]
     },
     "execution_count": 4,
     "metadata": {},
     "output_type": "execute_result"
    }
   ],
   "source": [
    "trips['Start Date'].dt.dayofweek.head()"
   ]
  },
  {
   "cell_type": "markdown",
   "id": "45562c44-7ae2-4ddf-b0dc-4bf171cd70ae",
   "metadata": {},
   "source": [
    "But it would be nicer if we were able to return the text representation of the day of the week.  \n",
    "\n",
    "Fortunately, Pandas comes to the rescue with `.dt.day_name()`"
   ]
  },
  {
   "cell_type": "code",
   "execution_count": 5,
   "id": "9ebdfb5c-f159-445a-8db4-d284d634751b",
   "metadata": {},
   "outputs": [
    {
     "data": {
      "text/html": [
       "<div>\n",
       "<style scoped>\n",
       "    .dataframe tbody tr th:only-of-type {\n",
       "        vertical-align: middle;\n",
       "    }\n",
       "\n",
       "    .dataframe tbody tr th {\n",
       "        vertical-align: top;\n",
       "    }\n",
       "\n",
       "    .dataframe thead th {\n",
       "        text-align: right;\n",
       "    }\n",
       "</style>\n",
       "<table border=\"1\" class=\"dataframe\">\n",
       "  <thead>\n",
       "    <tr style=\"text-align: right;\">\n",
       "      <th></th>\n",
       "      <th>Trip ID</th>\n",
       "      <th>Start Date</th>\n",
       "      <th>Start Time</th>\n",
       "      <th>Start Station</th>\n",
       "      <th>End Station</th>\n",
       "      <th>Trip Duration</th>\n",
       "      <th>Bike ID</th>\n",
       "      <th>Day_of_Week</th>\n",
       "    </tr>\n",
       "  </thead>\n",
       "  <tbody>\n",
       "    <tr>\n",
       "      <th>0</th>\n",
       "      <td>1</td>\n",
       "      <td>2024-01-13</td>\n",
       "      <td>18</td>\n",
       "      <td>A</td>\n",
       "      <td>I</td>\n",
       "      <td>43</td>\n",
       "      <td>83</td>\n",
       "      <td>Saturday</td>\n",
       "    </tr>\n",
       "    <tr>\n",
       "      <th>1</th>\n",
       "      <td>2</td>\n",
       "      <td>2024-01-16</td>\n",
       "      <td>6</td>\n",
       "      <td>D</td>\n",
       "      <td>J</td>\n",
       "      <td>53</td>\n",
       "      <td>36</td>\n",
       "      <td>Tuesday</td>\n",
       "    </tr>\n",
       "    <tr>\n",
       "      <th>2</th>\n",
       "      <td>3</td>\n",
       "      <td>2024-01-22</td>\n",
       "      <td>20</td>\n",
       "      <td>D</td>\n",
       "      <td>J</td>\n",
       "      <td>7</td>\n",
       "      <td>85</td>\n",
       "      <td>Monday</td>\n",
       "    </tr>\n",
       "    <tr>\n",
       "      <th>3</th>\n",
       "      <td>4</td>\n",
       "      <td>2024-01-01</td>\n",
       "      <td>11</td>\n",
       "      <td>C</td>\n",
       "      <td>I</td>\n",
       "      <td>4</td>\n",
       "      <td>6</td>\n",
       "      <td>Monday</td>\n",
       "    </tr>\n",
       "    <tr>\n",
       "      <th>4</th>\n",
       "      <td>5</td>\n",
       "      <td>2024-01-04</td>\n",
       "      <td>22</td>\n",
       "      <td>B</td>\n",
       "      <td>J</td>\n",
       "      <td>41</td>\n",
       "      <td>59</td>\n",
       "      <td>Thursday</td>\n",
       "    </tr>\n",
       "  </tbody>\n",
       "</table>\n",
       "</div>"
      ],
      "text/plain": [
       "   Trip ID Start Date  Start Time Start Station End Station  Trip Duration  \\\n",
       "0        1 2024-01-13          18             A           I             43   \n",
       "1        2 2024-01-16           6             D           J             53   \n",
       "2        3 2024-01-22          20             D           J              7   \n",
       "3        4 2024-01-01          11             C           I              4   \n",
       "4        5 2024-01-04          22             B           J             41   \n",
       "\n",
       "   Bike ID Day_of_Week  \n",
       "0       83    Saturday  \n",
       "1       36     Tuesday  \n",
       "2       85      Monday  \n",
       "3        6      Monday  \n",
       "4       59    Thursday  "
      ]
     },
     "execution_count": 5,
     "metadata": {},
     "output_type": "execute_result"
    }
   ],
   "source": [
    "trips['Day_of_Week'] = trips['Start Date'].dt.day_name()\n",
    "trips.head()"
   ]
  },
  {
   "cell_type": "markdown",
   "id": "67d1cf18-650b-43eb-b1aa-c2ab2c916588",
   "metadata": {},
   "source": [
    "Now we are ready to group by day of the week and time of day."
   ]
  },
  {
   "cell_type": "code",
   "execution_count": 6,
   "id": "53848132-2e36-4010-84d2-a2b21c22da5f",
   "metadata": {},
   "outputs": [
    {
     "data": {
      "text/plain": [
       "Day_of_Week  Start Time\n",
       "Friday       0             32.142857\n",
       "             1             29.400000\n",
       "             2             31.250000\n",
       "             3             28.875000\n",
       "             4             19.333333\n",
       "                             ...    \n",
       "Wednesday    19            29.500000\n",
       "             20            34.000000\n",
       "             21            15.400000\n",
       "             22            19.333333\n",
       "             23            30.500000\n",
       "Name: Trip Duration, Length: 168, dtype: float64"
      ]
     },
     "execution_count": 6,
     "metadata": {},
     "output_type": "execute_result"
    }
   ],
   "source": [
    "# create group object\n",
    "group = trips.groupby(['Day_of_Week','Start Time'])\n",
    "\n",
    "# calculate the average trip duration\n",
    "group.mean(numeric_only=True)['Trip Duration']"
   ]
  },
  {
   "cell_type": "markdown",
   "id": "481bfec8-e537-4760-97b3-50d68a3011c2",
   "metadata": {},
   "source": [
    "# Popular Pedals:  \n",
    "\n",
    "Identify the most popular bike routes and the number of trips taken on each route."
   ]
  },
  {
   "cell_type": "markdown",
   "id": "654d82bb-21aa-4ff8-a9b2-226a6b49ccfc",
   "metadata": {},
   "source": [
    "To accomplish this task, we really need to get a unique number of routes (Start Station - End Station) and then do a frequency count."
   ]
  },
  {
   "cell_type": "code",
   "execution_count": 7,
   "id": "80a9db0b-dc06-4872-8e10-264bfe89ce82",
   "metadata": {},
   "outputs": [
    {
     "data": {
      "text/plain": [
       "B-F    53\n",
       "C-I    48\n",
       "D-G    47\n",
       "D-J    47\n",
       "D-I    47\n",
       "A-H    41\n",
       "C-F    41\n",
       "Name: Trip ID, dtype: int64"
      ]
     },
     "execution_count": 7,
     "metadata": {},
     "output_type": "execute_result"
    }
   ],
   "source": [
    "# create group object\n",
    "group = trips.groupby(trips['Start Station'] + \"-\" + trips['End Station'])\n",
    "\n",
    "# count the rows in the group and pull out the top 7\n",
    "pop = group.count().sort_values(by='Trip ID', ascending=False)['Trip ID']\n",
    "pop.head(7)"
   ]
  },
  {
   "cell_type": "markdown",
   "id": "caae2ffe-6f8a-42d9-a8ef-dff6e4e83df5",
   "metadata": {},
   "source": [
    "Looking at the histogram below, we can see that any route that has a frequency above 41 is rare.  \n",
    "\n",
    "Using this chart, the most popular routes are (frequencies included):  \n",
    "- B-F,    freq=53  \n",
    "- C-I,    freq=48  \n",
    "- D-G,    freq=47  \n",
    "- D-J,    freq=47  \n",
    "- D-I,    freq=47  "
   ]
  },
  {
   "cell_type": "code",
   "execution_count": 8,
   "id": "564e32ad-e944-4cc1-bff8-3106d439f1f8",
   "metadata": {},
   "outputs": [
    {
     "data": {
      "image/png": "[encoded data removed]",
      "text/plain": [
       "<Figure size 640x480 with 1 Axes>"
      ]
     },
     "metadata": {},
     "output_type": "display_data"
    }
   ],
   "source": [
    "pop.plot.hist();"
   ]
  },
  {
   "cell_type": "markdown",
   "id": "8c105020-8dc2-4208-8e1b-cbe3fc891253",
   "metadata": {},
   "source": [
    "# Lost in Transit: \n",
    "\n",
    "Determine the percentage of users who fail to return bikes to designated stations."
   ]
  },
  {
   "cell_type": "markdown",
   "id": "56ab6ea6-857d-46ca-a57b-148a4bb50e7b",
   "metadata": {},
   "source": [
    "This task should be a walk in the park for most of you. We are just counting the missing values under the \"End Station\" column and dividing it by the total count of the dataset."
   ]
  },
  {
   "cell_type": "code",
   "execution_count": 9,
   "id": "cbeb4c48-fa62-47ef-97e1-886fda08d592",
   "metadata": {},
   "outputs": [
    {
     "data": {
      "text/plain": [
       "4.9"
      ]
     },
     "execution_count": 9,
     "metadata": {},
     "output_type": "execute_result"
    }
   ],
   "source": [
    "(trips.loc[trips['End Station'].isnull(), 'End Station'].size / trips['End Station'].size) * 100"
   ]
  },
  {
   "cell_type": "markdown",
   "id": "eb6900f3-1510-41e9-abfd-dba662f941ae",
   "metadata": {},
   "source": [
    "# Summary:  \n",
    "The tutorial is based on a bike-sharing system dataset, which contains information about bike trips, including the date, time, start and end stations, and user information. The tasks include calculating the average trip duration by day of the week and time of day, identifying the most popular bike routes, and determining the percentage of users who fail to return bikes to designated stations.  \n",
    "\n",
    "### Key Takeaways:  \n",
    "- **Data Exploration:** The dataset is explored using various Pandas functions, including `info()`, `head()`, and dtypes.\n",
    "- **Data Transformation:** The dataset is transformed by adding a new column for the day of the week using `dt.day_name()`.\n",
    "- **GroupBy and Aggregation:** The dataset is grouped by day of the week and time of day, and the average trip duration is calculated using `groupby()` and `mean()`.\n",
    "- **Data Analysis:** The most popular bike routes are identified by grouping and counting the routes, and the percentage of users who fail to return bikes is calculated using `isnull()` and size.\n",
    "- **Data Visualization:** A histogram is plotted to visualize the frequency of bike routes."
   ]
  },
  {
   "cell_type": "code",
   "execution_count": null,
   "id": "b8b5d7b4-7701-41d3-9a4b-e971eced622e",
   "metadata": {},
   "outputs": [],
   "source": []
  }
 ],
 "metadata": {
  "kernelspec": {
   "display_name": "Python 3 (ipykernel)",
   "language": "python",
   "name": "python3"
  },
  "language_info": {
   "codemirror_mode": {
    "name": "ipython",
    "version": 3
   },
   "file_extension": ".py",
   "mimetype": "text/x-python",
   "name": "python",
   "nbconvert_exporter": "python",
   "pygments_lexer": "ipython3",
   "version": "3.11.7"
  }
 },
 "nbformat": 4,
 "nbformat_minor": 5
}
